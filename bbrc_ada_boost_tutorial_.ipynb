{
  "nbformat": 4,
  "nbformat_minor": 0,
  "metadata": {
    "colab": {
      "provenance": [],
      "authorship_tag": "ABX9TyM1A0kQ3uf3ynXXbncr2vsX",
      "include_colab_link": true
    },
    "kernelspec": {
      "name": "python3",
      "display_name": "Python 3"
    },
    "language_info": {
      "name": "python"
    }
  },
  "cells": [
    {
      "cell_type": "markdown",
      "metadata": {
        "id": "view-in-github",
        "colab_type": "text"
      },
      "source": [
        "<a href=\"https://colab.research.google.com/github/saktheeswaranswan/random-math-addition-data-for-rnn-generator/blob/main/bbrc_ada_boost_tutorial_.ipynb\" target=\"_parent\"><img src=\"https://colab.research.google.com/assets/colab-badge.svg\" alt=\"Open In Colab\"/></a>"
      ]
    },
    {
      "cell_type": "code",
      "execution_count": 2,
      "metadata": {
        "id": "32ctlLe-3lug"
      },
      "outputs": [],
      "source": [
        "import pandas as pd\n",
        "from sklearn.ensemble import AdaBoostClassifier\n",
        "from sklearn.metrics import confusion_matrix\n",
        "from sklearn.metrics import accuracy_score\n",
        "from sklearn.model_selection import train_test_split\n"
      ]
    },
    {
      "cell_type": "code",
      "source": [
        "data = pd.read_csv(\"/content/iris_csv.csv\")\n"
      ],
      "metadata": {
        "id": "ZWMgFdn34L6A"
      },
      "execution_count": 5,
      "outputs": []
    },
    {
      "cell_type": "code",
      "source": [
        "data.features = data[[\"sepallength\",\"sepalwidth\",\"petallength\",\"petalwidth\"]]\n",
        "data.targets = data[\"class\"]\n"
      ],
      "metadata": {
        "colab": {
          "base_uri": "https://localhost:8080/"
        },
        "id": "i9npD7Fd4VuO",
        "outputId": "e6aca547-b326-4e38-9f96-2d1463281ec4"
      },
      "execution_count": 8,
      "outputs": [
        {
          "output_type": "stream",
          "name": "stderr",
          "text": [
            "<ipython-input-8-9512ab0b09f2>:2: UserWarning: Pandas doesn't allow columns to be created via a new attribute name - see https://pandas.pydata.org/pandas-docs/stable/indexing.html#attribute-access\n",
            "  data.targets = data[\"class\"]\n"
          ]
        }
      ]
    },
    {
      "cell_type": "code",
      "source": [
        "feature_train, feature_test, target_train, target_test = train_test_split(data.features, data.targets, test_size=.2)"
      ],
      "metadata": {
        "id": "nUXW81wr6O_z"
      },
      "execution_count": 9,
      "outputs": []
    },
    {
      "cell_type": "code",
      "source": [
        "model = AdaBoostClassifier(n_estimators=100,learning_rate=1,random_state=123)\n",
        "model.fitted = model.fit(feature_train, target_train)\n",
        "model.predictions = model.fitted.predict(feature_test)"
      ],
      "metadata": {
        "id": "Thr6GV3B6Wfg"
      },
      "execution_count": 10,
      "outputs": []
    },
    {
      "cell_type": "code",
      "source": [
        "print(confusion_matrix(target_test, model.predictions))\n",
        "print(accuracy_score(target_test, model.predictions))"
      ],
      "metadata": {
        "colab": {
          "base_uri": "https://localhost:8080/"
        },
        "id": "yAolMCql6ZzT",
        "outputId": "27654da8-576a-4fc0-de63-de9e98fe4f56"
      },
      "execution_count": 11,
      "outputs": [
        {
          "output_type": "stream",
          "name": "stdout",
          "text": [
            "[[12  0  0]\n",
            " [ 0  7  2]\n",
            " [ 0  0  9]]\n",
            "0.9333333333333333\n"
          ]
        }
      ]
    }
  ]
}