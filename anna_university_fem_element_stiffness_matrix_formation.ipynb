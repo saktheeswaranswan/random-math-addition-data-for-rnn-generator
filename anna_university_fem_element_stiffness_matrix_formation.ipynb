{
  "nbformat": 4,
  "nbformat_minor": 0,
  "metadata": {
    "colab": {
      "provenance": [],
      "authorship_tag": "ABX9TyMcCUvrV3qGHiRAYHyNgtHP",
      "include_colab_link": true
    },
    "kernelspec": {
      "name": "python3",
      "display_name": "Python 3"
    },
    "language_info": {
      "name": "python"
    }
  },
  "cells": [
    {
      "cell_type": "markdown",
      "metadata": {
        "id": "view-in-github",
        "colab_type": "text"
      },
      "source": [
        "<a href=\"https://colab.research.google.com/github/saktheeswaranswan/random-math-addition-data-for-rnn-generator/blob/main/anna_university_fem_element_stiffness_matrix_formation.ipynb\" target=\"_parent\"><img src=\"https://colab.research.google.com/assets/colab-badge.svg\" alt=\"Open In Colab\"/></a>"
      ]
    },
    {
      "cell_type": "code",
      "execution_count": 1,
      "metadata": {
        "colab": {
          "base_uri": "https://localhost:8080/"
        },
        "id": "FbV0kEeyGugp",
        "outputId": "c0192afd-c61a-4646-90cb-734cc5465efc"
      },
      "outputs": [
        {
          "output_type": "stream",
          "name": "stdout",
          "text": [
            "[[ 2.5  5. ]\n",
            " [ 7.5 10. ]]\n",
            "[[12.5 15. ]\n",
            " [17.5 20. ]]\n"
          ]
        }
      ],
      "source": [
        "import numpy as np\n",
        "\n",
        "# Define the list of 2x2 matrices\n",
        "matrices = [np.array([[1, 2], [3, 4]]), np.array([[5, 6], [7, 8]])]\n",
        "\n",
        "# Define the scalar value A*E/L\n",
        "scalar = 2.5\n",
        "\n",
        "# Multiply the scalar value to each matrix in the list\n",
        "results = [scalar * matrix for matrix in matrices]\n",
        "\n",
        "# Print the results\n",
        "for result in results:\n",
        "    print(result)\n"
      ]
    },
    {
      "cell_type": "code",
      "source": [
        "import numpy as np\n",
        "\n",
        "# Define the list of 2x2 matrices\n",
        "matrices = [np.array([[1, 2], [3, 4]]), np.array([[5, 6], [7, 8]])]\n",
        "\n",
        "# Define the scalar value A*E/L\n",
        "scalar = 2.5\n",
        "\n",
        "# Multiply the scalar value to each matrix in the list\n",
        "results = [scalar * matrix for matrix in matrices]\n",
        "\n",
        "# Print the results in Python syntax format\n",
        "for result in results:\n",
        "    print(np.array2string(result, separator=', ', formatter={'int': lambda x: str(x)}))\n"
      ],
      "metadata": {
        "colab": {
          "base_uri": "https://localhost:8080/"
        },
        "id": "Q0B91MgEHPUp",
        "outputId": "9659fee8-6d3a-4064-9a89-1ea2a87f8d3c"
      },
      "execution_count": 2,
      "outputs": [
        {
          "output_type": "stream",
          "name": "stdout",
          "text": [
            "[[ 2.5,  5. ],\n",
            " [ 7.5, 10. ]]\n",
            "[[12.5, 15. ],\n",
            " [17.5, 20. ]]\n"
          ]
        }
      ]
    },
    {
      "cell_type": "code",
      "source": [
        "import numpy as np\n",
        "\n",
        "# Define the list of 2x2 matrices\n",
        "matrices = [np.array([[1, 2], [3, 4]]), np.array([[5, 6], [7, 8]])]\n",
        "\n",
        "# Define the scalar value A*E/L\n",
        "scalar = 2.5\n",
        "\n",
        "# Multiply the scalar value to each matrix in the list\n",
        "results = [scalar * matrix for matrix in matrices]\n",
        "\n",
        "# Save the results as a NumPy array in a .npy file\n",
        "np.save('results.npy', results)\n"
      ],
      "metadata": {
        "id": "ViQsGVfZHfJb"
      },
      "execution_count": 3,
      "outputs": []
    },
    {
      "cell_type": "code",
      "source": [
        "scalar*results"
      ],
      "metadata": {
        "colab": {
          "base_uri": "https://localhost:8080/"
        },
        "id": "9iF_EZD0HqkV",
        "outputId": "e5acd85d-895e-4c57-ad27-845f0e4431d3"
      },
      "execution_count": 7,
      "outputs": [
        {
          "output_type": "execute_result",
          "data": {
            "text/plain": [
              "array([[[ 6.25, 12.5 ],\n",
              "        [18.75, 25.  ]],\n",
              "\n",
              "       [[31.25, 37.5 ],\n",
              "        [43.75, 50.  ]]])"
            ]
          },
          "metadata": {},
          "execution_count": 7
        }
      ]
    },
    {
      "cell_type": "code",
      "source": [
        "import numpy as np\n",
        "\n",
        "# Load the results from the .npy file\n",
        "results = np.load('results.npy')\n",
        "\n",
        "# Print the results\n",
        "print(results)\n"
      ],
      "metadata": {
        "colab": {
          "base_uri": "https://localhost:8080/"
        },
        "id": "DJ7nsJNDHkjg",
        "outputId": "e4a867be-83eb-4967-88e8-8353270512ed"
      },
      "execution_count": 4,
      "outputs": [
        {
          "output_type": "stream",
          "name": "stdout",
          "text": [
            "[[[ 2.5  5. ]\n",
            "  [ 7.5 10. ]]\n",
            "\n",
            " [[12.5 15. ]\n",
            "  [17.5 20. ]]]\n"
          ]
        }
      ]
    },
    {
      "cell_type": "code",
      "source": [
        "import pickle\n",
        "import numpy as np\n",
        "\n",
        "# Define the list of 2x2 matrices\n",
        "matrices = [np.array([[1, 2], [3, 4]]), np.array([[5, 6], [7, 8]])]\n",
        "\n",
        "# Define the scalar value A*E/L\n",
        "scalar = 2.5\n",
        "\n",
        "# Multiply the scalar value to each matrix in the list\n",
        "results = [scalar * matrix for matrix in matrices]\n",
        "\n",
        "# Save the results as a list of NumPy arrays in a file using pickle\n",
        "with open('results.pkl', 'wb') as f:\n",
        "    pickle.dump(results, f)\n",
        "\n",
        "# Load the results from the file\n",
        "with open('results.pkl', 'rb') as f:\n",
        "    loaded_results = pickle.load(f)\n",
        "\n",
        "# Print the loaded results\n",
        "print(loaded_results)\n"
      ],
      "metadata": {
        "colab": {
          "base_uri": "https://localhost:8080/"
        },
        "id": "xvw1gJXBIHCv",
        "outputId": "cab39bef-cff4-49dd-82db-7a5b42aab922"
      },
      "execution_count": 8,
      "outputs": [
        {
          "output_type": "stream",
          "name": "stdout",
          "text": [
            "[array([[ 2.5,  5. ],\n",
            "       [ 7.5, 10. ]]), array([[12.5, 15. ],\n",
            "       [17.5, 20. ]])]\n"
          ]
        }
      ]
    },
    {
      "cell_type": "code",
      "source": [
        "import numpy as np\n",
        "\n",
        "# Define the list of 2x2 matrices\n",
        "matrices = [np.array([[ 2.5,  5. ], [ 7.5, 10. ]]), np.array([[12.5, 15. ], [17.5, 20. ]])]\n",
        "\n",
        "# Define the scalar value A*E/L\n",
        "scalar = 2.5\n",
        "\n",
        "# Multiply the scalar value to each matrix in the list\n",
        "results = [scalar * matrix for matrix in matrices]\n",
        "\n",
        "# Convert the results to a string representation\n",
        "results_str = np.array2string(np.array(results), separator=',', prefix='[').replace('\\n', '')\n",
        "\n",
        "# Save the results to a text file\n",
        "with open('results.txt', 'w') as f:\n",
        "    f.write(results_str)\n",
        "\n",
        "# Load the results from the text file\n",
        "with open('results.txt', 'r') as f:\n",
        "    loaded_results_str = f.read()\n",
        "\n",
        "# Convert the loaded results to a list of NumPy arrays\n",
        "loaded_results = eval(loaded_results_str)\n",
        "\n",
        "# Print the loaded results\n",
        "print(loaded_results)\n"
      ],
      "metadata": {
        "id": "ytqKF3TjIcm7"
      },
      "execution_count": null,
      "outputs": []
    },
    {
      "cell_type": "code",
      "source": [
        "#for bar element A*E/L for a unifor bar with same area \n",
        "#the load can be considered at nodes at its ends or choose correct discretisation \n",
        "#for Frustrum based one use different areas A\n",
        "#and for different matrial and length of varios bar element use different length as L1,L2,l3\n",
        "#for different Area use A1,A2,A3 and so on E1,E2,E3 for avrious material youngs modulus\n",
        "# create the list of matrices and multiply it according to it"
      ],
      "metadata": {
        "id": "JQkcdF-IIlA4"
      },
      "execution_count": null,
      "outputs": []
    },
    {
      "cell_type": "code",
      "source": [
        "#for Frustrum based bar one use different areas A with load at end\n",
        "#if its sepearted into diffent areas A2=(((A1)-(A1-A4))*x)/(L)\n",
        "#x is the distance between two nodes"
      ],
      "metadata": {
        "id": "r2ypgZxiJ2mI"
      },
      "execution_count": null,
      "outputs": []
    },
    {
      "cell_type": "code",
      "source": [
        "import numpy as np\n",
        "\n",
        "# Define the material properties\n",
        "E = 200e9  # Young's modulus in Pa\n",
        "A = 0.01  # cross-sectional area in m^2\n",
        "L = 5  # length in m\n",
        "\n",
        "# Define the element stiffness matrix\n",
        "k = np.array([\n",
        "    [1, -1],\n",
        "    [-1, 1]\n",
        "]) * (E * A / L)\n",
        "\n",
        "print(\"Element stiffness matrix:\")\n",
        "print(k)\n"
      ],
      "metadata": {
        "id": "pEyNFNBdLXqM"
      },
      "execution_count": null,
      "outputs": []
    },
    {
      "cell_type": "code",
      "source": [
        "import numpy as np\n",
        "\n",
        "# Define the material properties\n",
        "E = 200e9  # Young's modulus in Pa\n",
        "A = 0.01  # cross-sectional area in m^2\n",
        "L = 5  # length in m\n",
        "\n",
        "# Define the element stiffness matrix\n",
        "k = np.array([\n",
        "    [1, -1],\n",
        "    [-1, 1]\n",
        "]) * (E * A / L)\n",
        "\n",
        "print(\"Element stiffness matrix:\")\n",
        "print(k)"
      ],
      "metadata": {
        "id": "NiAP9NxjLngd"
      },
      "execution_count": null,
      "outputs": []
    },
    {
      "cell_type": "code",
      "source": [
        "import numpy as np\n",
        "\n",
        "# Define the material properties\n",
        "E = 200e9  # Young's modulus in Pa\n",
        "A = 0.01  # cross-sectional area in m^2\n",
        "L = 5  # length in m\n",
        "\n",
        "# Define the nodal connectivity\n",
        "node1 = 1\n",
        "node2 = 2\n",
        "\n",
        "# Calculate the direction cosines\n",
        "theta = np.pi / 4  # angle in radians\n",
        "l1 = np.cos(theta)\n",
        "m1 = np.sin(theta)\n",
        "\n",
        "# Calculate the element stiffness matrix\n",
        "k_element = np.array([\n",
        "    [l1**2, l1*m1, -l1**2, -l1*m1],\n",
        "    [l1*m1, m1**2, -l1*m1, -m1**2],\n",
        "    [-l1**2, -l1*m1, l1**2, l1*m1],\n",
        "    [-l1*m1, -m1**2, l1*m1, m1**2]\n",
        "]) * (E * A / L)\n",
        "\n",
        "# Assemble the element stiffness matrix into the global stiffness matrix\n",
        "k_global = np.zeros((4, 4))\n",
        "k_global[node1-1:node1+1, node1-1:node1+1] += k_element[:2, :2]\n",
        "k_global[node1-1:node1+1, node2-1:node2+1] += k_element[:2, 2:]\n",
        "k_global[node2-1:node2+1, node1-1:node1+1] += k_element[2:, :2]\n",
        "k_global[node2-1:node2+1, node2-1:node2+1] += k_element[2:, 2:]\n",
        "\n",
        "print(\"Global stiffness matrix:\")\n",
        "print(k_element)\n",
        "print(k_global)\n"
      ],
      "metadata": {
        "colab": {
          "base_uri": "https://localhost:8080/"
        },
        "id": "sJdxYjLNM8pZ",
        "outputId": "2d35bbd5-96e6-412a-c4b2-2b5c261c5964"
      },
      "execution_count": 10,
      "outputs": [
        {
          "output_type": "stream",
          "name": "stdout",
          "text": [
            "Global stiffness matrix:\n",
            "[[ 2.e+08  2.e+08 -2.e+08 -2.e+08]\n",
            " [ 2.e+08  2.e+08 -2.e+08 -2.e+08]\n",
            " [-2.e+08 -2.e+08  2.e+08  2.e+08]\n",
            " [-2.e+08 -2.e+08  2.e+08  2.e+08]]\n",
            "[[ 2.00000000e+08 -2.98023224e-08 -2.00000000e+08  0.00000000e+00]\n",
            " [-2.98023224e-08  0.00000000e+00  2.98023224e-08  0.00000000e+00]\n",
            " [-2.00000000e+08  2.98023224e-08  2.00000000e+08  0.00000000e+00]\n",
            " [ 0.00000000e+00  0.00000000e+00  0.00000000e+00  0.00000000e+00]]\n"
          ]
        }
      ]
    },
    {
      "cell_type": "code",
      "source": [
        "import numpy as np\n",
        "\n",
        "# Define the material properties\n",
        "E = 200e9  # Young's modulus in Pa\n",
        "I = 0.0001  # moment of inertia in m^4\n",
        "L = 5  # length in m\n",
        "\n",
        "# Define the nodal connectivity\n",
        "node1 = 1\n",
        "node2 = 2\n",
        "\n",
        "# Define the loads at each node\n",
        "F = np.array([0, -10000, 0, 0])  # force vector in N\n",
        "M = np.array([0, 0, 0, 0])  # moment vector in N*m\n",
        "\n",
        "# Calculate the element stiffness matrix for bending and axial loads\n",
        "k_element = np.array([\n",
        "    [12, 6*L, -12, 6*L],\n",
        "    [6*L, 4*L**2, -6*L, 2*L**2],\n",
        "    [-12, -6*L, 12, -6*L],\n",
        "    [6*L, 2*L**2, -6*L, 4*L**2]\n",
        "]) * (E * I / L**3)\n",
        "\n",
        "# Add the contribution of the force and moment loads\n",
        "k_element[:2, :2] += (F[:2, np.newaxis] @ F[:2, np.newaxis].T) / np.abs(F[1])\n",
        "k_element[:2, 2:] -= (F[:2, np.newaxis] @ F[2:, np.newaxis].T) / np.abs(F[1])\n",
        "k_element[2:, :2] -= (F[2:, np.newaxis] @ F[:2, np.newaxis].T) / np.abs(F[1])\n",
        "k_element[2:, 2:] += (F[2:, np.newaxis] @ F[2:, np.newaxis].T) / np.abs(F[1])\n",
        "k_element[:2, 2:] -= (M[:2, np.newaxis] @ np.array([1, -1])[np.newaxis, :])\n",
        "k_element[2:, :2] += (M[:2, np.newaxis] @ np.array([1, -1])[np.newaxis, :])\n",
        "k_element[2:, 2:] += (M[2:, np.newaxis] @ np.array([L, -L])[np.newaxis, :])\n",
        "\n",
        "# Assemble the element stiffness matrix into the global stiffness matrix\n",
        "k_global = np.zeros((4, 4))\n",
        "k_global[node1-1:node1+1, node1-1:node1+1] += k_element[:2, :2]\n",
        "k_global[node1-1:node1+1, node2-1:node2+1] += k_element[:2, 2:]\n",
        "k_global[node2-1:node2+1, node1-1:node1+1] += k_element[2:, :2]\n",
        "k_global[node2-1:node2+1, node2-1:node2+1] += k_element[2:, 2:]\n",
        "\n",
        "print(k_element )"
      ],
      "metadata": {
        "colab": {
          "base_uri": "https://localhost:8080/"
        },
        "id": "AW7lOkTVPEn0",
        "outputId": "3df754fd-e727-4f6a-ce13-6c6e08c03814"
      },
      "execution_count": 12,
      "outputs": [
        {
          "output_type": "stream",
          "name": "stdout",
          "text": [
            "[[ 1920000.  4800000. -1920000.  4800000.]\n",
            " [ 4800000. 16010000. -4800000.  8000000.]\n",
            " [-1920000. -4800000.  1920000. -4800000.]\n",
            " [ 4800000.  8000000. -4800000. 16000000.]]\n"
          ]
        }
      ]
    },
    {
      "cell_type": "code",
      "source": [
        "import numpy as np\n",
        "\n",
        "# Define the coordinates of the triangle\n",
        "x1, y1 = 100, 100\n",
        "x2, y2 = 400, 100\n",
        "x3, y3 = 200, 400\n",
        "\n",
        "# Define the element length\n",
        "#L = np.sqrt((x2 - x1)**2 + (y2 - y1)**2)\n",
        "\n",
        "# Calculate the coefficients for the shape functions\n",
        "#a = np.array([\n",
        " #   [1, x1, y1],\n",
        "   # [1, x2, y2],\n",
        "  #  [1, x3, y3]\n",
        "#])\n",
        "#b = np.array([1, 0, 0])\n",
        "#c = np.linalg.solve(a, b)\n",
        "\n",
        "# Define the derivatives of the shape functions with respect to global coordinates\n",
        "dN1_dx =  (y2 - y3)\n",
        "dN2_dx =  (y3 - y1)\n",
        "dN3_dx =  (y1 - y2)\n",
        "dN1_dy = (x3 - x2)\n",
        "dN2_dy = (x1 - x3)\n",
        "dN3_dy =  (x2 - x1)\n",
        "\n",
        "# Construct the strain-displacement matrix [B]\n",
        "B = np.array([\n",
        "    [dN1_dx, 0, dN2_dx, 0, dN3_dx, 0],\n",
        "    [0, dN1_dy, 0, dN2_dy, 0, dN3_dy],\n",
        "    [dN1_dy, dN1_dx, dN2_dy, dN2_dx, dN3_dy, dN3_dx]\n",
        "]) \n",
        "B = np.array([\n",
        "    [dN1_dx, 0, dN2_dx, 0, dN3_dx, 0],\n",
        "    [0, dN1_dy, 0, dN2_dy, 0, dN3_dy],\n",
        "    [dN1_dy, dN1_dx, dN2_dy, dN2_dx, dN3_dy, dN3_dx]\n",
        "])\n",
        "B_transpose = np.transpose(B)\n",
        "print(B_transpose)\n",
        "\n",
        "print(B_transpose)\n",
        "print(B)\n"
      ],
      "metadata": {
        "colab": {
          "base_uri": "https://localhost:8080/"
        },
        "id": "lEsAl8iAP8iq",
        "outputId": "1503a0ba-d9b7-4227-c362-1df2ed52c47b"
      },
      "execution_count": 18,
      "outputs": [
        {
          "output_type": "stream",
          "name": "stdout",
          "text": [
            "[[-300    0 -200]\n",
            " [   0 -200 -300]\n",
            " [ 300    0 -100]\n",
            " [   0 -100  300]\n",
            " [   0    0  300]\n",
            " [   0  300    0]]\n",
            "[[-300    0 -200]\n",
            " [   0 -200 -300]\n",
            " [ 300    0 -100]\n",
            " [   0 -100  300]\n",
            " [   0    0  300]\n",
            " [   0  300    0]]\n",
            "[[-300    0  300    0    0    0]\n",
            " [   0 -200    0 -100    0  300]\n",
            " [-200 -300 -100  300  300    0]]\n"
          ]
        }
      ]
    },
    {
      "cell_type": "code",
      "source": [
        "#use 1/2*A in B matrix \n",
        "\n",
        "import numpy as np\n",
        "\n",
        "# Define the Young's modulus and Poisson's ratio\n",
        "E = 200e9 # Pa\n",
        "nu = 0.3\n",
        "\n",
        "# Calculate the shear modulus\n",
        "G = E / (2 * (1 + nu))\n",
        "\n",
        "# Construct the [D] matrix\n",
        "D = np.array([\n",
        "    [1, nu, 0],\n",
        "    [nu, 1, 0],\n",
        "    [0, 0, (1 - nu) / 2]\n",
        "]) * (E / (1 - nu**2))\n",
        "\n",
        "# Add in the shear terms\n",
        "D[0, 2] = D[2, 0] = D[1, 2] = D[2, 1] = G\n",
        "\n",
        "#print(D)\n",
        "result =  B_transpose.dot(D).dot(B)\n",
        "print(result)\n",
        "\n",
        "import numpy as np\n",
        "import matplotlib.pyplot as plt\n",
        "\n",
        "# Define a matrix\n",
        "matrix =B_transpose.dot(D).dot(B)\n",
        "\n",
        "# Plot the matrix\n",
        "plt.imshow(matrix, cmap='coolwarm')\n",
        "plt.colorbar()\n",
        "\n",
        "# Show the plot\n",
        "plt.show()\n"
      ],
      "metadata": {
        "colab": {
          "base_uri": "https://localhost:8080/",
          "height": 484
        },
        "id": "gGl4WU__RLgI",
        "outputId": "1a031d57-fb0e-47d8-b0ad-bb8c80872553"
      },
      "execution_count": 23,
      "outputs": [
        {
          "output_type": "stream",
          "name": "stdout",
          "text": [
            "[[ 3.20879121e+16  1.85714286e+16 -2.05494505e+16 -8.02197802e+15\n",
            "  -1.15384615e+16 -1.05494505e+16]\n",
            " [ 1.85714286e+16  2.49450549e+16 -7.03296703e+15 -4.83516484e+15\n",
            "  -1.15384615e+16 -2.01098901e+16]\n",
            " [-2.05494505e+16 -7.03296703e+15  1.59340659e+16  3.40659341e+15\n",
            "   4.61538462e+15  3.62637363e+15]\n",
            " [-8.02197802e+15 -4.83516484e+15  3.40659341e+15  4.50549451e+15\n",
            "   4.61538462e+15  3.29670330e+14]\n",
            " [-1.15384615e+16 -1.15384615e+16  4.61538462e+15  4.61538462e+15\n",
            "   6.92307692e+15  6.92307692e+15]\n",
            " [-1.05494505e+16 -2.01098901e+16  3.62637363e+15  3.29670330e+14\n",
            "   6.92307692e+15  1.97802198e+16]]\n"
          ]
        },
        {
          "output_type": "display_data",
          "data": {
            "text/plain": [
              "<Figure size 432x288 with 2 Axes>"
            ],
            "image/png": "[encoded data removed]"
          },
          "metadata": {
            "needs_background": "light"
          }
        }
      ]
    },
    {
      "cell_type": "code",
      "source": [
        "import numpy as np\n",
        "\n",
        "# Define the matrix a\n",
        "a = np.array([\n",
        "    [1, x1, y1],\n",
        "    [1, x2, y2],\n",
        "    [1, x3, y3]\n",
        "]) * (1/2)\n",
        "\n",
        "# Calculate the determinant of a\n",
        "det_a = np.linalg.det(a)\n",
        "\n",
        "# Print the determinant\n",
        "print(det_a)\n"
      ],
      "metadata": {
        "id": "DbkRd5OQTacO"
      },
      "execution_count": null,
      "outputs": []
    },
    {
      "cell_type": "code",
      "source": [
        "import numpy as np\n",
        "\n",
        "# Define the coordinates of the triangle\n",
        "x1, y1 = 100, 100\n",
        "x2, y2 = 400, 100\n",
        "x3, y3 = 200, 400\n",
        "\n",
        "# Define the radius at the centroid of the triangle\n",
        "r = (x1 + x2 + x3) / 3\n",
        "\n",
        "# Calculate the coefficients for the shape functions\n",
        "A = np.array([\n",
        "    [1, x1, y1, x1**2 + y1**2],\n",
        "    [1, x2, y2, x2**2 + y2**2],\n",
        "    [1, x3, y3, x3**2 + y3**2]\n",
        "])\n",
        "b = np.array([1, 0, 0])\n",
        "c = np.linalg.solve(A, b)\n",
        "\n",
        "# Define the derivatives of the shape functions with respect to global coordinates\n",
        "dN1_dx =  (y2 - y3) / (2 * r)\n",
        "dN2_dx =  (y3 - y1) / (2 * r)\n",
        "dN3_dx =  (y1 - y2) / (2 * r)\n",
        "dN1_dy = (x3 - x2) / (2 * r)\n",
        "dN2_dy = (x1 - x3) / (2 * r)\n",
        "dN3_dy =  (x2 - x1) / (2 * r)\n",
        "dN1_dw = r / 2\n",
        "dN2_dw = r / 2\n",
        "dN3_dw = r / 2\n",
        "\n",
        "# Construct the strain-displacement matrix [B]\n",
        "B = np.array([\n",
        "    [dN1_dx, 0, dN2_dx, 0, dN3_dx, 0],\n",
        "    [0, dN1_dy, 0, dN2_dy, 0, dN3_dy],\n",
        "    [dN1_dw, 0, dN2_dw, 0, dN3_dw, 0],\n",
        "    [0, dN1_dx, 0, dN2_dx, 0, dN3_dx],\n",
        "    [dN1_dy, dN1_dx, dN2_dy, dN2_dx, dN3_dy, dN3_dx]\n",
        "]) \n",
        "B_transpose = np.transpose(B)\n",
        "print(B_transpose)\n",
        "\n",
        "print(B)\n"
      ],
      "metadata": {
        "id": "GnV0g33kU78e"
      },
      "execution_count": null,
      "outputs": []
    },
    {
      "cell_type": "code",
      "source": [
        "nu = 0.3  # Poisson's ratio\n",
        "E = 210e9  # Young's modulus\n",
        "\n",
        "# Calculate the Lame constants\n",
        "mu = E / (2 * (1 + nu))\n",
        "lam = E * nu / ((1 + nu) * (1 - 2 * nu))\n",
        "\n",
        "# Create the [D] matrix\n",
        "D = np.array([\n",
        "    [lam + 2 * mu, lam, lam, 0],\n",
        "    [lam, lam + 2 * mu, lam, 0],\n",
        "    [lam, lam, lam + 2 * mu, 0],\n",
        "    [0, 0, 0, mu]\n",
        "])\n"
      ],
      "metadata": {
        "id": "fXTys8yZVGCp"
      },
      "execution_count": null,
      "outputs": []
    }
  ]
}