{
  "nbformat": 4,
  "nbformat_minor": 0,
  "metadata": {
    "colab": {
      "provenance": []
    },
    "kernelspec": {
      "name": "python3",
      "display_name": "Python 3"
    },
    "language_info": {
      "name": "python"
    },
    "accelerator": "GPU",
    "gpuClass": "standard"
  },
  "cells": [
    {
      "cell_type": "code",
      "execution_count": 2,
      "metadata": {
        "colab": {
          "base_uri": "https://localhost:8080/",
          "height": 468
        },
        "id": "5hOaZsgt8K4S",
        "outputId": "d53b9824-7447-4c42-9745-01f78960cf13"
      },
      "outputs": [
        {
          "output_type": "error",
          "ename": "ValueError",
          "evalue": "ignored",
          "traceback": [
            "\u001b[0;31m---------------------------------------------------------------------------\u001b[0m",
            "\u001b[0;31mValueError\u001b[0m                                Traceback (most recent call last)",
            "\u001b[0;32m<ipython-input-2-3b7f808a45de>\u001b[0m in \u001b[0;36m<module>\u001b[0;34m\u001b[0m\n\u001b[1;32m     41\u001b[0m \u001b[0;34m\u001b[0m\u001b[0m\n\u001b[1;32m     42\u001b[0m \u001b[0;31m# Calculate global stiffness matrix and deformation or elongation\u001b[0m\u001b[0;34m\u001b[0m\u001b[0;34m\u001b[0m\u001b[0;34m\u001b[0m\u001b[0m\n\u001b[0;32m---> 43\u001b[0;31m \u001b[0mx\u001b[0m\u001b[0;34m,\u001b[0m \u001b[0mu\u001b[0m \u001b[0;34m=\u001b[0m \u001b[0mdeformation\u001b[0m\u001b[0;34m(\u001b[0m\u001b[0mne\u001b[0m\u001b[0;34m,\u001b[0m \u001b[0mnodes\u001b[0m\u001b[0;34m,\u001b[0m \u001b[0melement_matrices\u001b[0m\u001b[0;34m,\u001b[0m \u001b[0mF\u001b[0m\u001b[0;34m)\u001b[0m\u001b[0;34m\u001b[0m\u001b[0;34m\u001b[0m\u001b[0m\n\u001b[0m\u001b[1;32m     44\u001b[0m \u001b[0;34m\u001b[0m\u001b[0m\n\u001b[1;32m     45\u001b[0m \u001b[0;31m# Plot deformation or elongation\u001b[0m\u001b[0;34m\u001b[0m\u001b[0;34m\u001b[0m\u001b[0;34m\u001b[0m\u001b[0m\n",
            "\u001b[0;32m<ipython-input-2-3b7f808a45de>\u001b[0m in \u001b[0;36mdeformation\u001b[0;34m(ne, nodes, element_matrices, F)\u001b[0m\n\u001b[1;32m     33\u001b[0m \u001b[0;32mdef\u001b[0m \u001b[0mdeformation\u001b[0m\u001b[0;34m(\u001b[0m\u001b[0mne\u001b[0m\u001b[0;34m,\u001b[0m \u001b[0mnodes\u001b[0m\u001b[0;34m,\u001b[0m \u001b[0melement_matrices\u001b[0m\u001b[0;34m,\u001b[0m \u001b[0mF\u001b[0m\u001b[0;34m)\u001b[0m\u001b[0;34m:\u001b[0m\u001b[0;34m\u001b[0m\u001b[0;34m\u001b[0m\u001b[0m\n\u001b[1;32m     34\u001b[0m     \u001b[0mK\u001b[0m \u001b[0;34m=\u001b[0m \u001b[0mglobal_stiffness_matrix\u001b[0m\u001b[0;34m(\u001b[0m\u001b[0mne\u001b[0m\u001b[0;34m,\u001b[0m \u001b[0mnodes\u001b[0m\u001b[0;34m,\u001b[0m \u001b[0melement_matrices\u001b[0m\u001b[0;34m)\u001b[0m\u001b[0;34m\u001b[0m\u001b[0;34m\u001b[0m\u001b[0m\n\u001b[0;32m---> 35\u001b[0;31m     \u001b[0mu\u001b[0m \u001b[0;34m=\u001b[0m \u001b[0mspsolve\u001b[0m\u001b[0;34m(\u001b[0m\u001b[0mK\u001b[0m\u001b[0;34m.\u001b[0m\u001b[0mtocsc\u001b[0m\u001b[0;34m(\u001b[0m\u001b[0;34m)\u001b[0m\u001b[0;34m,\u001b[0m \u001b[0mF\u001b[0m\u001b[0;34m.\u001b[0m\u001b[0mreshape\u001b[0m\u001b[0;34m(\u001b[0m\u001b[0;34m-\u001b[0m\u001b[0;36m1\u001b[0m\u001b[0;34m,\u001b[0m \u001b[0;36m1\u001b[0m\u001b[0;34m)\u001b[0m\u001b[0;34m)\u001b[0m\u001b[0;34m\u001b[0m\u001b[0;34m\u001b[0m\u001b[0m\n\u001b[0m\u001b[1;32m     36\u001b[0m     \u001b[0mx\u001b[0m \u001b[0;34m=\u001b[0m \u001b[0mnodes\u001b[0m\u001b[0;34m\u001b[0m\u001b[0;34m\u001b[0m\u001b[0m\n\u001b[1;32m     37\u001b[0m     \u001b[0;32mreturn\u001b[0m \u001b[0mx\u001b[0m\u001b[0;34m,\u001b[0m \u001b[0mu\u001b[0m\u001b[0;34m\u001b[0m\u001b[0;34m\u001b[0m\u001b[0m\n",
            "\u001b[0;32m/usr/local/lib/python3.8/dist-packages/scipy/sparse/linalg/dsolve/linsolve.py\u001b[0m in \u001b[0;36mspsolve\u001b[0;34m(A, b, permc_spec, use_umfpack)\u001b[0m\n\u001b[1;32m    166\u001b[0m \u001b[0;34m\u001b[0m\u001b[0m\n\u001b[1;32m    167\u001b[0m     \u001b[0;32mif\u001b[0m \u001b[0mM\u001b[0m \u001b[0;34m!=\u001b[0m \u001b[0mb\u001b[0m\u001b[0;34m.\u001b[0m\u001b[0mshape\u001b[0m\u001b[0;34m[\u001b[0m\u001b[0;36m0\u001b[0m\u001b[0;34m]\u001b[0m\u001b[0;34m:\u001b[0m\u001b[0;34m\u001b[0m\u001b[0;34m\u001b[0m\u001b[0m\n\u001b[0;32m--> 168\u001b[0;31m         raise ValueError(\"matrix - rhs dimension mismatch (%s - %s)\"\n\u001b[0m\u001b[1;32m    169\u001b[0m                          % (A.shape, b.shape[0]))\n\u001b[1;32m    170\u001b[0m \u001b[0;34m\u001b[0m\u001b[0m\n",
            "\u001b[0;31mValueError\u001b[0m: matrix - rhs dimension mismatch ((4, 4) - 6)"
          ]
        }
      ],
      "source": [
        "import numpy as np\n",
        "import scipy.sparse as sp\n",
        "from scipy.sparse.linalg import spsolve\n",
        "import matplotlib.pyplot as plt\n",
        "from matplotlib.backends.backend_pdf import PdfPages\n",
        "\n",
        "# Material properties\n",
        "E = 2e5 # Young's modulus (N/mm^2)\n",
        "A = 50 # Cross-sectional area (mm^2)\n",
        "\n",
        "# Load vector\n",
        "F = np.array([0, 0, 0, -3e3, 0, 0])\n",
        "\n",
        "# Number of elements and nodes\n",
        "ne = 3\n",
        "L = 800 / ne\n",
        "nodes = np.linspace(0, 800, ne+1)\n",
        "\n",
        "# Function to calculate element stiffness matrix\n",
        "def element_stiffness_matrix(E, A, L):\n",
        "    k = np.array([[E*A/L, -E*A/L], [-E*A/L, E*A/L]])\n",
        "    return k\n",
        "\n",
        "# Function to assemble global stiffness matrix\n",
        "def global_stiffness_matrix(ne, nodes, element_matrices):\n",
        "    K = np.zeros((len(nodes), len(nodes)))\n",
        "    for i in range(ne):\n",
        "        k = element_matrices[i]\n",
        "        K[i:i+2, i:i+2] += k\n",
        "    return sp.csc_matrix(K)\n",
        "\n",
        "# Function to find deformation or elongation\n",
        "def deformation(ne, nodes, element_matrices, F):\n",
        "    K = global_stiffness_matrix(ne, nodes, element_matrices)\n",
        "    u = spsolve(K.tocsc(), F.reshape(-1, 1))\n",
        "    x = nodes\n",
        "    return x, u\n",
        "\n",
        "# Calculate element stiffness matrices\n",
        "element_matrices = [element_stiffness_matrix(E, A, L) for i in range(ne)]\n",
        "\n",
        "# Calculate global stiffness matrix and deformation or elongation\n",
        "x, u = deformation(ne, nodes, element_matrices, F)\n",
        "\n",
        "# Plot deformation or elongation\n",
        "plt.plot(x, u)\n",
        "plt.xlabel('x (mm)')\n",
        "plt.ylabel('u (m)')\n",
        "plt.title('Deformation of Steel Bar')\n",
        "\n",
        "# Option to increase the number of elements in finite element code\n",
        "ne_new = int(input(\"Enter the number of elements: \"))\n",
        "L_new = 800 / ne_new\n",
        "nodes_new = np.linspace(0, 800, ne_new+1)\n",
        "element_matrices_new = [element_stiffness_matrix(E, A, L_new) for i in range(ne_new)]\n",
        "x_new, u_new = deformation(ne_new, nodes_new, element_matrices_new, F)\n",
        "\n",
        "# Plot deformation or elongation with new number of elements\n",
        "plt.plot(x_new, u_new)\n",
        "plt.xlabel('x (mm)')\n",
        "plt.ylabel('u (m)')\n",
        "plt.title('Deformation of Steel Bar with Increased Number of Elements')\n",
        "\n",
        "# Save plot to PDF\n",
        "pdf = PdfPages(\"deformation_plot.pdf\")\n",
        "pdf.savefig()\n",
        "pdf.close()\n",
        "\n",
        "# Display the sparse matrix of the global stiffness matrix\n",
        "print(\"Sparse matrix of global stiffness matrix:\")\n",
        "print(global_stiffness_matrix(ne_new, nodes_new, element_matrices_new).toarray())\n",
        "\n",
        "# Anna University B transpose D multiplied by B method\n",
        "B = np.zeros((ne_new, 2))\n",
        "for i in range(ne_new):\n",
        "    B[i, 0] = -1/L_new\n",
        "    B[i, 1] = 1/L_new\n",
        "D = np.array([[E*A, 0], [0, E*A]])\n",
        "print(\"B:\")\n",
        "print(B)\n",
        "print(\"D:\")\n",
        "print(D)\n",
        "BTDB = np.matmul(np.matmul(np.transpose(B), D), B)\n",
        "print(\"B transpose D multiplied by B:\")\n",
        "print(BTDB)\n"
      ]
    },
    {
      "cell_type": "code",
      "source": [
        "again the same problem like this \"ValueError: matrix - rhs dimension mismatch ((4, 4) - 6)\"\n",
        "\n",
        "This error occurs because the dimensions of the global stiffness matrix and the force vector do not match. The global stiffness matrix is expected to have ne-1 rows and columns, where ne is the number of elements in the finite element analysis, and the force vector has ne-1 elements.\n",
        "\n",
        "To fix the error, we need to correctly set the number of rows and columns in the global stiffness matrix, and the number of elements in the force vector. Here is the corrected code:"
      ],
      "metadata": {
        "id": "mrCj4Gut-4xm"
      },
      "execution_count": null,
      "outputs": []
    },
    {
      "cell_type": "code",
      "source": [
        "import numpy as np\n",
        "from scipy.sparse import csc_matrix\n",
        "from scipy.sparse.linalg import spsolve\n",
        "import matplotlib.pyplot as plt\n",
        "from matplotlib.backends.backend_pdf import PdfPages\n",
        "\n",
        "def element_stiffness_matrix(E, A, L):\n",
        "    return (E*A/L) * np.array([[1, -1], [-1, 1]])\n",
        "\n",
        "def global_stiffness_matrix(ne, nodes, element_matrices):\n",
        "    K = np.zeros((ne-1, ne-1))\n",
        "    for i in range(ne-1):\n",
        "        for j in range(ne-1):\n",
        "            if i == j:\n",
        "                K[i, j] = element_matrices[i, 0, 0] + element_matrices[i+1, 0, 0]\n",
        "            elif i == j-1:\n",
        "                K[i, j] = -element_matrices[i+1, 0, 0]\n",
        "            elif i == j+1:\n",
        "                K[i, j] = -element_matrices[i, 0, 0]\n",
        "    return csc_matrix(K)\n",
        "\n",
        "def force_vector(ne, nodes, q):\n",
        "    F = np.zeros(ne-1)\n",
        "    for i in range(ne-1):\n",
        "        F[i] = (q/2) * (nodes[i+1]-nodes[i])\n",
        "    return F\n",
        "\n",
        "def deformation(K, F, ne, nodes):\n",
        "    u = np.zeros(ne-1)\n",
        "    u = spsolve(K, F)\n",
        "    return np.array([0] + list(u) + [0])\n",
        "\n",
        "# Input data\n",
        "E = 210000\n",
        "A = 0.0025\n",
        "L = 800\n",
        "q = 3\n",
        "ne = 3\n",
        "nodes = np.linspace(0, L, ne+1)\n",
        "element_matrices = np.zeros((ne, 2, 2))\n",
        "for i in range(ne):\n",
        "    element_matrices[i] = element_stiffness_matrix(E, A, nodes[i+1]-nodes[i])\n",
        "K = global_stiffness_matrix(ne, nodes, element_matrices)\n",
        "F = force_vector(ne, nodes, q)\n",
        "u = deformation(K, F, ne, nodes)\n",
        "\n",
        "# Plot deformation or elongation\n",
        "x = np.linspace(0, L, 1000)\n",
        "y = np.interp(x, nodes, u)\n",
        "plt.plot(x, y)\n",
        "plt.xlabel('x (mm)')\n",
        "plt.ylabel('u (m)')\n",
        "plt.title('Deformation of Steel Bar')\n",
        "\n",
        "# Option to increase the number of elements in finite element\n",
        "# Option to increase the number of elements in finite element code\n",
        "ne = int(input(\"Enter the number of elements in the finite element analysis: \"))\n",
        "nodes = np.linspace(0, L, ne+1)\n",
        "element_matrices = np.zeros((ne, 2, 2))\n",
        "for i in range(ne):\n",
        "    element_matrices[i] = element_stiffness_matrix(E, A, nodes[i+1]-nodes[i])\n",
        "K = global_stiffness_matrix(ne, nodes, element_matrices)\n",
        "F = force_vector(ne, nodes, q)\n",
        "u = deformation(K, F, ne, nodes)\n",
        "\n",
        "# Plot deformation or elongation with new number of elements\n",
        "x = np.linspace(0, L, 1000)\n",
        "y = np.interp(x, nodes, u)\n",
        "plt.plot(x, y)\n",
        "plt.xlabel('x (mm)')\n",
        "plt.ylabel('u (m)')\n",
        "plt.title('Deformation of Steel Bar with {} Elements'.format(ne))\n",
        "\n",
        "# Export results to PDF\n",
        "pdf = PdfPages(\"deformation_with_{}_elements.pdf\".format(ne))\n",
        "pdf.savefig()\n",
        "pdf.close()\n",
        "plt.show()\n"
      ],
      "metadata": {
        "colab": {
          "base_uri": "https://localhost:8080/",
          "height": 312
        },
        "id": "hzf_Cuph_CXv",
        "outputId": "7db5e12c-bcaf-4cdf-cb85-179b14f04dd2"
      },
      "execution_count": 3,
      "outputs": [
        {
          "name": "stdout",
          "output_type": "stream",
          "text": [
            "Enter the number of elements in the finite element analysis: 3\n"
          ]
        },
        {
          "output_type": "display_data",
          "data": {
            "text/plain": [
              "<Figure size 432x288 with 1 Axes>"
            ],
            "image/png": "[encoded data removed]"
          },
          "metadata": {
            "needs_background": "light"
          }
        }
      ]
    },
    {
      "cell_type": "code",
      "source": [
        "!pip install numpy\n",
        "!pip install scipy\n",
        "!pip install matplotlib\n"
      ],
      "metadata": {
        "colab": {
          "base_uri": "https://localhost:8080/"
        },
        "id": "4ucrFOGhAT8o",
        "outputId": "3971d1bd-c12d-414e-a338-4fd18e5a4ddd"
      },
      "execution_count": 4,
      "outputs": [
        {
          "output_type": "stream",
          "name": "stdout",
          "text": [
            "Looking in indexes: https://pypi.org/simple, https://us-python.pkg.dev/colab-wheels/public/simple/\n",
            "Requirement already satisfied: numpy in /usr/local/lib/python3.8/dist-packages (1.21.6)\n",
            "Looking in indexes: https://pypi.org/simple, https://us-python.pkg.dev/colab-wheels/public/simple/\n",
            "Requirement already satisfied: scipy in /usr/local/lib/python3.8/dist-packages (1.7.3)\n",
            "Requirement already satisfied: numpy<1.23.0,>=1.16.5 in /usr/local/lib/python3.8/dist-packages (from scipy) (1.21.6)\n",
            "Looking in indexes: https://pypi.org/simple, https://us-python.pkg.dev/colab-wheels/public/simple/\n",
            "Requirement already satisfied: matplotlib in /usr/local/lib/python3.8/dist-packages (3.2.2)\n",
            "Requirement already satisfied: cycler>=0.10 in /usr/local/lib/python3.8/dist-packages (from matplotlib) (0.11.0)\n",
            "Requirement already satisfied: numpy>=1.11 in /usr/local/lib/python3.8/dist-packages (from matplotlib) (1.21.6)\n",
            "Requirement already satisfied: python-dateutil>=2.1 in /usr/local/lib/python3.8/dist-packages (from matplotlib) (2.8.2)\n",
            "Requirement already satisfied: kiwisolver>=1.0.1 in /usr/local/lib/python3.8/dist-packages (from matplotlib) (1.4.4)\n",
            "Requirement already satisfied: pyparsing!=2.0.4,!=2.1.2,!=2.1.6,>=2.0.1 in /usr/local/lib/python3.8/dist-packages (from matplotlib) (3.0.9)\n",
            "Requirement already satisfied: six>=1.5 in /usr/local/lib/python3.8/dist-packages (from python-dateutil>=2.1->matplotlib) (1.15.0)\n"
          ]
        }
      ]
    },
    {
      "cell_type": "code",
      "source": [
        "import numpy as np\n",
        "import scipy.sparse as sps\n",
        "import scipy.sparse.linalg as spla\n",
        "import matplotlib.pyplot as plt"
      ],
      "metadata": {
        "id": "-A94pycUAZRN"
      },
      "execution_count": 5,
      "outputs": []
    },
    {
      "cell_type": "code",
      "source": [
        "import numpy as np\n",
        "import scipy.sparse.linalg as spla\n",
        "import matplotlib.pyplot as plt\n",
        "from matplotlib.backends.backend_pdf import PdfPages\n",
        "\n",
        "# Constants\n",
        "L = 800  # Length of bar (mm)\n",
        "E = 200e9  # Young's modulus of steel (Pa)\n",
        "A = 0.01  # Cross-sectional area of bar (m^2)\n",
        "q = -3e3  # Axial load (N)\n",
        "\n",
        "def element_stiffness_matrix(E, A, l):\n",
        "    \"\"\"Return element stiffness matrix.\"\"\"\n",
        "    ke = np.array([[1, -1], [-1, 1]]) * E * A / l\n",
        "    return ke\n",
        "\n",
        "def global_stiffness_matrix(ne, nodes, element_matrices):\n",
        "    \"\"\"Return global stiffness matrix.\"\"\"\n",
        "    K = np.zeros((ne+1, ne+1))\n",
        "    for i in range(ne):\n",
        "        for j in [0, 1]:\n",
        "            for k in [0, 1]:\n",
        "                K[i+j, i+k] += element_matrices[i][j, k]\n",
        "    return K\n",
        "\n",
        "def force_vector(ne, nodes, q):\n",
        "    \"\"\"Return force vector.\"\"\"\n",
        "    F = np.zeros(ne+1)\n",
        "    F[0] = q\n",
        "    return F\n",
        "\n",
        "def deformation(K, F, ne, nodes):\n",
        "    \"\"\"Return deformation (displacement) vector.\"\"\"\n",
        "    u = spla.spsolve(K, F)\n",
        "    return u\n",
        "\n",
        "# Element stiffness matrices\n",
        "ne = 3  # Number of elements\n",
        "nodes = np.linspace(0, L, ne+1)\n",
        "element_matrices = np.zeros((ne, 2, 2))\n",
        "for i in range(ne):\n",
        "    element_matrices[i] = element_stiffness_matrix(E, A, nodes[i+1]-nodes[i])\n",
        "\n",
        "# Global stiffness matrix\n",
        "K = global_stiffness_matrix(ne, nodes, element_matrices)\n",
        "print(\"Global Stiffness Matrix:\")\n",
        "print(K)\n",
        "\n",
        "# Force vector\n",
        "F = force_vector(ne, nodes, q)\n",
        "print(\"Force Vector:\")\n",
        "print(F)\n",
        "\n",
        "# Deformation (displacement) vector\n",
        "u = deformation(K, F, ne, nodes)\n",
        "print(\"Deformation Vector:\")\n",
        "print(u)\n",
        "\n",
        "# Plot deformation\n",
        "x = np.linspace(0, L, 1000)\n",
        "y = np.interp(x, nodes, u)\n",
        "plt.plot(x, y)\n",
        "plt.xlabel('x (mm)')\n",
        "plt.ylabel('u (m)')\n",
        "plt.title('Deformation of Steel Bar with {} Elements'.format(ne))\n",
        "\n",
        "# Export results to PDF\n",
        "pdf = PdfPages(\"deformation.pdf\")\n",
        "pdf.savefig()\n",
        "pdf.close()\n",
        "plt.show()\n"
      ],
      "metadata": {
        "colab": {
          "base_uri": "https://localhost:8080/",
          "height": 541
        },
        "id": "oNA-o-49AbON",
        "outputId": "76a3f6c4-34c7-4508-d0dd-5c861a237d80"
      },
      "execution_count": 6,
      "outputs": [
        {
          "output_type": "stream",
          "name": "stdout",
          "text": [
            "Global Stiffness Matrix:\n",
            "[[ 7500000. -7500000.        0.        0.]\n",
            " [-7500000. 15000000. -7500000.        0.]\n",
            " [       0. -7500000. 15000000. -7500000.]\n",
            " [       0.        0. -7500000.  7500000.]]\n",
            "Force Vector:\n",
            "[-3000.     0.     0.     0.]\n",
            "Deformation Vector:\n",
            "[nan nan nan nan]\n"
          ]
        },
        {
          "output_type": "stream",
          "name": "stderr",
          "text": [
            "/usr/local/lib/python3.8/dist-packages/scipy/sparse/linalg/dsolve/linsolve.py:144: SparseEfficiencyWarning: spsolve requires A be CSC or CSR matrix format\n",
            "  warn('spsolve requires A be CSC or CSR matrix format',\n",
            "/usr/local/lib/python3.8/dist-packages/scipy/sparse/linalg/dsolve/linsolve.py:206: MatrixRankWarning: Matrix is exactly singular\n",
            "  warn(\"Matrix is exactly singular\", MatrixRankWarning)\n"
          ]
        },
        {
          "output_type": "display_data",
          "data": {
            "text/plain": [
              "<Figure size 432x288 with 1 Axes>"
            ],
            "image/png": "[encoded data removed]"
          },
          "metadata": {
            "needs_background": "light"
          }
        }
      ]
    },
    {
      "cell_type": "code",
      "source": [
        "import numpy as np\n",
        "import scipy.sparse as sps\n",
        "import scipy.sparse.linalg as spla\n",
        "import matplotlib.pyplot as plt\n",
        "\n",
        "# Parameters\n",
        "L = 800  # length of the bar\n",
        "E = 2*10**9  # Young's modulus\n",
        "A = 0.01  # cross sectional area\n",
        "P = 3  # load\n",
        "n = 3  # number of elements\n",
        "\n",
        "# Global stiffness matrix\n",
        "k_global = np.zeros((n+1, n+1))\n",
        "\n",
        "# Element stiffness matrix\n",
        "k_element = np.zeros((2, 2))\n",
        "k_element[0, 0] = k_element[1, 1] = E*A/L\n",
        "k_element[0, 1] = k_element[1, 0] = -E*A/L\n",
        "\n",
        "# Assemble the global stiffness matrix\n",
        "for i in range(n):\n",
        "    k_global[i:i+2, i:i+2] += k_element\n",
        "\n",
        "# Load vector\n",
        "F = np.zeros((n+1, 1))\n",
        "F[-1] = -P\n",
        "\n",
        "# Solve for displacement\n",
        "u = spla.spsolve(sps.csc_matrix(k_global), F)\n",
        "\n",
        "# Plot deformation or elongation\n",
        "x = np.linspace(0, L, n+1)\n",
        "plt.plot(x, u)\n",
        "plt.xlabel('Length (mm)')\n",
        "plt.ylabel('Deformation (mm)')\n",
        "plt.title('Deformation of Steel Bar')\n",
        "plt.show()\n",
        "\n",
        "# Print element stiffness matrix\n",
        "print(\"Element Stiffness Matrix:\")\n",
        "for i in range(n):\n",
        "    print(\"k{}:\".format(i+1), k_element)\n",
        "\n",
        "# Print global stiffness matrix\n",
        "print(\"Global Stiffness Matrix:\")\n",
        "print(k_global)\n",
        "\n",
        "# Print deformation vector\n",
        "print(\"Deformation Vector:\")\n",
        "print(u)\n"
      ],
      "metadata": {
        "colab": {
          "base_uri": "https://localhost:8080/",
          "height": 593
        },
        "id": "CINswSRhBzWT",
        "outputId": "f6afc568-5807-4006-d8a3-6be112aa4f28"
      },
      "execution_count": 8,
      "outputs": [
        {
          "output_type": "stream",
          "name": "stderr",
          "text": [
            "/usr/local/lib/python3.8/dist-packages/scipy/sparse/linalg/dsolve/linsolve.py:206: MatrixRankWarning: Matrix is exactly singular\n",
            "  warn(\"Matrix is exactly singular\", MatrixRankWarning)\n"
          ]
        },
        {
          "output_type": "display_data",
          "data": {
            "text/plain": [
              "<Figure size 432x288 with 1 Axes>"
            ],
            "image/png": "[encoded data removed]"
          },
          "metadata": {
            "needs_background": "light"
          }
        },
        {
          "output_type": "stream",
          "name": "stdout",
          "text": [
            "Element Stiffness Matrix:\n",
            "k1: [[ 25000. -25000.]\n",
            " [-25000.  25000.]]\n",
            "k2: [[ 25000. -25000.]\n",
            " [-25000.  25000.]]\n",
            "k3: [[ 25000. -25000.]\n",
            " [-25000.  25000.]]\n",
            "Global Stiffness Matrix:\n",
            "[[ 25000. -25000.      0.      0.]\n",
            " [-25000.  50000. -25000.      0.]\n",
            " [     0. -25000.  50000. -25000.]\n",
            " [     0.      0. -25000.  25000.]]\n",
            "Deformation Vector:\n",
            "[nan nan nan nan]\n"
          ]
        }
      ]
    },
    {
      "cell_type": "code",
      "source": [
        "import numpy as np\n",
        "from scipy.sparse import csc_matrix\n",
        "from scipy.sparse.linalg import spsolve\n",
        "import matplotlib.pyplot as plt\n",
        "\n",
        "# Geometric parameters\n",
        "L = 800  # Length of the bar in mm\n",
        "R = 50   # Radius of the bar in mm\n",
        "A = np.pi * R**2  # Cross-sectional area of the bar\n",
        "\n",
        "# Material parameters\n",
        "E = 2e5  # Young's modulus of the bar in N/mm^2\n",
        "\n",
        "# Load parameters\n",
        "P = 3  # Axial load in kN\n",
        "\n",
        "# Number of elements\n",
        "nelem = 4  # Number of finite elements\n",
        "\n",
        "# Element length\n",
        "Lelem = L/nelem  # Length of each finite element in mm\n",
        "\n",
        "# Stiffness matrix of a single element\n",
        "Kelem = (A * E / Lelem) * np.array([[1, -1], [-1, 1]])\n",
        "\n",
        "# Assemble the global stiffness matrix\n",
        "nnode = nelem + 1  # Total number of nodes\n",
        "K = np.zeros((nnode*2, nnode*2))\n",
        "for i in range(nelem):\n",
        "    K[i*2:i*2+2, i*2:i*2+2] += Kelem\n",
        "    K[i*2+2:i*2+4, i*2:i*2+2] += -Kelem\n",
        "    K[i*2:i*2+2, i*2+2:i*2+4] += -Kelem\n",
        "    K[i*2+2:i*2+4, i*2+2:i*2+4] += Kelem\n",
        "\n",
        "# Fix the end node at the top\n",
        "K = np.delete(K, (0, 1), axis=0)\n",
        "K = np.delete(K, (0, 1), axis=1)\n",
        "\n",
        "# Define the load vector\n",
        "F = np.zeros(nnode*2-2)\n",
        "F[-1] = P * A  # Load applied on the bottom node\n",
        "\n",
        "# Solve for the nodal displacements\n",
        "u = spsolve(csc_matrix(K), F)\n",
        "\n",
        "# Deformation of the bar\n",
        "deflection = np.zeros(nnode)\n",
        "for i in range(nelem):\n",
        "    deflection[i+1] = u[i]\n",
        "\n",
        "# Plot the deformation\n",
        "x = np.linspace(0, L, nnode)\n",
        "plt.plot(x, deflection)\n",
        "plt.xlabel(\"Length (mm)\")\n",
        "plt.ylabel(\"Deformation (mm)\")\n",
        "plt.title(\"Deformation of the cylindrical steel bar\")\n",
        "plt.show()\n"
      ],
      "metadata": {
        "colab": {
          "base_uri": "https://localhost:8080/",
          "height": 350
        },
        "id": "0LwuI0fgD2V7",
        "outputId": "f4430e99-08be-4f6b-cff2-8fb5b6d1d160"
      },
      "execution_count": 10,
      "outputs": [
        {
          "output_type": "stream",
          "name": "stderr",
          "text": [
            "/usr/local/lib/python3.8/dist-packages/scipy/sparse/linalg/dsolve/linsolve.py:206: MatrixRankWarning: Matrix is exactly singular\n",
            "  warn(\"Matrix is exactly singular\", MatrixRankWarning)\n"
          ]
        },
        {
          "output_type": "display_data",
          "data": {
            "text/plain": [
              "<Figure size 432x288 with 1 Axes>"
            ],
            "image/png": "[encoded data removed]"
          },
          "metadata": {
            "needs_background": "light"
          }
        }
      ]
    },
    {
      "cell_type": "code",
      "source": [
        "!pip install numpy scipy\n"
      ],
      "metadata": {
        "id": "1EcBSacHEnIs"
      },
      "execution_count": null,
      "outputs": []
    },
    {
      "cell_type": "code",
      "source": [
        "import numpy as np\n",
        "from scipy.sparse import csc_matrix\n",
        "import matplotlib.pyplot as plt\n",
        "from scipy.sparse.linalg import spsolve\n",
        "\n",
        "L = 800 # length of bar in mm\n",
        "E = 2*10**5 # Young's Modulus of steel in N/mm^2\n",
        "A = 300 # Area of cross section in mm^2\n",
        "\n",
        "# Defining the element stiffness matrix\n",
        "def element_stiffness(E, A, L):\n",
        "    return (E * A / L) * np.array([[1, -1], [-1, 1]])\n",
        "\n",
        "def assemble_global_stiffness(k_elements, n_nodes, n_elements):\n",
        "    K = np.zeros((n_nodes, n_nodes))\n",
        "    for i in range(n_elements):\n",
        "        K[i:i+2, i:i+2] += k_elements[i]\n",
        "    return K\n",
        "\n",
        "def plot_sparse_global_stiffness(K, title):\n",
        "    plt.spy(csc_matrix(K), markersize=2)\n",
        "    plt.title(title)\n",
        "    plt.show()\n",
        "\n",
        "n_elements = 12\n",
        "n_nodes = n_elements + 1\n",
        "\n",
        "k_elements = [element_stiffness(E, A, L/n_elements) for i in range(n_elements)]\n",
        "K = assemble_global_stiffness(k_elements, n_nodes, n_elements)\n",
        "\n",
        "# Fixing the first node to zero displacement\n",
        "F = np.zeros(n_nodes)\n",
        "F[n_nodes-1] = 3 * 1000 # Applied load at the last node in N\n",
        "\n",
        "# Removing the fixed node from global stiffness and force matrices\n",
        "K = np.delete(K, 0, 0)\n",
        "K = np.delete(K, 0, 1)\n",
        "F = np.delete(F, 0, 0)\n",
        "\n",
        "# Solving for the nodal displacements\n",
        "u = spsolve(csc_matrix(K), F)\n",
        "\n",
        "# Inserting the fixed node displacement back into the solution vector\n",
        "u = np.insert(u, 0, 0)\n",
        "\n",
        "print(\"Deformation Vector:\")\n",
        "print(u)\n",
        "\n",
        "plot_sparse_global_stiffness(K, \"Sparse Global Stiffness Matrix\")\n"
      ],
      "metadata": {
        "colab": {
          "base_uri": "https://localhost:8080/",
          "height": 348
        },
        "id": "mzFw6wHFFlwc",
        "outputId": "3bde0a4b-0496-480a-d751-b15bc6b28fe9"
      },
      "execution_count": 13,
      "outputs": [
        {
          "output_type": "stream",
          "name": "stdout",
          "text": [
            "Deformation Vector:\n",
            "[0.         0.00333333 0.00666667 0.01       0.01333333 0.01666667\n",
            " 0.02       0.02333333 0.02666667 0.03       0.03333333 0.03666667\n",
            " 0.04      ]\n"
          ]
        },
        {
          "output_type": "display_data",
          "data": {
            "text/plain": [
              "<Figure size 432x288 with 1 Axes>"
            ],
            "image/png": "[encoded data removed]"
          },
          "metadata": {
            "needs_background": "light"
          }
        }
      ]
    },
    {
      "cell_type": "code",
      "source": [
        "del l= p*l/A*E forchecking l is length of beam and p is load"
      ],
      "metadata": {
        "id": "r4zQ3bG7F68l"
      },
      "execution_count": null,
      "outputs": []
    },
    {
      "cell_type": "code",
      "source": [
        "import numpy as np\n",
        "from scipy.sparse import lil_matrix, identity\n",
        "from scipy.sparse.linalg import spsolve\n",
        "import matplotlib.pyplot as plt\n",
        "\n",
        "# Constants\n",
        "k1 = 8.5 # W/mK\n",
        "k2 = 0.25 # W/mK\n",
        "k3 = 0.08 # W/mK\n",
        "l1 = 25 * 10**(-2) # m\n",
        "l2 = 5 * 10**(-2) # m\n",
        "l3 = 3 * 10**(-2) # m\n",
        "T1 = 600 + 273.15 # K\n",
        "T4 = 30 + 273.15 # K\n",
        "h = 45 # W/m^2K\n",
        "n = 10 # number of elements\n",
        "\n",
        "# Element Stiffness matrix\n",
        "k_element = np.array([[k1, -k1, 0], [-k1, k1 + k2, -k2], [0, -k2, k2 + k3]])\n",
        "\n",
        "# Global stiffness matrix\n",
        "K = lil_matrix((3*n, 3*n))\n",
        "for i in range(n):\n",
        "    K[3*i:3*i+3, 3*i:3*i+3] += k_element\n",
        "\n",
        "# Fixed temperature boundary conditions\n",
        "bc = np.zeros(3*n)\n",
        "bc[0] = T1 * k1\n",
        "bc[3*n-1] = T4 * k3\n",
        "\n",
        "# Load vector\n",
        "F = np.zeros(3*n)\n",
        "F[0] += h * l1\n",
        "F[3*n-1] += h * l3\n",
        "\n",
        "# Solve for nodal temperatures\n",
        "T = spsolve(K.tocsc(), bc + F)\n",
        "\n",
        "# Plot the temperature distribution\n",
        "plt.plot(T)\n",
        "plt.xlabel(\"Node\")\n",
        "plt.ylabel(\"Temperature (K)\")\n",
        "plt.title(\"Temperature distribution in furnace wall\")\n",
        "plt.show()\n",
        "\n",
        "# Option to increase the number of elements\n",
        "new_n = 20\n",
        "if new_n > n:\n",
        "    K = lil_matrix((3*new_n, 3*new_n))\n",
        "    for i in range(new_n):\n",
        "        K[3*i:3*i+3, 3*i:3*i+3] += k_element\n",
        "    bc = np.zeros(3*new_n)\n",
        "    bc[0] = T1 * k1\n",
        "    bc[3*new_n-1] = T4 * k3\n",
        "    F = np.zeros(3*new_n)\n",
        "    F[0] += h * l1\n",
        "    F[3*new_n-1] += h * l3\n",
        "    T = spsolve(K.tocsc(), bc + F)\n",
        "    plt.plot(T)\n",
        "    plt.xlabel(\"Node\")\n",
        "    plt.ylabel(\"Temperature (K)\")\n",
        "    plt.title(\"Temperature distribution in furnace wall with increased elements\")\n",
        "    plt.show()\n",
        "\n",
        "# Plotting Sparse Global Stiffness Matrix\n",
        "plt.spy(K)\n",
        "plt.title(\"Sparse Global Stiffness Matrix\")\n",
        "plt.show()\n",
        "import scipy.sparse as sps\n",
        "import matplotlib.pyplot as plt\n",
        "\n",
        "# Code to calculate global stiffness matrix K\n",
        "\n",
        "plt.spy(K.tocsr(), marker='.', markersize=2, color='black')\n",
        "plt.title(\"Sparse Global Stiffness Matrix\")\n",
        "plt.show()\n"
      ],
      "metadata": {
        "colab": {
          "base_uri": "https://localhost:8080/",
          "height": 1000
        },
        "id": "W0trqPw8KhkT",
        "outputId": "23be0e4a-5f1b-45da-a33f-a2ea839cc11c"
      },
      "execution_count": 14,
      "outputs": [
        {
          "output_type": "display_data",
          "data": {
            "text/plain": [
              "<Figure size 432x288 with 1 Axes>"
            ],
            "image/png": "[encoded data removed]"
          },
          "metadata": {
            "needs_background": "light"
          }
        },
        {
          "output_type": "display_data",
          "data": {
            "text/plain": [
              "<Figure size 432x288 with 1 Axes>"
            ],
            "image/png": "[encoded data removed]"
          },
          "metadata": {
            "needs_background": "light"
          }
        },
        {
          "output_type": "display_data",
          "data": {
            "text/plain": [
              "<Figure size 432x288 with 1 Axes>"
            ],
            "image/png": "[encoded data removed]"
          },
          "metadata": {
            "needs_background": "light"
          }
        },
        {
          "output_type": "display_data",
          "data": {
            "text/plain": [
              "<Figure size 432x288 with 1 Axes>"
            ],
            "image/png": "[encoded data removed]"
          },
          "metadata": {
            "needs_background": "light"
          }
        }
      ]
    },
    {
      "cell_type": "code",
      "source": [
        "#https://annamalaiuniversity.ac.in/studport/download/engg/mech/learning/FEA%20By%20Mr.%20B.%20Guruprasad.pdf"
      ],
      "metadata": {
        "id": "9c349gAVLgWR"
      },
      "execution_count": null,
      "outputs": []
    },
    {
      "cell_type": "code",
      "source": [
        "import numpy as np\n",
        "from scipy.sparse import lil_matrix, identity\n",
        "from scipy.sparse.linalg import spsolve\n",
        "import matplotlib.pyplot as plt\n",
        "\n",
        "# Constants\n",
        "k1 = 8.5 # W/mK\n",
        "k2 = 0.25 # W/mK\n",
        "k3 = 0.08 # W/mK\n",
        "l1 = 25 * 10**(-2) # m\n",
        "l2 = 5 * 10**(-2) # m\n",
        "l3 = 3 * 10**(-2) # m\n",
        "T1 = 600 + 273.15 # K\n",
        "T4 = 30 + 273.15 # K\n",
        "h = 45 # W/m^2K\n",
        "n = 10 # number of elements\n",
        "\n",
        "# Element Stiffness matrix\n",
        "k_element = np.array([[k1, -k1, 0], [-k1, k1 + k2, -k2], [0, -k2, k2 + k3]])\n",
        "\n",
        "# Global stiffness matrix\n",
        "K = lil_matrix((3*n, 3*n))\n",
        "for i in range(n):\n",
        "    K[3*i:3*i+3, 3*i:3*i+3] += k_element\n",
        "\n",
        "# Fixed temperature boundary conditions\n",
        "bc = np.zeros(3*n)\n",
        "bc[0] = T1 * k1\n",
        "bc[3*n-1] = T4 * k3\n",
        "\n",
        "# Load vector\n",
        "F = np.zeros(3*n)\n",
        "F[0] += h * l1\n",
        "F[3*n-1] += h * l3\n",
        "\n",
        "# Solve for nodal temperatures\n",
        "T = spsolve(K.tocsc(), bc + F)\n",
        "\n",
        "# Plot the temperature distribution\n",
        "plt.plot(T)\n",
        "plt.xlabel(\"Node\")\n",
        "plt.ylabel(\"Temperature (K)\")\n",
        "plt.title(\"Temperature distribution in furnace wall\")\n",
        "plt.show()\n",
        "\n",
        "# Option to increase the number of elements\n",
        "new_n = 20\n",
        "if new_n > n:\n",
        "    K = lil_matrix((3*new_n, 3*new_n))\n",
        "    for i in range(new_n):\n",
        "        K[3*i:3*i+3, 3*i:3*i+3] += k_element\n",
        "    bc = np.zeros(3*new_n)\n",
        "    bc[0] = T1 * k1\n",
        "    bc[3*new_n-1] = T4 * k3\n",
        "    F = np.zeros(3*new_n)\n",
        "    F[0] += h * l1\n",
        "    F[3*new_n-1] += h * l3\n",
        "    T = spsolve(K.tocsc(), bc + F)\n",
        "    plt.plot(T)\n",
        "    plt.xlabel(\"Node\")\n",
        "    plt.ylabel(\"Temperature (K)\")\n",
        "    plt.title(\"Temperature distribution in furnace wall with increased elements\")\n",
        "    plt.show()\n",
        "\n",
        "# Plotting Sparse Global Stiffness Matrix\n",
        "plt.spy(K.tocsr(), marker='.', markersize=2, color='black')\n",
        "plt.title(\"Sparse Global Stiffness Matrix\")\n",
        "plt.show()\n",
        "\n",
        "#Printing Temperatures\n",
        "print(\"Temperature at node 1: \", T[0], \"K\")\n",
        "print(\"Temperature at node 2: \", T[1], \"K\")\n",
        "print(\"Temperature at node 3: \", T[2], \"K\")\n",
        "print(\"Temperature at node 11: \", T[30], \"K\")\n",
        "print(\"Temperature at node 12: \", T[31], \"K\")\n",
        "print(\"Temperature at node 13: \", T[32], \"K\")\n"
      ],
      "metadata": {
        "colab": {
          "base_uri": "https://localhost:8080/",
          "height": 939
        },
        "id": "tarcjMlPNC7p",
        "outputId": "c4003106-71f5-46cf-9a94-68ed3237830b"
      },
      "execution_count": 18,
      "outputs": [
        {
          "output_type": "display_data",
          "data": {
            "text/plain": [
              "<Figure size 432x288 with 1 Axes>"
            ],
            "image/png": "[encoded data removed]"
          },
          "metadata": {
            "needs_background": "light"
          }
        },
        {
          "output_type": "display_data",
          "data": {
            "text/plain": [
              "<Figure size 432x288 with 1 Axes>"
            ],
            "image/png": "[encoded data removed]"
          },
          "metadata": {
            "needs_background": "light"
          }
        },
        {
          "output_type": "display_data",
          "data": {
            "text/plain": [
              "<Figure size 432x288 with 1 Axes>"
            ],
            "image/png": "[encoded data removed]"
          },
          "metadata": {
            "needs_background": "light"
          }
        },
        {
          "output_type": "stream",
          "name": "stdout",
          "text": [
            "Temperature at node 1:  123519.38602941173 K\n",
            "Temperature at node 2:  122644.91249999998 K\n",
            "Temperature at node 3:  92912.81249999999 K\n",
            "Temperature at node 11:  0.0 K\n",
            "Temperature at node 12:  0.0 K\n",
            "Temperature at node 13:  0.0 K\n"
          ]
        }
      ]
    }
  ]
}