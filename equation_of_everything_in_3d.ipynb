{
  "nbformat": 4,
  "nbformat_minor": 0,
  "metadata": {
    "colab": {
      "provenance": [],
      "authorship_tag": "ABX9TyPoywlpDk4RqGzhMJzI/2Cc",
      "include_colab_link": true
    },
    "kernelspec": {
      "name": "python3",
      "display_name": "Python 3"
    },
    "language_info": {
      "name": "python"
    }
  },
  "cells": [
    {
      "cell_type": "markdown",
      "metadata": {
        "id": "view-in-github",
        "colab_type": "text"
      },
      "source": [
        "<a href=\"https://colab.research.google.com/github/saktheeswaranswan/random-math-addition-data-for-rnn-generator/blob/main/equation_of_everything_in_3d.ipynb\" target=\"_parent\"><img src=\"https://colab.research.google.com/assets/colab-badge.svg\" alt=\"Open In Colab\"/></a>"
      ]
    },
    {
      "cell_type": "code",
      "execution_count": 2,
      "metadata": {
        "colab": {
          "base_uri": "https://localhost:8080/"
        },
        "id": "M8nlU9feI6-f",
        "outputId": "6e85a181-406c-49a6-d194-29c57bddfbfc"
      },
      "outputs": [
        {
          "output_type": "stream",
          "name": "stdout",
          "text": [
            " (x - 0.1)^2 + (y - 0.2)^2 + (z - 0.3)^2 - 1\n",
            " (x - 0.4)^2 + (y - 0.5)^2 + (z - 0.6)^2 - 1\n",
            " (x - 0.7)^2 + (y - 0.8)^2 + (z - 0.9)^2 - 1\n"
          ]
        }
      ],
      "source": [
        "import csv\n",
        "\n",
        "# read in the CSV file containing a, b, and c values\n",
        "with open('/content/abc.csv') as csvfile:\n",
        "    reader = csv.reader(csvfile)\n",
        "    next(reader)  # skip header row\n",
        "    abc_values = [(float(row[0]), float(row[1]), float(row[2])) for row in reader]\n",
        "\n",
        "# generate Wxmaxima expressions for each set of a, b, and c values\n",
        "sphere_exprs = []\n",
        "for a, b, c in abc_values:\n",
        "    sphere_expr = f\" (x - {a})^2 + (y - {b})^2 + (z - {c})^2 - 1\"\n",
        "    sphere_exprs.append(sphere_expr)\n",
        "\n",
        "# print the Wxmaxima expressions for the sphere equations\n",
        "for sphere_expr in sphere_exprs:\n",
        "    print(sphere_expr)\n"
      ]
    }
  ]
}