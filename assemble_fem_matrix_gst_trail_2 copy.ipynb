{
  "nbformat": 4,
  "nbformat_minor": 0,
  "metadata": {
    "colab": {
      "provenance": [],
      "authorship_tag": "ABX9TyMF5t4lfVgpDitTbd9z1rox",
      "include_colab_link": true
    },
    "kernelspec": {
      "name": "python3",
      "display_name": "Python 3"
    },
    "language_info": {
      "name": "python"
    }
  },
  "cells": [
    {
      "cell_type": "markdown",
      "metadata": {
        "id": "view-in-github",
        "colab_type": "text"
      },
      "source": [
        "<a href=\"https://colab.research.google.com/github/saktheeswaranswan/random-math-addition-data-for-rnn-generator/blob/main/assemble_fem_matrix_gst_trail_2%20copy.ipynb\" target=\"_parent\"><img src=\"https://colab.research.google.com/assets/colab-badge.svg\" alt=\"Open In Colab\"/></a>"
      ]
    },
    {
      "cell_type": "code",
      "execution_count": 1,
      "metadata": {
        "colab": {
          "base_uri": "https://localhost:8080/",
          "height": 392
        },
        "id": "SsEz7tCB4dFM",
        "outputId": "7a00ca1a-d416-4849-ab2a-65345b1f2a31"
      },
      "outputs": [
        {
          "output_type": "error",
          "ename": "ValueError",
          "evalue": "ignored",
          "traceback": [
            "\u001b[0;31m---------------------------------------------------------------------------\u001b[0m",
            "\u001b[0;31mValueError\u001b[0m                                Traceback (most recent call last)",
            "\u001b[0;32m<ipython-input-1-7c1ee006d4b9>\u001b[0m in \u001b[0;36m<module>\u001b[0;34m\u001b[0m\n\u001b[1;32m      5\u001b[0m \u001b[0;32mwith\u001b[0m \u001b[0mopen\u001b[0m\u001b[0;34m(\u001b[0m\u001b[0;34m'/content/indices.csv'\u001b[0m\u001b[0;34m,\u001b[0m \u001b[0;34m'r'\u001b[0m\u001b[0;34m)\u001b[0m \u001b[0;32mas\u001b[0m \u001b[0mf\u001b[0m\u001b[0;34m:\u001b[0m\u001b[0;34m\u001b[0m\u001b[0;34m\u001b[0m\u001b[0m\n\u001b[1;32m      6\u001b[0m     \u001b[0mreader\u001b[0m \u001b[0;34m=\u001b[0m \u001b[0mcsv\u001b[0m\u001b[0;34m.\u001b[0m\u001b[0mreader\u001b[0m\u001b[0;34m(\u001b[0m\u001b[0mf\u001b[0m\u001b[0;34m)\u001b[0m\u001b[0;34m\u001b[0m\u001b[0;34m\u001b[0m\u001b[0m\n\u001b[0;32m----> 7\u001b[0;31m     \u001b[0mindices\u001b[0m \u001b[0;34m=\u001b[0m \u001b[0;34m[\u001b[0m\u001b[0mlist\u001b[0m\u001b[0;34m(\u001b[0m\u001b[0mmap\u001b[0m\u001b[0;34m(\u001b[0m\u001b[0mint\u001b[0m\u001b[0;34m,\u001b[0m \u001b[0mrow\u001b[0m\u001b[0;34m)\u001b[0m\u001b[0;34m)\u001b[0m \u001b[0;32mfor\u001b[0m \u001b[0mrow\u001b[0m \u001b[0;32min\u001b[0m \u001b[0mreader\u001b[0m\u001b[0;34m]\u001b[0m\u001b[0;34m\u001b[0m\u001b[0;34m\u001b[0m\u001b[0m\n\u001b[0m\u001b[1;32m      8\u001b[0m \u001b[0;34m\u001b[0m\u001b[0m\n\u001b[1;32m      9\u001b[0m \u001b[0;31m# Initialize the global stiffness matrix with zeros\u001b[0m\u001b[0;34m\u001b[0m\u001b[0;34m\u001b[0m\u001b[0;34m\u001b[0m\u001b[0m\n",
            "\u001b[0;32m<ipython-input-1-7c1ee006d4b9>\u001b[0m in \u001b[0;36m<listcomp>\u001b[0;34m(.0)\u001b[0m\n\u001b[1;32m      5\u001b[0m \u001b[0;32mwith\u001b[0m \u001b[0mopen\u001b[0m\u001b[0;34m(\u001b[0m\u001b[0;34m'/content/indices.csv'\u001b[0m\u001b[0;34m,\u001b[0m \u001b[0;34m'r'\u001b[0m\u001b[0;34m)\u001b[0m \u001b[0;32mas\u001b[0m \u001b[0mf\u001b[0m\u001b[0;34m:\u001b[0m\u001b[0;34m\u001b[0m\u001b[0;34m\u001b[0m\u001b[0m\n\u001b[1;32m      6\u001b[0m     \u001b[0mreader\u001b[0m \u001b[0;34m=\u001b[0m \u001b[0mcsv\u001b[0m\u001b[0;34m.\u001b[0m\u001b[0mreader\u001b[0m\u001b[0;34m(\u001b[0m\u001b[0mf\u001b[0m\u001b[0;34m)\u001b[0m\u001b[0;34m\u001b[0m\u001b[0;34m\u001b[0m\u001b[0m\n\u001b[0;32m----> 7\u001b[0;31m     \u001b[0mindices\u001b[0m \u001b[0;34m=\u001b[0m \u001b[0;34m[\u001b[0m\u001b[0mlist\u001b[0m\u001b[0;34m(\u001b[0m\u001b[0mmap\u001b[0m\u001b[0;34m(\u001b[0m\u001b[0mint\u001b[0m\u001b[0;34m,\u001b[0m \u001b[0mrow\u001b[0m\u001b[0;34m)\u001b[0m\u001b[0;34m)\u001b[0m \u001b[0;32mfor\u001b[0m \u001b[0mrow\u001b[0m \u001b[0;32min\u001b[0m \u001b[0mreader\u001b[0m\u001b[0;34m]\u001b[0m\u001b[0;34m\u001b[0m\u001b[0;34m\u001b[0m\u001b[0m\n\u001b[0m\u001b[1;32m      8\u001b[0m \u001b[0;34m\u001b[0m\u001b[0m\n\u001b[1;32m      9\u001b[0m \u001b[0;31m# Initialize the global stiffness matrix with zeros\u001b[0m\u001b[0;34m\u001b[0m\u001b[0;34m\u001b[0m\u001b[0;34m\u001b[0m\u001b[0m\n",
            "\u001b[0;31mValueError\u001b[0m: invalid literal for int() with base 10: 'i'"
          ]
        }
      ],
      "source": [
        "import csv\n",
        "import numpy as np\n",
        "\n",
        "# Read the CSV file with indices\n",
        "with open('/content/indices.csv', 'r') as f:\n",
        "    reader = csv.reader(f)\n",
        "    indices = [list(map(int, row)) for row in reader]\n",
        "\n",
        "# Initialize the global stiffness matrix with zeros\n",
        "global_stiffness_matrix = np.zeros((1000, 1000))\n",
        "\n",
        "# Loop through the indices\n",
        "for row in indices:\n",
        "    i, j = row\n",
        "    # Assemble the local stiffness matrix\n",
        "    local_stiffness_matrix = np.array([[2, -1], [-1, 2]])\n",
        "    # Add the local stiffness matrix to the corresponding entries in the global stiffness matrix\n",
        "    global_stiffness_matrix[i-1:i+1, j-1:j+1] += local_stiffness_matrix\n",
        "\n",
        "# Save the global stiffness matrix to a CSV file\n",
        "np.savetxt('global_stiffness_matrix.csv', global_stiffness_matrix, delimiter=',')\n"
      ]
    },
    {
      "cell_type": "code",
      "source": [
        "import csv\n",
        "import numpy as np\n",
        "\n",
        "# Read the CSV file with indices\n",
        "with open('/content/indices.csv', 'r') as f:\n",
        "    reader = csv.reader(f)\n",
        "    next(reader) # skip the header row\n",
        "    indices = [list(map(int, row)) for row in reader]\n",
        "\n",
        "# Initialize the global stiffness matrix with zeros\n",
        "global_stiffness_matrix = np.zeros((10, 10))\n",
        "\n",
        "# Loop through the indices\n",
        "for row in indices:\n",
        "    i, j = row\n",
        "    # Assemble the local stiffness matrix\n",
        "    local_stiffness_matrix = np.array([[2, -1], [-1, 2]])\n",
        "    # Add the local stiffness matrix to the corresponding entries in the global stiffness matrix\n",
        "    global_stiffness_matrix[i-1:i+1, j-1:j+1] += local_stiffness_matrix\n",
        "\n",
        "# Save the global stiffness matrix to a CSV file\n",
        "np.savetxt('global_stiffness_matrix.csv', global_stiffness_matrix, delimiter=',')\n"
      ],
      "metadata": {
        "id": "zAYSikG25owk"
      },
      "execution_count": 2,
      "outputs": []
    },
    {
      "cell_type": "code",
      "source": [
        "import csv\n",
        "import numpy as np\n",
        "from scipy.sparse import csr_matrix\n",
        "import matplotlib.pyplot as plt\n",
        "\n",
        "# Read the CSV file with indices\n",
        "with open('/content/indices.csv', 'r') as f:\n",
        "    reader = csv.reader(f)\n",
        "    next(reader) # skip the header row\n",
        "    indices = [list(map(int, row)) for row in reader]\n",
        "\n",
        "# Initialize the global stiffness matrix with zeros\n",
        "global_stiffness_matrix = np.zeros((10, 10))\n",
        "\n",
        "# Loop through the indices\n",
        "for row in indices:\n",
        "    i, j = row\n",
        "    # Assemble the local stiffness matrix\n",
        "    local_stiffness_matrix = np.array([[2, -1], [-1, 2]])\n",
        "    # Add the local stiffness matrix to the corresponding entries in the global stiffness matrix\n",
        "    global_stiffness_matrix[i-1:i+1, j-1:j+1] += local_stiffness_matrix\n",
        "\n",
        "# Convert the global stiffness matrix to a sparse matrix\n",
        "sparse_global_stiffness_matrix = csr_matrix(global_stiffness_matrix)\n",
        "\n",
        "# Plot the sparse matrix plot of the global stiffness matrix\n",
        "plt.spy(sparse_global_stiffness_matrix, markersize=1)\n",
        "plt.show()\n"
      ],
      "metadata": {
        "colab": {
          "base_uri": "https://localhost:8080/",
          "height": 269
        },
        "id": "KhSibV3t6bMe",
        "outputId": "b8da27e8-5732-4b62-a883-1c69ac4fb664"
      },
      "execution_count": 4,
      "outputs": [
        {
          "output_type": "display_data",
          "data": {
            "text/plain": [
              "<Figure size 432x288 with 1 Axes>"
            ],
            "image/png": "[encoded data removed]"
          },
          "metadata": {
            "needs_background": "light"
          }
        }
      ]
    },
    {
      "cell_type": "code",
      "source": [
        "import csv\n",
        "import numpy as np\n",
        "import matplotlib.pyplot as plt\n",
        "import scipy.sparse as sparse\n",
        "\n",
        "# Read the CSV file with indices\n",
        "with open('/content/3in.csv', 'r') as f:\n",
        "    reader = csv.reader(f)\n",
        "    next(reader) # skip the header row\n",
        "    indices = [list(map(int, row)) for row in reader]\n",
        "\n",
        "# Initialize the global stiffness matrix with zeros\n",
        "global_stiffness_matrix = np.zeros((10, 10))\n",
        "\n",
        "# Loop through the indices\n",
        "for row in indices:\n",
        "    i, j, k = row\n",
        "    # Assemble the local stiffness matrix\n",
        "    local_stiffness_matrix = np.array([[6, -1, -1], [-1, 6, -1], [-1, -1, 6]])\n",
        "    # Add the local stiffness matrix to the corresponding entries in the global stiffness matrix\n",
        "    global_stiffness_matrix[i-1:i+2, j-1:j+2] += local_stiffness_matrix[:, [0,1]]\n",
        "    global_stiffness_matrix[i-1:i+2, k-1:k+2] += local_stiffness_matrix[:, [0,2]]\n",
        "\n",
        "# Plot the sparse matrix of the global stiffness matrix\n",
        "plt.spy(sparse.csr_matrix(global_stiffness_matrix), marker='.', markersize=1)\n",
        "plt.show()\n"
      ],
      "metadata": {
        "colab": {
          "base_uri": "https://localhost:8080/",
          "height": 357
        },
        "id": "bmmsOW7L7R47",
        "outputId": "12033942-03e3-449c-cf08-d6e8c8a4c86b"
      },
      "execution_count": 5,
      "outputs": [
        {
          "output_type": "error",
          "ename": "ValueError",
          "evalue": "ignored",
          "traceback": [
            "\u001b[0;31m---------------------------------------------------------------------------\u001b[0m",
            "\u001b[0;31mValueError\u001b[0m                                Traceback (most recent call last)",
            "\u001b[0;32m<ipython-input-5-eb08cd685b69>\u001b[0m in \u001b[0;36m<module>\u001b[0;34m\u001b[0m\n\u001b[1;32m     19\u001b[0m     \u001b[0mlocal_stiffness_matrix\u001b[0m \u001b[0;34m=\u001b[0m \u001b[0mnp\u001b[0m\u001b[0;34m.\u001b[0m\u001b[0marray\u001b[0m\u001b[0;34m(\u001b[0m\u001b[0;34m[\u001b[0m\u001b[0;34m[\u001b[0m\u001b[0;36m6\u001b[0m\u001b[0;34m,\u001b[0m \u001b[0;34m-\u001b[0m\u001b[0;36m1\u001b[0m\u001b[0;34m,\u001b[0m \u001b[0;34m-\u001b[0m\u001b[0;36m1\u001b[0m\u001b[0;34m]\u001b[0m\u001b[0;34m,\u001b[0m \u001b[0;34m[\u001b[0m\u001b[0;34m-\u001b[0m\u001b[0;36m1\u001b[0m\u001b[0;34m,\u001b[0m \u001b[0;36m6\u001b[0m\u001b[0;34m,\u001b[0m \u001b[0;34m-\u001b[0m\u001b[0;36m1\u001b[0m\u001b[0;34m]\u001b[0m\u001b[0;34m,\u001b[0m \u001b[0;34m[\u001b[0m\u001b[0;34m-\u001b[0m\u001b[0;36m1\u001b[0m\u001b[0;34m,\u001b[0m \u001b[0;34m-\u001b[0m\u001b[0;36m1\u001b[0m\u001b[0;34m,\u001b[0m \u001b[0;36m6\u001b[0m\u001b[0;34m]\u001b[0m\u001b[0;34m]\u001b[0m\u001b[0;34m)\u001b[0m\u001b[0;34m\u001b[0m\u001b[0;34m\u001b[0m\u001b[0m\n\u001b[1;32m     20\u001b[0m     \u001b[0;31m# Add the local stiffness matrix to the corresponding entries in the global stiffness matrix\u001b[0m\u001b[0;34m\u001b[0m\u001b[0;34m\u001b[0m\u001b[0;34m\u001b[0m\u001b[0m\n\u001b[0;32m---> 21\u001b[0;31m     \u001b[0mglobal_stiffness_matrix\u001b[0m\u001b[0;34m[\u001b[0m\u001b[0mi\u001b[0m\u001b[0;34m-\u001b[0m\u001b[0;36m1\u001b[0m\u001b[0;34m:\u001b[0m\u001b[0mi\u001b[0m\u001b[0;34m+\u001b[0m\u001b[0;36m2\u001b[0m\u001b[0;34m,\u001b[0m \u001b[0mj\u001b[0m\u001b[0;34m-\u001b[0m\u001b[0;36m1\u001b[0m\u001b[0;34m:\u001b[0m\u001b[0mj\u001b[0m\u001b[0;34m+\u001b[0m\u001b[0;36m2\u001b[0m\u001b[0;34m]\u001b[0m \u001b[0;34m+=\u001b[0m \u001b[0mlocal_stiffness_matrix\u001b[0m\u001b[0;34m[\u001b[0m\u001b[0;34m:\u001b[0m\u001b[0;34m,\u001b[0m \u001b[0;34m[\u001b[0m\u001b[0;36m0\u001b[0m\u001b[0;34m,\u001b[0m\u001b[0;36m1\u001b[0m\u001b[0;34m]\u001b[0m\u001b[0;34m]\u001b[0m\u001b[0;34m\u001b[0m\u001b[0;34m\u001b[0m\u001b[0m\n\u001b[0m\u001b[1;32m     22\u001b[0m     \u001b[0mglobal_stiffness_matrix\u001b[0m\u001b[0;34m[\u001b[0m\u001b[0mi\u001b[0m\u001b[0;34m-\u001b[0m\u001b[0;36m1\u001b[0m\u001b[0;34m:\u001b[0m\u001b[0mi\u001b[0m\u001b[0;34m+\u001b[0m\u001b[0;36m2\u001b[0m\u001b[0;34m,\u001b[0m \u001b[0mk\u001b[0m\u001b[0;34m-\u001b[0m\u001b[0;36m1\u001b[0m\u001b[0;34m:\u001b[0m\u001b[0mk\u001b[0m\u001b[0;34m+\u001b[0m\u001b[0;36m2\u001b[0m\u001b[0;34m]\u001b[0m \u001b[0;34m+=\u001b[0m \u001b[0mlocal_stiffness_matrix\u001b[0m\u001b[0;34m[\u001b[0m\u001b[0;34m:\u001b[0m\u001b[0;34m,\u001b[0m \u001b[0;34m[\u001b[0m\u001b[0;36m0\u001b[0m\u001b[0;34m,\u001b[0m\u001b[0;36m2\u001b[0m\u001b[0;34m]\u001b[0m\u001b[0;34m]\u001b[0m\u001b[0;34m\u001b[0m\u001b[0;34m\u001b[0m\u001b[0m\n\u001b[1;32m     23\u001b[0m \u001b[0;34m\u001b[0m\u001b[0m\n",
            "\u001b[0;31mValueError\u001b[0m: operands could not be broadcast together with shapes (3,3) (3,2) (3,3) "
          ]
        }
      ]
    },
    {
      "cell_type": "code",
      "source": [
        "import csv\n",
        "import numpy as np\n",
        "\n",
        "# Read the CSV file with indices\n",
        "with open('/content/3in.csv', 'r') as f:\n",
        "    reader = csv.reader(f)\n",
        "    next(reader) # skip the header row\n",
        "    indices = [list(map(int, row)) for row in reader]\n",
        "\n",
        "# Initialize the global stiffness matrix with zeros\n",
        "global_stiffness_matrix = np.zeros((10, 10))\n",
        "\n",
        "# Loop through the indices\n",
        "for row in indices:\n",
        "    i, j, k = row\n",
        "    # Assemble the local stiffness matrix\n",
        "    local_stiffness_matrix = np.array([[2, -1, 0], [-1, 2, -1], [0, -1, 2]])\n",
        "    # Add the local stiffness matrix to the corresponding entries in the global stiffness matrix\n",
        "\n",
        "global_stiffness_matrix[i-1:i+2, j-1:j+2] += local_stiffness_matrix\n",
        "\n",
        "#Save the global stiffness matrix to a CSV file\n",
        "np.savetxt('global_stiffness_matrix.csv', global_stiffness_matrix, delimiter=',')\n",
        "sparse_matrix = sparse.csr_matrix(global_stiffness_matrix)\n",
        "plt.spy(sparse_matrix, markersize=2)\n",
        "plt.show()\n"
      ],
      "metadata": {
        "colab": {
          "base_uri": "https://localhost:8080/",
          "height": 269
        },
        "id": "7pUQtcny72Gs",
        "outputId": "dcc91240-ad9c-4651-cde3-87fc389b945e"
      },
      "execution_count": 9,
      "outputs": [
        {
          "output_type": "display_data",
          "data": {
            "text/plain": [
              "<Figure size 432x288 with 1 Axes>"
            ],
            "image/png": "[encoded data removed]"
          },
          "metadata": {
            "needs_background": "light"
          }
        }
      ]
    },
    {
      "cell_type": "code",
      "source": [
        "import csv\n",
        "import numpy as np\n",
        "import matplotlib.pyplot as plt\n",
        "import scipy.sparse as sp\n",
        "\n",
        "# Read the CSV file with indices\n",
        "with open('/content/4ind4randstifness.csv', 'r') as f:\n",
        "    reader = csv.reader(f)\n",
        "    next(reader) # skip the header row\n",
        "    indices = [list(map(int, row)) for row in reader]\n",
        "\n",
        "# Initialize the global stiffness matrix with zeros\n",
        "global_stiffness_matrix = np.zeros((100, 100))\n",
        "\n",
        "# Define the 4x4 local stiffness matrix\n",
        "local_stiffness_matrix = np.array([[4, -1, 0, -1], [-1, 4, -1, 0], [0, -1, 4, -1], [-1, 0, -1, 4]])\n",
        "\n",
        "# Loop through the indices\n",
        "for row in indices:\n",
        "    i, j, k, l = row\n",
        "    # Assemble the local stiffness matrix into the global stiffness matrix\n",
        "    global_stiffness_matrix[i-1:i+3, j-1:j+3] += local_stiffness_matrix\n",
        "\n",
        "# Plot the sparse plot of the global stiffness matrix\n",
        "plt.spy(sp.csc_matrix(global_stiffness_matrix))\n",
        "plt.show()\n"
      ],
      "metadata": {
        "colab": {
          "base_uri": "https://localhost:8080/",
          "height": 269
        },
        "id": "Bk1s2cCp9-Vw",
        "outputId": "e64d8ca1-28ce-4e79-dcbb-d0010ba42056"
      },
      "execution_count": 11,
      "outputs": [
        {
          "output_type": "display_data",
          "data": {
            "text/plain": [
              "<Figure size 432x288 with 1 Axes>"
            ],
            "image/png": "[encoded data removed]"
          },
          "metadata": {
            "needs_background": "light"
          }
        }
      ]
    }
  ]
}