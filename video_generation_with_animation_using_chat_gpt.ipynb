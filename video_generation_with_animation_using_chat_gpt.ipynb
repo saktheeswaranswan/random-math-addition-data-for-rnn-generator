{
  "nbformat": 4,
  "nbformat_minor": 0,
  "metadata": {
    "colab": {
      "provenance": [],
      "authorship_tag": "ABX9TyOkeKjnyaaXWjLaQ4IFplBj",
      "include_colab_link": true
    },
    "kernelspec": {
      "name": "python3",
      "display_name": "Python 3"
    },
    "language_info": {
      "name": "python"
    }
  },
  "cells": [
    {
      "cell_type": "markdown",
      "metadata": {
        "id": "view-in-github",
        "colab_type": "text"
      },
      "source": [
        "<a href=\"https://colab.research.google.com/github/saktheeswaranswan/random-math-addition-data-for-rnn-generator/blob/main/video_generation_with_animation_using_chat_gpt.ipynb\" target=\"_parent\"><img src=\"https://colab.research.google.com/assets/colab-badge.svg\" alt=\"Open In Colab\"/></a>"
      ]
    },
    {
      "cell_type": "code",
      "execution_count": 11,
      "metadata": {
        "id": "47VigLYY1rhT"
      },
      "outputs": [],
      "source": [
        "import cv2\n",
        "import numpy as np\n",
        "import random\n",
        "\n",
        "# Define the text to be displayed on the slides\n",
        "text_list = [\"Text Slide 1\", \"Text Slide 2\", \"Text Slide 3\"]\n",
        "\n",
        "# Create an instance of VideoWriter class\n",
        "fourcc = cv2.VideoWriter_fourcc(*'mp4v')\n",
        "video_writer = cv2.VideoWriter('video.mp4', fourcc, 30, (600, 400), True)\n",
        "\n",
        "# Loop through the text slides\n",
        "for i in range(len(text_list)):\n",
        "    # Loop through the transition frames\n",
        "    for j in range(300):  # Increase the number of frames to slow down the animation speed\n",
        "        # Create a black image with the same size as the text\n",
        "        img = np.zeros((400, 600, 3), dtype=np.uint8)\n",
        "\n",
        "        # Write the text on the black image\n",
        "        text_size = cv2.getTextSize(text_list[i], cv2.FONT_HERSHEY_SIMPLEX, 1, 2)[0]\n",
        "        text_x = (600 - text_size[0]) // 2\n",
        "        text_y = (400 + text_size[1]) // 2\n",
        "\n",
        "        # Animate the text by gradually moving it from the bottom to the center of the screen\n",
        "        text_y -= int(j / 300 * 400)\n",
        "        cv2.putText(img, text_list[i], (text_x, text_y), cv2.FONT_HERSHEY_SIMPLEX, 1, (255, 255, 255), 2, cv2.LINE_AA, False)\n",
        "\n",
        "        # Add some random noise to the text position to make the animation look more natural\n",
        "        text_x += random.randint(-1, 1)\n",
        "        text_y += random.randint(-1, 1)\n",
        "\n",
        "        # Write the image to the video file\n",
        "        video_writer.write(img)\n",
        "\n",
        "# Release the video writer\n",
        "video_writer.release()\n"
      ]
    }
  ]
}