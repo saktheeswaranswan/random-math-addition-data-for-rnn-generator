{
  "nbformat": 4,
  "nbformat_minor": 0,
  "metadata": {
    "colab": {
      "provenance": [],
      "authorship_tag": "ABX9TyN5dO4RtP1wCTbAxjGPFipj",
      "include_colab_link": true
    },
    "kernelspec": {
      "name": "python3",
      "display_name": "Python 3"
    },
    "language_info": {
      "name": "python"
    },
    "accelerator": "GPU",
    "gpuClass": "standard"
  },
  "cells": [
    {
      "cell_type": "markdown",
      "metadata": {
        "id": "view-in-github",
        "colab_type": "text"
      },
      "source": [
        "<a href=\"https://colab.research.google.com/github/saktheeswaranswan/random-math-addition-data-for-rnn-generator/blob/main/mat_video_generatio_3.ipynb\" target=\"_parent\"><img src=\"https://colab.research.google.com/assets/colab-badge.svg\" alt=\"Open In Colab\"/></a>"
      ]
    },
    {
      "cell_type": "code",
      "execution_count": 4,
      "metadata": {
        "colab": {
          "base_uri": "https://localhost:8080/",
          "height": 248
        },
        "id": "Vyk1KRo5MO8l",
        "outputId": "d966ce89-eafe-4442-bdae-5bb2d8513bc6"
      },
      "outputs": [
        {
          "output_type": "display_data",
          "data": {
            "text/plain": [
              "<Figure size 432x288 with 1 Axes>"
            ],
            "image/png": "[encoded data removed]"
          },
          "metadata": {
            "needs_background": "light"
          }
        }
      ],
      "source": [
        "import matplotlib.pyplot as plt\n",
        "import matplotlib.animation as animation\n",
        "import numpy as np\n",
        "\n",
        "# text to be displayed\n",
        "text = [\"Text 1\", \"Text 2\", \"Text 3\", \"Text 4\", \"Text 5\"]\n",
        "\n",
        "fig, ax = plt.subplots()\n",
        "\n",
        "# hide axis\n",
        "ax.axis('off')\n",
        "\n",
        "# set font\n",
        "plt.rcParams.update({'font.size': 30})\n",
        "\n",
        "def update(frame):\n",
        "    ax.clear()\n",
        "    ax.axis('off')\n",
        "    ax.text(0.5, 0.5, text[frame], fontsize=30, ha='center', va='center', color='blue')\n",
        "\n",
        "# animation interval of 10 seconds between transitions\n",
        "ani = animation.FuncAnimation(fig, update, frames=len(text), interval=10_000)\n",
        "\n",
        "# save animation as mp4 video file\n",
        "Writer = animation.writers['ffmpeg']\n",
        "writer = Writer(fps=1, bitrate=1800)\n",
        "ani.save('animatghed_text.mp4', writer=writer)\n",
        "\n",
        "plt.show()\n"
      ]
    },
    {
      "cell_type": "code",
      "source": [],
      "metadata": {
        "id": "IcSSqjv1PJ55"
      },
      "execution_count": null,
      "outputs": []
    }
  ]
}