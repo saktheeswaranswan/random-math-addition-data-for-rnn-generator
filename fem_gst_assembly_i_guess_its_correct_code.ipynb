{
  "nbformat": 4,
  "nbformat_minor": 0,
  "metadata": {
    "colab": {
      "provenance": [],
      "authorship_tag": "ABX9TyMzIUyXhicMQ8VxHnF3wfnC",
      "include_colab_link": true
    },
    "kernelspec": {
      "name": "python3",
      "display_name": "Python 3"
    },
    "language_info": {
      "name": "python"
    }
  },
  "cells": [
    {
      "cell_type": "markdown",
      "metadata": {
        "id": "view-in-github",
        "colab_type": "text"
      },
      "source": [
        "<a href=\"https://colab.research.google.com/github/saktheeswaranswan/random-math-addition-data-for-rnn-generator/blob/main/fem_gst_assembly_i_guess_its_correct_code.ipynb\" target=\"_parent\"><img src=\"https://colab.research.google.com/assets/colab-badge.svg\" alt=\"Open In Colab\"/></a>"
      ]
    },
    {
      "cell_type": "code",
      "source": [
        "import numpy as np\n",
        "import pandas as pd\n",
        "\n",
        "def generate_indices_csv(n, num_rows):\n",
        "    indices = np.random.randint(1, n+1, size=(num_rows, n))\n",
        "    indices_df = pd.DataFrame(indices)\n",
        "    indices_df.to_csv('indices.csv', index=False, header=False)\n",
        "\n",
        "n = 4\n",
        "num_rows = 14\n",
        "generate_indices_csv(n, num_rows)\n"
      ],
      "metadata": {
        "id": "H4Khpes61lO0"
      },
      "execution_count": 52,
      "outputs": []
    },
    {
      "cell_type": "code",
      "source": [
        "import numpy as np\n",
        "import pandas as pd\n",
        "\n",
        "def assemble_global_stiffness_matrix(n, element_stiffness_matrices, indices_df):\n",
        "    global_stiffness_matrix = np.zeros((n, n))\n",
        "    for i, row in indices_df.iterrows():\n",
        "        index = row.tolist()\n",
        "        for row in range(element_stiffness_matrices[i].shape[0]):\n",
        "            for col in range(element_stiffness_matrices[i].shape[1]):\n",
        "                global_stiffness_matrix[index[row]-1, index[col]-1] += element_stiffness_matrices[i][row, col]\n",
        "    return global_stiffness_matrix\n",
        "\n",
        "def generate_indices_csv(n, num_rows):\n",
        "    indices = np.random.randint(1, n+1, size=(num_rows, n))\n",
        "    indices_df = pd.DataFrame(indices)\n",
        "    indices_df.to_csv('indices.csv', index=False, header=False)\n",
        "\n",
        "def generate_element_stiffness_matrices(n):\n",
        "    element_stiffness_matrices = [np.random.randint(1, 10, size=(n, n)) for i in range(n)]\n",
        "    return element_stiffness_matrices\n",
        "\n",
        "global_stiffness_matrix_order = 10\n",
        "num_rows = 4\n",
        "generate_indices_csv(global_stiffness_matrix_order, num_rows)\n",
        "indices_df = pd.read_csv('indices.csv')\n",
        "element_stiffness_matrices = generate_element_stiffness_matrices(global_stiffness_matrix_order)\n",
        "global_stiffness_matrix = assemble_global_stiffness_matrix(global_stiffness_matrix_order, element_stiffness_matrices, indices_df)\n",
        "print(global_stiffness_matrix)\n"
      ],
      "metadata": {
        "colab": {
          "base_uri": "https://localhost:8080/"
        },
        "id": "GucmErkf3HT4",
        "outputId": "07344bb3-06f5-4938-e1d2-2a911962cbd7"
      },
      "execution_count": 54,
      "outputs": [
        {
          "output_type": "stream",
          "name": "stdout",
          "text": [
            "[[ 21.  20.  29.  14.  59.   6.   6.   7.  16.   7.]\n",
            " [ 27.  10.  25.   8.  31.   9.   0.   0.   9.   4.]\n",
            " [ 32.  35.  46.  13.  35.   7.   0.   0.  14.   7.]\n",
            " [ 16.   8.   5.   9.  24.   0.   2.   4.   3.   4.]\n",
            " [ 67.  49.  62.  24. 143.   9.  20.  17.  40.  39.]\n",
            " [  8.  11.  14.   0.  11.   9.   0.   0.   6.   0.]\n",
            " [  8.   0.   0.   3.  22.   0.   8.   8.   4.   8.]\n",
            " [  9.   0.   0.   9.  11.   0.   6.   6.   8.   5.]\n",
            " [ 16.  19.  14.   9.  40.  14.   6.   2.  28.   5.]\n",
            " [ 16.   2.   4.  14.  29.   0.   8.   3.   3.  14.]]\n"
          ]
        }
      ]
    },
    {
      "cell_type": "code",
      "source": [
        "import numpy as np\n",
        "import pandas as pd\n",
        "\n",
        "def assemble_global_stiffness_matrix(n, element_stiffness_matrices, indices_df):\n",
        "    global_stiffness_matrix = np.zeros((n, n))\n",
        "    for i, row in indices_df.iterrows():\n",
        "        index = row.tolist()\n",
        "        for row in range(element_stiffness_matrices[i].shape[0]):\n",
        "            for col in range(element_stiffness_matrices[i].shape[1]):\n",
        "                global_stiffness_matrix[index[row]-1, index[col]-1] += element_stiffness_matrices[i][row, col]\n",
        "    return global_stiffness_matrix\n",
        "\n",
        "n = 10\n",
        "element_stiffness_matrices = [np.array([[1, 2, 3, 4], [2, 3, 4, 1], [3, 4, 1, 2], [4, 1, 2, 3]]),\n",
        "                             np.array([[5, 6, 7, 8], [6, 7, 8, 5], [7, 8, 5, 6], [8, 5, 6, 7]]),\n",
        "                             np.array([[9, 10, 11, 12], [10, 11, 12, 9], [11, 12, 9, 10], [12, 9, 10, 11]]),\n",
        "                             np.array([[13, 14, 15, 16], [14, 15, 16, 13], [15, 16, 13, 14], [16, 13, 14, 15]])]\n",
        "indices_df = pd.read_csv('indices.csv')\n",
        "global_stiffness_matrix = assemble_global_stiffness_matrix(n, element_stiffness_matrices, indices_df)\n",
        "print(global_stiffness_matrix)\n"
      ],
      "metadata": {
        "colab": {
          "base_uri": "https://localhost:8080/"
        },
        "id": "qcEdnbZ84iGP",
        "outputId": "f9204a5d-8e9e-4f12-804e-b607b01e8679"
      },
      "execution_count": 55,
      "outputs": [
        {
          "output_type": "stream",
          "name": "stdout",
          "text": [
            "[[10.  5. 14.  0.  3.  0.  4.  0.  0.  0.]\n",
            " [ 5.  7. 14.  0.  0.  0.  0.  0.  0.  0.]\n",
            " [14. 14. 35.  0. 10.  0.  0.  0. 21.  0.]\n",
            " [ 0.  0.  0.  0.  0.  0.  0.  0.  0.  0.]\n",
            " [ 3.  0. 10.  0. 21.  0.  5.  0. 23.  0.]\n",
            " [ 0.  0.  0.  0.  0.  0.  0.  0.  0.  0.]\n",
            " [ 4.  0.  0.  0.  5.  0.  1.  0.  0.  0.]\n",
            " [ 0.  0.  0.  0.  0.  0.  0.  0.  0.  0.]\n",
            " [ 0.  0. 21.  0. 23.  0.  0.  0. 40.  0.]\n",
            " [ 0.  0.  0.  0.  0.  0.  0.  0.  0.  0.]]\n"
          ]
        }
      ]
    },
    {
      "cell_type": "code",
      "source": [
        "import numpy as np\n",
        "import pandas as pd\n",
        "\n",
        "def generate_indices_csv(filename, n, num_element_stiffness_matrices):\n",
        "    indices = np.zeros((num_element_stiffness_matrices, 4), dtype=int)\n",
        "    for i in range(num_element_stiffness_matrices):\n",
        "        indices[i, :] = np.random.randint(1, n+1, 4)\n",
        "    df = pd.DataFrame(indices, columns=['i1', 'i2', 'i3', 'i4'])\n",
        "    df.to_csv(filename, index=False)\n",
        "\n",
        "def assemble_global_stiffness_matrix(n, element_stiffness_matrices, indices_df):\n",
        "    global_stiffness_matrix = np.zeros((n, n))\n",
        "    for i, row in indices_df.iterrows():\n",
        "        index = row.tolist()\n",
        "        for row in range(element_stiffness_matrices[i].shape[0]):\n",
        "            for col in range(element_stiffness_matrices[i].shape[1]):\n",
        "                if index[row] <= n and index[col] <= n:\n",
        "                    global_stiffness_matrix[index[row]-1, index[col]-1] += element_stiffness_matrices[i][row, col]\n",
        "    return global_stiffness_matrix\n",
        "\n",
        "n = 14\n",
        "num_element_stiffness_matrices = 4\n",
        "element_stiffness_matrices = [np.array([[1, 2, 3, 4], [2, 3, 4, 1], [3, 4, 1, 2], [4, 1, 2, 3]]),\n",
        "                             np.array([[5, 6, 7, 8], [6, 7, 8, 5], [7, 8, 5, 6], [8, 5, 6, 7]]),np.array([[5, 6, 7, 8], [6, 7, 8, 5], [7, 8, 5, 6], [8, 5, 6, 7]]),np.array([[5, 6, 7, 8], [6, 7, 8, 5], [7, 8, 5, 6], [8, 5, 6, 7]])]\n",
        "filename = 'indices.csv'\n",
        "generate_indices_csv(filename, n, num_element_stiffness_matrices)\n",
        "indices_df = pd.read_csv(filename)\n",
        "global_stiffness_matrix = assemble_global_stiffness_matrix(n, element_stiffness_matrices, indices_df)\n",
        "print(global_stiffness_matrix)\n",
        "# Plot the global stiffness matrix as a sparse plot array\n",
        "plt.spy(global_stiffness_matrix, markersize=15, color='black')\n",
        "plt.show()\n",
        "# Save the global stiffness matrix in a text file\n",
        "np.savetxt(\"global_stiffness_matrix.txt\", global_stiffness_matrix, fmt='%d')\n"
      ],
      "metadata": {
        "colab": {
          "base_uri": "https://localhost:8080/",
          "height": 512
        },
        "id": "ZFAV_Ynl6gLO",
        "outputId": "a0746973-9e69-44f5-cdaf-6001f9336331"
      },
      "execution_count": 86,
      "outputs": [
        {
          "output_type": "stream",
          "name": "stdout",
          "text": [
            "[[ 1.  4.  0.  0.  0.  0.  0.  0.  0.  0.  3.  2.  0.  0.]\n",
            " [ 4.  3.  0.  0.  0.  0.  0.  0.  0.  0.  2.  1.  0.  0.]\n",
            " [ 0.  0. 12.  0.  8.  0.  0.  0.  0.  6.  8. 12.  0.  6.]\n",
            " [ 0.  0.  0.  0.  0.  0.  0.  0.  0.  0.  0.  0.  0.  0.]\n",
            " [ 0.  0.  8.  0.  5.  0.  0.  0.  0.  7.  0.  6.  0.  0.]\n",
            " [ 0.  0.  0.  0.  0.  5.  7.  0.  0.  6.  0.  8.  0.  0.]\n",
            " [ 0.  0.  0.  0.  0.  7.  5.  0.  0.  8.  0.  6.  0.  0.]\n",
            " [ 0.  0.  0.  0.  0.  0.  0.  0.  0.  0.  0.  0.  0.  0.]\n",
            " [ 0.  0.  0.  0.  0.  0.  0.  0.  0.  0.  0.  0.  0.  0.]\n",
            " [ 0.  0.  6.  0.  7.  6.  8.  0.  0. 12.  0. 13.  0.  0.]\n",
            " [ 3.  2.  8.  0.  0.  0.  0.  0.  0.  0.  8. 10.  0.  5.]\n",
            " [ 2.  1. 12.  0.  6.  8.  6.  0.  0. 13. 10. 22.  0.  8.]\n",
            " [ 0.  0.  0.  0.  0.  0.  0.  0.  0.  0.  0.  0.  0.  0.]\n",
            " [ 0.  0.  6.  0.  0.  0.  0.  0.  0.  0.  5.  8.  0.  7.]]\n"
          ]
        },
        {
          "output_type": "display_data",
          "data": {
            "text/plain": [
              "<Figure size 432x288 with 1 Axes>"
            ],
            "image/png": "[encoded data removed]"
          },
          "metadata": {
            "needs_background": "light"
          }
        }
      ]
    },
    {
      "cell_type": "code",
      "source": [
        "import numpy as np\n",
        "import pandas as pd\n",
        "\n",
        "def generate_indices_csv(filename, n, num_element_stiffness_matrices):\n",
        "    indices = np.zeros((num_element_stiffness_matrices, 5), dtype=int)\n",
        "    for i in range(num_element_stiffness_matrices):\n",
        "        indices[i, :] = np.random.randint(1, n+1, 5)\n",
        "    df = pd.DataFrame(indices, columns=['i1', 'i2', 'i3', 'i4', 'i5'])\n",
        "    df.to_csv(filename, index=False)\n",
        "\n",
        "def assemble_global_stiffness_matrix(n, element_stiffness_matrices, indices_df):\n",
        "    global_stiffness_matrix = np.zeros((n, n))\n",
        "    for i, row in indices_df.iterrows():\n",
        "        index = row.tolist()\n",
        "        for row in range(element_stiffness_matrices[i].shape[0]):\n",
        "            for col in range(element_stiffness_matrices[i].shape[1]):\n",
        "                if index[row] <= n and index[col] <= n:\n",
        "                    global_stiffness_matrix[index[row]-1, index[col]-1] += element_stiffness_matrices[i][row, col]\n",
        "    return global_stiffness_matrix\n",
        "\n",
        "n = 140\n",
        "num_element_stiffness_matrices = 1\n",
        "element_stiffness_matrices = [np.array([[1, 2, 3, 4, 5], [2, 3, 4, 5, 1], [3, 4, 5, 1, 2], [4, 5, 1, 2, 3], [5, 1, 2, 3, 4]]),\n",
        "                             np.array([[5, 6, 7, 8, 9], [6, 7, 8, 9, 5], [7, 8, 9, 5, 6], [8, 9, 5, 6, 7], [9, 5, 6, 7, 8]])]\n",
        "filename = 'indices.csv'\n",
        "generate_indices_csv(filename, n, num_element_stiffness_matrices)\n",
        "indices_df = pd.read_csv(filename)\n",
        "global_stiffness_matrix = assemble_global_stiffness_matrix(n, element_stiffness_matrices, indices_df)\n",
        "print(global_stiffness_matrix)\n",
        "# Plot the global stiffness matrix as a sparse plot array\n",
        "plt.spy(global_stiffness_matrix, markersize=15, color='black')\n",
        "plt.show()\n"
      ],
      "metadata": {
        "colab": {
          "base_uri": "https://localhost:8080/",
          "height": 391
        },
        "id": "KFHCY_vz9r4Q",
        "outputId": "5837b34c-fcce-467b-87cf-09ebb40d9814"
      },
      "execution_count": 78,
      "outputs": [
        {
          "output_type": "stream",
          "name": "stdout",
          "text": [
            "[[0. 0. 0. ... 0. 0. 0.]\n",
            " [0. 0. 0. ... 0. 0. 0.]\n",
            " [0. 0. 0. ... 0. 0. 0.]\n",
            " ...\n",
            " [0. 0. 0. ... 0. 0. 0.]\n",
            " [0. 0. 0. ... 0. 0. 0.]\n",
            " [0. 0. 0. ... 0. 0. 0.]]\n"
          ]
        },
        {
          "output_type": "display_data",
          "data": {
            "text/plain": [
              "<Figure size 432x288 with 1 Axes>"
            ],
            "image/png": "[encoded data removed]"
          },
          "metadata": {
            "needs_background": "light"
          }
        }
      ]
    },
    {
      "cell_type": "code",
      "source": [
        "import numpy as np\n",
        "import pandas as pd\n",
        "\n",
        "def generate_indices_csv(filename, n, num_element_stiffness_matrices):\n",
        "    indices = np.zeros((num_element_stiffness_matrices, 2), dtype=int)\n",
        "    for i in range(num_element_stiffness_matrices):\n",
        "        indices[i, :] = np.random.randint(1, n+1, 2)\n",
        "    df = pd.DataFrame(indices, columns=['i1', 'i2'])\n",
        "    df.to_csv(filename, index=False)\n",
        "\n",
        "def assemble_global_stiffness_matrix(n, element_stiffness_matrices, indices_df):\n",
        "    global_stiffness_matrix = np.zeros((n, n))\n",
        "    for i, row in indices_df.iterrows():\n",
        "        index = row.tolist()\n",
        "        for row in range(element_stiffness_matrices[i].shape[0]):\n",
        "            for col in range(element_stiffness_matrices[i].shape[1]):\n",
        "                if index[row] <= n and index[col] <= n:\n",
        "                    global_stiffness_matrix[index[row]-1, index[col]-1] += element_stiffness_matrices[i][row, col]\n",
        "    return global_stiffness_matrix\n",
        "\n",
        "n = 2\n",
        "num_element_stiffness_matrices = 1\n",
        "element_stiffness_matrices = [np.array([[1, 2], [2, 1]])]\n",
        "filename = 'indices.csv'\n",
        "generate_indices_csv(filename, n, num_element_stiffness_matrices)\n",
        "indices_df = pd.read_csv(filename)\n",
        "global_stiffness_matrix = assemble_global_stiffness_matrix(n, element_stiffness_matrices, indices_df)\n",
        "print(global_stiffness_matrix)\n",
        "# Plot the global stiffness matrix as a sparse plot array\n",
        "plt.spy(global_stiffness_matrix, markersize=15, color='black')\n",
        "plt.show()\n"
      ],
      "metadata": {
        "colab": {
          "base_uri": "https://localhost:8080/",
          "height": 304
        },
        "id": "CK_9sxFN-HA1",
        "outputId": "6b3ec481-458d-4b88-bdb5-de24cda151dc"
      },
      "execution_count": 85,
      "outputs": [
        {
          "output_type": "stream",
          "name": "stdout",
          "text": [
            "[[6. 0.]\n",
            " [0. 0.]]\n"
          ]
        },
        {
          "output_type": "display_data",
          "data": {
            "text/plain": [
              "<Figure size 432x288 with 1 Axes>"
            ],
            "image/png": "[encoded data removed]"
          },
          "metadata": {
            "needs_background": "light"
          }
        }
      ]
    },
    {
      "cell_type": "code",
      "source": [
        "import numpy as np\n",
        "import pandas as pd\n",
        "\n",
        "def generate_indices_csv(filename, n, num_element_stiffness_matrices):\n",
        "    indices = np.zeros((num_element_stiffness_matrices, 6), dtype=int)\n",
        "    for i in range(num_element_stiffness_matrices):\n",
        "        indices[i, :] = np.random.randint(1, n+1, 6)\n",
        "    df = pd.DataFrame(indices, columns=['i1', 'i2', 'i3', 'i4', 'i5','i6'])\n",
        "    df.to_csv(filename, index=False)\n",
        "\n",
        "def assemble_global_stiffness_matrix(n, element_stiffness_matrices, indices_df):\n",
        "    global_stiffness_matrix = np.zeros((n, n))\n",
        "    for i, row in indices_df.iterrows():\n",
        "        index = row.tolist()\n",
        "        for row in range(element_stiffness_matrices[i].shape[0]):\n",
        "            for col in range(element_stiffness_matrices[i].shape[1]):\n",
        "                if index[row] <= n and index[col] <= n:\n",
        "                    global_stiffness_matrix[index[row]-1, index[col]-1] += element_stiffness_matrices[i][row, col]\n",
        "    return global_stiffness_matrix\n",
        "\n",
        "n = 14\n",
        "num_element_stiffness_matrices = 1\n",
        "element_stiffness_matrices = [np.array([[1, 2, 3, 4, 5], [2, 3, 4, 5, 1], [3, 4, 5, 1, 2], [4, 5, 1, 2, 3], [5, 1, 2, 3, 4],[5, 1, 2, 3, 4]])]\n",
        "filename = 'indices.csv'\n",
        "generate_indices_csv(filename, n, num_element_stiffness_matrices)\n",
        "indices_df = pd.read_csv(filename)\n",
        "global_stiffness_matrix = assemble_global_stiffness_matrix(n, element_stiffness_matrices, indices_df)\n",
        "print(global_stiffness_matrix)\n"
      ],
      "metadata": {
        "colab": {
          "base_uri": "https://localhost:8080/"
        },
        "id": "KDCRya9vAaYf",
        "outputId": "1deb5e41-8de1-4477-89d2-b5615890ccde"
      },
      "execution_count": 81,
      "outputs": [
        {
          "output_type": "stream",
          "name": "stdout",
          "text": [
            "[[0. 0. 0. 0. 0. 0. 0. 0. 0. 0. 0. 0. 0. 0.]\n",
            " [0. 0. 0. 0. 5. 0. 0. 0. 1. 4. 0. 5. 0. 0.]\n",
            " [0. 0. 0. 0. 0. 0. 0. 0. 0. 0. 0. 0. 0. 0.]\n",
            " [0. 0. 0. 0. 0. 0. 0. 0. 0. 0. 0. 0. 0. 0.]\n",
            " [0. 0. 0. 0. 9. 0. 0. 0. 9. 5. 0. 7. 0. 0.]\n",
            " [0. 0. 0. 0. 0. 0. 0. 0. 0. 0. 0. 0. 0. 0.]\n",
            " [0. 0. 0. 0. 0. 0. 0. 0. 0. 0. 0. 0. 0. 0.]\n",
            " [0. 0. 0. 0. 0. 0. 0. 0. 0. 0. 0. 0. 0. 0.]\n",
            " [0. 0. 0. 0. 9. 0. 0. 0. 3. 1. 0. 2. 0. 0.]\n",
            " [0. 0. 0. 0. 5. 0. 0. 0. 1. 4. 0. 5. 0. 0.]\n",
            " [0. 0. 0. 0. 0. 0. 0. 0. 0. 0. 0. 0. 0. 0.]\n",
            " [0. 0. 0. 0. 7. 0. 0. 0. 2. 5. 0. 1. 0. 0.]\n",
            " [0. 0. 0. 0. 0. 0. 0. 0. 0. 0. 0. 0. 0. 0.]\n",
            " [0. 0. 0. 0. 0. 0. 0. 0. 0. 0. 0. 0. 0. 0.]]\n"
          ]
        }
      ]
    }
  ]
}