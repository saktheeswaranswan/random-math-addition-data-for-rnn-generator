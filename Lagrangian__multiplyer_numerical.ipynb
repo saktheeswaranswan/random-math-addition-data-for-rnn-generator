{
  "nbformat": 4,
  "nbformat_minor": 0,
  "metadata": {
    "colab": {
      "provenance": [],
      "authorship_tag": "ABX9TyNlSuv+6CGCaf6NSoeTlkgt",
      "include_colab_link": true
    },
    "kernelspec": {
      "name": "python3",
      "display_name": "Python 3"
    },
    "language_info": {
      "name": "python"
    }
  },
  "cells": [
    {
      "cell_type": "markdown",
      "metadata": {
        "id": "view-in-github",
        "colab_type": "text"
      },
      "source": [
        "<a href=\"https://colab.research.google.com/github/saktheeswaranswan/random-math-addition-data-for-rnn-generator/blob/main/Lagrangian__multiplyer_numerical.ipynb\" target=\"_parent\"><img src=\"https://colab.research.google.com/assets/colab-badge.svg\" alt=\"Open In Colab\"/></a>"
      ]
    },
    {
      "cell_type": "code",
      "execution_count": 9,
      "metadata": {
        "colab": {
          "base_uri": "https://localhost:8080/"
        },
        "id": "YiDMjYZN2Het",
        "outputId": "57aeb50a-4af2-45d0-f181-60687656ce04"
      },
      "outputs": [
        {
          "output_type": "stream",
          "name": "stdout",
          "text": [
            "Maximum scaling factor: 25.0\n",
            "Minimum scaling factor: 5.641895835477563\n",
            "Maximum inscribed polygon: POLYGON ((-22 -22, 28 -22, 28 28, -22 28, -22 -22))\n",
            "Minimum inscribed polygon: POLYGON ((-2.6418958354775626 -2.6418958354775626, 8.641895835477563 -2.6418958354775626, 8.641895835477563 8.641895835477563, -2.6418958354775626 8.641895835477563, -2.6418958354775626 -2.6418958354775626))\n"
          ]
        }
      ],
      "source": [
        "import numpy as np\n",
        "from shapely.geometry import Polygon\n",
        "from shapely import affinity\n",
        "\n",
        "# Define the larger and smaller polygons as numpy arrays of vertices\n",
        "larger_polygon_vertices = np.array([[0, 0], [10, 0], [10, 10], [0, 10]])\n",
        "smaller_polygon_vertices = np.array([[2, 2], [4, 2], [4, 4], [2, 4]])\n",
        "\n",
        "# Convert the vertices to Shapely Polygon objects for easy calculation\n",
        "larger_polygon = Polygon(larger_polygon_vertices)\n",
        "smaller_polygon = Polygon(smaller_polygon_vertices)\n",
        "\n",
        "# Calculate the maximum and minimum scaling factors for the smaller polygon\n",
        "max_scale_factor = larger_polygon.area / smaller_polygon.area\n",
        "min_scale_factor = np.sqrt(larger_polygon.length ** 2 / 4 / np.pi / smaller_polygon.area)\n",
        "\n",
        "# Calculate the maximum and minimum inscribed polygons using the scaling factors\n",
        "max_inscribed_polygon = affinity.scale(smaller_polygon, xfact=max_scale_factor, yfact=max_scale_factor)\n",
        "min_inscribed_polygon = affinity.scale(smaller_polygon, xfact=min_scale_factor, yfact=min_scale_factor)\n",
        "\n",
        "# Print the results\n",
        "print(f\"Maximum scaling factor: {max_scale_factor}\")\n",
        "print(f\"Minimum scaling factor: {min_scale_factor}\")\n",
        "print(f\"Maximum inscribed polygon: {max_inscribed_polygon}\")\n",
        "print(f\"Minimum inscribed polygon: {min_inscribed_polygon}\")\n"
      ]
    },
    {
      "cell_type": "code",
      "source": [
        "import numpy as np\n",
        "from shapely.geometry import Polygon\n",
        "from shapely import affinity\n",
        "import matplotlib.pyplot as plt\n",
        "from scipy.optimize import minimize\n",
        "\n",
        "# Define the larger and smaller polygons as numpy arrays of vertices\n",
        "larger_polygon_vertices = np.array([[0, 0], [10, 0], [10, 10], [0, 10]])\n",
        "smaller_polygon_vertices = np.array([[2, 2], [4, 2], [4, 4], [2, 4]])\n",
        "\n",
        "# Convert the vertices to Shapely Polygon objects for easy calculation\n",
        "larger_polygon = Polygon(larger_polygon_vertices)\n",
        "smaller_polygon = Polygon(smaller_polygon_vertices)\n",
        "\n",
        "# Define the objective function\n",
        "def objective(x, A_larger, A_smaller):\n",
        "    return -x\n",
        "\n",
        "# Define the constraint function\n",
        "def constraint(x, A_larger, A_smaller):\n",
        "    return A_larger / A_smaller * x**2 - 1\n",
        "\n",
        "# Calculate the maximum and minimum scaling factors using numerical Lagrange multipliers\n",
        "max_scale_factor = minimize(lambda x, A_larger, A_smaller: -objective(x, A_larger, A_smaller), 1.0, args=(larger_polygon.area, smaller_polygon.area), bounds=[(0, 10)], constraints=[{'type': 'ineq', 'fun': lambda x, A_larger, A_smaller: constraint(x, A_larger, A_smaller), 'args': (larger_polygon.area, smaller_polygon.area)}], method='L-BFGS-B', options={'maxiter': 1000})['x'][0]\n",
        "min_scale_factor = minimize(lambda x, A_larger, A_smaller: objective(x, A_larger, A_smaller), 1.0, args=(larger_polygon.area, smaller_polygon.area), bounds=[(0, 10)], constraints=[{'type': 'ineq', 'fun': lambda x, A_larger, A_smaller: constraint(x, A_larger, A_smaller), 'args': (larger_polygon.area, smaller_polygon.area)}], method='L-BFGS-B', options={'maxiter': 1000})['x'][0]\n",
        "\n",
        "# Calculate the maximum and minimum inscribed polygons using the scaling factors\n",
        "max_inscribed_polygon = affinity.scale(smaller_polygon, xfact=max_scale_factor, yfact=max_scale_factor)\n",
        "min_inscribed_polygon = affinity.scale(smaller_polygon, xfact=min_scale_factor, yfact=min_scale_factor)\n",
        "\n",
        "# Plot the polygons and inscribed polygons\n",
        "fig, ax = plt.subplots(figsize=(8,8))\n",
        "ax.set_aspect('equal')\n",
        "\n",
        "larger_patch = plt.Polygon(larger_polygon.exterior.coords, color='gray')\n",
        "smaller_patch = plt.Polygon(smaller_polygon.exterior.coords, color='lightgray')\n",
        "max_patch = plt.Polygon(max_inscribed_polygon.exterior.coords, color='red', alpha=0.5)\n",
        "min_patch = plt.Polygon(min_inscribed_polygon.exterior.coords, color='blue', alpha=0.5)\n",
        "\n",
        "ax.add_patch(larger_patch)\n",
        "ax.add_patch(smaller_patch)\n",
        "ax.add_patch(max_patch)\n",
        "ax.add_patch(min_patch)\n",
        "\n",
        "ax.set_xlim(larger_polygon.bounds[0] - 1, larger_polygon.bounds[2] + 1)\n",
        "ax.set_ylim(larger_polygon.bounds[1] - 1, larger_polygon.bounds[3] + 1)\n",
        "\n",
        "plt.show()\n"
      ],
      "metadata": {
        "colab": {
          "base_uri": "https://localhost:8080/",
          "height": 538
        },
        "id": "4QL4l5gq8Apn",
        "outputId": "29492f82-0b13-4f92-d41d-aa4eabdabf29"
      },
      "execution_count": 14,
      "outputs": [
        {
          "output_type": "stream",
          "name": "stderr",
          "text": [
            "/usr/local/lib/python3.8/dist-packages/scipy/optimize/_minimize.py:541: RuntimeWarning: Method L-BFGS-B cannot handle constraints.\n",
            "  warn('Method %s cannot handle constraints.' % method,\n"
          ]
        },
        {
          "output_type": "display_data",
          "data": {
            "text/plain": [
              "<Figure size 576x576 with 1 Axes>"
            ],
            "image/png": "[encoded data removed]"
          },
          "metadata": {
            "needs_background": "light"
          }
        }
      ]
    },
    {
      "cell_type": "code",
      "source": [
        "import numpy as np\n",
        "from shapely.geometry import Polygon\n",
        "from shapely import affinity\n",
        "import matplotlib.pyplot as plt\n",
        "from scipy.optimize import minimize\n",
        "\n",
        "# Define the larger and smaller polygons as numpy arrays of vertices\n",
        "larger_polygon_vertices = np.array([[0, 0], [10, 0], [10, 10], [0, 10]])\n",
        "smaller_polygons_vertices = [np.array([[2, 2], [4, 2], [4, 4], [2, 4]]), np.array([[1, 1], [2, 1], [2, 2], [1, 2]]), np.array([[5, 5], [7, 5], [7, 7], [5, 7]])]\n",
        "\n",
        "# Convert the vertices to Shapely Polygon objects for easy calculation\n",
        "larger_polygon = Polygon(larger_polygon_vertices)\n",
        "smaller_polygons = [Polygon(vertices) for vertices in smaller_polygons_vertices]\n",
        "\n",
        "# Define the objective function\n",
        "def objective(x):\n",
        "    return -x\n",
        "\n",
        "# Define the constraint function\n",
        "def constraint(x, A_larger, A_smaller):\n",
        "    return A_larger / A_smaller * x**2 - 1\n",
        "\n",
        "# Find the maximum scaling factor for a single polygon using numerical Lagrange multipliers\n",
        "max_scale_factor = minimize(lambda x, A_larger, A_smaller: -objective(x), 1.0, args=(larger_polygon.area, smaller_polygons[0].area), bounds=[(0, 10)], constraints=[{'type': 'ineq', 'fun': lambda x, A_larger, A_smaller: constraint(x, A_larger, A_smaller), 'args': (larger_polygon.area, smaller_polygons[0].area)}], method='L-BFGS-B', options={'maxiter': 1000})['x'][0]\n",
        "\n",
        "# Calculate the maximum number of polygons that can be accommodated within the larger polygon\n",
        "max_num_polygons = 0\n",
        "for smaller_polygon in smaller_polygons:\n",
        "    area_scaled_polygon = affinity.scale(smaller_polygon, xfact=max_scale_factor, yfact=max_scale_factor).area\n",
        "    if larger_polygon.contains(smaller_polygon):\n",
        "        max_num_polygons += 1\n",
        "    elif larger_polygon.area - area_scaled_polygon >= 0:\n",
        "        max_num_polygons += 1\n",
        "        larger_polygon = larger_polygon.difference(smaller_polygon.buffer(max_scale_factor * 0.1))\n",
        "\n",
        "# Plot the polygons and inscribed polygons\n",
        "fig, ax = plt.subplots(figsize=(8,8))\n",
        "ax.set_aspect('equal')\n",
        "\n",
        "larger_patch = plt.Polygon(larger_polygon.exterior.coords, color='gray')\n",
        "ax.add_patch(larger_patch)\n",
        "\n",
        "for smaller_polygon in smaller_polygons:\n",
        "    scaled_polygon = affinity.scale(smaller_polygon, xfact=max_scale_factor, yfact=max_scale_factor)\n",
        "    smaller_patch = plt.Polygon(smaller_polygon.exterior.coords, color='lightgray')\n",
        "    max_patch = plt.Polygon(scaled_polygon.exterior.coords, color='red', alpha=0.5)\n",
        "\n",
        "    ax.add_patch(smaller_patch)\n",
        "    ax.add_patch(max_patch)\n",
        "\n",
        "ax.set_xlim(larger_polygon.bounds[0] - 1, larger_polygon.bounds[2] + 1)\n",
        "ax.set_ylim(larger_polygon.bounds[1] - 1, larger_polygon.bounds[3] + 1)\n",
        "\n",
        "plt.show()\n",
        "\n",
        "print(f\"Maximum number of polygons that can be accommodated within the larger polygon: {max_num_polygons}\")\n"
      ],
      "metadata": {
        "colab": {
          "base_uri": "https://localhost:8080/",
          "height": 500
        },
        "id": "ucBLkLMn-UcE",
        "outputId": "279a8e90-0d40-4327-f17b-d8d4e2fa5d77"
      },
      "execution_count": 15,
      "outputs": [
        {
          "output_type": "display_data",
          "data": {
            "text/plain": [
              "<Figure size 576x576 with 1 Axes>"
            ],
            "image/png": "[encoded data removed]"
          },
          "metadata": {
            "needs_background": "light"
          }
        },
        {
          "output_type": "stream",
          "name": "stdout",
          "text": [
            "Maximum number of polygons that can be accommodated within the larger polygon: 3\n"
          ]
        }
      ]
    },
    {
      "cell_type": "code",
      "source": [
        "import numpy as np\n",
        "import trimesh\n",
        "from scipy.optimize import minimize_scalar\n",
        "\n",
        "# Load the smaller and larger 3D objects in STL format\n",
        "smaller_obj = trimesh.load('smaller_obj.stl')\n",
        "larger_obj = trimesh.load('larger_obj.stl')\n",
        "\n",
        "# Define the objective function to minimize/maximize the scaling factor\n",
        "def obj_func(scale):\n",
        "    scaled_smaller_obj = smaller_obj.apply_scale(scale)\n",
        "    if scaled_smaller_obj.bounding_box.bounds.max() > larger_obj.bounding_box.bounds.max():\n",
        "        # Smaller object does not fit inside the larger object\n",
        "        return 1e9  # Return a large value\n",
        "    else:\n",
        "        # Compute the distance between the centroids of the two objects\n",
        "        dist = np.linalg.norm(larger_obj.centroid - scaled_smaller_obj.centroid)\n",
        "        return dist\n",
        "\n",
        "# Find the maximum scaling factor that fits the smaller object inside the larger object\n",
        "result_max = minimize_scalar(lambda x: -obj_func(x), bounds=(0, 1000), method='bounded')\n",
        "max_scale = result_max.x\n",
        "\n",
        "# Find the minimum scaling factor that fits the smaller object inside the larger object\n",
        "result_min = minimize_scalar(obj_func, bounds=(0, 1000), method='bounded')\n",
        "min_scale = result_min.x\n",
        "\n",
        "print(\"Maximum scaling factor:\", max_scale)\n",
        "print(\"Minimum scaling factor:\", min_scale)\n"
      ],
      "metadata": {
        "id": "-5d91Mk3_mCU"
      },
      "execution_count": null,
      "outputs": []
    },
    {
      "cell_type": "code",
      "source": [
        "import numpy as np\n",
        "import trimesh\n",
        "from scipy.optimize import minimize\n",
        "\n",
        "# Load the smaller and larger 3D objects in STL format\n",
        "smaller_obj = trimesh.load('smaller_obj.stl')\n",
        "larger_obj = trimesh.load('larger_obj.stl')\n",
        "\n",
        "# Define the objective function and constraints for the Lagrangian optimization problem\n",
        "def obj_func(scale):\n",
        "    scaled_smaller_obj = smaller_obj.apply_scale(scale)\n",
        "    return np.linalg.norm(larger_obj.centroid - scaled_smaller_obj.centroid)\n",
        "\n",
        "def constraint_func(scale):\n",
        "    scaled_smaller_obj = smaller_obj.apply_scale(scale)\n",
        "    return larger_obj.bounding_box.bounds.max() - scaled_smaller_obj.bounding_box.bounds.max()\n",
        "\n",
        "# Find the maximum scaling factor that fits the smaller object inside the larger object\n",
        "result_max = minimize(lambda x: -obj_func(x), x0=1.0, constraints=[{'type': 'ineq', 'fun': constraint_func}], method='SLSQP')\n",
        "max_scale = result_max.x\n",
        "\n",
        "# Find the minimum scaling factor that fits the smaller object inside the larger object\n",
        "result_min = minimize(obj_func, x0=1.0, constraints=[{'type': 'ineq', 'fun': constraint_func}], method='SLSQP')\n",
        "min_scale = result_min.x\n",
        "\n",
        "print(\"Maximum scaling factor:\", max_scale)\n",
        "print(\"Minimum scaling factor:\", min_scale)\n"
      ],
      "metadata": {
        "id": "kXwflPP9_xSG"
      },
      "execution_count": null,
      "outputs": []
    },
    {
      "cell_type": "code",
      "source": [
        "#ok now take this used case now we have to array a set of egs \n",
        "#in an egg tray so if i give number of eggs can you optimise the \n",
        "#egg tray  to as much as hold many   eggs in it use lagrangian multiplier\n",
        "#numerically or any advance optimizer method for this but eggs and tray\n",
        "# plot it in the 2d plot so write a python code"
      ],
      "metadata": {
        "id": "nMy57NznAiM3"
      },
      "execution_count": null,
      "outputs": []
    }
  ]
}