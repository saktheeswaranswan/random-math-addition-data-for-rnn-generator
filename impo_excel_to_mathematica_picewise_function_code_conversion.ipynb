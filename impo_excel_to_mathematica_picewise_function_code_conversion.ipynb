{
  "nbformat": 4,
  "nbformat_minor": 0,
  "metadata": {
    "colab": {
      "provenance": [],
      "authorship_tag": "ABX9TyP9lX9EsP2oh4g28lEQ7m4m",
      "include_colab_link": true
    },
    "kernelspec": {
      "name": "python3",
      "display_name": "Python 3"
    },
    "language_info": {
      "name": "python"
    },
    "accelerator": "GPU",
    "gpuClass": "standard"
  },
  "cells": [
    {
      "cell_type": "markdown",
      "metadata": {
        "id": "view-in-github",
        "colab_type": "text"
      },
      "source": [
        "<a href=\"https://colab.research.google.com/github/saktheeswaranswan/random-math-addition-data-for-rnn-generator/blob/main/impo_excel_to_mathematica_picewise_function_code_conversion.ipynb\" target=\"_parent\"><img src=\"https://colab.research.google.com/assets/colab-badge.svg\" alt=\"Open In Colab\"/></a>"
      ]
    },
    {
      "cell_type": "code",
      "execution_count": 7,
      "metadata": {
        "colab": {
          "base_uri": "https://localhost:8080/"
        },
        "id": "xQBLcbJYCwdU",
        "outputId": "37a9a5e7-b566-46a9-c066-e8186a9f81d8"
      },
      "outputs": [
        {
          "output_type": "stream",
          "name": "stdout",
          "text": [
            "f[t] := Piecewise[{{1.0, t < 1}, {2.0, t >= 1 && t < 2}, {3.0, t >= 2 && t < 3}, {4.0, t >= 3 && t < 4}, {5.0, t >= 4}}]\n"
          ]
        }
      ],
      "source": [
        "import xlrd\n",
        "import pandas as pd\n",
        "\n",
        "# Load the workbook\n",
        "wb = xlrd.open_workbook('/content/numbers.xlsx')\n",
        "\n",
        "# Select the first sheet\n",
        "ws = wb.sheet_by_index(0)\n",
        "\n",
        "# Initialize the list of numbers\n",
        "numbers = []\n",
        "\n",
        "# Loop through the rows in the sheet\n",
        "for i in range(ws.nrows):\n",
        "    # Append the value of the cell to the list of numbers\n",
        "    numbers.append(ws.cell_value(i, 0))\n",
        "\n",
        "# Create a Pandas DataFrame from the list of numbers\n",
        "df = pd.DataFrame({'numbers': numbers})\n",
        "\n",
        "# Generate the Mathematica code for the piecewise function\n",
        "code = \"f[t] := Piecewise[{\"\n",
        "for i in range(len(numbers)):\n",
        "    if i == 0:\n",
        "        code += \"{\" + str(numbers[i]) + \", t < \" + str(i+1) + \"}\"\n",
        "    elif i == len(numbers) - 1:\n",
        "        code += \", {\" + str(numbers[i]) + \", t >= \" + str(i) + \"}\"\n",
        "    else:\n",
        "        code += \", {\" + str(numbers[i]) + \", t >= \" + str(i) + \" && t < \" + str(i+1) + \"}\"\n",
        "code += \"}]\"\n",
        "\n",
        "# Print the generated code\n",
        "print(code)\n"
      ]
    },
    {
      "cell_type": "code",
      "source": [],
      "metadata": {
        "colab": {
          "base_uri": "https://localhost:8080/"
        },
        "id": "iXktR0_HDtHV",
        "outputId": "f79723e2-65d6-4904-c6f3-214bfc6a5ea3"
      },
      "execution_count": 6,
      "outputs": [
        {
          "output_type": "stream",
          "name": "stdout",
          "text": [
            "f[t] := Piecewise[{{1.0, t < 1}, {2.0, t >= 1 && t < 2}, {3.0, t >= 2 && t < 3}, {4.0, t >= 3 && t < 4}, {5.0, t >= 4}}]\n"
          ]
        }
      ]
    }
  ]
}