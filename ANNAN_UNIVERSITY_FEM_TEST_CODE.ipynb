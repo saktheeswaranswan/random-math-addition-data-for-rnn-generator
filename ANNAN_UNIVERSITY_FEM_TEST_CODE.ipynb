{
  "nbformat": 4,
  "nbformat_minor": 0,
  "metadata": {
    "colab": {
      "provenance": [],
      "authorship_tag": "ABX9TyMeQcCbRLxHz3HgpXdBvGJC",
      "include_colab_link": true
    },
    "kernelspec": {
      "name": "python3",
      "display_name": "Python 3"
    },
    "language_info": {
      "name": "python"
    }
  },
  "cells": [
    {
      "cell_type": "markdown",
      "metadata": {
        "id": "view-in-github",
        "colab_type": "text"
      },
      "source": [
        "<a href=\"https://colab.research.google.com/github/saktheeswaranswan/random-math-addition-data-for-rnn-generator/blob/main/ANNAN_UNIVERSITY_FEM_TEST_CODE.ipynb\" target=\"_parent\"><img src=\"https://colab.research.google.com/assets/colab-badge.svg\" alt=\"Open In Colab\"/></a>"
      ]
    },
    {
      "cell_type": "code",
      "source": [
        "#note the bleow code works if the elment\n",
        "#has same parameters such as A,E,l\n",
        "#of same material type for vibrations and temperature \n",
        "#and fluid flow it differs and the load is a\n",
        "#point load and it can be assigned correspondingly\n",
        "#but for a bar element of different type so A1,E1,l1\n",
        "#and A2,E2,l2 use a different code given below\n",
        "#if the material propertyies differ  just use a different code \n",
        "#this 2x2 matrix can be extended to temperature fluid flow \n",
        "#stress calculation in bar element ands so on\n",
        "#Note : these are to serve the test purpose and not suited for any \n",
        "#comecial or industrial use in engineeering or any discipline\n",
        "#so i can not hold responsibilty of money loss or material loss or human loss\n",
        "#this tool helps only for eductional pupose for Anna university\n",
        "#and Aicte affiliated universityies \n",
        "#students in europe and asia and other parts of the world can use this \n",
        "#by selecting correct correctr metric system suits their country"
      ],
      "metadata": {
        "id": "qK6xa4ElmZXZ"
      },
      "execution_count": null,
      "outputs": []
    },
    {
      "cell_type": "code",
      "execution_count": 7,
      "metadata": {
        "colab": {
          "base_uri": "https://localhost:8080/",
          "height": 269
        },
        "id": "zY1hNCw_hxXi",
        "outputId": "7b0287a6-1ee1-4207-d072-50e40fc8c8ef"
      },
      "outputs": [
        {
          "output_type": "display_data",
          "data": {
            "text/plain": [
              "<Figure size 432x288 with 1 Axes>"
            ],
            "image/png": "[encoded data removed]"
          },
          "metadata": {
            "needs_background": "light"
          }
        }
      ],
      "source": [
        "\n",
        "import csv\n",
        "import numpy as np\n",
        "from scipy.sparse import csr_matrix\n",
        "import matplotlib.pyplot as plt\n",
        "\n",
        "# Read the CSV file with indices\n",
        "with open('/content/indices.csv', 'r') as f:\n",
        "    reader = csv.reader(f)\n",
        "    next(reader) # skip the header row\n",
        "    indices = [list(map(int, row)) for row in reader]\n",
        "\n",
        "# Initialize the global stiffness matrix with zeros\n",
        "global_stiffness_matrix = np.zeros((10, 10))\n",
        "\n",
        "# Loop through the indices\n",
        "for row in indices:\n",
        "    i, j = row\n",
        "    # Assemble the local stiffness matrix\n",
        "    local_stiffness_matrix = np.array([[2, -1], [-1, 2]])\n",
        "    # Add the local stiffness matrix to the corresponding entries in the global stiffness matrix\n",
        "    global_stiffness_matrix[i-1:i+1, j-1:j+1] += local_stiffness_matrix\n",
        "\n",
        "# Convert the global stiffness matrix to a sparse matrix\n",
        "sparse_global_stiffness_matrix = csr_matrix(global_stiffness_matrix)\n",
        "\n",
        "# Plot the sparse matrix plot of the global stiffness matrix\n",
        "plt.spy(sparse_global_stiffness_matrix, markersize=1)\n",
        "plt.show()\n",
        "# Save the global stiffness matrix in Python format\n",
        "# Save the global stiffness matrix in Python matrix format\n",
        "import numpy as np\n",
        "\n",
        "with open('global_stiffness_matrix.py', 'w') as f:\n",
        "    f.write('import numpy as np\\n\\n')\n",
        "    f.write('global_stiffness_matrix = np.array([\\n')\n",
        "    for i in range(global_stiffness_matrix.shape[0]):\n",
        "        f.write('    [')\n",
        "        for j in range(global_stiffness_matrix.shape[1]):\n",
        "            f.write(str(global_stiffness_matrix[i][j]))\n",
        "            if j < global_stiffness_matrix.shape[1] - 1:\n",
        "                f.write(', ')\n",
        "        f.write(']')\n",
        "        if i < global_stiffness_matrix.shape[0] - 1:\n",
        "            f.write(',\\n')\n",
        "    f.write('])\\n')\n",
        "\n",
        "\n"
      ]
    },
    {
      "cell_type": "code",
      "source": [
        "#now the indices are listed from 1,2,3 but the matrix builds it\n",
        "#from 0 so delete the column using the code beleow still its a banded matrix\n",
        "#use any method to equate it to force vector and solve it to get displacements"
      ],
      "metadata": {
        "id": "lCXew196oXlN"
      },
      "execution_count": null,
      "outputs": []
    },
    {
      "cell_type": "code",
      "source": [
        "import numpy as np\n",
        "\n",
        "# Create a sample matrix\n",
        "matrix = np.array([[0.0, 2.0, -1.0, 0.0, 0.0, 0.0, 0.0, 0.0, 0.0, 0.0],\n",
        "    [0.0, -1.0, 4.0, -1.0, 0.0, 0.0, 0.0, 0.0, 0.0, 0.0],\n",
        "    [0.0, 0.0, -1.0, 2.0, 0.0, 0.0, 0.0, 0.0, 0.0, 0.0],\n",
        "    [0.0, 0.0, 0.0, 0.0, 0.0, 0.0, 0.0, 0.0, 0.0, 0.0],\n",
        "    [0.0, 0.0, 0.0, 0.0, 0.0, 0.0, 0.0, 0.0, 0.0, 0.0],\n",
        "    [0.0, 0.0, 0.0, 0.0, 0.0, 0.0, 0.0, 0.0, 0.0, 0.0],\n",
        "    [0.0, 0.0, 0.0, 0.0, 0.0, 0.0, 0.0, 0.0, 0.0, 0.0],\n",
        "    [0.0, 0.0, 0.0, 0.0, 0.0, 0.0, 0.0, 0.0, 0.0, 0.0],\n",
        "    [0.0, 0.0, 0.0, 0.0, 0.0, 0.0, 0.0, 0.0, 0.0, 0.0],\n",
        "    [0.0, 0.0, 0.0, 0.0, 0.0, 0.0, 0.0, 0.0, 0.0, 0.0]])\n",
        "\n",
        "# Delete the first column\n",
        "new_matrix = np.delete(matrix, 0, axis=1)\n",
        "\n",
        "# Print the new matrix\n",
        "print(new_matrix)\n"
      ],
      "metadata": {
        "colab": {
          "base_uri": "https://localhost:8080/"
        },
        "id": "9ciBkLULluxM",
        "outputId": "3d2401e0-2a6b-490e-fcca-5c05db0ecf85"
      },
      "execution_count": 10,
      "outputs": [
        {
          "output_type": "stream",
          "name": "stdout",
          "text": [
            "[[ 2. -1.  0.  0.  0.  0.  0.  0.  0.]\n",
            " [-1.  4. -1.  0.  0.  0.  0.  0.  0.]\n",
            " [ 0. -1.  2.  0.  0.  0.  0.  0.  0.]\n",
            " [ 0.  0.  0.  0.  0.  0.  0.  0.  0.]\n",
            " [ 0.  0.  0.  0.  0.  0.  0.  0.  0.]\n",
            " [ 0.  0.  0.  0.  0.  0.  0.  0.  0.]\n",
            " [ 0.  0.  0.  0.  0.  0.  0.  0.  0.]\n",
            " [ 0.  0.  0.  0.  0.  0.  0.  0.  0.]\n",
            " [ 0.  0.  0.  0.  0.  0.  0.  0.  0.]\n",
            " [ 0.  0.  0.  0.  0.  0.  0.  0.  0.]]\n"
          ]
        }
      ]
    },
    {
      "cell_type": "code",
      "source": [
        "import numpy as np\n",
        "import pandas as pd\n",
        "from matplotlib import pyplot as plt\n",
        "\n",
        "\n",
        "def generate_indices_csv(filename, n, num_element_stiffness_matrices):\n",
        "    indices = np.zeros((num_element_stiffness_matrices, 6), dtype=int)\n",
        "    for i in range(num_element_stiffness_matrices):\n",
        "        indices[i, :] = np.random.randint(1, n+1, 6)\n",
        "    df = pd.DataFrame(indices, columns=['i1', 'i2', 'i3', 'i4', 'i5','i6'])\n",
        "    df.to_csv(filename, index=False)\n",
        "\n",
        "def assemble_global_stiffness_matrix(n, element_stiffness_matrices, indices_df):\n",
        "    global_stiffness_matrix = np.zeros((n, n))\n",
        "    for i, row in indices_df.iterrows():\n",
        "        index = row.tolist()\n",
        "        for row in range(element_stiffness_matrices[i].shape[0]):\n",
        "            for col in range(element_stiffness_matrices[i].shape[1]):\n",
        "                if index[row] <= n and index[col] <= n:\n",
        "                    global_stiffness_matrix[index[row]-1, index[col]-1] += element_stiffness_matrices[i][row, col]\n",
        "    return global_stiffness_matrix\n",
        "\n",
        "n = 8\n",
        "num_element_stiffness_matrices = 2\n",
        "element_stiffness_matrices = [np.array([[1.5, 0, 0, -1.5, -1.5,1.5], [0, 4, -1, 0, 1,-4], [0, -1, 4, 0, 1,-4], [-1.5, 0, 0, 1.5, 1.5,-1.5], [-1.5, 1, -4, 1.5, 5.5,-2.5],[1.5, -4, 1, -1.5, -2.5,5.5]]),np.array([[1.5, 0, 0, -1.5, -1.5,1.5], [0, 4, -1, 0, 1,-4], [0, -1, 4, 0, 1,-4], [-1.5, 0, 0, 1.5, 1.5,-1.5], [-1.5, 1, -4, 1.5, 5.5,-2.5],[1.5, -4, 1, -1.5, -2.5,5.5]])]\n",
        "#filename = '/content/indices6.csv'\n",
        "#generate_indices_csv(filename, n, num_element_stiffness_matrices)\n",
        "indices_df = pd.read_csv('/content/indices6.csv')\n",
        "global_stiffness_matrix = assemble_global_stiffness_matrix(n, element_stiffness_matrices, indices_df)\n",
        "print(global_stiffness_matrix)\n",
        "# Plot the global stiffness matrix as a sparse plot array\n",
        "plt.spy(global_stiffness_matrix, markersize=15, color='black')\n",
        "plt.show()\n",
        "# Save the global stiffness matrix in a text file\n",
        "np.savetxt(\"global_stiffness_matrix.txt\", global_stiffness_matrix, fmt='%d')"
      ],
      "metadata": {
        "colab": {
          "base_uri": "https://localhost:8080/",
          "height": 408
        },
        "id": "XPpyCxR0mRpm",
        "outputId": "ce785c26-338a-434e-dd92-9d533293e45f"
      },
      "execution_count": 13,
      "outputs": [
        {
          "output_type": "stream",
          "name": "stdout",
          "text": [
            "[[ 3.   0.   0.  -1.5 -1.5  0.  -1.5  1.5]\n",
            " [ 0.   8.  -1.   0.   0.  -4.   1.  -4. ]\n",
            " [ 0.  -1.   4.   0.   1.  -4.   0.   0. ]\n",
            " [-1.5  0.   0.   1.5  1.5 -1.5  0.   0. ]\n",
            " [-1.5  0.  -4.   1.5  9.5 -2.5  1.  -4. ]\n",
            " [ 0.  -4.   1.  -1.5 -2.5  7.   1.5 -1.5]\n",
            " [-1.5  1.   0.   0.  -4.   1.5  5.5 -2.5]\n",
            " [ 1.5 -4.   0.   0.   1.  -1.5 -2.5  5.5]]\n"
          ]
        },
        {
          "output_type": "display_data",
          "data": {
            "text/plain": [
              "<Figure size 432x288 with 1 Axes>"
            ],
            "image/png": "[encoded data removed]"
          },
          "metadata": {
            "needs_background": "light"
          }
        }
      ]
    },
    {
      "cell_type": "code",
      "source": [
        "\n",
        "import numpy as np\n",
        "import pandas as pd\n",
        "\n",
        "def generate_indices_csv(filename, n, num_element_stiffness_matrices):\n",
        "    indices = np.zeros((num_element_stiffness_matrices, 3), dtype=int)\n",
        "    for i in range(num_element_stiffness_matrices):\n",
        "        indices[i, :] = np.random.randint(1, n+1, 3)\n",
        "    df = pd.DataFrame(indices, columns=['i1', 'i2', 'i3'])\n",
        "    df.to_csv(filename, index=False)\n",
        "\n",
        "def assemble_global_stiffness_matrix(n, element_stiffness_matrices, indices_df):\n",
        "    global_stiffness_matrix = np.zeros((n, n))\n",
        "    for i, row in indices_df.iterrows():\n",
        "        index = row.tolist()\n",
        "        for row in range(element_stiffness_matrices[i].shape[0]):\n",
        "            for col in range(element_stiffness_matrices[i].shape[1]):\n",
        "                if index[row] <= n and index[col] <= n:\n",
        "                    global_stiffness_matrix[index[row]-1, index[col]-1] += element_stiffness_matrices[i][row, col]\n",
        "    return global_stiffness_matrix\n",
        "\n",
        "n = 6\n",
        "num_element_stiffness_matrices = 4\n",
        "element_stiffness_matrices = [np.array([[1, -1,0], [-1,2,-1], [0,-1,1]]),\n",
        "                             np.array([[1, -1,0], [-1,2,-1], [0,-1,1]]),np.array([[1, -1,0], [-1,2,-1], [0,-1,1]]),np.array([[1, -1,0], [-1,2,-1], [0,-1,1]])]\n",
        "#filename = 'indices.csv'\n",
        "#generate_indices_csv(filename, n, num_element_stiffness_matrices)\n",
        "indices_df = pd.read_csv('/content/indices3.csv')\n",
        "global_stiffness_matrix = assemble_global_stiffness_matrix(n, element_stiffness_matrices, indices_df)\n",
        "print(global_stiffness_matrix)\n",
        "# Plot the global stiffness matrix as a sparse plot array\n",
        "plt.spy(global_stiffness_matrix, markersize=15, color='red')\n",
        "plt.show()\n",
        "# Save the global stiffness matrix in a text file\n",
        "np.savetxt(\"global_stiffness_matrix.txt\", global_stiffness_matrix, fmt='%d')\n",
        "# Save the global stiffness matrix in Python matrix format\n",
        "import numpy as np\n",
        "\n",
        "with open('global_stiffness_matrix.py', 'w') as f:\n",
        "    f.write('import numpy as np\\n\\n')\n",
        "    f.write('global_stiffness_matrix = np.array([\\n')\n",
        "    for i in range(global_stiffness_matrix.shape[0]):\n",
        "        f.write('    [')\n",
        "        for j in range(global_stiffness_matrix.shape[1]):\n",
        "            f.write(str(global_stiffness_matrix[i][j]))\n",
        "            if j < global_stiffness_matrix.shape[1] - 1:\n",
        "                f.write(', ')\n",
        "        f.write(']')\n",
        "        if i < global_stiffness_matrix.shape[0] - 1:\n",
        "            f.write(',\\n')\n",
        "    f.write('])\\n')"
      ],
      "metadata": {
        "colab": {
          "base_uri": "https://localhost:8080/",
          "height": 373
        },
        "id": "YjOtXYgUsQkP",
        "outputId": "b060e862-0013-482d-f9bb-9a334c2dfc6b"
      },
      "execution_count": 15,
      "outputs": [
        {
          "output_type": "stream",
          "name": "stdout",
          "text": [
            "[[ 1. -1.  0.  0.  0.  0.]\n",
            " [-1.  4. -1. -2.  0.  0.]\n",
            " [ 0. -1.  2.  0. -1.  0.]\n",
            " [ 0. -2.  0.  4. -2.  0.]\n",
            " [ 0.  0. -1. -2.  4. -1.]\n",
            " [ 0.  0.  0.  0. -1.  1.]]\n"
          ]
        },
        {
          "output_type": "display_data",
          "data": {
            "text/plain": [
              "<Figure size 432x288 with 1 Axes>"
            ],
            "image/png": "[encoded data removed]"
          },
          "metadata": {
            "needs_background": "light"
          }
        }
      ]
    },
    {
      "cell_type": "code",
      "source": [
        "# solve the force vector given by \n",
        "#the assembly is much simpler than gst assembly \n",
        "#just look for the indices like \n",
        "#1,2,4\n",
        "#{1,1,1}\n",
        "#2,4,5\n",
        "#{1,1,1}\n",
        "#2,3,5\n",
        "#{1,1,1}\n",
        "#4,5,6\n",
        "#{1,1,1}\n",
        "#you know why 2,4,5 adds up because it exist in three columns so it adds up\n",
        "#[ 1., 3.,  1. , 3. , 3. , 1.]\n",
        "#there are some coeeficients to solve it "
      ],
      "metadata": {
        "id": "OJN2mCJOtx9W"
      },
      "execution_count": null,
      "outputs": []
    },
    {
      "cell_type": "code",
      "source": [
        "\n",
        "import numpy as np\n",
        "import pandas as pd\n",
        "\n",
        "def generate_indices_csv(filename, n, num_element_stiffness_matrices):\n",
        "    indices = np.zeros((num_element_stiffness_matrices, 3), dtype=int)\n",
        "    for i in range(num_element_stiffness_matrices):\n",
        "        indices[i, :] = np.random.randint(1, n+1, 3)\n",
        "    df = pd.DataFrame(indices, columns=['i1', 'i2', 'i3'])\n",
        "    df.to_csv(filename, index=False)\n",
        "\n",
        "def assemble_global_stiffness_matrix(n, element_stiffness_matrices, indices_df):\n",
        "    global_stiffness_matrix = np.zeros((n, n))\n",
        "    for i, row in indices_df.iterrows():\n",
        "        index = row.tolist()\n",
        "        for row in range(element_stiffness_matrices[i].shape[0]):\n",
        "            for col in range(element_stiffness_matrices[i].shape[1]):\n",
        "                if index[row] <= n and index[col] <= n:\n",
        "                    global_stiffness_matrix[index[row]-1, index[col]-1] += element_stiffness_matrices[i][row, col]\n",
        "    return global_stiffness_matrix\n",
        "\n",
        "n = 5\n",
        "num_element_stiffness_matrices = 4\n",
        "element_stiffness_matrices = [np.array([[5, 3,-8], [3,5,-8], [-8,-8,16]]),\n",
        "                             np.array([[5, -3,-2], [-3,5,-2], [-2,-2,4]])\n",
        "                             ,np.array([[5,3,-8], [3,5,-8], [-8,-8,16]])\n",
        "                             ,np.array([[5, -3,-2], [-3,5,-2], [-2,-2,4]])]\n",
        "#filename = 'indices.csv'\n",
        "#generate_indices_csv(filename, n, num_element_stiffness_matrices)\n",
        "indices_df = pd.read_csv('/content/indices3ex.csv')\n",
        "global_stiffness_matrix = assemble_global_stiffness_matrix(n, element_stiffness_matrices, indices_df)\n",
        "print(global_stiffness_matrix)\n",
        "# Plot the global stiffness matrix as a sparse plot array\n",
        "plt.spy(global_stiffness_matrix, markersize=15, color='red')\n",
        "plt.show()\n",
        "# Save the global stiffness matrix in a text file\n",
        "np.savetxt(\"global_stiffness_matrix.txt\", global_stiffness_matrix, fmt='%d')\n",
        "# Save the global stiffness matrix in Python matrix format\n",
        "import numpy as np\n",
        "\n",
        "with open('global_stiffness_matrix.py', 'w') as f:\n",
        "    f.write('import numpy as np\\n\\n')\n",
        "    f.write('global_stiffness_matrix = np.array([\\n')\n",
        "    for i in range(global_stiffness_matrix.shape[0]):\n",
        "        f.write('    [')\n",
        "        for j in range(global_stiffness_matrix.shape[1]):\n",
        "            f.write(str(global_stiffness_matrix[i][j]))\n",
        "            if j < global_stiffness_matrix.shape[1] - 1:\n",
        "                f.write(', ')\n",
        "        f.write(']')\n",
        "        if i < global_stiffness_matrix.shape[0] - 1:\n",
        "            f.write(',\\n')\n",
        "    f.write('])\\n')"
      ],
      "metadata": {
        "colab": {
          "base_uri": "https://localhost:8080/",
          "height": 356
        },
        "id": "kpupb0Tsvysm",
        "outputId": "71860e5e-6773-43cc-d0cb-d988919327e9"
      },
      "execution_count": 39,
      "outputs": [
        {
          "output_type": "stream",
          "name": "stdout",
          "text": [
            "[[ 10. -10.   3.   0.  -3.]\n",
            " [-10.  40. -10. -10. -10.]\n",
            " [  3. -10.  10.  -3.   0.]\n",
            " [  0. -10.  -3.  10.   3.]\n",
            " [ -3. -10.   0.   3.  10.]]\n"
          ]
        },
        {
          "output_type": "display_data",
          "data": {
            "text/plain": [
              "<Figure size 432x288 with 1 Axes>"
            ],
            "image/png": "[encoded data removed]"
          },
          "metadata": {
            "needs_background": "light"
          }
        }
      ]
    },
    {
      "cell_type": "code",
      "source": [
        "# solve the force vector given by \n",
        "#the assembly is much simpler than gst assembly \n",
        "#just look for the indices like \n",
        "#1,3,2\n",
        "#{1.333,1.333,1.333}\n",
        "#3,4,2\n",
        "#{1.333,1.3333,1.333}\n",
        "#4,5,2\n",
        "#{1.333,1.333,1.333}\n",
        "#5,1,2\n",
        "#{1.333,1.333,1.333}\n",
        "#you know why 2,4,5 adds up because it exist in three columns so it adds up\n",
        "#[ 2.666,5.333,2.666,2.666,2.666]\n",
        "#there are some coeeficients to solve it "
      ],
      "metadata": {
        "id": "KHq9EqQQxig-"
      },
      "execution_count": null,
      "outputs": []
    },
    {
      "cell_type": "code",
      "source": [
        "\n",
        "import numpy as np\n",
        "import pandas as pd\n",
        "\n",
        "def generate_indices_csv(filename, n, num_element_stiffness_matrices):\n",
        "    indices = np.zeros((num_element_stiffness_matrices, 4), dtype=int)\n",
        "    for i in range(num_element_stiffness_matrices):\n",
        "        indices[i, :] = np.random.randint(1, n+1, 4)\n",
        "    df = pd.DataFrame(indices, columns=['i1', 'i2', 'i3','i4'])\n",
        "    df.to_csv(filename, index=False)\n",
        "\n",
        "def assemble_global_stiffness_matrix(n, element_stiffness_matrices, indices_df):\n",
        "    global_stiffness_matrix = np.zeros((n, n))\n",
        "    for i, row in indices_df.iterrows():\n",
        "        index = row.tolist()\n",
        "        for row in range(element_stiffness_matrices[i].shape[0]):\n",
        "            for col in range(element_stiffness_matrices[i].shape[1]):\n",
        "                if index[row] <= n and index[col] <= n:\n",
        "                    global_stiffness_matrix[index[row]-1, index[col]-1] += element_stiffness_matrices[i][row, col]\n",
        "    return global_stiffness_matrix\n",
        "\n",
        "n = 10\n",
        "num_element_stiffness_matrices = 3\n",
        "\n",
        "element_stiffness_matrices =[np.array([[.2889, .4701,-.2899,-.4701], [.4701, .7622,-.4701,.7622],[-.2899, -.4701,.2899,.4701], [-.4701, -.7622,.4701,.7622]]),\n",
        "np.array([[1, 0,-1,0], [0, 0,0,0],[-1, 0,1,0], [0, 0,0,0]])\n",
        ",np.array([[.2889, -.4701,-.2899,.4701], [-.4701, .7622,.4701,-.7622],[-.2899, .4701,.2899,-.4701], [.4701, -.7622,-.4701,.7622]])\n",
        ",np.array([[1, 0,-1,0], [0, 0,0,0],[-1, 0,1,0], [0, 0,0,0]])\n",
        ",np.array([[.2889, .4701,-.2899,-.4701], [.4701, .7622,-.4701,.7622],[-.2899, -.4701,.2899,.4701], [-.4701, -.7622,.4701,.7622]])\n",
        ",np.array([[1, 0,-1,0], [0, 0,0,0],[-1, 0,1,0], [0, 0,0,0]])\n",
        ",np.array([[.2889, -.4701,-.2899,.4701], [-.4701, .7622,.4701,-.7622],[-.2899, .4701,.2899,-.4701], [.4701, -.7622,-.4701,.7622]])]\n",
        "#filename = 'indices.csv'\n",
        "#generate_indices_csv(filename, n, num_element_stiffness_matrices)\n",
        "indices_df = pd.read_csv('/content/indices4.csv')\n",
        "global_stiffness_matrix = assemble_global_stiffness_matrix(n, element_stiffness_matrices, indices_df)\n",
        "print(global_stiffness_matrix)\n",
        "# Plot the global stiffness matrix as a sparse plot array\n",
        "plt.spy(global_stiffness_matrix, markersize=15, color='red')\n",
        "plt.show()\n",
        "# Save the global stiffness matrix in a text file\n",
        "np.savetxt(\"global_stiffness_matrix.txt\", global_stiffness_matrix, fmt='%d')\n",
        "# Save the global stiffness matrix in Python matrix format\n",
        "import numpy as np\n",
        "\n",
        "with open('global_stiffness_matrix.py', 'w') as f:\n",
        "    f.write('import numpy as np\\n\\n')\n",
        "    f.write('global_stiffness_matrix = np.array([\\n')\n",
        "    for i in range(global_stiffness_matrix.shape[0]):\n",
        "        f.write('    [')\n",
        "        for j in range(global_stiffness_matrix.shape[1]):\n",
        "            f.write(str(global_stiffness_matrix[i][j]))\n",
        "            if j < global_stiffness_matrix.shape[1] - 1:\n",
        "                f.write(', ')\n",
        "        f.write(']')\n",
        "        if i < global_stiffness_matrix.shape[0] - 1:\n",
        "            f.write(',\\n')\n",
        "    f.write('])\\n')"
      ],
      "metadata": {
        "colab": {
          "base_uri": "https://localhost:8080/",
          "height": 616
        },
        "id": "GBOuW42zB_Dx",
        "outputId": "7653f055-42d6-4e05-f5cd-ea0ef1cad655"
      },
      "execution_count": 47,
      "outputs": [
        {
          "output_type": "stream",
          "name": "stdout",
          "text": [
            "[[ 1.2889  0.4701 -0.2899 -0.4701 -1.      0.      0.      0.      0.\n",
            "   0.    ]\n",
            " [ 0.4701  0.7622 -0.4701  0.7622  0.      0.      0.      0.      0.\n",
            "   0.    ]\n",
            " [-0.2899 -0.4701  1.5788  0.     -0.2899  0.4701 -1.      0.      0.\n",
            "   0.    ]\n",
            " [-0.4701 -0.7622  0.      1.5244  0.4701 -0.7622  0.      0.      0.\n",
            "   0.    ]\n",
            " [-1.      0.     -0.2899  0.4701  2.5788  0.     -0.2899 -0.4701 -1.\n",
            "   0.    ]\n",
            " [ 0.      0.      0.4701 -0.7622  0.      1.5244 -0.4701  0.7622  0.\n",
            "   0.    ]\n",
            " [ 0.      0.     -1.      0.     -0.2899 -0.4701  1.5788  0.     -0.2899\n",
            "   0.4701]\n",
            " [ 0.      0.      0.      0.     -0.4701 -0.7622  0.      1.5244  0.4701\n",
            "  -0.7622]\n",
            " [ 0.      0.      0.      0.     -1.      0.     -0.2899  0.4701  1.2899\n",
            "  -0.4701]\n",
            " [ 0.      0.      0.      0.      0.      0.      0.4701 -0.7622 -0.4701\n",
            "   0.7622]]\n"
          ]
        },
        {
          "output_type": "display_data",
          "data": {
            "text/plain": [
              "<Figure size 432x288 with 1 Axes>"
            ],
            "image/png": "[encoded data removed]"
          },
          "metadata": {
            "needs_background": "light"
          }
        }
      ]
    },
    {
      "cell_type": "code",
      "source": [
        "#THE FORCE VECTOR LOOKS LIKE THIS\n",
        "#[0,0,0,0,0,-100,0,0,0,0] SO YOU CAN SOLVE FOR THIS VECTOR\n",
        "# THE ABOVE RESULTS ARE CORRECT AND TESTED"
      ],
      "metadata": {
        "id": "pQVmAp95MPT9"
      },
      "execution_count": null,
      "outputs": []
    },
    {
      "cell_type": "code",
      "source": [
        "#the below given problems give bad wrong results so go up and check it"
      ],
      "metadata": {
        "id": "vP6eJgRmB2mH"
      },
      "execution_count": null,
      "outputs": []
    },
    {
      "cell_type": "code",
      "source": [
        "\n",
        "import numpy as np\n",
        "import pandas as pd\n",
        "\n",
        "def generate_indices_csv(filename, n, num_element_stiffness_matrices):\n",
        "    indices = np.zeros((num_element_stiffness_matrices, 6), dtype=int)\n",
        "    for i in range(num_element_stiffness_matrices):\n",
        "        indices[i, :] = np.random.randint(1, n+1, 6)\n",
        "    df = pd.DataFrame(indices, columns=['i1', 'i2', 'i3','i4','i5','i6'])\n",
        "    df.to_csv(filename, index=False)\n",
        "\n",
        "def assemble_global_stiffness_matrix(n, element_stiffness_matrices, indices_df):\n",
        "    global_stiffness_matrix = np.zeros((n, n))\n",
        "    for i, row in indices_df.iterrows():\n",
        "        index = row.tolist()\n",
        "        for row in range(element_stiffness_matrices[i].shape[0]):\n",
        "            for col in range(element_stiffness_matrices[i].shape[1]):\n",
        "                if index[row] <= n and index[col] <= n:\n",
        "                    global_stiffness_matrix[index[row]-1, index[col]-1] += element_stiffness_matrices[i][row, col]\n",
        "    return global_stiffness_matrix\n",
        "\n",
        "n = 8\n",
        "num_element_stiffness_matrices = 2\n",
        "element_stiffness_matrices = [np.array([[140, 0,0,-70,-140,70], [0,400,-60,0,60,-400], [0,-60,100,0,-100,60] ,[-70,0,0,35,70,-35],[-140,60,-100,70,240,-130][70,-400,60,-35,-130,435]]),\n",
        "                             np.array([[100, 0,-100,60,0,-60], [0,35,70,-35,-70,0], [-100,70,240,-130,-140,60] ,[60,-35,-130,435,70,-400],[0,-70,-140,70,140,0][-60,0,60,-400,0,400]])]\n",
        "#filename = 'indices.csv'\n",
        "#generate_indices_csv(filename, n, num_element_stiffness_matrices)\n",
        "indices_df = pd.read_csv('/content/indices6dlogan.csv')\n",
        "global_stiffness_matrix = assemble_global_stiffness_matrix(n, element_stiffness_matrices, indices_df)\n",
        "print(global_stiffness_matrix)\n",
        "# Plot the global stiffness matrix as a sparse plot array\n",
        "plt.spy(global_stiffness_matrix, markersize=15, color='red')\n",
        "plt.show()\n",
        "# Save the global stiffness matrix in a text file\n",
        "np.savetxt(\"global_stiffness_matrix.txt\", global_stiffness_matrix, fmt='%d')\n",
        "# Save the global stiffness matrix in Python matrix format\n",
        "import numpy as np\n",
        "\n",
        "with open('global_stiffness_matrix.py', 'w') as f:\n",
        "    f.write('import numpy as np\\n\\n')\n",
        "    f.write('global_stiffness_matrix = np.array([\\n')\n",
        "    for i in range(global_stiffness_matrix.shape[0]):\n",
        "        f.write('    [')\n",
        "        for j in range(global_stiffness_matrix.shape[1]):\n",
        "            f.write(str(global_stiffness_matrix[i][j]))\n",
        "            if j < global_stiffness_matrix.shape[1] - 1:\n",
        "                f.write(', ')\n",
        "        f.write(']')\n",
        "        if i < global_stiffness_matrix.shape[0] - 1:\n",
        "            f.write(',\\n')\n",
        "    f.write('])\\n')"
      ],
      "metadata": {
        "colab": {
          "base_uri": "https://localhost:8080/",
          "height": 499
        },
        "id": "27_eaLdMy354",
        "outputId": "e792c97e-0196-4805-c679-b64f034b13cd"
      },
      "execution_count": 20,
      "outputs": [
        {
          "output_type": "stream",
          "name": "stderr",
          "text": [
            "<>:23: SyntaxWarning: list indices must be integers or slices, not tuple; perhaps you missed a comma?\n",
            "<>:24: SyntaxWarning: list indices must be integers or slices, not tuple; perhaps you missed a comma?\n",
            "<>:23: SyntaxWarning: list indices must be integers or slices, not tuple; perhaps you missed a comma?\n",
            "<>:24: SyntaxWarning: list indices must be integers or slices, not tuple; perhaps you missed a comma?\n",
            "<ipython-input-20-c1fc24d93968>:23: SyntaxWarning: list indices must be integers or slices, not tuple; perhaps you missed a comma?\n",
            "  element_stiffness_matrices = [np.array([[140, 0,0,-70,-140,70], [0,400,-60,0,60,-400], [0,-60,100,0,-100,60] ,[-70,0,0,35,70,-35],[-140,60,-100,70,240,-130][70,-400,60,-35,-130,435]]),\n",
            "<ipython-input-20-c1fc24d93968>:24: SyntaxWarning: list indices must be integers or slices, not tuple; perhaps you missed a comma?\n",
            "  np.array([[100, 0,-100,60,0,-60], [0,35,70,-35,-70,0], [-100,70,240,-130,-140,60] ,[60,-35,-130,435,70,-400],[0,-70,-140,70,140,0][-60,0,60,-400,0,400]])]\n"
          ]
        },
        {
          "output_type": "error",
          "ename": "TypeError",
          "evalue": "ignored",
          "traceback": [
            "\u001b[0;31m---------------------------------------------------------------------------\u001b[0m",
            "\u001b[0;31mTypeError\u001b[0m                                 Traceback (most recent call last)",
            "\u001b[0;32m<ipython-input-20-c1fc24d93968>\u001b[0m in \u001b[0;36m<module>\u001b[0;34m\u001b[0m\n\u001b[1;32m     21\u001b[0m \u001b[0mn\u001b[0m \u001b[0;34m=\u001b[0m \u001b[0;36m8\u001b[0m\u001b[0;34m\u001b[0m\u001b[0;34m\u001b[0m\u001b[0m\n\u001b[1;32m     22\u001b[0m \u001b[0mnum_element_stiffness_matrices\u001b[0m \u001b[0;34m=\u001b[0m \u001b[0;36m8\u001b[0m\u001b[0;34m\u001b[0m\u001b[0;34m\u001b[0m\u001b[0m\n\u001b[0;32m---> 23\u001b[0;31m element_stiffness_matrices = [np.array([[140, 0,0,-70,-140,70], [0,400,-60,0,60,-400], [0,-60,100,0,-100,60] ,[-70,0,0,35,70,-35],[-140,60,-100,70,240,-130][70,-400,60,-35,-130,435]]),\n\u001b[0m\u001b[1;32m     24\u001b[0m                              np.array([[100, 0,-100,60,0,-60], [0,35,70,-35,-70,0], [-100,70,240,-130,-140,60] ,[60,-35,-130,435,70,-400],[0,-70,-140,70,140,0][-60,0,60,-400,0,400]])]\n\u001b[1;32m     25\u001b[0m \u001b[0;31m#filename = 'indices.csv'\u001b[0m\u001b[0;34m\u001b[0m\u001b[0;34m\u001b[0m\u001b[0;34m\u001b[0m\u001b[0m\n",
            "\u001b[0;31mTypeError\u001b[0m: list indices must be integers or slices, not tuple"
          ]
        }
      ]
    },
    {
      "cell_type": "code",
      "source": [
        "import numpy as np\n",
        "import pandas as pd\n",
        "\n",
        "def generate_indices_csv(filename, n, num_element_stiffness_matrices):\n",
        "    indices = np.zeros((num_element_stiffness_matrices, 6), dtype=int)\n",
        "    for i in range(num_element_stiffness_matrices):\n",
        "        for j in range(3):\n",
        "            indices[i, j*2] = indices[i, j*2+1] = j+1\n",
        "        indices[i, 1::2] += np.random.randint(0, n-2, 3)\n",
        "    df = pd.DataFrame(indices, columns=['i1', 'i2', 'i3','i4','i5','i6'])\n",
        "    df.to_csv(filename, index=False)\n",
        "\n",
        "def assemble_global_stiffness_matrix(n, element_stiffness_matrices, indices_df):\n",
        "    global_stiffness_matrix = np.zeros((n, n))\n",
        "    for i, row in indices_df.iterrows():\n",
        "        index = row.tolist()\n",
        "        for row in range(element_stiffness_matrices[i].shape[0]):\n",
        "            for col in range(element_stiffness_matrices[i].shape[1]):\n",
        "                if index[row] <= n and index[col] <= n:\n",
        "                    global_stiffness_matrix[index[row]-1, index[col]-1] += element_stiffness_matrices[i][row, col]\n",
        "    return global_stiffness_matrix\n",
        "\n",
        "n = 8\n",
        "num_element_stiffness_matrices = 2\n",
        "element_stiffness_matrices = [np.array([[140, 0,0,-70,-140,70], [0,400,-60,0,60,-400], [0,-60,100,0,-100,60] ,[-70,0,0,35,70,-35],[-140,60,-100,70,240,-130],[70,-400,60,-35,-130,435]]),\n",
        "                             np.array([[100, 0,-100,60,0,-60], [0,35,70,-35,-70,0], [-100,70,240,-130,-140,60] ,[60,-35,-130,435,70,-400],[0,-70,-140,70,140,0],[-60,0,60,-400,0,400]])]\n",
        "\n",
        "#filename = '/content/indices6dlogan.csv'\n",
        "#generate_indices_csv(filename, n, num_element_stiffness_matrices)\n",
        "indices_df = pd.read_csv('/content/indices6dlogan.csv')\n",
        "indices_df = indices_df[['i1', 'i3', 'i5', 'i2', 'i4', 'i6']]\n",
        "global_stiffness_matrix = assemble_global_stiffness_matrix(n, element_stiffness_matrices, indices_df)\n",
        "\n",
        "# Plot the global stiffness matrix as a sparse plot array\n",
        "import matplotlib.pyplot as plt\n",
        "plt.spy(global_stiffness_matrix, markersize=15, color='red')\n",
        "plt.show()\n",
        "\n",
        "# Save the global stiffness matrix in a text file\n",
        "np.savetxt(\"global_stiffness_matrix.txt\", global_stiffness_matrix, fmt='%d')\n",
        "# Save the global stiffness matrix in Python matrix format\n",
        "import numpy as np\n",
        "\n",
        "with open('global_stiffness_matrix.py', 'w') as f:\n",
        "    f.write('import numpy as np\\n\\n')\n",
        "    f.write('global_stiffness_matrix = np.array([\\n')\n",
        "    for i in range(global_stiffness_matrix.shape[0]):\n",
        "        f.write('    [')\n",
        "        for j in range(global_stiffness_matrix.shape[1]):\n",
        "            f.write(str(global_stiffness_matrix[i][j]))\n",
        "            if j < global_stiffness_matrix.shape[1] - 1:\n",
        "                f.write(', ')\n",
        "        f.write(']')\n",
        "        if i < global_stiffness_matrix.shape[0] - 1:\n",
        "            f.write(',\\n')\n",
        "    f.write('])\\n')\n"
      ],
      "metadata": {
        "colab": {
          "base_uri": "https://localhost:8080/",
          "height": 269
        },
        "id": "SLqUfaHZ4z3q",
        "outputId": "1168767e-94df-43a8-84a2-7443317e843a"
      },
      "execution_count": 23,
      "outputs": [
        {
          "output_type": "display_data",
          "data": {
            "text/plain": [
              "<Figure size 432x288 with 1 Axes>"
            ],
            "image/png": "[encoded data removed]"
          },
          "metadata": {
            "needs_background": "light"
          }
        }
      ]
    },
    {
      "cell_type": "code",
      "source": [
        "import numpy as np\n",
        "import pandas as pd\n",
        "\n",
        "def generate_indices_csv(filename, n, num_element_stiffness_matrices):\n",
        "    indices = np.zeros((num_element_stiffness_matrices, 6), dtype=int)\n",
        "    for i in range(num_element_stiffness_matrices):\n",
        "        for j in range(3):\n",
        "            indices[i, j*2] = j+1\n",
        "            indices[i, j*2+1] = j+1+np.random.randint(0, n-1)\n",
        "    df = pd.DataFrame(indices, columns=['i1', 'i2', 'i3','i4','i5','i6'])\n",
        "    df.to_csv(filename, index=False)\n",
        "\n",
        "def assemble_global_stiffness_matrix(n, element_stiffness_matrices, indices_df):\n",
        "    global_stiffness_matrix = np.zeros((n, n))\n",
        "    for i, row in indices_df.iterrows():\n",
        "        index = row.tolist()\n",
        "        for row in range(element_stiffness_matrices[i].shape[0]):\n",
        "            for col in range(element_stiffness_matrices[i].shape[1]):\n",
        "                if index[row] <= n and index[col] <= n:\n",
        "                    global_stiffness_matrix[index[row]-1, index[col]-1] += element_stiffness_matrices[i][row, col]\n",
        "    return global_stiffness_matrix\n",
        "\n",
        "n = 8\n",
        "num_element_stiffness_matrices = 2\n",
        "element_stiffness_matrices = [np.array([[140, 0,0,-70,-140,70], [0,400,-60,0,60,-400], [0,-60,100,0,-100,60] ,[-70,0,0,35,70,-35],[-140,60,-100,70,240,-130],[70,-400,60,-35,-130,435]]),\n",
        "                             np.array([[100, 0,-100,60,0,-60], [0,35,70,-35,-70,0], [-100,70,240,-130,-140,60] ,[60,-35,-130,435,70,-400],[0,-70,-140,70,140,0],[-60,0,60,-400,0,400]])]\n",
        "\n",
        "#filename = '/content/indices6dlogan.csv'\n",
        "#generate_indices_csv(filename, n, num_element_stiffness_matrices)\n",
        "indices_df = pd.read_csv('/content/indices6dlogan.csv')\n",
        "indices_df = indices_df[['i1', 'i3', 'i5', 'i2', 'i4', 'i6']]\n",
        "global_stiffness_matrix = assemble_global_stiffness_matrix(n, element_stiffness_matrices, indices_df)\n",
        "\n",
        "# Plot the global stiffness matrix as a sparse plot array\n",
        "import matplotlib.pyplot as plt\n",
        "plt.spy(global_stiffness_matrix, markersize=15, color='red')\n",
        "plt.show()\n",
        "\n",
        "# Save the global stiffness matrix in a text file\n",
        "np.savetxt(\"global_stiffness_matrix.txt\", global_stiffness_matrix, fmt='%d')\n",
        "# Save the global stiffness matrix in Python matrix format\n",
        "import numpy as np\n",
        "\n",
        "with open('global_stiffness_matrix.py', 'w') as f:\n",
        "    f.write('import numpy as np\\n\\n')\n",
        "    f.write('global_stiffness_matrix = np.array([\\n')\n",
        "    for i in range(global_stiffness_matrix.shape[0]):\n",
        "        f.write('    [')\n",
        "        for j in range(global_stiffness_matrix.shape[1]):\n",
        "            f.write(str(global_stiffness_matrix[i][j]))\n",
        "            if j < global_stiffness_matrix.shape[1] - 1:\n",
        "                f.write(', ')\n",
        "        f.write(']')\n",
        "        if i < global_stiffness_matrix.shape[0] - 1:\n",
        "            f.write(',\\n')\n",
        "    f.write('])\\n')\n"
      ],
      "metadata": {
        "colab": {
          "base_uri": "https://localhost:8080/",
          "height": 269
        },
        "id": "c4BWVLbA79HK",
        "outputId": "9e04c0d0-a166-4ec2-a243-708246b28871"
      },
      "execution_count": 25,
      "outputs": [
        {
          "output_type": "display_data",
          "data": {
            "text/plain": [
              "<Figure size 432x288 with 1 Axes>"
            ],
            "image/png": "[encoded data removed]"
          },
          "metadata": {
            "needs_background": "light"
          }
        }
      ]
    },
    {
      "cell_type": "code",
      "source": [
        "import numpy as np\n",
        "\n",
        "def assemble_global_stiffness_matrix(element_stiffness_matrices, indices):\n",
        "    num_nodes = (np.max(indices) + 1)\n",
        "    global_stiffness_matrix = np.zeros((num_nodes, num_nodes))\n",
        "    for element_stiffness_matrix, (i, j, k, l, m, n) in zip(element_stiffness_matrices, indices):\n",
        "        submatrix = np.array([[i, j, k], [j, l, m], [k, m, n]])\n",
        "        global_stiffness_matrix[np.ix_([i, j, k], [i, j, k])] += element_stiffness_matrix[:3, :3]\n",
        "        global_stiffness_matrix[np.ix_([i, j, k], [l, m, n])] += element_stiffness_matrix[:3, 3:]\n",
        "        global_stiffness_matrix[np.ix_([l, m, n], [i, j, k])] += element_stiffness_matrix[3:, :3]\n",
        "        global_stiffness_matrix[np.ix_([l, m, n], [l, m, n])] += element_stiffness_matrix[3:, 3:]\n",
        "    return global_stiffness_matrix\n"
      ],
      "metadata": {
        "id": "crXP9nlI_kva"
      },
      "execution_count": 26,
      "outputs": []
    },
    {
      "cell_type": "code",
      "source": [
        "element_stiffness_matrices = [np.array([[140, 0,0,-70,-140,70], [0,400,-60,0,60,-400], [0,-60,100,0,-100,60] ,[-70,0,0,35,70,-35],[-140,60,-100,70,240,-130],[70,-400,60,-35,-130,435]]),\n",
        "                              np.array([[100, 0,-100,60,0,-60], [0,35,70,-35,-70,0], [-100,70,240,-130,-140,60] ,[60,-35,-130,435,70,-400],[0,-70,-140,70,140,0],[-60,0,60,-400,0,400]])]\n",
        "\n",
        "indices = [(1,1,3,3,2,2), (1,1,4,4,3,3)]\n",
        "\n",
        "global_stiffness_matrix = assemble_global_stiffness_matrix(element_stiffness_matrices, indices)\n",
        "\n",
        "print(global_stiffness_matrix)\n"
      ],
      "metadata": {
        "colab": {
          "base_uri": "https://localhost:8080/"
        },
        "id": "XH7NFcWu_nJG",
        "outputId": "00ce9ecc-4989-4377-f68f-4f54198b74ed"
      },
      "execution_count": 27,
      "outputs": [
        {
          "output_type": "stream",
          "name": "stdout",
          "text": [
            "[[   0.    0.    0.    0.    0.]\n",
            " [   0.  435. -400.  -60.   35.]\n",
            " [   0. -400.  435.   25.    0.]\n",
            " [   0.  -60.   25.  535. -340.]\n",
            " [   0.   35.    0. -340.  415.]]\n"
          ]
        }
      ]
    },
    {
      "cell_type": "code",
      "source": [
        "import numpy as np\n",
        "\n",
        "# Define element stiffness matrices\n",
        "element_stiffness_matrices = [\n",
        "    np.array([[140, 0, 0, -70, -140, 70], [0, 400, -60, 0, 60, -400], [0, -60, 100, 0, -100, 60], \n",
        "              [-70, 0, 0, 35, 70, -35], [-140, 60, -100, 70, 240, -130], [70, -400, 60, -35, -130, 435]]),\n",
        "    np.array([[100, 0, -100, 60, 0, -60], [0, 35, 70, -35, -70, 0], [-100, 70, 240, -130, -140, 60], \n",
        "              [60, -35, -130, 435, 70, -400], [0, -70, -140, 70, 140, 0], [-60, 0, 60, -400, 0, 400]])\n",
        "]\n",
        "\n",
        "# Define element indices\n",
        "element_indices = [(1, 1, 3, 3, 2, 2), (1, 1, 4, 4, 3, 3)]\n",
        "\n",
        "# Compute global stiffness matrix\n",
        "n = max(max(indices) for indices in element_indices)\n",
        "global_stiffness_matrix = np.zeros((n, n))\n",
        "for i, indices in enumerate(element_indices):\n",
        "    k = element_stiffness_matrices[i]\n",
        "    for p, q in zip(indices, indices[::-1]):\n",
        "        global_stiffness_matrix[p-1, q-1] += k[indices.index(p), indices.index(q)]\n",
        "\n",
        "print(global_stiffness_matrix)\n"
      ],
      "metadata": {
        "colab": {
          "base_uri": "https://localhost:8080/"
        },
        "id": "zb_YYxYK_-4r",
        "outputId": "3475035b-025b-4d8d-e791-350e7a748188"
      },
      "execution_count": 28,
      "outputs": [
        {
          "output_type": "stream",
          "name": "stdout",
          "text": [
            "[[   0. -280.    0.    0.]\n",
            " [-280.    0.    0.    0.]\n",
            " [   0.    0.  200.    0.]\n",
            " [   0.    0.    0.  480.]]\n"
          ]
        }
      ]
    }
  ]
}