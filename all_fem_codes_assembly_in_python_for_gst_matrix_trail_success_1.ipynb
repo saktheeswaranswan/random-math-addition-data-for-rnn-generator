{
  "nbformat": 4,
  "nbformat_minor": 0,
  "metadata": {
    "colab": {
      "provenance": []
    },
    "kernelspec": {
      "name": "python3",
      "display_name": "Python 3"
    },
    "language_info": {
      "name": "python"
    }
  },
  "cells": [
    {
      "cell_type": "code",
      "execution_count": 1,
      "metadata": {
        "colab": {
          "base_uri": "https://localhost:8080/",
          "height": 269
        },
        "id": "2PZqEVTPVvG8",
        "outputId": "ed618958-e682-40d6-8453-2b5a83102208"
      },
      "outputs": [
        {
          "output_type": "display_data",
          "data": {
            "text/plain": [
              "<Figure size 432x288 with 1 Axes>"
            ],
            "image/png": "[encoded data removed]"
          },
          "metadata": {
            "needs_background": "light"
          }
        }
      ],
      "source": [
        "import csv\n",
        "import numpy as np\n",
        "import matplotlib.pyplot as plt\n",
        "import scipy.sparse as sp\n",
        "\n",
        "# Read the CSV file with indices\n",
        "with open('/content/5indices.csv', 'r') as f:\n",
        "    reader = csv.reader(f)\n",
        "    next(reader) # skip the header row\n",
        "    indices = [list(map(int, row)) for row in reader]\n",
        "\n",
        "# Initialize the global stiffness matrix with zeros\n",
        "global_stiffness_matrix = np.zeros((125, 125))\n",
        "\n",
        "# Define the 5x5 local stiffness matrix\n",
        "local_stiffness_matrix = np.array([[5, -1, 0, -1, 0], [-1, 5, -1, 0, -1], [0, -1, 5, -1, 0], [-1, 0, -1, 5, -1], [0, -1, 0, -1, 5]])\n",
        "\n",
        "# Loop through the indices\n",
        "for row in indices:\n",
        "    i, j, k, l, m = row\n",
        "    # Assemble the local stiffness matrix into the global stiffness matrix\n",
        "    global_stiffness_matrix[i-1:i+4, j-1:j+4] += local_stiffness_matrix\n",
        "\n",
        "# Plot the sparse plot of the global stiffness matrix\n",
        "plt.spy(sp.csc_matrix(global_stiffness_matrix))\n",
        "plt.show()\n"
      ]
    },
    {
      "cell_type": "code",
      "source": [
        "import csv\n",
        "import numpy as np\n",
        "import matplotlib.pyplot as plt\n",
        "import scipy.sparse as sp\n",
        "\n",
        "# Read the CSV file with indices\n",
        "with open('/content/6indices.csv', 'r') as f:\n",
        "    reader = csv.reader(f)\n",
        "    next(reader) # skip the header row\n",
        "    indices = [list(map(int, row)) for row in reader]\n",
        "\n",
        "# Initialize the global stiffness matrix with zeros\n",
        "global_stiffness_matrix = np.zeros((150, 150))\n",
        "\n",
        "# Define the 6x6 local stiffness matrix\n",
        "local_stiffness_matrix = np.array([[6, -1, 0, -1, 0, 0], [-1, 6, -1, 0, -1, 0], [0, -1, 6, -1, 0, -1], [-1, 0, -1, 6, -1, 0], [0, -1, 0, -1, 6, -1], [0, 0, -1, 0, -1, 6]])\n",
        "\n",
        "# Loop through the indices\n",
        "for row in indices:\n",
        "    i, j, k, l, m, n = row\n",
        "    # Assemble the local stiffness matrix into the global stiffness matrix\n",
        "    global_stiffness_matrix[i-1:i+5, j-1:j+5] += local_stiffness_matrix\n",
        "\n",
        "# Plot the sparse plot of the global stiffness matrix\n",
        "plt.spy(sp.csc_matrix(global_stiffness_matrix))\n",
        "plt.show()\n"
      ],
      "metadata": {
        "colab": {
          "base_uri": "https://localhost:8080/",
          "height": 269
        },
        "id": "im6QSL2OWk15",
        "outputId": "8484245c-537c-4cc2-8e28-3811dcafb331"
      },
      "execution_count": 2,
      "outputs": [
        {
          "output_type": "display_data",
          "data": {
            "text/plain": [
              "<Figure size 432x288 with 1 Axes>"
            ],
            "image/png": "[encoded data removed]"
          },
          "metadata": {
            "needs_background": "light"
          }
        }
      ]
    },
    {
      "cell_type": "code",
      "source": [
        "import csv\n",
        "import numpy as np\n",
        "import matplotlib.pyplot as plt\n",
        "import scipy.sparse as sp\n",
        "\n",
        "# Read the CSV file with indices\n",
        "with open('/content/6indices.csv', 'r') as f:\n",
        "    reader = csv.reader(f)\n",
        "    next(reader) # skip the header row\n",
        "    indices = [list(map(int, row)) for row in reader]\n",
        "\n",
        "# Initialize the global stiffness matrix with zeros\n",
        "global_stiffness_matrix = np.zeros((150, 150))\n",
        "\n",
        "# Define the 6x6 local stiffness matrix\n",
        "local_stiffness_matrix = np.array([[6, -1, 0, -1, 0, 0], [-1, 6, -1, 0, -1, 0], [0, -1, 6, -1, 0, -1], [-1, 0, -1, 6, -1, 0], [0, -1, 0, -1, 6, -1], [0, 0, -1, 0, -1, 6]])\n",
        "\n",
        "# Loop through the indices\n",
        "for row in indices:\n",
        "    i, j, k, l, m, n = row\n",
        "    # Assemble the local stiffness matrix into the global stiffness matrix\n",
        "    global_stiffness_matrix[i-1:i+5, j-1:j+5] += local_stiffness_matrix\n",
        "\n",
        "# Plot the sparse plot of the global stiffness matrix\n",
        "plt.spy(sp.csc_matrix(global_stiffness_matrix))\n",
        "plt.show()\n",
        "\n",
        "# Plot the global stiffness matrix with color code to show contribution from each local stiffness matrix\n",
        "plt.imshow(global_stiffness_matrix, cmap='jet')\n",
        "for index, row in enumerate(indices):\n",
        "    i, j, k, l, m, n = row\n",
        "    plt.imshow(local_stiffness_matrix, extent=(j-1, j+5, i+5, i-1), alpha=0.5)\n",
        "plt.colorbar()\n",
        "plt.show()\n",
        "\n",
        "# Export the global stiffness matrix to a CSV file\n",
        "np.savetxt(\"global_stiffness_matrix.csv\", global_stiffness_matrix, delimiter=\",\")\n",
        "\n",
        "# Export the global stiffness matrix to an xlsx file\n",
        "import pandas as pd\n",
        "df = pd.DataFrame(global_stiffness_matrix)\n",
        "df.to_excel(\"global_stiffness_matrix.xlsx\", index=False)\n",
        "# Export the global stiffness matrix to a csv file\n",
        "np.savetxt(\"global_stiffness_matrix.csv\", global_stiffness_matrix, delimiter=\",\")\n",
        "\n",
        "# Export the global stiffness matrix to an xlsx file\n",
        "import openpyxl\n",
        "\n",
        "wb = openpyxl.Workbook()\n",
        "sheet = wb.active\n",
        "\n",
        "for i in range(global_stiffness_matrix.shape[0]):\n",
        "    for j in range(global_stiffness_matrix.shape[1]):\n",
        "        sheet.cell(row=i+1, column=j+1, value=global_stiffness_matrix[i, j])\n",
        "\n",
        "wb.save(\"global_stiffness_matrix.xlsx\")\n"
      ],
      "metadata": {
        "colab": {
          "base_uri": "https://localhost:8080/",
          "height": 521
        },
        "id": "_OWpnsSHhOta",
        "outputId": "0a2d82d3-9e08-4dbd-a88a-f32b8f27b918"
      },
      "execution_count": 15,
      "outputs": [
        {
          "output_type": "display_data",
          "data": {
            "text/plain": [
              "<Figure size 432x288 with 1 Axes>"
            ],
            "image/png": "[encoded data removed]"
          },
          "metadata": {
            "needs_background": "light"
          }
        },
        {
          "output_type": "display_data",
          "data": {
            "text/plain": [
              "<Figure size 432x288 with 2 Axes>"
            ],
            "image/png": "[encoded data removed]"
          },
          "metadata": {
            "needs_background": "light"
          }
        }
      ]
    },
    {
      "cell_type": "code",
      "source": [
        "import csv\n",
        "import numpy as np\n",
        "import matplotlib.pyplot as plt\n",
        "import scipy.sparse as sp\n",
        "\n",
        "# Read the CSV file with indices\n",
        "with open('/content/4ind4randstifness.csv', 'r') as f:\n",
        "    reader = csv.reader(f)\n",
        "    next(reader) # skip the header row\n",
        "    indices = [list(map(int, row)) for row in reader]\n",
        "\n",
        "# Initialize the global stiffness matrix with zeros\n",
        "global_stiffness_matrix = np.zeros((100, 100))\n",
        "\n",
        "# Define the 4x4 local stiffness matrix\n",
        "local_stiffness_matrix = np.array([[4, -1, 0, -1], [-1, 4, -1, 0], [0, -1, 4, -1], [-1, 0, -1, 4]])\n",
        "\n",
        "# Loop through the indices\n",
        "for row in indices:\n",
        "    i, j, k, l = row\n",
        "    # Assemble the local stiffness matrix into the global stiffness matrix\n",
        "    global_stiffness_matrix[i-1:i+3, j-1:j+3] += local_stiffness_matrix\n",
        "\n",
        "# Plot the sparse plot of the global stiffness matrix\n",
        "plt.spy(sp.csc_matrix(global_stiffness_matrix))\n",
        "plt.show()\n",
        "\n",
        "# Plot the global stiffness matrix with color code to show contribution from each local stiffness matrix\n",
        "plt.imshow(global_stiffness_matrix, cmap='jet')\n",
        "for index, row in enumerate(indices):\n",
        "    i, j, k, l = row\n",
        "    plt.imshow(local_stiffness_matrix, extent=(j-1, j+3, i+3, i-1), alpha=0.5)\n",
        "plt.colorbar()\n",
        "plt.show()\n",
        "\n",
        "# Export the global stiffness matrix to a CSV file\n",
        "np.savetxt(\"global_stiffness_matrix.csv\", global_stiffness_matrix, delimiter=\",\")\n",
        "\n",
        "# Export the global stiffness matrix to an xlsx file\n",
        "import pandas as pd\n",
        "df = pd.DataFrame(global_stiffness_matrix)\n",
        "df.to_excel(\"global_stiffness_matrix.xlsx\", index=False)\n",
        "\n",
        "# Export the global stiffness matrix to an xlsx file using openpyxl\n",
        "import openpyxl\n",
        "\n",
        "wb = openpyxl.Workbook()\n",
        "sheet = wb.active\n",
        "\n",
        "for i in range(global_stiffness_matrix.shape[0]):\n",
        "    for j in range(global_stiffness_matrix.shape[1]):\n",
        "        sheet.cell(row=i+1, column=j+1, value=global_stiffness_matrix[i, j])\n",
        "\n",
        "wb.save(\"global_stiffness_matrix.xlsx\")\n"
      ],
      "metadata": {
        "colab": {
          "base_uri": "https://localhost:8080/",
          "height": 521
        },
        "id": "LS-c2KSHiCWb",
        "outputId": "c05e2208-0b75-4a25-bd05-49e6d5e24a22"
      },
      "execution_count": 16,
      "outputs": [
        {
          "output_type": "display_data",
          "data": {
            "text/plain": [
              "<Figure size 432x288 with 1 Axes>"
            ],
            "image/png": "[encoded data removed]"
          },
          "metadata": {
            "needs_background": "light"
          }
        },
        {
          "output_type": "display_data",
          "data": {
            "text/plain": [
              "<Figure size 432x288 with 2 Axes>"
            ],
            "image/png": "[encoded data removed]"
          },
          "metadata": {
            "needs_background": "light"
          }
        }
      ]
    },
    {
      "cell_type": "code",
      "source": [
        "import csv\n",
        "import numpy as np\n",
        "import matplotlib.pyplot as plt\n",
        "import scipy.sparse as sp\n",
        "\n",
        "# Read the CSV file with indices\n",
        "with open('/content/4ind.csv', 'r') as f:\n",
        "    reader = csv.reader(f)\n",
        "    next(reader) # skip the header row\n",
        "    indices = [list(map(int, row)) for row in reader]\n",
        "\n",
        "# Initialize the global stiffness matrix with zeros\n",
        "global_stiffness_matrix = np.zeros((100, 100))\n",
        "\n",
        "# Define the 4x4 local stiffness matrix\n",
        "local_stiffness_matrix = np.array([[4, -1, 0, -1], [-1, 4, -1, 0], [0, -1, 4, -1], [-1, 0, -1, 4]])\n",
        "\n",
        "# Loop through the indices\n",
        "for row in indices:\n",
        "    i, j, k, l = row\n",
        "    # Assemble the local stiffness matrix into the global stiffness matrix\n",
        "    global_stiffness_matrix[i-1:i+3, j-1:j+3] += local_stiffness_matrix\n",
        "\n",
        "# Plot the sparse plot of the global stiffness matrix\n",
        "plt.spy(sp.csc_matrix(global_stiffness_matrix))\n",
        "plt.show()\n",
        "\n",
        "# Plot the global stiffness matrix with color code to show contribution from each local stiffness matrix\n",
        "plt.imshow(global_stiffness_matrix, cmap='jet')\n",
        "for index, row in enumerate(indices):\n",
        "    i, j, k, l = row\n",
        "    plt.imshow(local_stiffness_matrix, extent=(j-1, j+3, i+3, i-1), alpha=0.5)\n",
        "plt.colorbar()\n",
        "plt.show()\n",
        "\n",
        "# Export the global stiffness matrix to a CSV file\n",
        "np.savetxt(\"global_stiffness_matrix.csv\", global_stiffness_matrix, delimiter=\",\")\n",
        "\n",
        "# Export the global stiffness matrix to an xlsx file\n",
        "import pandas as pd\n",
        "df = pd.DataFrame(global_stiffness_matrix)\n",
        "df.to_excel(\"global_stiffness_matrix.xlsx\", index=False)\n",
        "\n",
        "# Export the global stiffness matrix to an xlsx file using openpyxl\n",
        "import openpyxl\n",
        "\n",
        "wb = openpyxl.Workbook()\n",
        "sheet = wb.active\n",
        "\n",
        "for i in range(global_stiffness_matrix.shape[0]):\n",
        "    for j in range(global_stiffness_matrix.shape[1]):\n",
        "        sheet.cell(row=i+1, column=j+1, value=global_stiffness_matrix[i, j])\n",
        "\n",
        "wb.save(\"global_stiffness_matrix.xlsx\")\n"
      ],
      "metadata": {
        "colab": {
          "base_uri": "https://localhost:8080/",
          "height": 521
        },
        "id": "R0z1rBvOiOCc",
        "outputId": "d335c823-d311-4fa5-f41c-2a19346dddc1"
      },
      "execution_count": 24,
      "outputs": [
        {
          "output_type": "display_data",
          "data": {
            "text/plain": [
              "<Figure size 432x288 with 1 Axes>"
            ],
            "image/png": "[encoded data removed]"
          },
          "metadata": {
            "needs_background": "light"
          }
        },
        {
          "output_type": "display_data",
          "data": {
            "text/plain": [
              "<Figure size 432x288 with 2 Axes>"
            ],
            "image/png": "[encoded data removed]"
          },
          "metadata": {
            "needs_background": "light"
          }
        }
      ]
    },
    {
      "cell_type": "code",
      "source": [
        "import csv\n",
        "import numpy as np\n",
        "import matplotlib.pyplot as plt\n",
        "import scipy.sparse as sp\n",
        "\n",
        "# Read the CSV file with indices\n",
        "with open('/content/3inew.csv', 'r') as f:\n",
        "    reader = csv.reader(f)\n",
        "    next(reader) # skip the header row\n",
        "    indices = [list(map(int, row)) for row in reader]\n",
        "\n",
        "# Initialize the global stiffness matrix with zeros\n",
        "global_stiffness_matrix = np.zeros((100, 100))\n",
        "\n",
        "# Define the 3x3 local stiffness matrix\n",
        "local_stiffness_matrix = np.array([[3, -1, 0], [-1, 3, -1], [0, -1, 3]])\n",
        "\n",
        "# Loop through the indices\n",
        "for row in indices:\n",
        "    i, j, k = row\n",
        "    # Assemble the local stiffness matrix into the global stiffness matrix\n",
        "    global_stiffness_matrix[i-1:i+2, j-1:j+2] += local_stiffness_matrix\n",
        "\n",
        "# Plot the sparse plot of the global stiffness matrix\n",
        "plt.spy(sp.csc_matrix(global_stiffness_matrix))\n",
        "plt.show()\n",
        "\n",
        "# Plot the global stiffness matrix with color code to show contribution from each local stiffness matrix\n",
        "plt.imshow(global_stiffness_matrix, cmap='jet')\n",
        "for index, row in enumerate(indices):\n",
        "    i, j, k = row\n",
        "    plt.imshow(local_stiffness_matrix, extent=(j-1, j+2, i+2, i-1), alpha=0.5)\n",
        "plt.colorbar()\n",
        "plt.show()\n",
        "\n",
        "# Export the global stiffness matrix to a CSV file\n",
        "np.savetxt(\"global_stiffness_matrix.csv\", global_stiffness_matrix, delimiter=\",\")\n",
        "\n",
        "# Export the global stiffness matrix to an xlsx file\n",
        "import pandas as pd\n",
        "df = pd.DataFrame(global_stiffness_matrix)\n",
        "df.to_excel(\"global_stiffness_matrix.xlsx\", index=False)\n",
        "# Export the global stiffness matrix to a csv file\n",
        "np.savetxt(\"global_stiffness_matrix.csv\", global_stiffness_matrix, delimiter=\",\")\n",
        "\n",
        "#Export the global stiffness matrix to an xlsx file\n",
        "import pandas as pd\n",
        "df = pd.DataFrame(global_stiffness_matrix)\n",
        "df.to_excel(\"global_stiffness_matrix.xlsx\", index=False)\n",
        "\n",
        "#Export the global stiffness matrix to a csv file\n",
        "np.savetxt(\"global_stiffness_matrix.csv\", global_stiffness_matrix, delimiter=\",\")\n",
        "\n",
        "# Export the global stiffness matrix to an xlsx file\n",
        "import openpyxl\n",
        "\n",
        "wb = openpyxl.Workbook()\n",
        "sheet = wb.active\n",
        "\n",
        "for i in range(global_stiffness_matrix.shape[0]):\n",
        "    for j in range(global_stiffness_matrix.shape[1]):\n",
        "        sheet.cell(row=i+1, column=j+1, value=global_stiffness_matrix[i, j])\n",
        "\n",
        "wb.save(\"global_stiffness_matrix.xlsx\")\n"
      ],
      "metadata": {
        "colab": {
          "base_uri": "https://localhost:8080/",
          "height": 521
        },
        "id": "lbG4JFynkniV",
        "outputId": "565ebec1-c085-432a-a493-850d163cd8ba"
      },
      "execution_count": 29,
      "outputs": [
        {
          "output_type": "display_data",
          "data": {
            "text/plain": [
              "<Figure size 432x288 with 1 Axes>"
            ],
            "image/png": "[encoded data removed]"
          },
          "metadata": {
            "needs_background": "light"
          }
        },
        {
          "output_type": "display_data",
          "data": {
            "text/plain": [
              "<Figure size 432x288 with 2 Axes>"
            ],
            "image/png": "[encoded data removed]"
          },
          "metadata": {
            "needs_background": "light"
          }
        }
      ]
    },
    {
      "cell_type": "code",
      "source": [
        "#Note: The indices start from 1, not 0.\n",
        "\n",
        "\n",
        "\n"
      ],
      "metadata": {
        "id": "JDyn7DRYmNLf"
      },
      "execution_count": null,
      "outputs": []
    },
    {
      "cell_type": "code",
      "source": [
        "import csv\n",
        "import numpy as np\n",
        "import matplotlib.pyplot as plt\n",
        "import scipy.sparse as sp\n",
        "\n",
        "# Read the CSV file with indices\n",
        "with open('/content/2csvin.csv', 'r') as f:\n",
        "    reader = csv.reader(f)\n",
        "    next(reader) # skip the header row\n",
        "    indices = [list(map(int, row)) for row in reader]\n",
        "\n",
        "# Initialize the global stiffness matrix with zeros\n",
        "global_stiffness_matrix = np.zeros((10, 10))\n",
        "\n",
        "# Define the 2x2 local stiffness matrix\n",
        "local_stiffness_matrix = np.array([[2, -1], [-1, 2]])\n",
        "\n",
        "# Loop through the indices\n",
        "for row in indices:\n",
        "    i, j = row\n",
        "    # Assemble the local stiffness matrix into the global stiffness matrix\n",
        "    global_stiffness_matrix[i-1:i+1, j-1:j+1] += local_stiffness_matrix\n",
        "\n",
        "# Plot the sparse plot of the global stiffness matrix\n",
        "plt.spy(sp.csc_matrix(global_stiffness_matrix))\n",
        "plt.show()\n",
        "\n",
        "# Plot the global stiffness matrix with color code to show contribution from each local stiffness matrix\n",
        "plt.imshow(global_stiffness_matrix, cmap='jet')\n",
        "for index, row in enumerate(indices):\n",
        "    i, j = row\n",
        "    plt.imshow(local_stiffness_matrix, extent=(j-1, j+1, i+1, i-1), alpha=0.5)\n",
        "plt.colorbar()\n",
        "plt.show()\n",
        "\n",
        "# Export the global stiffness matrix to a CSV file\n",
        "np.savetxt(\"global_stiffness_matrix.csv\", global_stiffness_matrix, delimiter=\",\")\n",
        "\n",
        "# Export the global stiffness matrix to a CSV file\n",
        "np.savetxt(\"global_stiffness_matrix.csv\", global_stiffness_matrix, delimiter=\",\")\n",
        "\n",
        "# Export the global stiffness matrix to an xlsx file\n",
        "import pandas as pd\n",
        "df = pd.DataFrame(global_stiffness_matrix)\n",
        "df.to_excel(\"global_stiffness_matrix.xlsx\", index=False)\n",
        "\n",
        "# Export the global stiffness matrix to an xlsx file\n",
        "import openpyxl\n",
        "\n",
        "wb = openpyxl.Workbook()\n",
        "sheet = wb.active\n",
        "\n",
        "for i in range(global_stiffness_matrix.shape[0]):\n",
        "    for j in range(global_stiffness_matrix.shape[1]):\n",
        "        sheet.cell(row=i+1, column=j+1, value=global_stiffness_matrix[i, j])\n",
        "\n",
        "wb.save(\"global_stiffness_matrix.xlsx\")\n",
        "\n"
      ],
      "metadata": {
        "colab": {
          "base_uri": "https://localhost:8080/",
          "height": 521
        },
        "id": "q3VPFLFOo5_P",
        "outputId": "3053ddd2-7c65-4f56-cb15-19cc25780f31"
      },
      "execution_count": 33,
      "outputs": [
        {
          "output_type": "display_data",
          "data": {
            "text/plain": [
              "<Figure size 432x288 with 1 Axes>"
            ],
            "image/png": "[encoded data removed]"
          },
          "metadata": {
            "needs_background": "light"
          }
        },
        {
          "output_type": "display_data",
          "data": {
            "text/plain": [
              "<Figure size 432x288 with 2 Axes>"
            ],
            "image/png": "[encoded data removed]"
          },
          "metadata": {
            "needs_background": "light"
          }
        }
      ]
    },
    {
      "cell_type": "code",
      "source": [
        "import csv\n",
        "import numpy as np\n",
        "import matplotlib.pyplot as plt\n",
        "import scipy.sparse as sp\n",
        "\n",
        "# Read the CSV file with indices\n",
        "with open('/content/6indices.csv', 'r') as f:\n",
        "    reader = csv.reader(f)\n",
        "    next(reader) # skip the header row\n",
        "    indices = [list(map(int, row)) for row in reader]\n",
        "\n",
        "# Initialize the global stiffness matrix with zeros\n",
        "global_stiffness_matrix = np.zeros((150, 150))\n",
        "\n",
        "# Define the 6x6 local stiffness matrix\n",
        "local_stiffness_matrix = np.array([[6, -1, 0, -1, 0, 0], [-1, 6, -1, 0, -1, 0], [0, -1, 6, -1, 0, -1], [-1, 0, -1, 6, -1, 0], [0, -1, 0, -1, 6, -1], [0, 0, -1, 0, -1, 6]])\n",
        "\n",
        "# Loop through the indices\n",
        "for row in indices:\n",
        "    i, j, k, l, m, n = row\n",
        "    # Assemble the local stiffness matrix into the global stiffness matrix\n",
        "    global_stiffness_matrix[i-1:i+5, j-1:j+5] += local_stiffness_matrix\n",
        "\n",
        "# Plot the sparse plot of the global stiffness matrix\n",
        "plt.spy(sp.csc_matrix(global_stiffness_matrix))\n",
        "plt.show()\n",
        "\n",
        "# Save the global stiffness matrix as a text file\n",
        "np.savetxt(\"global_stiffness_matrix.txt\", global_stiffness_matrix)\n",
        "\n",
        "# Save the global stiffness matrix as a CSV file\n",
        "np.savetxt(\"global_stiffness_matrix.csv\", global_stiffness_matrix, delimiter=\",\")\n",
        "\n",
        "# Save the global stiffness matrix as an Excel file\n",
        "import pandas as pd\n",
        "df = pd.DataFrame(global_stiffness_matrix)\n",
        "df.to_excel(\"global_stiffness_matrix.xlsx\", index=False)\n",
        "\n",
        "# Color each stiffness matrix according to the ith and jth column and row\n",
        "# contributed to global stiffness matrix\n",
        "colors = plt.get_cmap(\"viridis\")(np.linspace(0, 1, len(indices)))\n",
        "for index, row in enumerate(indices):\n",
        "    i, j, k, l, m, n = row\n",
        "    plt.imshow(local_stiffness_matrix, cmap=colors[index], extent=(j, j+6, i, i+6))\n",
        "\n",
        "plt.show()\n"
      ],
      "metadata": {
        "colab": {
          "base_uri": "https://localhost:8080/",
          "height": 1000
        },
        "id": "JzBinMoqf-Q0",
        "outputId": "83c86496-d437-4fda-9a32-dc49dbc16979"
      },
      "execution_count": 14,
      "outputs": [
        {
          "output_type": "display_data",
          "data": {
            "text/plain": [
              "<Figure size 432x288 with 1 Axes>"
            ],
            "image/png": "[encoded data removed]"
          },
          "metadata": {
            "needs_background": "light"
          }
        },
        {
          "output_type": "error",
          "ename": "ValueError",
          "evalue": "ignored",
          "traceback": [
            "\u001b[0;31m---------------------------------------------------------------------------\u001b[0m",
            "\u001b[0;31mValueError\u001b[0m                                Traceback (most recent call last)",
            "\u001b[0;32m<ipython-input-14-d9b2f075f2f3>\u001b[0m in \u001b[0;36m<module>\u001b[0;34m\u001b[0m\n\u001b[1;32m     42\u001b[0m \u001b[0;32mfor\u001b[0m \u001b[0mindex\u001b[0m\u001b[0;34m,\u001b[0m \u001b[0mrow\u001b[0m \u001b[0;32min\u001b[0m \u001b[0menumerate\u001b[0m\u001b[0;34m(\u001b[0m\u001b[0mindices\u001b[0m\u001b[0;34m)\u001b[0m\u001b[0;34m:\u001b[0m\u001b[0;34m\u001b[0m\u001b[0;34m\u001b[0m\u001b[0m\n\u001b[1;32m     43\u001b[0m     \u001b[0mi\u001b[0m\u001b[0;34m,\u001b[0m \u001b[0mj\u001b[0m\u001b[0;34m,\u001b[0m \u001b[0mk\u001b[0m\u001b[0;34m,\u001b[0m \u001b[0ml\u001b[0m\u001b[0;34m,\u001b[0m \u001b[0mm\u001b[0m\u001b[0;34m,\u001b[0m \u001b[0mn\u001b[0m \u001b[0;34m=\u001b[0m \u001b[0mrow\u001b[0m\u001b[0;34m\u001b[0m\u001b[0;34m\u001b[0m\u001b[0m\n\u001b[0;32m---> 44\u001b[0;31m     \u001b[0mplt\u001b[0m\u001b[0;34m.\u001b[0m\u001b[0mimshow\u001b[0m\u001b[0;34m(\u001b[0m\u001b[0mlocal_stiffness_matrix\u001b[0m\u001b[0;34m,\u001b[0m \u001b[0mcmap\u001b[0m\u001b[0;34m=\u001b[0m\u001b[0mcolors\u001b[0m\u001b[0;34m[\u001b[0m\u001b[0mindex\u001b[0m\u001b[0;34m]\u001b[0m\u001b[0;34m,\u001b[0m \u001b[0mextent\u001b[0m\u001b[0;34m=\u001b[0m\u001b[0;34m(\u001b[0m\u001b[0mj\u001b[0m\u001b[0;34m,\u001b[0m \u001b[0mj\u001b[0m\u001b[0;34m+\u001b[0m\u001b[0;36m6\u001b[0m\u001b[0;34m,\u001b[0m \u001b[0mi\u001b[0m\u001b[0;34m,\u001b[0m \u001b[0mi\u001b[0m\u001b[0;34m+\u001b[0m\u001b[0;36m6\u001b[0m\u001b[0;34m)\u001b[0m\u001b[0;34m)\u001b[0m\u001b[0;34m\u001b[0m\u001b[0;34m\u001b[0m\u001b[0m\n\u001b[0m\u001b[1;32m     45\u001b[0m \u001b[0;34m\u001b[0m\u001b[0m\n\u001b[1;32m     46\u001b[0m \u001b[0mplt\u001b[0m\u001b[0;34m.\u001b[0m\u001b[0mshow\u001b[0m\u001b[0;34m(\u001b[0m\u001b[0;34m)\u001b[0m\u001b[0;34m\u001b[0m\u001b[0;34m\u001b[0m\u001b[0m\n",
            "\u001b[0;32m/usr/local/lib/python3.8/dist-packages/matplotlib/pyplot.py\u001b[0m in \u001b[0;36mimshow\u001b[0;34m(X, cmap, norm, aspect, interpolation, alpha, vmin, vmax, origin, extent, shape, filternorm, filterrad, imlim, resample, url, data, **kwargs)\u001b[0m\n\u001b[1;32m   2643\u001b[0m         \u001b[0mfilterrad\u001b[0m\u001b[0;34m=\u001b[0m\u001b[0;36m4.0\u001b[0m\u001b[0;34m,\u001b[0m \u001b[0mimlim\u001b[0m\u001b[0;34m=\u001b[0m\u001b[0mcbook\u001b[0m\u001b[0;34m.\u001b[0m\u001b[0mdeprecation\u001b[0m\u001b[0;34m.\u001b[0m\u001b[0m_deprecated_parameter\u001b[0m\u001b[0;34m,\u001b[0m\u001b[0;34m\u001b[0m\u001b[0;34m\u001b[0m\u001b[0m\n\u001b[1;32m   2644\u001b[0m         resample=None, url=None, *, data=None, **kwargs):\n\u001b[0;32m-> 2645\u001b[0;31m     __ret = gca().imshow(\n\u001b[0m\u001b[1;32m   2646\u001b[0m         \u001b[0mX\u001b[0m\u001b[0;34m,\u001b[0m \u001b[0mcmap\u001b[0m\u001b[0;34m=\u001b[0m\u001b[0mcmap\u001b[0m\u001b[0;34m,\u001b[0m \u001b[0mnorm\u001b[0m\u001b[0;34m=\u001b[0m\u001b[0mnorm\u001b[0m\u001b[0;34m,\u001b[0m \u001b[0maspect\u001b[0m\u001b[0;34m=\u001b[0m\u001b[0maspect\u001b[0m\u001b[0;34m,\u001b[0m\u001b[0;34m\u001b[0m\u001b[0;34m\u001b[0m\u001b[0m\n\u001b[1;32m   2647\u001b[0m         \u001b[0minterpolation\u001b[0m\u001b[0;34m=\u001b[0m\u001b[0minterpolation\u001b[0m\u001b[0;34m,\u001b[0m \u001b[0malpha\u001b[0m\u001b[0;34m=\u001b[0m\u001b[0malpha\u001b[0m\u001b[0;34m,\u001b[0m \u001b[0mvmin\u001b[0m\u001b[0;34m=\u001b[0m\u001b[0mvmin\u001b[0m\u001b[0;34m,\u001b[0m\u001b[0;34m\u001b[0m\u001b[0;34m\u001b[0m\u001b[0m\n",
            "\u001b[0;32m/usr/local/lib/python3.8/dist-packages/matplotlib/__init__.py\u001b[0m in \u001b[0;36minner\u001b[0;34m(ax, data, *args, **kwargs)\u001b[0m\n\u001b[1;32m   1563\u001b[0m     \u001b[0;32mdef\u001b[0m \u001b[0minner\u001b[0m\u001b[0;34m(\u001b[0m\u001b[0max\u001b[0m\u001b[0;34m,\u001b[0m \u001b[0;34m*\u001b[0m\u001b[0margs\u001b[0m\u001b[0;34m,\u001b[0m \u001b[0mdata\u001b[0m\u001b[0;34m=\u001b[0m\u001b[0;32mNone\u001b[0m\u001b[0;34m,\u001b[0m \u001b[0;34m**\u001b[0m\u001b[0mkwargs\u001b[0m\u001b[0;34m)\u001b[0m\u001b[0;34m:\u001b[0m\u001b[0;34m\u001b[0m\u001b[0;34m\u001b[0m\u001b[0m\n\u001b[1;32m   1564\u001b[0m         \u001b[0;32mif\u001b[0m \u001b[0mdata\u001b[0m \u001b[0;32mis\u001b[0m \u001b[0;32mNone\u001b[0m\u001b[0;34m:\u001b[0m\u001b[0;34m\u001b[0m\u001b[0;34m\u001b[0m\u001b[0m\n\u001b[0;32m-> 1565\u001b[0;31m             \u001b[0;32mreturn\u001b[0m \u001b[0mfunc\u001b[0m\u001b[0;34m(\u001b[0m\u001b[0max\u001b[0m\u001b[0;34m,\u001b[0m \u001b[0;34m*\u001b[0m\u001b[0mmap\u001b[0m\u001b[0;34m(\u001b[0m\u001b[0msanitize_sequence\u001b[0m\u001b[0;34m,\u001b[0m \u001b[0margs\u001b[0m\u001b[0;34m)\u001b[0m\u001b[0;34m,\u001b[0m \u001b[0;34m**\u001b[0m\u001b[0mkwargs\u001b[0m\u001b[0;34m)\u001b[0m\u001b[0;34m\u001b[0m\u001b[0;34m\u001b[0m\u001b[0m\n\u001b[0m\u001b[1;32m   1566\u001b[0m \u001b[0;34m\u001b[0m\u001b[0m\n\u001b[1;32m   1567\u001b[0m         \u001b[0mbound\u001b[0m \u001b[0;34m=\u001b[0m \u001b[0mnew_sig\u001b[0m\u001b[0;34m.\u001b[0m\u001b[0mbind\u001b[0m\u001b[0;34m(\u001b[0m\u001b[0max\u001b[0m\u001b[0;34m,\u001b[0m \u001b[0;34m*\u001b[0m\u001b[0margs\u001b[0m\u001b[0;34m,\u001b[0m \u001b[0;34m**\u001b[0m\u001b[0mkwargs\u001b[0m\u001b[0;34m)\u001b[0m\u001b[0;34m\u001b[0m\u001b[0;34m\u001b[0m\u001b[0m\n",
            "\u001b[0;32m/usr/local/lib/python3.8/dist-packages/matplotlib/cbook/deprecation.py\u001b[0m in \u001b[0;36mwrapper\u001b[0;34m(*args, **kwargs)\u001b[0m\n\u001b[1;32m    356\u001b[0m                 \u001b[0;34mf\"%(removal)s.  If any parameter follows {name!r}, they \"\u001b[0m\u001b[0;34m\u001b[0m\u001b[0;34m\u001b[0m\u001b[0m\n\u001b[1;32m    357\u001b[0m                 f\"should be pass as keyword, not positionally.\")\n\u001b[0;32m--> 358\u001b[0;31m         \u001b[0;32mreturn\u001b[0m \u001b[0mfunc\u001b[0m\u001b[0;34m(\u001b[0m\u001b[0;34m*\u001b[0m\u001b[0margs\u001b[0m\u001b[0;34m,\u001b[0m \u001b[0;34m**\u001b[0m\u001b[0mkwargs\u001b[0m\u001b[0;34m)\u001b[0m\u001b[0;34m\u001b[0m\u001b[0;34m\u001b[0m\u001b[0m\n\u001b[0m\u001b[1;32m    359\u001b[0m \u001b[0;34m\u001b[0m\u001b[0m\n\u001b[1;32m    360\u001b[0m     \u001b[0;32mreturn\u001b[0m \u001b[0mwrapper\u001b[0m\u001b[0;34m\u001b[0m\u001b[0;34m\u001b[0m\u001b[0m\n",
            "\u001b[0;32m/usr/local/lib/python3.8/dist-packages/matplotlib/cbook/deprecation.py\u001b[0m in \u001b[0;36mwrapper\u001b[0;34m(*args, **kwargs)\u001b[0m\n\u001b[1;32m    356\u001b[0m                 \u001b[0;34mf\"%(removal)s.  If any parameter follows {name!r}, they \"\u001b[0m\u001b[0;34m\u001b[0m\u001b[0;34m\u001b[0m\u001b[0m\n\u001b[1;32m    357\u001b[0m                 f\"should be pass as keyword, not positionally.\")\n\u001b[0;32m--> 358\u001b[0;31m         \u001b[0;32mreturn\u001b[0m \u001b[0mfunc\u001b[0m\u001b[0;34m(\u001b[0m\u001b[0;34m*\u001b[0m\u001b[0margs\u001b[0m\u001b[0;34m,\u001b[0m \u001b[0;34m**\u001b[0m\u001b[0mkwargs\u001b[0m\u001b[0;34m)\u001b[0m\u001b[0;34m\u001b[0m\u001b[0;34m\u001b[0m\u001b[0m\n\u001b[0m\u001b[1;32m    359\u001b[0m \u001b[0;34m\u001b[0m\u001b[0m\n\u001b[1;32m    360\u001b[0m     \u001b[0;32mreturn\u001b[0m \u001b[0mwrapper\u001b[0m\u001b[0;34m\u001b[0m\u001b[0;34m\u001b[0m\u001b[0m\n",
            "\u001b[0;32m/usr/local/lib/python3.8/dist-packages/matplotlib/axes/_axes.py\u001b[0m in \u001b[0;36mimshow\u001b[0;34m(self, X, cmap, norm, aspect, interpolation, alpha, vmin, vmax, origin, extent, shape, filternorm, filterrad, imlim, resample, url, **kwargs)\u001b[0m\n\u001b[1;32m   5620\u001b[0m             \u001b[0maspect\u001b[0m \u001b[0;34m=\u001b[0m \u001b[0mrcParams\u001b[0m\u001b[0;34m[\u001b[0m\u001b[0;34m'image.aspect'\u001b[0m\u001b[0;34m]\u001b[0m\u001b[0;34m\u001b[0m\u001b[0;34m\u001b[0m\u001b[0m\n\u001b[1;32m   5621\u001b[0m         \u001b[0mself\u001b[0m\u001b[0;34m.\u001b[0m\u001b[0mset_aspect\u001b[0m\u001b[0;34m(\u001b[0m\u001b[0maspect\u001b[0m\u001b[0;34m)\u001b[0m\u001b[0;34m\u001b[0m\u001b[0;34m\u001b[0m\u001b[0m\n\u001b[0;32m-> 5622\u001b[0;31m         im = mimage.AxesImage(self, cmap, norm, interpolation, origin, extent,\n\u001b[0m\u001b[1;32m   5623\u001b[0m                               \u001b[0mfilternorm\u001b[0m\u001b[0;34m=\u001b[0m\u001b[0mfilternorm\u001b[0m\u001b[0;34m,\u001b[0m \u001b[0mfilterrad\u001b[0m\u001b[0;34m=\u001b[0m\u001b[0mfilterrad\u001b[0m\u001b[0;34m,\u001b[0m\u001b[0;34m\u001b[0m\u001b[0;34m\u001b[0m\u001b[0m\n\u001b[1;32m   5624\u001b[0m                               resample=resample, **kwargs)\n",
            "\u001b[0;32m/usr/local/lib/python3.8/dist-packages/matplotlib/image.py\u001b[0m in \u001b[0;36m__init__\u001b[0;34m(self, ax, cmap, norm, interpolation, origin, extent, filternorm, filterrad, resample, **kwargs)\u001b[0m\n\u001b[1;32m    888\u001b[0m         \u001b[0mself\u001b[0m\u001b[0;34m.\u001b[0m\u001b[0m_extent\u001b[0m \u001b[0;34m=\u001b[0m \u001b[0mextent\u001b[0m\u001b[0;34m\u001b[0m\u001b[0;34m\u001b[0m\u001b[0m\n\u001b[1;32m    889\u001b[0m \u001b[0;34m\u001b[0m\u001b[0m\n\u001b[0;32m--> 890\u001b[0;31m         super().__init__(\n\u001b[0m\u001b[1;32m    891\u001b[0m             \u001b[0max\u001b[0m\u001b[0;34m,\u001b[0m\u001b[0;34m\u001b[0m\u001b[0;34m\u001b[0m\u001b[0m\n\u001b[1;32m    892\u001b[0m             \u001b[0mcmap\u001b[0m\u001b[0;34m=\u001b[0m\u001b[0mcmap\u001b[0m\u001b[0;34m,\u001b[0m\u001b[0;34m\u001b[0m\u001b[0;34m\u001b[0m\u001b[0m\n",
            "\u001b[0;32m/usr/local/lib/python3.8/dist-packages/matplotlib/image.py\u001b[0m in \u001b[0;36m__init__\u001b[0;34m(self, ax, cmap, norm, interpolation, origin, filternorm, filterrad, resample, **kwargs)\u001b[0m\n\u001b[1;32m    246\u001b[0m                  ):\n\u001b[1;32m    247\u001b[0m         \u001b[0mmartist\u001b[0m\u001b[0;34m.\u001b[0m\u001b[0mArtist\u001b[0m\u001b[0;34m.\u001b[0m\u001b[0m__init__\u001b[0m\u001b[0;34m(\u001b[0m\u001b[0mself\u001b[0m\u001b[0;34m)\u001b[0m\u001b[0;34m\u001b[0m\u001b[0;34m\u001b[0m\u001b[0m\n\u001b[0;32m--> 248\u001b[0;31m         \u001b[0mcm\u001b[0m\u001b[0;34m.\u001b[0m\u001b[0mScalarMappable\u001b[0m\u001b[0;34m.\u001b[0m\u001b[0m__init__\u001b[0m\u001b[0;34m(\u001b[0m\u001b[0mself\u001b[0m\u001b[0;34m,\u001b[0m \u001b[0mnorm\u001b[0m\u001b[0;34m,\u001b[0m \u001b[0mcmap\u001b[0m\u001b[0;34m)\u001b[0m\u001b[0;34m\u001b[0m\u001b[0;34m\u001b[0m\u001b[0m\n\u001b[0m\u001b[1;32m    249\u001b[0m         \u001b[0mself\u001b[0m\u001b[0;34m.\u001b[0m\u001b[0m_mouseover\u001b[0m \u001b[0;34m=\u001b[0m \u001b[0;32mTrue\u001b[0m\u001b[0;34m\u001b[0m\u001b[0;34m\u001b[0m\u001b[0m\n\u001b[1;32m    250\u001b[0m         \u001b[0;32mif\u001b[0m \u001b[0morigin\u001b[0m \u001b[0;32mis\u001b[0m \u001b[0;32mNone\u001b[0m\u001b[0;34m:\u001b[0m\u001b[0;34m\u001b[0m\u001b[0;34m\u001b[0m\u001b[0m\n",
            "\u001b[0;32m/usr/local/lib/python3.8/dist-packages/matplotlib/cm.py\u001b[0m in \u001b[0;36m__init__\u001b[0;34m(self, norm, cmap)\u001b[0m\n\u001b[1;32m    171\u001b[0m         \u001b[0mself\u001b[0m\u001b[0;34m.\u001b[0m\u001b[0mnorm\u001b[0m \u001b[0;34m=\u001b[0m \u001b[0mnorm\u001b[0m\u001b[0;34m\u001b[0m\u001b[0;34m\u001b[0m\u001b[0m\n\u001b[1;32m    172\u001b[0m         \u001b[0;31m#: The Colormap instance of this ScalarMappable.\u001b[0m\u001b[0;34m\u001b[0m\u001b[0;34m\u001b[0m\u001b[0;34m\u001b[0m\u001b[0m\n\u001b[0;32m--> 173\u001b[0;31m         \u001b[0mself\u001b[0m\u001b[0;34m.\u001b[0m\u001b[0mcmap\u001b[0m \u001b[0;34m=\u001b[0m \u001b[0mget_cmap\u001b[0m\u001b[0;34m(\u001b[0m\u001b[0mcmap\u001b[0m\u001b[0;34m)\u001b[0m\u001b[0;34m\u001b[0m\u001b[0;34m\u001b[0m\u001b[0m\n\u001b[0m\u001b[1;32m    174\u001b[0m         \u001b[0;31m#: The last colorbar associated with this ScalarMappable. May be None.\u001b[0m\u001b[0;34m\u001b[0m\u001b[0;34m\u001b[0m\u001b[0;34m\u001b[0m\u001b[0m\n\u001b[1;32m    175\u001b[0m         \u001b[0mself\u001b[0m\u001b[0;34m.\u001b[0m\u001b[0mcolorbar\u001b[0m \u001b[0;34m=\u001b[0m \u001b[0;32mNone\u001b[0m\u001b[0;34m\u001b[0m\u001b[0;34m\u001b[0m\u001b[0m\n",
            "\u001b[0;32m/usr/local/lib/python3.8/dist-packages/matplotlib/cm.py\u001b[0m in \u001b[0;36mget_cmap\u001b[0;34m(name, lut)\u001b[0m\n\u001b[1;32m    132\u001b[0m     \u001b[0;32mif\u001b[0m \u001b[0misinstance\u001b[0m\u001b[0;34m(\u001b[0m\u001b[0mname\u001b[0m\u001b[0;34m,\u001b[0m \u001b[0mcolors\u001b[0m\u001b[0;34m.\u001b[0m\u001b[0mColormap\u001b[0m\u001b[0;34m)\u001b[0m\u001b[0;34m:\u001b[0m\u001b[0;34m\u001b[0m\u001b[0;34m\u001b[0m\u001b[0m\n\u001b[1;32m    133\u001b[0m         \u001b[0;32mreturn\u001b[0m \u001b[0mname\u001b[0m\u001b[0;34m\u001b[0m\u001b[0;34m\u001b[0m\u001b[0m\n\u001b[0;32m--> 134\u001b[0;31m     \u001b[0mcbook\u001b[0m\u001b[0;34m.\u001b[0m\u001b[0m_check_in_list\u001b[0m\u001b[0;34m(\u001b[0m\u001b[0msorted\u001b[0m\u001b[0;34m(\u001b[0m\u001b[0mcmap_d\u001b[0m\u001b[0;34m)\u001b[0m\u001b[0;34m,\u001b[0m \u001b[0mname\u001b[0m\u001b[0;34m=\u001b[0m\u001b[0mname\u001b[0m\u001b[0;34m)\u001b[0m\u001b[0;34m\u001b[0m\u001b[0;34m\u001b[0m\u001b[0m\n\u001b[0m\u001b[1;32m    135\u001b[0m     \u001b[0;32mif\u001b[0m \u001b[0mlut\u001b[0m \u001b[0;32mis\u001b[0m \u001b[0;32mNone\u001b[0m\u001b[0;34m:\u001b[0m\u001b[0;34m\u001b[0m\u001b[0;34m\u001b[0m\u001b[0m\n\u001b[1;32m    136\u001b[0m         \u001b[0;32mreturn\u001b[0m \u001b[0mcmap_d\u001b[0m\u001b[0;34m[\u001b[0m\u001b[0mname\u001b[0m\u001b[0;34m]\u001b[0m\u001b[0;34m\u001b[0m\u001b[0;34m\u001b[0m\u001b[0m\n",
            "\u001b[0;32m/usr/local/lib/python3.8/dist-packages/matplotlib/cbook/__init__.py\u001b[0m in \u001b[0;36m_check_in_list\u001b[0;34m(_values, **kwargs)\u001b[0m\n\u001b[1;32m   2141\u001b[0m     \u001b[0;32mfor\u001b[0m \u001b[0mk\u001b[0m\u001b[0;34m,\u001b[0m \u001b[0mv\u001b[0m \u001b[0;32min\u001b[0m \u001b[0mkwargs\u001b[0m\u001b[0;34m.\u001b[0m\u001b[0mitems\u001b[0m\u001b[0;34m(\u001b[0m\u001b[0;34m)\u001b[0m\u001b[0;34m:\u001b[0m\u001b[0;34m\u001b[0m\u001b[0;34m\u001b[0m\u001b[0m\n\u001b[1;32m   2142\u001b[0m         \u001b[0;32mif\u001b[0m \u001b[0mv\u001b[0m \u001b[0;32mnot\u001b[0m \u001b[0;32min\u001b[0m \u001b[0mvalues\u001b[0m\u001b[0;34m:\u001b[0m\u001b[0;34m\u001b[0m\u001b[0;34m\u001b[0m\u001b[0m\n\u001b[0;32m-> 2143\u001b[0;31m             raise ValueError(\n\u001b[0m\u001b[1;32m   2144\u001b[0m                 \u001b[0;34m\"{!r} is not a valid value for {}; supported values are {}\"\u001b[0m\u001b[0;34m\u001b[0m\u001b[0;34m\u001b[0m\u001b[0m\n\u001b[1;32m   2145\u001b[0m                 .format(v, k, ', '.join(map(repr, values))))\n",
            "\u001b[0;31mValueError\u001b[0m: array([0.267004, 0.004874, 0.329415, 1.      ]) is not a valid value for name; supported values are 'Accent', 'Accent_r', 'Blues', 'Blues_r', 'BrBG', 'BrBG_r', 'BuGn', 'BuGn_r', 'BuPu', 'BuPu_r', 'CMRmap', 'CMRmap_r', 'Dark2', 'Dark2_r', 'GnBu', 'GnBu_r', 'Greens', 'Greens_r', 'Greys', 'Greys_r', 'OrRd', 'OrRd_r', 'Oranges', 'Oranges_r', 'PRGn', 'PRGn_r', 'Paired', 'Paired_r', 'Pastel1', 'Pastel1_r', 'Pastel2', 'Pastel2_r', 'PiYG', 'PiYG_r', 'PuBu', 'PuBuGn', 'PuBuGn_r', 'PuBu_r', 'PuOr', 'PuOr_r', 'PuRd', 'PuRd_r', 'Purples', 'Purples_r', 'RdBu', 'RdBu_r', 'RdGy', 'RdGy_r', 'RdPu', 'RdPu_r', 'RdYlBu', 'RdYlBu_r', 'RdYlGn', 'RdYlGn_r', 'Reds', 'Reds_r', 'Set1', 'Set1_r', 'Set2', 'Set2_r', 'Set3', 'Set3_r', 'Spectral', 'Spectral_r', 'Wistia', 'Wistia_r', 'YlGn', 'YlGnBu', 'YlGnBu_r', 'YlGn_r', 'YlOrBr', 'YlOrBr_r', 'YlOrRd', 'YlOrRd_r', 'afmhot', 'afmhot_r', 'autumn', 'autumn_r', 'binary', 'binary_r', 'bone', 'bone_r', 'brg', 'brg_r', 'bwr', 'bwr_r', 'cividis', 'cividis_r', 'cool', 'cool_r', 'coolwarm', 'coolwarm_r', 'copper', 'copper_r', 'cubehelix', 'cubehelix_r', 'flag', 'flag_r', 'gist_earth', 'gist_earth_r', 'gist_gray', 'gist_gray_r', 'gist_heat', 'gist_heat_r', 'gist_ncar', 'gist_ncar_r', 'gist_rainbow', 'gist_rainbow_r', 'gist_stern', 'gist_stern_r', 'gist_yarg', 'gist_yarg_r', 'gnuplot', 'gnuplot2', 'gnuplot2_r', 'gnuplot_r', 'gray', 'gray_r', 'hot', 'hot_r', 'hsv', 'hsv_r', 'inferno', 'inferno_r', 'jet', 'jet_r', 'magma', 'magma_r', 'nipy_sp..."
          ]
        },
        {
          "output_type": "display_data",
          "data": {
            "text/plain": [
              "<Figure size 432x288 with 1 Axes>"
            ],
            "image/png": "[encoded data removed]"
          },
          "metadata": {
            "needs_background": "light"
          }
        }
      ]
    },
    {
      "cell_type": "code",
      "source": [
        "import csv\n",
        "import numpy as np\n",
        "import matplotlib.pyplot as plt\n",
        "import scipy.sparse as sp\n",
        "\n",
        "# Read the CSV file with indices\n",
        "with open('', 'r') as f:\n",
        "    reader = csv.reader(f)\n",
        "    next(reader) # skip the header row\n",
        "    indices = [list(map(int, row)) for row in reader]\n",
        "\n",
        "# Initialize the global stiffness matrix with zeros\n",
        "global_stiffness_matrix = np.zeros((150, 150))\n",
        "\n",
        "# Define the 6x6 local stiffness matrix\n",
        "local_stiffness_matrix = np.array([[6, -1, 0, -1, 0, 0], [-1, 6, -1, 0, -1, 0], [0, -1, 6, -1, 0, -1], [-1, 0, -1, 6, -1, 0], [0, -1, 0, -1, 6, -1], [0, 0, -1, 0, -1, 6]])\n",
        "\n",
        "# Loop through the indices\n",
        "for row in indices:\n",
        "    i, j, k, l, m, n = row\n",
        "    # Assemble the local stiffness matrix into the global stiffness matrix\n",
        "    global_stiffness_matrix[i-1:i+5, j-1:j+5] += local_stiffness_matrix\n",
        "\n",
        "# Plot the sparse plot of the global stiffness matrix\n",
        "plt.spy(sp.csc_matrix(global_stiffness_matrix))\n",
        "plt.show()\n",
        "\n",
        "# Save the global stiffness matrix as a text file\n",
        "np.savetxt(\"global_stiffness_matrix.txt\", global_stiffness_matrix)\n",
        "\n",
        "# Save the global stiffness matrix as a CSV file\n",
        "np.savetxt(\"global_stiffness_matrix.csv\", global_stiffness_matrix, delimiter=\",\")\n",
        "\n",
        "# Save the global stiffness matrix as an Excel file\n",
        "import pandas as pd\n",
        "df = pd.DataFrame(global_stiffness_matrix)\n",
        "df.to_excel(\"global_stiffness_matrix.xlsx\", index=False)\n",
        "\n",
        "# Color each stiffness matrix according to the ith and jth column and row\n",
        "# contributed to global stiffness matrix\n",
        "colors = plt.get_cmap(\"viridis\")(np.linspace(0, 1, len(indices)))\n",
        "for index, row in enumerate(indices):\n",
        "    i, j, k, l, m, n = row\n",
        "    plt.imshow(local_stiffness_matrix, cmap=colors[index], extent=(j, j+6, i, i+6))\n",
        "\n",
        "plt.show()\n"
      ],
      "metadata": {
        "colab": {
          "base_uri": "https://localhost:8080/",
          "height": 270
        },
        "id": "xV5jX2skfenx",
        "outputId": "bf87bfb3-a9da-4397-feb4-45f4bbb294eb"
      },
      "execution_count": 13,
      "outputs": [
        {
          "output_type": "error",
          "ename": "FileNotFoundError",
          "evalue": "ignored",
          "traceback": [
            "\u001b[0;31m---------------------------------------------------------------------------\u001b[0m",
            "\u001b[0;31mFileNotFoundError\u001b[0m                         Traceback (most recent call last)",
            "\u001b[0;32m<ipython-input-13-879cae242b42>\u001b[0m in \u001b[0;36m<module>\u001b[0;34m\u001b[0m\n\u001b[1;32m      5\u001b[0m \u001b[0;34m\u001b[0m\u001b[0m\n\u001b[1;32m      6\u001b[0m \u001b[0;31m# Read the CSV file with indices\u001b[0m\u001b[0;34m\u001b[0m\u001b[0;34m\u001b[0m\u001b[0;34m\u001b[0m\u001b[0m\n\u001b[0;32m----> 7\u001b[0;31m \u001b[0;32mwith\u001b[0m \u001b[0mopen\u001b[0m\u001b[0;34m(\u001b[0m\u001b[0;34m''\u001b[0m\u001b[0;34m,\u001b[0m \u001b[0;34m'r'\u001b[0m\u001b[0;34m)\u001b[0m \u001b[0;32mas\u001b[0m \u001b[0mf\u001b[0m\u001b[0;34m:\u001b[0m\u001b[0;34m\u001b[0m\u001b[0;34m\u001b[0m\u001b[0m\n\u001b[0m\u001b[1;32m      8\u001b[0m     \u001b[0mreader\u001b[0m \u001b[0;34m=\u001b[0m \u001b[0mcsv\u001b[0m\u001b[0;34m.\u001b[0m\u001b[0mreader\u001b[0m\u001b[0;34m(\u001b[0m\u001b[0mf\u001b[0m\u001b[0;34m)\u001b[0m\u001b[0;34m\u001b[0m\u001b[0;34m\u001b[0m\u001b[0m\n\u001b[1;32m      9\u001b[0m     \u001b[0mnext\u001b[0m\u001b[0;34m(\u001b[0m\u001b[0mreader\u001b[0m\u001b[0;34m)\u001b[0m \u001b[0;31m# skip the header row\u001b[0m\u001b[0;34m\u001b[0m\u001b[0;34m\u001b[0m\u001b[0m\n",
            "\u001b[0;31mFileNotFoundError\u001b[0m: [Errno 2] No such file or directory: ''"
          ]
        }
      ]
    },
    {
      "cell_type": "code",
      "source": [
        "import csv\n",
        "import numpy as np\n",
        "import matplotlib.pyplot as plt\n",
        "import scipy.sparse as sp\n",
        "\n",
        "# Read the CSV file with indices and the number of local stiffness matrices\n",
        "with open('/content/6indices.csv', 'r') as f:\n",
        "    reader = csv.reader(f)\n",
        "    next(reader) # skip the header row\n",
        "    num_local_matrices = len(next(reader)) - 1\n",
        "    indices = [list(map(int, row)) for row in reader]\n",
        "\n",
        "# Initialize the global stiffness matrix with zeros\n",
        "global_stiffness_matrix = np.zeros((150, 150))\n",
        "\n",
        "# Loop through the number of local stiffness matrices\n",
        "for local_matrix_index in range(num_local_matrices):\n",
        "    # Define the 6x6 local stiffness matrix\n",
        "    local_stiffness_matrix = np.array([[6, -1, 0, -1, 0, 0], [-1, 6, -1, 0, -1, 0], [0, -1, 6, -1, 0, -1], [-1, 0, -1, 6, -1, 0], [0, -1, 0, -1, 6, -1], [0, 0, -1, 0, -1, 6]],[[6, -1, 0, -1, 0, 0], [-1, 6, -1, 0, -1, 0], [0, -1, 6, -1, 0, -1], [-1, 0, -1, 6, -1, 0], [0, -1, 0, -1, 6, -1], [0, 0, -1, 0, -1, 6]])\n",
        "\n",
        "    # Loop through the indices\n",
        "    for row in indices:\n",
        "        i, j, k, l, m, n = row[local_matrix_index * 2:local_matrix_index * 2 + 2]\n",
        "        # Assemble the local stiffness matrix into the global stiffness matrix\n",
        "        global_stiffness_matrix[i-1:i+5, j-1:j+5] += local_stiffness_matrix\n",
        "\n",
        "# Plot the sparse plot of the global stiffness matrix\n",
        "plt.spy(sp.csc_matrix(global_stiffness_matrix))\n",
        "plt.show()\n"
      ],
      "metadata": {
        "colab": {
          "base_uri": "https://localhost:8080/",
          "height": 323
        },
        "id": "7I2cjVoFddME",
        "outputId": "87fb7d6f-21ba-4855-94e9-22180f51171b"
      },
      "execution_count": 11,
      "outputs": [
        {
          "output_type": "error",
          "ename": "TypeError",
          "evalue": "ignored",
          "traceback": [
            "\u001b[0;31m---------------------------------------------------------------------------\u001b[0m",
            "\u001b[0;31mTypeError\u001b[0m                                 Traceback (most recent call last)",
            "\u001b[0;32m<ipython-input-11-40731f5aa4dd>\u001b[0m in \u001b[0;36m<module>\u001b[0;34m\u001b[0m\n\u001b[1;32m     17\u001b[0m \u001b[0;32mfor\u001b[0m \u001b[0mlocal_matrix_index\u001b[0m \u001b[0;32min\u001b[0m \u001b[0mrange\u001b[0m\u001b[0;34m(\u001b[0m\u001b[0mnum_local_matrices\u001b[0m\u001b[0;34m)\u001b[0m\u001b[0;34m:\u001b[0m\u001b[0;34m\u001b[0m\u001b[0;34m\u001b[0m\u001b[0m\n\u001b[1;32m     18\u001b[0m     \u001b[0;31m# Define the 6x6 local stiffness matrix\u001b[0m\u001b[0;34m\u001b[0m\u001b[0;34m\u001b[0m\u001b[0;34m\u001b[0m\u001b[0m\n\u001b[0;32m---> 19\u001b[0;31m     \u001b[0mlocal_stiffness_matrix\u001b[0m \u001b[0;34m=\u001b[0m \u001b[0mnp\u001b[0m\u001b[0;34m.\u001b[0m\u001b[0marray\u001b[0m\u001b[0;34m(\u001b[0m\u001b[0;34m[\u001b[0m\u001b[0;34m[\u001b[0m\u001b[0;36m6\u001b[0m\u001b[0;34m,\u001b[0m \u001b[0;34m-\u001b[0m\u001b[0;36m1\u001b[0m\u001b[0;34m,\u001b[0m \u001b[0;36m0\u001b[0m\u001b[0;34m,\u001b[0m \u001b[0;34m-\u001b[0m\u001b[0;36m1\u001b[0m\u001b[0;34m,\u001b[0m \u001b[0;36m0\u001b[0m\u001b[0;34m,\u001b[0m \u001b[0;36m0\u001b[0m\u001b[0;34m]\u001b[0m\u001b[0;34m,\u001b[0m \u001b[0;34m[\u001b[0m\u001b[0;34m-\u001b[0m\u001b[0;36m1\u001b[0m\u001b[0;34m,\u001b[0m \u001b[0;36m6\u001b[0m\u001b[0;34m,\u001b[0m \u001b[0;34m-\u001b[0m\u001b[0;36m1\u001b[0m\u001b[0;34m,\u001b[0m \u001b[0;36m0\u001b[0m\u001b[0;34m,\u001b[0m \u001b[0;34m-\u001b[0m\u001b[0;36m1\u001b[0m\u001b[0;34m,\u001b[0m \u001b[0;36m0\u001b[0m\u001b[0;34m]\u001b[0m\u001b[0;34m,\u001b[0m \u001b[0;34m[\u001b[0m\u001b[0;36m0\u001b[0m\u001b[0;34m,\u001b[0m \u001b[0;34m-\u001b[0m\u001b[0;36m1\u001b[0m\u001b[0;34m,\u001b[0m \u001b[0;36m6\u001b[0m\u001b[0;34m,\u001b[0m \u001b[0;34m-\u001b[0m\u001b[0;36m1\u001b[0m\u001b[0;34m,\u001b[0m \u001b[0;36m0\u001b[0m\u001b[0;34m,\u001b[0m \u001b[0;34m-\u001b[0m\u001b[0;36m1\u001b[0m\u001b[0;34m]\u001b[0m\u001b[0;34m,\u001b[0m \u001b[0;34m[\u001b[0m\u001b[0;34m-\u001b[0m\u001b[0;36m1\u001b[0m\u001b[0;34m,\u001b[0m \u001b[0;36m0\u001b[0m\u001b[0;34m,\u001b[0m \u001b[0;34m-\u001b[0m\u001b[0;36m1\u001b[0m\u001b[0;34m,\u001b[0m \u001b[0;36m6\u001b[0m\u001b[0;34m,\u001b[0m \u001b[0;34m-\u001b[0m\u001b[0;36m1\u001b[0m\u001b[0;34m,\u001b[0m \u001b[0;36m0\u001b[0m\u001b[0;34m]\u001b[0m\u001b[0;34m,\u001b[0m \u001b[0;34m[\u001b[0m\u001b[0;36m0\u001b[0m\u001b[0;34m,\u001b[0m \u001b[0;34m-\u001b[0m\u001b[0;36m1\u001b[0m\u001b[0;34m,\u001b[0m \u001b[0;36m0\u001b[0m\u001b[0;34m,\u001b[0m \u001b[0;34m-\u001b[0m\u001b[0;36m1\u001b[0m\u001b[0;34m,\u001b[0m \u001b[0;36m6\u001b[0m\u001b[0;34m,\u001b[0m \u001b[0;34m-\u001b[0m\u001b[0;36m1\u001b[0m\u001b[0;34m]\u001b[0m\u001b[0;34m,\u001b[0m \u001b[0;34m[\u001b[0m\u001b[0;36m0\u001b[0m\u001b[0;34m,\u001b[0m \u001b[0;36m0\u001b[0m\u001b[0;34m,\u001b[0m \u001b[0;34m-\u001b[0m\u001b[0;36m1\u001b[0m\u001b[0;34m,\u001b[0m \u001b[0;36m0\u001b[0m\u001b[0;34m,\u001b[0m \u001b[0;34m-\u001b[0m\u001b[0;36m1\u001b[0m\u001b[0;34m,\u001b[0m \u001b[0;36m6\u001b[0m\u001b[0;34m]\u001b[0m\u001b[0;34m]\u001b[0m\u001b[0;34m,\u001b[0m\u001b[0;34m[\u001b[0m\u001b[0;34m[\u001b[0m\u001b[0;36m6\u001b[0m\u001b[0;34m,\u001b[0m \u001b[0;34m-\u001b[0m\u001b[0;36m1\u001b[0m\u001b[0;34m,\u001b[0m \u001b[0;36m0\u001b[0m\u001b[0;34m,\u001b[0m \u001b[0;34m-\u001b[...\n\u001b[0m\u001b[1;32m     20\u001b[0m \u001b[0;34m\u001b[0m\u001b[0m\n\u001b[1;32m     21\u001b[0m     \u001b[0;31m# Loop through the indices\u001b[0m\u001b[0;34m\u001b[0m\u001b[0;34m\u001b[0m\u001b[0;34m\u001b[0m\u001b[0m\n",
            "\u001b[0;31mTypeError\u001b[0m: Field elements must be 2- or 3-tuples, got '[6, -1, 0, -1, 0, 0]'"
          ]
        }
      ]
    },
    {
      "cell_type": "code",
      "source": [
        "import csv\n",
        "import numpy as np\n",
        "\n",
        "# Read the CSV file with indices\n",
        "with open('/content/7indi.csv', 'r') as f:\n",
        "    reader = csv.reader(f)\n",
        "    next(reader) # skip the header row\n",
        "    indices = [list(map(int, row)) for row in reader]\n",
        "\n",
        "# Initialize the global stiffness matrix with zeros\n",
        "global_stiffness_matrix = np.zeros((100, 100))\n",
        "\n",
        "# Define the 7x7 local stiffness matrix\n",
        "local_stiffness_matrix = np.array([[7, -1, 0, 0, 0, 0, -1], [-1, 7, -1, 0, 0, 0, 0], [0, -1, 7, -1, 0, 0, 0],\n",
        "                                    [0, 0, -1, 7, -1, 0, 0], [0, 0, 0, -1, 7, -1, 0], [0, 0, 0, 0, -1, 7, -1],\n",
        "                                    [-1, 0, 0, 0, 0, -1, 7]])\n",
        "\n",
        "# Loop through the indices\n",
        "for row in indices:\n",
        "    i, j, k, l, m, n, p = row\n",
        "    # Assemble the local stiffness matrix into the global stiffness matrix\n",
        "    global_stiffness_matrix[i-1:i+6, j-1:j+6] += local_stiffness_matrix\n",
        "\n",
        "# Write the global stiffness matrix to a text file\n",
        "np.savetxt(\"global_stiffness_matrix_7x7.txt\", global_stiffness_matrix, fmt=\"%.2f\")\n"
      ],
      "metadata": {
        "colab": {
          "base_uri": "https://localhost:8080/",
          "height": 323
        },
        "id": "q_1rfcyOYmpK",
        "outputId": "d84becf1-a482-43ec-e898-1d17ffc7d473"
      },
      "execution_count": 21,
      "outputs": [
        {
          "output_type": "error",
          "ename": "ValueError",
          "evalue": "ignored",
          "traceback": [
            "\u001b[0;31m---------------------------------------------------------------------------\u001b[0m",
            "\u001b[0;31mValueError\u001b[0m                                Traceback (most recent call last)",
            "\u001b[0;32m<ipython-input-21-49adfd6d01fa>\u001b[0m in \u001b[0;36m<module>\u001b[0;34m\u001b[0m\n\u001b[1;32m     20\u001b[0m     \u001b[0mi\u001b[0m\u001b[0;34m,\u001b[0m \u001b[0mj\u001b[0m\u001b[0;34m,\u001b[0m \u001b[0mk\u001b[0m\u001b[0;34m,\u001b[0m \u001b[0ml\u001b[0m\u001b[0;34m,\u001b[0m \u001b[0mm\u001b[0m\u001b[0;34m,\u001b[0m \u001b[0mn\u001b[0m\u001b[0;34m,\u001b[0m \u001b[0mp\u001b[0m \u001b[0;34m=\u001b[0m \u001b[0mrow\u001b[0m\u001b[0;34m\u001b[0m\u001b[0;34m\u001b[0m\u001b[0m\n\u001b[1;32m     21\u001b[0m     \u001b[0;31m# Assemble the local stiffness matrix into the global stiffness matrix\u001b[0m\u001b[0;34m\u001b[0m\u001b[0;34m\u001b[0m\u001b[0;34m\u001b[0m\u001b[0m\n\u001b[0;32m---> 22\u001b[0;31m     \u001b[0mglobal_stiffness_matrix\u001b[0m\u001b[0;34m[\u001b[0m\u001b[0mi\u001b[0m\u001b[0;34m-\u001b[0m\u001b[0;36m1\u001b[0m\u001b[0;34m:\u001b[0m\u001b[0mi\u001b[0m\u001b[0;34m+\u001b[0m\u001b[0;36m6\u001b[0m\u001b[0;34m,\u001b[0m \u001b[0mj\u001b[0m\u001b[0;34m-\u001b[0m\u001b[0;36m1\u001b[0m\u001b[0;34m:\u001b[0m\u001b[0mj\u001b[0m\u001b[0;34m+\u001b[0m\u001b[0;36m6\u001b[0m\u001b[0;34m]\u001b[0m \u001b[0;34m+=\u001b[0m \u001b[0mlocal_stiffness_matrix\u001b[0m\u001b[0;34m\u001b[0m\u001b[0;34m\u001b[0m\u001b[0m\n\u001b[0m\u001b[1;32m     23\u001b[0m \u001b[0;34m\u001b[0m\u001b[0m\n\u001b[1;32m     24\u001b[0m \u001b[0;31m# Write the global stiffness matrix to a text file\u001b[0m\u001b[0;34m\u001b[0m\u001b[0;34m\u001b[0m\u001b[0;34m\u001b[0m\u001b[0m\n",
            "\u001b[0;31mValueError\u001b[0m: operands could not be broadcast together with shapes (5,4) (7,7) (5,4) "
          ]
        }
      ]
    },
    {
      "cell_type": "code",
      "source": [
        "import csv\n",
        "import numpy as np\n",
        "\n",
        "# Read the CSV file with indices\n",
        "with open('/content/8indie.csv', 'r') as f:\n",
        "    reader = csv.reader(f)\n",
        "    next(reader) # skip the header row\n",
        "    indices = [list(map(int, row)) for row in reader]\n",
        "\n",
        "# Initialize the global stiffness matrix with zeros\n",
        "global_stiffness_matrix = np.zeros((100, 100))\n",
        "\n",
        "# Define the 8x8 local stiffness matrix\n",
        "local_stiffness_matrix = np.array([[8, -1, 0, 0, 0, 0, 0, -1], [-1, 8, -1, 0, 0, 0, 0, 0], [0, -1, 8, -1, 0, 0, 0, 0],\n",
        "                                    [0, 0, -1, 8, -1, 0, 0, 0], [0, 0, 0, -1, 8, -1, 0, 0], [0, 0, 0, 0, -1, 8, -1, 0],\n",
        "                                    [0, 0, 0, 0, 0, -1, 8, -1], [-1, 0, 0, 0, 0, 0, -1, 8]])\n",
        "\n",
        "# Loop through the indices\n",
        "for row in indices:\n",
        "    i, j, k, l, m, n, o, p = row\n",
        "    # Assemble the local stiffness matrix into the global stiffness matrix\n",
        "    global_stiffness_matrix[i-1:i+7, j-1:j+7] += local_stiffness_matrix\n",
        "\n",
        "# Write the global stiffness matrix to a text file\n",
        "np.savetxt(\"global_stiffness_matrix_8x8.txt\", global_stiffness_matrix, fmt=\"%.2f\")\n"
      ],
      "metadata": {
        "colab": {
          "base_uri": "https://localhost:8080/",
          "height": 323
        },
        "id": "U_OYba95aeQv",
        "outputId": "323dcddc-5ae7-452c-d4c2-b30d44828b2d"
      },
      "execution_count": 22,
      "outputs": [
        {
          "output_type": "error",
          "ename": "ValueError",
          "evalue": "ignored",
          "traceback": [
            "\u001b[0;31m---------------------------------------------------------------------------\u001b[0m",
            "\u001b[0;31mValueError\u001b[0m                                Traceback (most recent call last)",
            "\u001b[0;32m<ipython-input-22-8a9dfa6336fe>\u001b[0m in \u001b[0;36m<module>\u001b[0;34m\u001b[0m\n\u001b[1;32m     20\u001b[0m     \u001b[0mi\u001b[0m\u001b[0;34m,\u001b[0m \u001b[0mj\u001b[0m\u001b[0;34m,\u001b[0m \u001b[0mk\u001b[0m\u001b[0;34m,\u001b[0m \u001b[0ml\u001b[0m\u001b[0;34m,\u001b[0m \u001b[0mm\u001b[0m\u001b[0;34m,\u001b[0m \u001b[0mn\u001b[0m\u001b[0;34m,\u001b[0m \u001b[0mo\u001b[0m\u001b[0;34m,\u001b[0m \u001b[0mp\u001b[0m \u001b[0;34m=\u001b[0m \u001b[0mrow\u001b[0m\u001b[0;34m\u001b[0m\u001b[0;34m\u001b[0m\u001b[0m\n\u001b[1;32m     21\u001b[0m     \u001b[0;31m# Assemble the local stiffness matrix into the global stiffness matrix\u001b[0m\u001b[0;34m\u001b[0m\u001b[0;34m\u001b[0m\u001b[0;34m\u001b[0m\u001b[0m\n\u001b[0;32m---> 22\u001b[0;31m     \u001b[0mglobal_stiffness_matrix\u001b[0m\u001b[0;34m[\u001b[0m\u001b[0mi\u001b[0m\u001b[0;34m-\u001b[0m\u001b[0;36m1\u001b[0m\u001b[0;34m:\u001b[0m\u001b[0mi\u001b[0m\u001b[0;34m+\u001b[0m\u001b[0;36m7\u001b[0m\u001b[0;34m,\u001b[0m \u001b[0mj\u001b[0m\u001b[0;34m-\u001b[0m\u001b[0;36m1\u001b[0m\u001b[0;34m:\u001b[0m\u001b[0mj\u001b[0m\u001b[0;34m+\u001b[0m\u001b[0;36m7\u001b[0m\u001b[0;34m]\u001b[0m \u001b[0;34m+=\u001b[0m \u001b[0mlocal_stiffness_matrix\u001b[0m\u001b[0;34m\u001b[0m\u001b[0;34m\u001b[0m\u001b[0m\n\u001b[0m\u001b[1;32m     23\u001b[0m \u001b[0;34m\u001b[0m\u001b[0m\n\u001b[1;32m     24\u001b[0m \u001b[0;31m# Write the global stiffness matrix to a text file\u001b[0m\u001b[0;34m\u001b[0m\u001b[0;34m\u001b[0m\u001b[0;34m\u001b[0m\u001b[0m\n",
            "\u001b[0;31mValueError\u001b[0m: operands could not be broadcast together with shapes (5,4) (8,8) (5,4) "
          ]
        }
      ]
    },
    {
      "cell_type": "code",
      "source": [
        "import csv\n",
        "import numpy as np\n",
        "\n",
        "# Read the CSV file with indices\n",
        "with open('/content/8indie.csv', 'r') as f:\n",
        "    reader = csv.reader(f)\n",
        "    next(reader) # skip the header row\n",
        "    indices = [list(map(int, row)) for row in reader]\n",
        "\n",
        "# Initialize the global stiffness matrix with zeros\n",
        "global_stiffness_matrix = np.zeros((64, 64))\n",
        "\n",
        "# Define the 8x8 local stiffness matrix\n",
        "local_stiffness_matrix = np.array([[8, -1, 0, 0, 0, 0, 0, -1], [-1, 8, -1, 0, 0, 0, 0, 0], [0, -1, 8, -1, 0, 0, 0, 0],\n",
        "                                    [0, 0, -1, 8, -1, 0, 0, 0], [0, 0, 0, -1, 8, -1, 0, 0], [0, 0, 0, 0, -1, 8, -1, 0],\n",
        "                                    [0, 0, 0, 0, 0, -1, 8, -1], [-1, 0, 0, 0, 0, 0, -1, 8]])\n",
        "\n",
        "# Loop through the indices\n",
        "for row in indices:\n",
        "    i, j, k, l, m, n, o, p = row\n",
        "    # Assemble the local stiffness matrix into the global stiffness matrix\n",
        "    global_stiffness_matrix[i-1:i+7, j-1:j+7] += local_stiffness_matrix\n",
        "\n",
        "# Write the global stiffness matrix to a text file\n",
        "np.savetxt(\"global_stiffness_matrix_8x8.txt\", global_stiffness_matrix, fmt=\"%.2f\")\n"
      ],
      "metadata": {
        "colab": {
          "base_uri": "https://localhost:8080/",
          "height": 323
        },
        "id": "oJr3tls_bhyR",
        "outputId": "37eb01b3-f25b-42a5-dcd0-1afd964eebed"
      },
      "execution_count": 9,
      "outputs": [
        {
          "output_type": "error",
          "ename": "ValueError",
          "evalue": "ignored",
          "traceback": [
            "\u001b[0;31m---------------------------------------------------------------------------\u001b[0m",
            "\u001b[0;31mValueError\u001b[0m                                Traceback (most recent call last)",
            "\u001b[0;32m<ipython-input-9-f9c3f90f2e40>\u001b[0m in \u001b[0;36m<module>\u001b[0;34m\u001b[0m\n\u001b[1;32m     20\u001b[0m     \u001b[0mi\u001b[0m\u001b[0;34m,\u001b[0m \u001b[0mj\u001b[0m\u001b[0;34m,\u001b[0m \u001b[0mk\u001b[0m\u001b[0;34m,\u001b[0m \u001b[0ml\u001b[0m\u001b[0;34m,\u001b[0m \u001b[0mm\u001b[0m\u001b[0;34m,\u001b[0m \u001b[0mn\u001b[0m\u001b[0;34m,\u001b[0m \u001b[0mo\u001b[0m\u001b[0;34m,\u001b[0m \u001b[0mp\u001b[0m \u001b[0;34m=\u001b[0m \u001b[0mrow\u001b[0m\u001b[0;34m\u001b[0m\u001b[0;34m\u001b[0m\u001b[0m\n\u001b[1;32m     21\u001b[0m     \u001b[0;31m# Assemble the local stiffness matrix into the global stiffness matrix\u001b[0m\u001b[0;34m\u001b[0m\u001b[0;34m\u001b[0m\u001b[0;34m\u001b[0m\u001b[0m\n\u001b[0;32m---> 22\u001b[0;31m     \u001b[0mglobal_stiffness_matrix\u001b[0m\u001b[0;34m[\u001b[0m\u001b[0mi\u001b[0m\u001b[0;34m-\u001b[0m\u001b[0;36m1\u001b[0m\u001b[0;34m:\u001b[0m\u001b[0mi\u001b[0m\u001b[0;34m+\u001b[0m\u001b[0;36m7\u001b[0m\u001b[0;34m,\u001b[0m \u001b[0mj\u001b[0m\u001b[0;34m-\u001b[0m\u001b[0;36m1\u001b[0m\u001b[0;34m:\u001b[0m\u001b[0mj\u001b[0m\u001b[0;34m+\u001b[0m\u001b[0;36m7\u001b[0m\u001b[0;34m]\u001b[0m \u001b[0;34m+=\u001b[0m \u001b[0mlocal_stiffness_matrix\u001b[0m\u001b[0;34m\u001b[0m\u001b[0;34m\u001b[0m\u001b[0m\n\u001b[0m\u001b[1;32m     23\u001b[0m \u001b[0;34m\u001b[0m\u001b[0m\n\u001b[1;32m     24\u001b[0m \u001b[0;31m# Write the global stiffness matrix to a text file\u001b[0m\u001b[0;34m\u001b[0m\u001b[0;34m\u001b[0m\u001b[0;34m\u001b[0m\u001b[0m\n",
            "\u001b[0;31mValueError\u001b[0m: operands could not be broadcast together with shapes (4,3) (8,8) (4,3) "
          ]
        }
      ]
    },
    {
      "cell_type": "code",
      "source": [
        "#include <iostream>\n",
        "#include <fstream>\n",
        "#include <vector>\n",
        "#include <Eigen/Sparse>\n",
        "\n",
        "using namespace std;\n",
        "using namespace Eigen;\n",
        "\n",
        "int main() {\n",
        "  // Read the indices from the CSV file\n",
        "  ifstream file(\"/content/6indices.csv\");\n",
        "  string line;\n",
        "  getline(file, line); // skip the header row\n",
        "  vector<vector<int>> indices;\n",
        "  while (getline(file, line)) {\n",
        "    stringstream ss(line);\n",
        "    string value;\n",
        "    vector<int> row;\n",
        "    while (getline(ss, value, ',')) {\n",
        "      row.push_back(stoi(value));\n",
        "    }\n",
        "    indices.push_back(row);\n",
        "  }\n",
        "  file.close();\n",
        "\n",
        "  // Initialize the global stiffness matrix with zeros\n",
        "  int num_nodes = 150;\n",
        "  SparseMatrix<double> global_stiffness_matrix(num_nodes, num_nodes);\n",
        "  global_stiffness_matrix.setZero();\n",
        "\n",
        "  // Define the 6x6 local stiffness matrix\n",
        "  Matrix<double, 6, 6> local_stiffness_matrix;\n",
        "  local_stiffness_matrix << 6, -1, 0, -1, 0, 0,\n",
        "                           -1, 6, -1, 0, -1, 0,\n",
        "                           0, -1, 6, -1, 0, -1,\n",
        "                           -1, 0, -1, 6, -1, 0,\n",
        "                           0, -1, 0, -1, 6, -1,\n",
        "                           0, 0, -1, 0, -1, 6;\n",
        "\n",
        "  // Loop through the indices\n",
        "  for (const auto &row : indices) {\n",
        "    int i = row[0];\n",
        "    int j = row[1];\n",
        "    int k = row[2];\n",
        "    int l = row[3];\n",
        "    int m = row[4];\n",
        "    int n = row[5];\n",
        "    // Assemble the local stiffness matrix into the global stiffness matrix\n",
        "    global_stiffness_matrix.block(i-1, j-1, 6, 6) += local_stiffness_matrix;\n",
        "  }\n",
        "\n",
        "  // Output the global stiffness matrix to a file\n",
        "  ofstream out_file(\"global_stiffness_matrix.csv\");\n",
        "  out_file << global_stiffness_matrix;\n",
        "  out_file.close();\n",
        "\n",
        "  return 0;\n",
        "}\n"
      ],
      "metadata": {
        "id": "GaySZI7lrtBs"
      },
      "execution_count": null,
      "outputs": []
    },
    {
      "cell_type": "code",
      "source": [
        "!apt-get install libeigen3-dev\n"
      ],
      "metadata": {
        "colab": {
          "base_uri": "https://localhost:8080/"
        },
        "id": "M8kTPMLQrysT",
        "outputId": "03289dd8-5112-4183-a1df-677af2032a65"
      },
      "execution_count": 34,
      "outputs": [
        {
          "output_type": "stream",
          "name": "stdout",
          "text": [
            "Reading package lists... Done\n",
            "Building dependency tree       \n",
            "Reading state information... Done\n",
            "The following package was automatically installed and is no longer required:\n",
            "  libnvidia-common-510\n",
            "Use 'apt autoremove' to remove it.\n",
            "Suggested packages:\n",
            "  libeigen3-doc libmpfrc++-dev\n",
            "The following NEW packages will be installed:\n",
            "  libeigen3-dev\n",
            "0 upgraded, 1 newly installed, 0 to remove and 27 not upgraded.\n",
            "Need to get 815 kB of archives.\n",
            "After this operation, 7,161 kB of additional disk space will be used.\n",
            "Get:1 http://archive.ubuntu.com/ubuntu focal/universe amd64 libeigen3-dev all 3.3.7-2 [815 kB]\n",
            "Fetched 815 kB in 1s (775 kB/s)\n",
            "Selecting previously unselected package libeigen3-dev.\n",
            "(Reading database ... 129496 files and directories currently installed.)\n",
            "Preparing to unpack .../libeigen3-dev_3.3.7-2_all.deb ...\n",
            "Unpacking libeigen3-dev (3.3.7-2) ...\n",
            "Setting up libeigen3-dev (3.3.7-2) ...\n"
          ]
        }
      ]
    },
    {
      "cell_type": "code",
      "source": [
        "!g++ -I /usr/include/eigen3/ test.cpp -o test\n"
      ],
      "metadata": {
        "colab": {
          "base_uri": "https://localhost:8080/"
        },
        "id": "C2iEPpXMr_3V",
        "outputId": "05add55a-30d1-49bc-ea72-66fbb1a639b4"
      },
      "execution_count": 35,
      "outputs": [
        {
          "output_type": "stream",
          "name": "stdout",
          "text": [
            "In file included from \u001b[01m\u001b[K/usr/include/eigen3/Eigen/Core:441\u001b[m\u001b[K,\n",
            "                 from \u001b[01m\u001b[K/usr/include/eigen3/Eigen/SparseCore:11\u001b[m\u001b[K,\n",
            "                 from \u001b[01m\u001b[K/usr/include/eigen3/Eigen/Sparse:26\u001b[m\u001b[K,\n",
            "                 from \u001b[01m\u001b[Ktest.cpp:4\u001b[m\u001b[K:\n",
            "/usr/include/eigen3/Eigen/src/Core/AssignEvaluator.h: In instantiation of ‘\u001b[01m\u001b[Kstatic void Eigen::internal::Assignment<DstXprType, SrcXprType, Functor, Eigen::internal::EigenBase2EigenBase, Weak>::run(DstXprType&, const SrcXprType&, const Eigen::internal::add_assign_op<typename DstXprType::Scalar, SrcScalarType>&) [with SrcScalarType = double; DstXprType = Eigen::Block<Eigen::SparseMatrix<double>, -1, -1, false>; SrcXprType = Eigen::Matrix<double, 6, 6>; Functor = Eigen::internal::add_assign_op<double, double>; Weak = void; typename DstXprType::Scalar = double]\u001b[m\u001b[K’:\n",
            "\u001b[01m\u001b[K/usr/include/eigen3/Eigen/src/Core/AssignEvaluator.h:836:49:\u001b[m\u001b[K   required from ‘\u001b[01m\u001b[Kvoid Eigen::internal::call_assignment_no_alias(Dst&, const Src&, const Func&) [with Dst = Eigen::Block<Eigen::SparseMatrix<double>, -1, -1, false>; Src = Eigen::Matrix<double, 6, 6>; Func = Eigen::internal::add_assign_op<double, double>]\u001b[m\u001b[K’\n",
            "\u001b[01m\u001b[K/usr/include/eigen3/Eigen/src/Core/AssignEvaluator.h:804:27:\u001b[m\u001b[K   required from ‘\u001b[01m\u001b[Kvoid Eigen::internal::call_assignment(Dst&, const Src&, const Func&, typename Eigen::internal::enable_if<(! Eigen::internal::evaluator_assume_aliasing<Src>::value), void*>::type) [with Dst = Eigen::Block<Eigen::SparseMatrix<double>, -1, -1, false>; Src = Eigen::Matrix<double, 6, 6>; Func = Eigen::internal::add_assign_op<double, double>; typename Eigen::internal::enable_if<(! Eigen::internal::evaluator_assume_aliasing<Src>::value), void*>::type = void*]\u001b[m\u001b[K’\n",
            "\u001b[01m\u001b[K/usr/include/eigen3/Eigen/src/SparseCore/SparseCwiseBinaryOp.h:644:18:\u001b[m\u001b[K   required from ‘\u001b[01m\u001b[KDerived& Eigen::SparseMatrixBase<Derived>::operator+=(const Eigen::EigenBase<OtherDerived>&) [with OtherDerived = Eigen::Matrix<double, 6, 6>; Derived = Eigen::Block<Eigen::SparseMatrix<double>, -1, -1, false>]\u001b[m\u001b[K’\n",
            "\u001b[01m\u001b[Ktest.cpp:49:54:\u001b[m\u001b[K   required from here\n",
            "\u001b[01m\u001b[K/usr/include/eigen3/Eigen/src/Core/AssignEvaluator.h:911:11:\u001b[m\u001b[K \u001b[01;31m\u001b[Kerror: \u001b[m\u001b[K‘\u001b[01m\u001b[Kclass Eigen::Block<Eigen::SparseMatrix<double>, -1, -1, false>\u001b[m\u001b[K’ has no member named ‘\u001b[01m\u001b[Kresize\u001b[m\u001b[K’; did you mean ‘\u001b[01m\u001b[Ksize\u001b[m\u001b[K’?\n",
            "  911 |       \u001b[01;31m\u001b[Kdst.resize\u001b[m\u001b[K(dstRows, dstCols);\n",
            "      |       \u001b[01;31m\u001b[K~~~~^~~~~~\u001b[m\u001b[K\n",
            "      |       \u001b[32m\u001b[Ksize\u001b[m\u001b[K\n"
          ]
        }
      ]
    },
    {
      "cell_type": "code",
      "source": [
        "To run this code on Colab, you'll need to install Eigen. You can do this by running the following command in a Colab code cell:\n",
        "\n",
        "csharp\n",
        "Copy code\n",
        "!apt-get install libeigen3-dev\n",
        "Then, you can compile and run the code using the following commands in a Colab code cell:\n",
        "\n",
        "bash\n",
        "Copy code\n",
        "!g++ -I /usr/include/eigen3/ test.cpp -o test\n",
        "!./test\n",
        "To run this code on a local Ubuntu terminal, you'll need to"
      ],
      "metadata": {
        "id": "y1tUWtk_rwtF"
      },
      "execution_count": null,
      "outputs": []
    },
    {
      "cell_type": "code",
      "source": [
        "can you list some of the one D two D element three D element and tell their corresponding element stiffness matrix size\n",
        "Yes, here are some commonly used elements in Finite Element Analysis and their corresponding element stiffness matrix size:\n",
        "\n",
        "1D elements:\n",
        "\n",
        "Truss element: 2x2\n",
        "Beam element: 3x3\n",
        "Rod element: 2x2\n",
        "2D elements:\n",
        "\n",
        "Quadrilateral element: 4x4\n",
        "Triangle element: 3x3\n",
        "3D elements:\n",
        "\n",
        "Hexahedron element: 8x8\n",
        "Tetrahedron element: 6x6\n",
        "Wedge element: 6x6\n",
        "Note that the size of the element stiffness matrix depends on the number of degrees of freedom for each element and the type of element used. The element stiffness matrix is used in assembling the global stiffness matrix for the whole structure."
      ],
      "metadata": {
        "id": "IKuvqTpNtPYL"
      },
      "execution_count": null,
      "outputs": []
    },
    {
      "cell_type": "code",
      "source": [
        "ok tell me for a 3d element in finite element analysis is the element stiffness matrix 8 cross 8 or 6 cross 6 like  a tetrahedron element\n",
        "The size of the element stiffness matrix for a 3D element in finite element analysis depends on the type of element used. For a tetrahedron element, the element stiffness matrix is usually 6x6. However, for other types of 3D elements such as brick or hexahedron elements, the element stiffness matrix can be 8x8 or larger, depending on the number of degrees of freedom considered for the element.\n",
        "\n",
        "\n",
        "\n",
        "\n",
        "RANDOM NEURAL MONK\n",
        "can you list some of the one D two D element three D element and tell their corresponding element stiffness matrix size\n",
        "Yes, here are some commonly used elements in Finite Element Analysis and their corresponding element stiffness matrix size:\n",
        "\n",
        "1D elements:\n",
        "\n",
        "Truss element: 2x2\n",
        "Beam element: 3x3\n",
        "Rod element: 2x2\n",
        "2D elements:\n",
        "\n",
        "Quadrilateral element: 4x4\n",
        "Triangle element: 3x3\n",
        "3D elements:\n",
        "\n",
        "Hexahedron element: 8x8\n",
        "Tetrahedron element: 6x6\n",
        "Wedge element: 6x6\n",
        "Note that the size of the element stiffness matrix depends on the number of degrees of freedom for each element and the type of element used. The element stiffness matrix is used in assembling the global stiffness matrix for the whole structure.\n",
        "\n",
        "\n",
        "\n",
        "\n",
        "RANDOM NEURAL MONK\n",
        "list the latest ones and the famous ones which give good convergence like this\n",
        "Here are some popular finite elements and their corresponding stiffness matrix size:\n",
        "\n",
        "1D Elements:\n",
        "\n",
        "Beam element (Truss): 2 x 2 matrix\n",
        "Bar element (Frame): 3 x 3 matrix\n",
        "Rod element (Truss with axial deformation): 3 x 3 matrix\n",
        "2D Elements:\n",
        "\n",
        "Triangular element (Plate/Shell): 6 x 6 matrix\n",
        "Quadrilateral element (Plate/Shell): 8 x 8 matrix\n",
        "3D Elements:\n",
        "\n",
        "Tetrahedron element (Solid): 10 x 10 matrix\n",
        "Hexahedron element (Solid): 20 x 20 matrix\n",
        "It's worth noting that the size of the element stiffness matrix depends on the element type, its formulation, and the number of degrees of freedom per node. It's also worth mentioning that some element formulations can provide improved convergence, especially for highly nonlinear problems.\n",
        "\n",
        "Some popular finite element software packages include: ANSYS, Abaqus, ABAQUS, LS-DYNA, and COMSOL.\n",
        "\n",
        "\n",
        "\n",
        "\n",
        "RANDOM NEURAL MONK\n",
        "tell me the most famous ones used by these companies Some popular finite element software packages include: ANSYS, Abaqus, ABAQUS, LS-DYNA, and COMSOL. and their type and applications and the dimension of matrix they use list them all\n",
        "ANSYS: ANSYS is a widely used finite element software package that provides simulation solutions for various industries such as aerospace, automotive, and construction. It can be used to simulate various physical phenomena including thermal, mechanical, fluid, and electromagnetic. ANSYS supports 1D, 2D, and 3D elements and the size of the element stiffness matrix depends on the dimension of the element being used.\n",
        "\n",
        "Abaqus: Abaqus is another popular finite element software package used in various industries such as aerospace, automotive, and biomedical. It supports both linear and nonlinear simulations and can be used to simulate a wide range of physical phenomena including mechanics, thermal, and fluid mechanics. Abaqus supports 1D, 2D, and 3D elements and the size of the element stiffness matrix depends on the dimension of the element being used.\n",
        "\n",
        "LS-DYNA: LS-DYNA is a simulation software package widely used in the automotive industry for simulating crash, impact, and dynamic events. It supports both explicit and implicit dynamic simulations and can be used for 1D, 2D, and 3D element simulations. The size of the element stiffness matrix depends on the dimension of the element being used.\n",
        "\n",
        "COMSOL: COMSOL is a multiphysics simulation software package widely used in various industries such as electrical, mechanical, and biomedical engineering. It supports both linear and nonlinear simulations and can be used to simulate a wide range of physical phenomena including thermal, fluid, and electromagnetic. COMSOL supports 1D, 2D, and 3D elements and the size of the element stiffness matrix depends on the dimension of the element being used.\n",
        "\n",
        "Note: The size of the element stiffness matrix is dependent on the dimension of the element being used. For example, a 2D element such as a triangle or quadrilateral will have a 6x6 or 8x8 element stiffness matrix, while a 3D element such as a tetrahedron or hexahedron will have a 12x12 or 20x20 element stiffness matrix.\n",
        "\n",
        "\n",
        "\n",
        "\n",
        "RANDOM NEURAL MONK\n",
        "ok what is the maximum size used in these software and some advanced researches \n",
        "The size of the finite element stiffness matrix can vary widely depending on the problem being solved and the size of the system being modeled. For commercial software packages like ANSYS, Abaqus, LS-DYNA, and COMSOL, the size of the stiffness matrix can range from a few hundred to tens of thousands of elements.\n",
        "\n",
        "In advanced research, the size of the stiffness matrix can be much larger, sometimes in the millions or even billions of elements, for very complex models with large numbers of degrees of freedom.\n",
        "\n",
        "It's worth noting that the size of the matrix is not the only factor in determining the computational efficiency of a finite element analysis, as various algorithmic and software optimization techniques can be applied to reduce the computational cost and improve performance.\n",
        "\n",
        "\n",
        "\n"
      ],
      "metadata": {
        "id": "ND_QgPRSuVHB"
      },
      "execution_count": null,
      "outputs": []
    }
  ]
}