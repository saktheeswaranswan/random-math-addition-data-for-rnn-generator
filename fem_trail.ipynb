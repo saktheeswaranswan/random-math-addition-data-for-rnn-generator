{
  "nbformat": 4,
  "nbformat_minor": 0,
  "metadata": {
    "colab": {
      "provenance": [],
      "authorship_tag": "ABX9TyOoz35HcO8oag+fzgil8Ixx",
      "include_colab_link": true
    },
    "kernelspec": {
      "name": "python3",
      "display_name": "Python 3"
    },
    "language_info": {
      "name": "python"
    }
  },
  "cells": [
    {
      "cell_type": "markdown",
      "metadata": {
        "id": "view-in-github",
        "colab_type": "text"
      },
      "source": [
        "<a href=\"https://colab.research.google.com/github/saktheeswaranswan/random-math-addition-data-for-rnn-generator/blob/main/fem_trail.ipynb\" target=\"_parent\"><img src=\"https://colab.research.google.com/assets/colab-badge.svg\" alt=\"Open In Colab\"/></a>"
      ]
    },
    {
      "cell_type": "code",
      "execution_count": 21,
      "metadata": {
        "colab": {
          "base_uri": "https://localhost:8080/"
        },
        "id": "Q3EyR7ZiNVfX",
        "outputId": "03419700-6412-4ab1-9a37-7d4948a5d8bc"
      },
      "outputs": [
        {
          "output_type": "stream",
          "name": "stdout",
          "text": [
            "Element stiffness matrices: \n",
            "Element 1 :  [[ 150000. -150000.]\n",
            " [-150000.  150000.]]\n",
            "Element 2 :  [[ 150000. -150000.]\n",
            " [-150000.  150000.]]\n",
            "Global stiffness matrix:  [[ 150000. -150000.       0.]\n",
            " [-150000.  300000. -150000.]\n",
            " [      0. -150000.  150000.]]\n",
            "Nodal displacements:  [0.   0.02 0.  ] mm\n"
          ]
        }
      ],
      "source": [
        "import numpy as np\n",
        "\n",
        "# Define properties\n",
        "E = 200000 # Young's modulus (N/mm^2)\n",
        "A = 300 # Cross-sectional area (mm^2)\n",
        "L = 800 # Length of bar (mm)\n",
        "f = 3000 # Force applied (N)\n",
        "num_elements = 2 # Number of elements\n",
        "\n",
        "# Define nodal coordinates\n",
        "x = np.linspace(0, L, num_elements + 1)\n",
        "\n",
        "# Define element stiffness matrices\n",
        "k_element = np.array([[1, -1], [-1, 1]])\n",
        "\n",
        "# Initialize global stiffness matrix\n",
        "K = np.zeros((num_elements + 1, num_elements + 1))\n",
        "\n",
        "# Assemble global stiffness matrix\n",
        "for i in range(num_elements):\n",
        "  xi, xj = x[i], x[i + 1]\n",
        "  L = xj - xi\n",
        "  Ke = E * A / L * k_element\n",
        "  K[i:i + 2, i:i + 2] += Ke\n",
        "\n",
        "# Print element stiffness matrices\n",
        "print(\"Element stiffness matrices: \")\n",
        "for i in range(num_elements):\n",
        "  print(\"Element\", i + 1, \": \", E * A / (x[i + 1] - x[i]) * k_element)\n",
        "\n",
        "# Print global stiffness matrix\n",
        "print(\"Global stiffness matrix: \", K)\n",
        "\n",
        "# Define force vector\n",
        "f_vec = np.zeros((num_elements + 1,))\n",
        "f_vec[-1] = f\n",
        "\n",
        "# Define boundary conditions (fixed-end conditions)\n",
        "bc = np.array([0, 1]) # Index of fixed nodes\n",
        "fixed_displacements = np.array([0, 0]) # Fixed displacements (mm)\n",
        "\n",
        "# Reduce global stiffness matrix and force vector\n",
        "K_reduced = np.delete(np.delete(K, bc, axis=0), bc, axis=1)\n",
        "f_vec_reduced = np.delete(f_vec, bc)\n",
        "\n",
        "# Solve for reduced nodal displacements\n",
        "u_reduced = np.linalg.solve(K_reduced, f_vec_reduced)\n",
        "\n",
        "# Re-insert fixed displacements into full solution\n",
        "u = np.insert(u_reduced, bc, fixed_displacements)\n",
        "\n",
        "# Print nodal displacements\n",
        "print(\"Nodal displacements: \", u, \"mm\")\n"
      ]
    },
    {
      "cell_type": "code",
      "source": [
        "#to check answers del l =p*l/A*E"
      ],
      "metadata": {
        "id": "mVFxEQKzWd-t"
      },
      "execution_count": null,
      "outputs": []
    },
    {
      "cell_type": "code",
      "source": [
        "#cst single element"
      ],
      "metadata": {
        "id": "COqSjxTNWvbh"
      },
      "execution_count": null,
      "outputs": []
    },
    {
      "cell_type": "code",
      "source": [
        "import numpy as np\n",
        "\n",
        "# Define properties\n",
        "E = 200000 # Young's modulus (Pa)\n",
        "nu = 0.25 # Poisson's ratio\n",
        "t = 10 # Thickness (mm)\n",
        "\n",
        "# Define nodal coordinates\n",
        "x1, y1 = 20, 30 # (mm)\n",
        "x2, y2 = 80, 30 # (mm)\n",
        "x3, y3 = 50, 120 # (mm)\n",
        "\n",
        "\n",
        "# Define element stiffness matrix\n",
        "B = np.array([[x[1] - x[0], x[2] - x[0], 0], [y[1] - y[0], y[2] - y[0], 0], [0, 0, 0]])\n",
        "D = E / (1 - nu ** 2) * np.array([[1, nu, 0], [nu, 1, 0], [0, 0, (1 - nu) / 2]])\n",
        "Ke = (t * B.T @ D @ B) / (2 * (x[1] - x[0]) * (y[2] - y[0]))\n",
        "print(Ke)"
      ],
      "metadata": {
        "colab": {
          "base_uri": "https://localhost:8080/"
        },
        "id": "68Gy4uyiadMS",
        "outputId": "2b772327-15c7-48e9-c036-5aee4d20e865"
      },
      "execution_count": 25,
      "outputs": [
        {
          "output_type": "stream",
          "name": "stdout",
          "text": [
            "[[ 711111.11111111  622222.22222222       0.        ]\n",
            " [ 622222.22222222 2044444.44444444       0.        ]\n",
            " [      0.               0.               0.        ]]\n"
          ]
        }
      ]
    },
    {
      "cell_type": "code",
      "source": [],
      "metadata": {
        "id": "9Hd5GSYVaebX"
      },
      "execution_count": null,
      "outputs": []
    }
  ]
}