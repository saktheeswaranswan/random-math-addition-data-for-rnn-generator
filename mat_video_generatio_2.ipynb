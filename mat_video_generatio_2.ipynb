{
  "nbformat": 4,
  "nbformat_minor": 0,
  "metadata": {
    "colab": {
      "provenance": [],
      "authorship_tag": "ABX9TyOQwAU0stU1CAOow3pcg/+s",
      "include_colab_link": true
    },
    "kernelspec": {
      "name": "python3",
      "display_name": "Python 3"
    },
    "language_info": {
      "name": "python"
    },
    "accelerator": "GPU",
    "gpuClass": "standard"
  },
  "cells": [
    {
      "cell_type": "markdown",
      "metadata": {
        "id": "view-in-github",
        "colab_type": "text"
      },
      "source": [
        "<a href=\"https://colab.research.google.com/github/saktheeswaranswan/random-math-addition-data-for-rnn-generator/blob/main/mat_video_generatio_2.ipynb\" target=\"_parent\"><img src=\"https://colab.research.google.com/assets/colab-badge.svg\" alt=\"Open In Colab\"/></a>"
      ]
    },
    {
      "cell_type": "code",
      "execution_count": 3,
      "metadata": {
        "colab": {
          "base_uri": "https://localhost:8080/",
          "height": 269
        },
        "id": "Vyk1KRo5MO8l",
        "outputId": "df4637e8-c19c-4210-d0e8-88438de11ee9"
      },
      "outputs": [
        {
          "output_type": "display_data",
          "data": {
            "text/plain": [
              "<Figure size 432x288 with 1 Axes>"
            ],
            "image/png": "[encoded data removed]"
          },
          "metadata": {
            "needs_background": "light"
          }
        }
      ],
      "source": [
        "import matplotlib.pyplot as plt\n",
        "import matplotlib.animation as animation\n",
        "\n",
        "text = [\"Text 1\", \"Text 2\", \"Text 3\", \"Text 4\", \"Text 5\"]\n",
        "\n",
        "fig, ax = plt.subplots()\n",
        "ax.set_xlim(0, 1)\n",
        "ax.set_ylim(0, 1)\n",
        "\n",
        "def update(i):\n",
        "    ax.clear()\n",
        "    ax.text(0.5, 0.5, text[i % 5], ha=\"center\", va=\"center\", fontsize=30)\n",
        "\n",
        "ani = animation.FuncAnimation(fig, update, frames=20, interval=1000)\n",
        "\n",
        "ani.save(\"animated_text.mp4\", writer=\"ffmpeg\")\n"
      ]
    },
    {
      "cell_type": "code",
      "source": [],
      "metadata": {
        "id": "IcSSqjv1PJ55"
      },
      "execution_count": null,
      "outputs": []
    }
  ]
}