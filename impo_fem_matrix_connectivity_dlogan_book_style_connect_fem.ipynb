{
  "nbformat": 4,
  "nbformat_minor": 0,
  "metadata": {
    "colab": {
      "provenance": [],
      "authorship_tag": "ABX9TyOPWTA/XbZZi4uvDFUnlx9b",
      "include_colab_link": true
    },
    "kernelspec": {
      "name": "python3",
      "display_name": "Python 3"
    },
    "language_info": {
      "name": "python"
    }
  },
  "cells": [
    {
      "cell_type": "markdown",
      "metadata": {
        "id": "view-in-github",
        "colab_type": "text"
      },
      "source": [
        "<a href=\"https://colab.research.google.com/github/saktheeswaranswan/random-math-addition-data-for-rnn-generator/blob/main/impo_fem_matrix_connectivity_dlogan_book_style_connect_fem.ipynb\" target=\"_parent\"><img src=\"https://colab.research.google.com/assets/colab-badge.svg\" alt=\"Open In Colab\"/></a>"
      ]
    },
    {
      "cell_type": "code",
      "source": [
        "#different Random indices to connect matrix"
      ],
      "metadata": {
        "id": "wc8DKBlgohad"
      },
      "execution_count": null,
      "outputs": []
    },
    {
      "cell_type": "code",
      "execution_count": 8,
      "metadata": {
        "colab": {
          "base_uri": "https://localhost:8080/",
          "height": 408
        },
        "id": "7fOmMyl5oc8N",
        "outputId": "3143d51a-1358-46ff-d84f-34a741c09788"
      },
      "outputs": [
        {
          "output_type": "stream",
          "name": "stdout",
          "text": [
            "[[ 240.    0. -140.   70.    0. -130. -100.   60.]\n",
            " [   0.  435.   60. -400. -130.    0.   70.  -35.]\n",
            " [-140.   60.  240. -130. -100.   70.    0.    0.]\n",
            " [  70. -400. -130.  435.   60.  -35.    0.    0.]\n",
            " [   0. -130. -100.   60.  240.    0. -140.   70.]\n",
            " [-130.    0.   70.  -35.    0.  435.   60. -400.]\n",
            " [-100.   70.    0.    0. -140.   60.  240. -130.]\n",
            " [  60.  -35.    0.    0.   70. -400. -130.  435.]]\n"
          ]
        },
        {
          "output_type": "display_data",
          "data": {
            "text/plain": [
              "<Figure size 432x288 with 1 Axes>"
            ],
            "image/png": "[encoded data removed]"
          },
          "metadata": {
            "needs_background": "light"
          }
        }
      ],
      "source": [
        "import numpy as np\n",
        "import pandas as pd\n",
        "\n",
        "def generate_indices_csv(filename, n, num_element_stiffness_matrices):\n",
        "    indices = np.zeros((num_element_stiffness_matrices, 6), dtype=int)\n",
        "    for i in range(num_element_stiffness_matrices):\n",
        "        indices[i, :] = np.random.randint(1, n+1, 6)\n",
        "    df = pd.DataFrame(indices, columns=['i1', 'i2', 'i3','i4','i5','i6'])\n",
        "    df.to_csv(filename, index=False)\n",
        "\n",
        "def assemble_global_stiffness_matrix(n, element_stiffness_matrices, indices_df):\n",
        "    global_stiffness_matrix = np.zeros((n, n))\n",
        "    for i, row in indices_df.iterrows():\n",
        "        index = row.tolist()\n",
        "        for row in range(element_stiffness_matrices[i].shape[0]):\n",
        "            for col in range(element_stiffness_matrices[i].shape[1]):\n",
        "                if index[row] <= n and index[col] <= n:\n",
        "                    global_stiffness_matrix[index[row]-1, index[col]-1] += element_stiffness_matrices[i][row, col]\n",
        "    return global_stiffness_matrix\n",
        "\n",
        "n = 8\n",
        "num_element_stiffness_matrices = 2\n",
        "element_stiffness_matrices = [np.array([[140,0,0,-70,-140,70],[0,400,-60,0,60,-400],[0,-60,100,0,-100,60],[-70,0,0,35,70,-35],[-140,60,-100,70,240,-130],[70,-400,60,-35,-130,435]]),\n",
        "                             np.array([[100,0,-100,60,0,-60],[0,35,70,-35,-70,0],[-100,70,240,-130,-140,60],[60,-35,-130,435,70,-400],[0,-70,-140,70,140,0],[-60,0,60,-400,0,400]])]\n",
        "#filename = 'indices.csv'\n",
        "#generate_indices_csv(filename, n, num_element_stiffness_matrices)\n",
        "indices_df = pd.read_csv('/content/indicesre.csv')\n",
        "global_stiffness_matrix = assemble_global_stiffness_matrix(n, element_stiffness_matrices, indices_df)\n",
        "print(global_stiffness_matrix)\n",
        "# Plot the global stiffness matrix as a sparse plot array\n",
        "plt.spy(global_stiffness_matrix, markersize=15, color='red')\n",
        "plt.show()\n",
        "# Save the global stiffness matrix in a text file\n",
        "np.savetxt(\"global_stiffness_matrix.txt\", global_stiffness_matrix, fmt='%d')\n",
        "# Save the global stiffness matrix in Python matrix format\n",
        "import numpy as np\n",
        "\n",
        "with open('global_stiffness_matrix.py', 'w') as f:\n",
        "    f.write('import numpy as np\\n\\n')\n",
        "    f.write('global_stiffness_matrix = np.array([\\n')\n",
        "    for i in range(global_stiffness_matrix.shape[0]):\n",
        "        f.write('    [')\n",
        "        for j in range(global_stiffness_matrix.shape[1]):\n",
        "            f.write(str(global_stiffness_matrix[i][j]))\n",
        "            if j < global_stiffness_matrix.shape[1] - 1:\n",
        "                f.write(', ')\n",
        "        f.write(']')\n",
        "        if i < global_stiffness_matrix.shape[0] - 1:\n",
        "            f.write(',\\n')\n",
        "    f.write('])\\n')\n",
        "\n",
        "# solve the force vector given by \n",
        "#the assembly is much simpler than gst assembly \n",
        "#just look for the indices like \n",
        "#1,3,2\n",
        "#{1.333,1.333,1.333}\n",
        "#3,4,2\n",
        "#{1.333,1.3333,1.333}\n",
        "#4,5,2\n",
        "#{1.333,1.333,1.333}\n",
        "#5,1,2\n",
        "#{1.333,1.333,1.333}\n",
        "#you know why 2,4,5 adds up because it exist in three columns so it adds up\n",
        "#[ 2.666,5.333,2.666,2.666,2.666]\n",
        "#there are some coeeficients to solve it"
      ]
    },
    {
      "cell_type": "code",
      "source": [
        "#same indices repeated indices to connect matrix "
      ],
      "metadata": {
        "id": "GlC49nM9onTm"
      },
      "execution_count": null,
      "outputs": []
    },
    {
      "cell_type": "code",
      "source": [
        "import numpy as np\n",
        "import pandas as pd\n",
        "import matplotlib.pyplot as plt\n",
        "\n",
        "def generate_indices_csv(filename, n, num_element_stiffness_matrices):\n",
        "    indices = np.zeros((num_element_stiffness_matrices, 6), dtype=int)\n",
        "    for i in range(num_element_stiffness_matrices):\n",
        "        indices[i, :] = np.random.choice(np.arange(1, n+1), 6, replace=False)\n",
        "    df = pd.DataFrame(indices, columns=['i1', 'i2', 'i3','i4','i5','i6'])\n",
        "    df.to_csv(filename, index=False)\n",
        "\n",
        "def assemble_global_stiffness_matrix(n, element_stiffness_matrices, indices_df):\n",
        "    global_stiffness_matrix = np.zeros((n, n))\n",
        "    for i, row in indices_df.iterrows():\n",
        "        index = row.tolist()\n",
        "        for row in range(element_stiffness_matrices[i].shape[0]):\n",
        "            for col in range(element_stiffness_matrices[i].shape[1]):\n",
        "                if index[row] <= n and index[col] <= n:\n",
        "                    global_stiffness_matrix[index[row]-1, index[col]-1] += element_stiffness_matrices[i][row, col]\n",
        "    return global_stiffness_matrix\n",
        "\n",
        "n = 8\n",
        "num_element_stiffness_matrices = 2\n",
        "element_stiffness_matrices = [np.array([[140,0,0,-70,-140,70],[0,400,-60,0,60,-400],[0,-60,100,0,-100,60],[-70,0,0,35,70,-35],[-140,60,-100,70,240,-130],[70,-400,60,-35,-130,435]]),\n",
        "                             np.array([[100,0,-100,60,0,-60],[0,35,70,-35,-70,0],[-100,70,240,-130,-140,60],[60,-35,-130,435,70,-400],[0,-70,-140,70,140,0],[-60,0,60,-400,0,400]])]\n",
        "filename = '/content/indicesre.csv'\n",
        "generate_indices_csv(filename, n, num_element_stiffness_matrices)\n",
        "indices_df = pd.read_csv(filename)\n",
        "global_stiffness_matrix = assemble_global_stiffness_matrix(n, element_stiffness_matrices, indices_df)\n",
        "print(global_stiffness_matrix)\n",
        "# Plot the global stiffness matrix as a sparse plot array\n",
        "plt.spy(global_stiffness_matrix, markersize=15, color='red')\n",
        "plt.show()\n",
        "# Save the global stiffness matrix in a text file\n",
        "np.savetxt(\"global_stiffness_matrix.txt\", global_stiffness_matrix, fmt='%d')\n",
        "# Save the global stiffness matrix in Python matrix format\n",
        "with open('global_stiffness_matrix.py', 'w') as f:\n",
        "    f.write('import numpy as np\\n\\n')\n",
        "    f.write('global_stiffness_matrix = np.array([\\n')\n",
        "    for i in range(global_stiffness_matrix.shape[0]):\n",
        "        f.write('    [')\n",
        "        for j in range(global_stiffness_matrix.shape[1]):\n",
        "            f.write(str(global_stiffness_matrix[i][j]))\n",
        "            if j < global_stiffness_matrix.shape[1] - 1:\n",
        "                f.write(', ')\n",
        "        f.write(']')\n",
        "        if i < global_stiffness_matrix.shape[0] - 1:\n",
        "            f.write(',\\n')\n",
        "    f.write('])\\n')\n"
      ],
      "metadata": {
        "colab": {
          "base_uri": "https://localhost:8080/",
          "height": 408
        },
        "id": "99QhSFZ1ouUN",
        "outputId": "0e4f158b-7d86-4a42-b660-6cba2a6b6f76"
      },
      "execution_count": 6,
      "outputs": [
        {
          "output_type": "stream",
          "name": "stdout",
          "text": [
            "[[ 835.  -70.    0. -340.   70.  -35. -460.    0.]\n",
            " [ -70.  480.    0. -230.  -70.   70.  -40. -140.]\n",
            " [   0.    0.    0.    0.    0.    0.    0.    0.]\n",
            " [-340. -230.    0.  535.  -35.    0.    0.   70.]\n",
            " [  70.  -70.    0.  -35.  175.  -70.    0.  -70.]\n",
            " [ -35.   70.    0.    0.  -70.   35.    0.    0.]\n",
            " [-460.  -40.    0.    0.    0.    0.  500.    0.]\n",
            " [   0. -140.    0.   70.  -70.    0.    0.  140.]]\n"
          ]
        },
        {
          "output_type": "display_data",
          "data": {
            "text/plain": [
              "<Figure size 432x288 with 1 Axes>"
            ],
            "image/png": "[encoded data removed]"
          },
          "metadata": {
            "needs_background": "light"
          }
        }
      ]
    },
    {
      "cell_type": "code",
      "source": [
        "#convert the repeated indices to it gives this result \"[1, 1, 3, 3, 2, 2]\n",
        " #i asked for [1,2,5,6,3,4] this"
      ],
      "metadata": {
        "id": "4b6Byhuax7dD"
      },
      "execution_count": null,
      "outputs": []
    },
    {
      "cell_type": "code",
      "source": [
        "#[1,1,4,4,3,3] to [1\t,2\t,7,\t8\t,5\t,6]"
      ],
      "metadata": {
        "id": "Gf8lqxoJyC1g"
      },
      "execution_count": null,
      "outputs": []
    },
    {
      "cell_type": "code",
      "source": [
        "\ti2\ti3\ti4\ti5\ti6\n",
        "1\t2\t5\t6\t3\t4\n",
        "1\t2\t7\t8\t5\t6"
      ],
      "metadata": {
        "id": "ZA9aUZ5cyB4r"
      },
      "execution_count": null,
      "outputs": []
    },
    {
      "cell_type": "code",
      "source": [
        "original_list_1 = [1, 1, 3, 3, 2, 2]\n",
        "original_list_2 = [1, 1, 2, 2, 3, 3]\n",
        "new_list = []\n",
        "\n",
        "for num in original_list_1:\n",
        "    index = original_list_2.index(num)\n",
        "    new_num = original_list_2[index+1]\n",
        "    new_list.append(new_num)\n",
        "\n",
        "print(new_list)\n"
      ],
      "metadata": {
        "colab": {
          "base_uri": "https://localhost:8080/"
        },
        "id": "N0eBE2TJxYXa",
        "outputId": "10bb75c3-b99b-4d50-fc40-14082a8f511e"
      },
      "execution_count": 9,
      "outputs": [
        {
          "output_type": "stream",
          "name": "stdout",
          "text": [
            "[1, 1, 3, 3, 2, 2]\n"
          ]
        }
      ]
    },
    {
      "cell_type": "code",
      "source": [
        "original_list_1 = [1, 1, 3, 3, 2, 2]\n",
        "original_list_2 = [1, 1, 2, 2, 3, 3]\n",
        "new_list = []\n",
        "\n",
        "for num in original_list_1:\n",
        "    index = original_list_2.index(num)\n",
        "    new_num = original_list_2[index+1]\n",
        "    if new_num not in new_list:\n",
        "        new_list.append(new_num)\n",
        "    else:\n",
        "        next_num = original_list_2[index+2]\n",
        "        new_list.append(next_num)\n",
        "\n",
        "print(new_list)\n"
      ],
      "metadata": {
        "colab": {
          "base_uri": "https://localhost:8080/",
          "height": 236
        },
        "id": "TeiT5xj6xnb1",
        "outputId": "d4006872-7c03-4f02-b6ee-76e4e5ee72e2"
      },
      "execution_count": 10,
      "outputs": [
        {
          "output_type": "error",
          "ename": "IndexError",
          "evalue": "ignored",
          "traceback": [
            "\u001b[0;31m---------------------------------------------------------------------------\u001b[0m",
            "\u001b[0;31mIndexError\u001b[0m                                Traceback (most recent call last)",
            "\u001b[0;32m<ipython-input-10-c58f7616c67c>\u001b[0m in \u001b[0;36m<module>\u001b[0;34m\u001b[0m\n\u001b[1;32m      9\u001b[0m         \u001b[0mnew_list\u001b[0m\u001b[0;34m.\u001b[0m\u001b[0mappend\u001b[0m\u001b[0;34m(\u001b[0m\u001b[0mnew_num\u001b[0m\u001b[0;34m)\u001b[0m\u001b[0;34m\u001b[0m\u001b[0;34m\u001b[0m\u001b[0m\n\u001b[1;32m     10\u001b[0m     \u001b[0;32melse\u001b[0m\u001b[0;34m:\u001b[0m\u001b[0;34m\u001b[0m\u001b[0;34m\u001b[0m\u001b[0m\n\u001b[0;32m---> 11\u001b[0;31m         \u001b[0mnext_num\u001b[0m \u001b[0;34m=\u001b[0m \u001b[0moriginal_list_2\u001b[0m\u001b[0;34m[\u001b[0m\u001b[0mindex\u001b[0m\u001b[0;34m+\u001b[0m\u001b[0;36m2\u001b[0m\u001b[0;34m]\u001b[0m\u001b[0;34m\u001b[0m\u001b[0;34m\u001b[0m\u001b[0m\n\u001b[0m\u001b[1;32m     12\u001b[0m         \u001b[0mnew_list\u001b[0m\u001b[0;34m.\u001b[0m\u001b[0mappend\u001b[0m\u001b[0;34m(\u001b[0m\u001b[0mnext_num\u001b[0m\u001b[0;34m)\u001b[0m\u001b[0;34m\u001b[0m\u001b[0;34m\u001b[0m\u001b[0m\n\u001b[1;32m     13\u001b[0m \u001b[0;34m\u001b[0m\u001b[0m\n",
            "\u001b[0;31mIndexError\u001b[0m: list index out of range"
          ]
        }
      ]
    },
    {
      "cell_type": "code",
      "source": [
        "original_list_1 = [1, 1, 3, 3, 2, 2]\n",
        "original_list_2 = [1, 1, 2, 2, 3, 3]\n",
        "new_list = []\n",
        "\n",
        "for i, num in enumerate(original_list_1):\n",
        "    index = original_list_2.index(num)\n",
        "    if index == len(original_list_2) - 1:\n",
        "        new_num = original_list_2[index-1]\n",
        "    elif original_list_2[index+1] in new_list:\n",
        "        new_num = original_list_2[index+2]\n",
        "    else:\n",
        "        new_num = original_list_2[index+1]\n",
        "    new_list.append(new_num)\n",
        "\n",
        "print(new_list)\n"
      ],
      "metadata": {
        "colab": {
          "base_uri": "https://localhost:8080/",
          "height": 236
        },
        "id": "v48QtfCwxvZw",
        "outputId": "91c0171f-005c-41c7-c35b-697d8e955fb1"
      },
      "execution_count": 11,
      "outputs": [
        {
          "output_type": "error",
          "ename": "IndexError",
          "evalue": "ignored",
          "traceback": [
            "\u001b[0;31m---------------------------------------------------------------------------\u001b[0m",
            "\u001b[0;31mIndexError\u001b[0m                                Traceback (most recent call last)",
            "\u001b[0;32m<ipython-input-11-c018523ebd1e>\u001b[0m in \u001b[0;36m<module>\u001b[0;34m\u001b[0m\n\u001b[1;32m      8\u001b[0m         \u001b[0mnew_num\u001b[0m \u001b[0;34m=\u001b[0m \u001b[0moriginal_list_2\u001b[0m\u001b[0;34m[\u001b[0m\u001b[0mindex\u001b[0m\u001b[0;34m-\u001b[0m\u001b[0;36m1\u001b[0m\u001b[0;34m]\u001b[0m\u001b[0;34m\u001b[0m\u001b[0;34m\u001b[0m\u001b[0m\n\u001b[1;32m      9\u001b[0m     \u001b[0;32melif\u001b[0m \u001b[0moriginal_list_2\u001b[0m\u001b[0;34m[\u001b[0m\u001b[0mindex\u001b[0m\u001b[0;34m+\u001b[0m\u001b[0;36m1\u001b[0m\u001b[0;34m]\u001b[0m \u001b[0;32min\u001b[0m \u001b[0mnew_list\u001b[0m\u001b[0;34m:\u001b[0m\u001b[0;34m\u001b[0m\u001b[0;34m\u001b[0m\u001b[0m\n\u001b[0;32m---> 10\u001b[0;31m         \u001b[0mnew_num\u001b[0m \u001b[0;34m=\u001b[0m \u001b[0moriginal_list_2\u001b[0m\u001b[0;34m[\u001b[0m\u001b[0mindex\u001b[0m\u001b[0;34m+\u001b[0m\u001b[0;36m2\u001b[0m\u001b[0;34m]\u001b[0m\u001b[0;34m\u001b[0m\u001b[0;34m\u001b[0m\u001b[0m\n\u001b[0m\u001b[1;32m     11\u001b[0m     \u001b[0;32melse\u001b[0m\u001b[0;34m:\u001b[0m\u001b[0;34m\u001b[0m\u001b[0;34m\u001b[0m\u001b[0m\n\u001b[1;32m     12\u001b[0m         \u001b[0mnew_num\u001b[0m \u001b[0;34m=\u001b[0m \u001b[0moriginal_list_2\u001b[0m\u001b[0;34m[\u001b[0m\u001b[0mindex\u001b[0m\u001b[0;34m+\u001b[0m\u001b[0;36m1\u001b[0m\u001b[0;34m]\u001b[0m\u001b[0;34m\u001b[0m\u001b[0;34m\u001b[0m\u001b[0m\n",
            "\u001b[0;31mIndexError\u001b[0m: list index out of range"
          ]
        }
      ]
    }
  ]
}