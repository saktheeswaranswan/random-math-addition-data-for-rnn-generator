{
  "nbformat": 4,
  "nbformat_minor": 0,
  "metadata": {
    "colab": {
      "provenance": [],
      "authorship_tag": "ABX9TyOg1pW0jApJDxMZ19T1Dk+O",
      "include_colab_link": true
    },
    "kernelspec": {
      "name": "python3",
      "display_name": "Python 3"
    },
    "language_info": {
      "name": "python"
    }
  },
  "cells": [
    {
      "cell_type": "markdown",
      "metadata": {
        "id": "view-in-github",
        "colab_type": "text"
      },
      "source": [
        "<a href=\"https://colab.research.google.com/github/saktheeswaranswan/random-math-addition-data-for-rnn-generator/blob/main/radllogan_fem_testing_branching.ipynb\" target=\"_parent\"><img src=\"https://colab.research.google.com/assets/colab-badge.svg\" alt=\"Open In Colab\"/></a>"
      ]
    },
    {
      "cell_type": "code",
      "execution_count": 13,
      "metadata": {
        "colab": {
          "base_uri": "https://localhost:8080/",
          "height": 616
        },
        "id": "1bvzz9BnYm8E",
        "outputId": "4d44498c-65c4-4629-ef14-b680cf38cdfe"
      },
      "outputs": [
        {
          "output_type": "stream",
          "name": "stdout",
          "text": [
            "[[  95.99   51.35  -31.63    2.26    0.      0.     20.39   -0.75  -95.82\n",
            "   -52.85]\n",
            " [  51.35  108.74  -11.33   33.98    0.      0.      0.75  -26.43  -67.96\n",
            "  -116.29]\n",
            " [ -31.63  -11.33  158.33  -84.59   52.52   12.84    0.      0.   -139.23\n",
            "    83.07]\n",
            " [   2.26   33.98  -84.59  135.94  -12.84  -41.54    0.      0.     67.98\n",
            "  -128.38]\n",
            " [   0.      0.     52.52  -12.84  158.32   84.59  -31.63   11.33 -139.23\n",
            "   -83.07]\n",
            " [   0.      0.     12.84  -41.54   84.59  135.94   -2.26   33.98  -67.98\n",
            "  -128.38]\n",
            " [  20.39    0.75    0.      0.    -31.63   -2.25   95.99  -51.35  -95.82\n",
            "    52.86]\n",
            " [  -0.75  -26.43    0.      0.     11.33   33.98  -51.35  108.74   67.96\n",
            "  -116.29]\n",
            " [ -95.82  -67.96 -139.23   67.98 -139.23  -67.98  -95.82   67.96  498.99\n",
            "     0.  ]\n",
            " [ -52.85 -116.29   83.07 -128.38  -83.07 -128.38   52.86 -116.29    0.\n",
            "   489.36]]\n"
          ]
        },
        {
          "output_type": "display_data",
          "data": {
            "text/plain": [
              "<Figure size 432x288 with 1 Axes>"
            ],
            "image/png": "[encoded data removed]"
          },
          "metadata": {
            "needs_background": "light"
          }
        }
      ],
      "source": [
        "\n",
        "import numpy as np\n",
        "import pandas as pd\n",
        "from matplotlib import pyplot as plt\n",
        "\n",
        "\n",
        "def generate_indices_csv(filename, n, num_element_stiffness_matrices):\n",
        "    indices = np.zeros((num_element_stiffness_matrices, 6), dtype=int)\n",
        "    for i in range(num_element_stiffness_matrices):\n",
        "        indices[i, :] = np.random.randint(1, n+1, 6)\n",
        "    df = pd.DataFrame(indices, columns=['i1', 'i2', 'i3', 'i4', 'i5','i6'])\n",
        "    df.to_csv(filename, index=False)\n",
        "\n",
        "def assemble_global_stiffness_matrix(n, element_stiffness_matrices, indices_df):\n",
        "    global_stiffness_matrix = np.zeros((n, n))\n",
        "    for i, row in indices_df.iterrows():\n",
        "        index = row.tolist()\n",
        "        for row in range(element_stiffness_matrices[i].shape[0]):\n",
        "            for col in range(element_stiffness_matrices[i].shape[1]):\n",
        "                if index[row] <= n and index[col] <= n:\n",
        "                    global_stiffness_matrix[index[row]-1, index[col]-1] += element_stiffness_matrices[i][row, col]\n",
        "    return global_stiffness_matrix\n",
        "\n",
        "n = 10\n",
        "num_element_stiffness_matrices = 4\n",
        "element_stiffness_matrices = [np.array([[54.46,29.45,-31.63,2.26,-29.37,-31.71],[29.45,61.17,-11.33,33.98,-31.72,-95.15],[-31.63,-11.33,72.59,-38.52,-20.31,49.84],[2.26,33.98,-38.52,61.17,22.66,-95.15],[-29.37,-31.72,-20.31,22.66,56.72,9.06],[-31.71,-95.15,49.84,-95.15,9.06,190.31]]),np.array([[85.74,-46.07,52.52,12.84,-118.92,33.23],[-46.07,74.77,-12.84,-41.54,45.32,-33.23],[52.52,-12.84,85.74,46.07,-118.92,-33.23],[12.84,-41.54,46.07,74.77,-45.32,-33.23],[-118.92,45.32,-118.92,-45.32,216.41,0],[33.23,-33.23,-33.23,-33.23,0,66.46]]),np.array([[72.58,38.52,-31.63,11.33,-20.31,-49.84],[38.52,61.17,-2.26,33.98,-22.66,-95.15],[-31.63,-2.25,54.46,-29.45,-29.37,31.72],[11.33,33.98,-29.45,61.17,31.72,-95.15],[-20.31,-22.66,-29.37,31.72,56.72,-9.06],[-49.84,-95.15,31.72,-95.15,-9.06,190.31]]),np.array([[41.53,-21.90,20.39,.75,-66.45,21.14],[-21.90,47.57,-.75,-26.43,36.24,-21.14],[20.39,-.75,41.53,21.90,-66.45,-21.14],[.75,-26.43,21.90,47.57,-36.24,-21.14],[-66.45,36.24,-66.45,-36.24,169.14,0],[21.14,-21.14,-21.14,-21.14,0,42.28]])]                             \n",
        "#filename = '/content/indices6.csv'\n",
        "#generate_indices_csv(filename, n, num_element_stiffness_matrices)\n",
        "indices_df = pd.read_csv('/content/indices4dllogan.csv')\n",
        "global_stiffness_matrix = assemble_global_stiffness_matrix(n, element_stiffness_matrices, indices_df)\n",
        "print(global_stiffness_matrix)\n",
        "# Plot the global stiffness matrix as a sparse plot array\n",
        "plt.spy(global_stiffness_matrix, markersize=15, color='black')\n",
        "plt.show()\n",
        "# Save the global stiffness matrix in a text file\n",
        "np.savetxt(\"global_stiffness_matrix.txt\", global_stiffness_matrix, fmt='%d')\n",
        "import numpy as np\n",
        "\n",
        "with open('global_stiffness_matrixf.py', 'w') as f:\n",
        "    f.write('import numpy as np\\n\\n')\n",
        "    f.write('global_stiffness_matrix = np.array([\\n')\n",
        "    for i in range(global_stiffness_matrix.shape[0]):\n",
        "        f.write('    [')\n",
        "        for j in range(global_stiffness_matrix.shape[1]):\n",
        "            f.write(str(global_stiffness_matrix[i][j]))\n",
        "            if j < global_stiffness_matrix.shape[1] - 1:\n",
        "                f.write(', ')\n",
        "        f.write(']')\n",
        "        if i < global_stiffness_matrix.shape[0] - 1:\n",
        "            f.write(',\\n')\n",
        "    f.write('])\\n')\n"
      ]
    },
    {
      "cell_type": "code",
      "source": [
        "#dl 427 pgno"
      ],
      "metadata": {
        "id": "-IKq-LqZku6l"
      },
      "execution_count": null,
      "outputs": []
    },
    {
      "cell_type": "code",
      "source": [
        "import numpy as np\n",
        "import pandas as pd\n",
        "import matplotlib.pyplot as plt\n",
        "\n",
        "\n",
        "def generate_indices_csv(filename, n, num_element_stiffness_matrices):\n",
        "    indices = np.zeros((num_element_stiffness_matrices, 4), dtype=int)\n",
        "    for i in range(num_element_stiffness_matrices):\n",
        "        indices[i, :] = np.random.randint(1, n+1, 4)\n",
        "    df = pd.DataFrame(indices, columns=['i1', 'i2', 'i3','i4'])\n",
        "    df.to_csv(filename, index=False)\n",
        "\n",
        "def assemble_global_stiffness_matrix(n, element_stiffness_matrices, indices_df):\n",
        "    global_stiffness_matrix = np.zeros((n, n))\n",
        "    for i, row in indices_df.iterrows():\n",
        "        index = row.tolist()\n",
        "        for row in range(element_stiffness_matrices[i].shape[0]):\n",
        "            for col in range(element_stiffness_matrices[i].shape[1]):\n",
        "                if index[row] <= n and index[col] <= n:\n",
        "                    global_stiffness_matrix[index[row]-1, index[col]-1] += element_stiffness_matrices[i][row, col]\n",
        "    return global_stiffness_matrix\n",
        "\n",
        "n = 10\n",
        "num_element_stiffness_matrices = 7\n",
        "\n",
        "element_stiffness_matrices =[np.array([[.2889, .4701,-.2899,-.4701], [.4701, .7622,-.4701,.7622],[-.2899, -.4701,.2899,.4701], [-.4701, -.7622,.4701,.7622]]),\n",
        "np.array([[1, 0,-1,0], [0, 0,0,0],[-1, 0,1,0], [0, 0,0,0]])\n",
        ",np.array([[.2889, -.4701,-.2899,.4701], [-.4701, .7622,.4701,-.7622],[-.2899, .4701,.2899,-.4701], [.4701, -.7622,-.4701,.7622]])\n",
        ",np.array([[1, 0,-1,0], [0, 0,0,0],[-1, 0,1,0], [0, 0,0,0]])\n",
        ",np.array([[.2889, .4701,-.2899,-.4701], [.4701, .7622,-.4701,.7622],[-.2899, -.4701,.2899,.4701], [-.4701, -.7622,.4701,.7622]])\n",
        ",np.array([[1, 0,-1,0], [0, 0,0,0],[-1, 0,1,0], [0, 0,0,0]])\n",
        ",np.array([[.2889, -.4701,-.2899,.4701], [-.4701, .7622,.4701,-.7622],[-.2899, .4701,.2899,-.4701], [.4701, -.7622,-.4701,.7622]])]\n",
        "#filename = 'indices.csv'\n",
        "#generate_indices_csv(filename, n, num_element_stiffness_matrices)\n",
        "indices_df = pd.read_csv('/content/indices4.csv')\n",
        "global_stiffness_matrix = assemble_global_stiffness_matrix(n, element_stiffness_matrices, indices_df)\n",
        "print(global_stiffness_matrix)\n",
        "# Plot the global stiffness matrix as a sparse plot array\n",
        "plt.spy(global_stiffness_matrix, markersize=15, color='red')\n",
        "plt.show()\n",
        "# Save the global stiffness matrix in a text file\n",
        "np.savetxt(\"global_stiffness_matrix.txt\", global_stiffness_matrix, fmt='%d')\n",
        "# Save the global stiffness matrix in Python matrix format\n",
        "import numpy as np\n",
        "\n",
        "with open('global_stiffness_matrix.py', 'w') as f:\n",
        "    f.write('import numpy as np\\n\\n')\n",
        "    f.write('global_stiffness_matrix = np.array([\\n')\n",
        "    for i in range(global_stiffness_matrix.shape[0]):\n",
        "        f.write('    [')\n",
        "        for j in range(global_stiffness_matrix.shape[1]):\n",
        "            f.write(str(global_stiffness_matrix[i][j]))\n",
        "            if j < global_stiffness_matrix.shape[1] - 1:\n",
        "                f.write(', ')\n",
        "        f.write(']')\n",
        "        if i < global_stiffness_matrix.shape[0] - 1:\n",
        "            f.write(',\\n')\n",
        "    f.write('])\\n')"
      ],
      "metadata": {
        "colab": {
          "base_uri": "https://localhost:8080/",
          "height": 616
        },
        "id": "x68DBvfrbMiK",
        "outputId": "9f21ae27-ef11-46e7-daea-98be9d98d479"
      },
      "execution_count": 8,
      "outputs": [
        {
          "output_type": "stream",
          "name": "stdout",
          "text": [
            "[[ 1.2889  0.4701 -0.2899 -0.4701 -1.      0.      0.      0.      0.\n",
            "   0.    ]\n",
            " [ 0.4701  0.7622 -0.4701  0.7622  0.      0.      0.      0.      0.\n",
            "   0.    ]\n",
            " [-0.2899 -0.4701  1.5788  0.     -0.2899  0.4701 -1.      0.      0.\n",
            "   0.    ]\n",
            " [-0.4701 -0.7622  0.      1.5244  0.4701 -0.7622  0.      0.      0.\n",
            "   0.    ]\n",
            " [-1.      0.     -0.2899  0.4701  2.5788  0.     -0.2899 -0.4701 -1.\n",
            "   0.    ]\n",
            " [ 0.      0.      0.4701 -0.7622  0.      1.5244 -0.4701  0.7622  0.\n",
            "   0.    ]\n",
            " [ 0.      0.     -1.      0.     -0.2899 -0.4701  1.5788  0.     -0.2899\n",
            "   0.4701]\n",
            " [ 0.      0.      0.      0.     -0.4701 -0.7622  0.      1.5244  0.4701\n",
            "  -0.7622]\n",
            " [ 0.      0.      0.      0.     -1.      0.     -0.2899  0.4701  1.2899\n",
            "  -0.4701]\n",
            " [ 0.      0.      0.      0.      0.      0.      0.4701 -0.7622 -0.4701\n",
            "   0.7622]]\n"
          ]
        },
        {
          "output_type": "display_data",
          "data": {
            "text/plain": [
              "<Figure size 432x288 with 1 Axes>"
            ],
            "image/png": "[encoded data removed]"
          },
          "metadata": {
            "needs_background": "light"
          }
        }
      ]
    },
    {
      "cell_type": "code",
      "source": [
        "#rao pgno 157\n",
        "#THE FORCE VECTOR LOOKS LIKE THIS\n",
        "#[0,0,0,0,0,-100,0,0,0,0] SO YOU CAN SOLVE FOR THIS VECTOR\n",
        "# THE ABOVE RESULTS ARE CORRECT AND TESTED"
      ],
      "metadata": {
        "id": "SaPS61labgtV"
      },
      "execution_count": null,
      "outputs": []
    },
    {
      "cell_type": "code",
      "source": [
        "import numpy as np\n",
        "import pandas as pd\n",
        "from matplotlib import pyplot as plt\n",
        "\n",
        "\n",
        "def generate_indices_csv(filename, n, num_element_stiffness_matrices):\n",
        "    indices = np.zeros((num_element_stiffness_matrices, 6), dtype=int)\n",
        "    for i in range(num_element_stiffness_matrices):\n",
        "        indices[i, :] = np.random.randint(1, n+1, 6)\n",
        "    df = pd.DataFrame(indices, columns=['i1', 'i2', 'i3', 'i4', 'i5','i6'])\n",
        "    df.to_csv(filename, index=False)\n",
        "\n",
        "def assemble_global_stiffness_matrix(n, element_stiffness_matrices, indices_df):\n",
        "    global_stiffness_matrix = np.zeros((n, n))\n",
        "    for i, row in indices_df.iterrows():\n",
        "        index = row.tolist()\n",
        "        for row in range(element_stiffness_matrices[i].shape[0]):\n",
        "            for col in range(element_stiffness_matrices[i].shape[1]):\n",
        "                if index[row] <= n and index[col] <= n:\n",
        "                    global_stiffness_matrix[index[row]-1, index[col]-1] += element_stiffness_matrices[i][row, col]\n",
        "    return global_stiffness_matrix\n",
        "\n",
        "n = 12\n",
        "num_element_stiffness_matrices = 3\n",
        "element_stiffness_matrices =[\n",
        "np.array([[18.11,30.184,0,-18.11,-30.184,0], [30.184,50.350,0,-30.184,-50.350,0],[0,0,0,0,0,0], [-18.11,-30.184,0,18.11,30.184,0],[-30.184,-50.350,0,30.184,50.350,0], [0,0,0,0,0,0]])\n",
        ",np.array([[8.425,-21.097,8.425,-8.425,21.097,-8.425], [-21.097,52.707,-21.037,21.09,-52.707,21.097],[8.425,-21.097,8.425,-8.425,21.097,-8.425], [-8.425,21.097,-8.425,8.425,-21.097,8.425],[21.097,-52.707,21.097,-21.097,52.707,21.097], [-8.425,21.097,-8.425,8.425,-21.097,8.425]])\n",
        ",np.array([[8.425,21.097,-8.425,-8.425,21.097,8.425], [-21.097,52.707,21.097,21.097,-52.707,-21.097],[-8.425,21.097,8.425,8.425,-21.097,-8.425], [-8.425,21.097,8.425,8.425,-21.097,-8.425],[21.097,-52.707,-21.097,-21.097,52.707,21.097], [8.425,-21.097,-8.425,-8.425,-8.425,21.097]])]\n",
        "\n",
        "\n",
        "#filename = '/content/indices6.csv'\n",
        "#generate_indices_csv(filename, n, num_element_stiffness_matrices)\n",
        "indices_df = pd.read_csv('/content/truss6rao.csv')\n",
        "global_stiffness_matrix = assemble_global_stiffness_matrix(n, element_stiffness_matrices, indices_df)\n",
        "print(global_stiffness_matrix)\n",
        "# Plot the global stiffness matrix as a sparse plot array\n",
        "plt.spy(global_stiffness_matrix, markersize=15, color='red')\n",
        "plt.show()\n",
        "# Save the global stiffness matrix in a text file\n",
        "np.savetxt(\"global_stiffness_matrix.txt\", global_stiffness_matrix, fmt='%d')\n",
        "import numpy as np\n",
        "\n",
        "with open('global_stiffness_macctrix.py', 'w') as f:\n",
        "    f.write('import numpy as np\\n\\n')\n",
        "    f.write('global_stiffness_matrix = np.array([\\n')\n",
        "    for i in range(global_stiffness_matrix.shape[0]):\n",
        "        f.write('    [')\n",
        "        for j in range(global_stiffness_matrix.shape[1]):\n",
        "            f.write(str(global_stiffness_matrix[i][j]))\n",
        "            if j < global_stiffness_matrix.shape[1] - 1:\n",
        "                f.write(', ')\n",
        "        f.write(']')\n",
        "        if i < global_stiffness_matrix.shape[0] - 1:\n",
        "            f.write(',\\n')\n",
        "    f.write('])\\n')"
      ],
      "metadata": {
        "colab": {
          "base_uri": "https://localhost:8080/",
          "height": 686
        },
        "id": "-uO-8PZhbhjg",
        "outputId": "2224c8bd-8810-4b8c-c3e6-5c40ae5bd149"
      },
      "execution_count": 15,
      "outputs": [
        {
          "output_type": "stream",
          "name": "stdout",
          "text": [
            "[[ 18.11   30.184   0.      0.      0.      0.      0.      0.      0.\n",
            "  -18.11  -30.184   0.   ]\n",
            " [ 30.184  50.35    0.      0.      0.      0.      0.      0.      0.\n",
            "  -30.184 -50.35    0.   ]\n",
            " [  0.      0.      0.      0.      0.      0.      0.      0.      0.\n",
            "    0.      0.      0.   ]\n",
            " [  0.      0.      0.      8.425 -21.097   8.425   0.      0.      0.\n",
            "   -8.425  21.097  -8.425]\n",
            " [  0.      0.      0.    -21.097  52.707 -21.037   0.      0.      0.\n",
            "   21.09  -52.707  21.097]\n",
            " [  0.      0.      0.      8.425 -21.097   8.425   0.      0.      0.\n",
            "   -8.425  21.097  -8.425]\n",
            " [  0.      0.      0.      0.      0.      0.      8.425  21.097  -8.425\n",
            "   -8.425  21.097   8.425]\n",
            " [  0.      0.      0.      0.      0.      0.    -21.097  52.707  21.097\n",
            "   21.097 -52.707 -21.097]\n",
            " [  0.      0.      0.      0.      0.      0.     -8.425  21.097   8.425\n",
            "    8.425 -21.097  -8.425]\n",
            " [-18.11  -30.184   0.     -8.425  21.097  -8.425  -8.425  21.097   8.425\n",
            "   34.96  -12.01    0.   ]\n",
            " [-30.184 -50.35    0.     21.097 -52.707  21.097  21.097 -52.707 -21.097\n",
            "  -12.01  155.764  42.194]\n",
            " [  0.      0.      0.     -8.425  21.097  -8.425   8.425 -21.097  -8.425\n",
            "    0.    -29.522  29.522]]\n"
          ]
        },
        {
          "output_type": "display_data",
          "data": {
            "text/plain": [
              "<Figure size 432x288 with 1 Axes>"
            ],
            "image/png": "[encoded data removed]"
          },
          "metadata": {
            "needs_background": "light"
          }
        }
      ]
    },
    {
      "cell_type": "code",
      "source": [
        "#pgno rao 163\n",
        "#force vector [0,0,0,0,0,0,0,0,0,0,-10,0]"
      ],
      "metadata": {
        "id": "WnCFRvjvbrPt"
      },
      "execution_count": null,
      "outputs": []
    }
  ]
}