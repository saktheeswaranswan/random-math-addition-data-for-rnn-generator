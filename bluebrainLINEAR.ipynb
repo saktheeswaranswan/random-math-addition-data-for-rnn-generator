{
  "nbformat": 4,
  "nbformat_minor": 0,
  "metadata": {
    "colab": {
      "provenance": [],
      "authorship_tag": "ABX9TyNE/pnKcbXZ5u5OvtbNj3Ug",
      "include_colab_link": true
    },
    "kernelspec": {
      "name": "python3",
      "display_name": "Python 3"
    },
    "language_info": {
      "name": "python"
    },
    "accelerator": "GPU",
    "gpuClass": "standard"
  },
  "cells": [
    {
      "cell_type": "markdown",
      "metadata": {
        "id": "view-in-github",
        "colab_type": "text"
      },
      "source": [
        "<a href=\"https://colab.research.google.com/github/saktheeswaranswan/random-math-addition-data-for-rnn-generator/blob/main/bluebrainLINEAR.ipynb\" target=\"_parent\"><img src=\"https://colab.research.google.com/assets/colab-badge.svg\" alt=\"Open In Colab\"/></a>"
      ]
    },
    {
      "cell_type": "code",
      "execution_count": 1,
      "metadata": {
        "id": "TQ5YwYIjj9lv"
      },
      "outputs": [],
      "source": [
        "import numpy as np \n",
        "import pandas as pd \n",
        "import matplotlib.pyplot as plt \n",
        "from sklearn.linear_model import LinearRegression\n",
        "from sklearn.metrics import mean_squared_error \n",
        "import math"
      ]
    },
    {
      "cell_type": "code",
      "source": [
        "#read .csv into a DataFrame\n",
        "dataset = pd.read_csv(\"/content/hgdgh.csv\")\n",
        "size=dataset['X']\n",
        "price=dataset['Y']"
      ],
      "metadata": {
        "id": "G0SvIxqakMKw"
      },
      "execution_count": 11,
      "outputs": []
    },
    {
      "cell_type": "code",
      "source": [
        "#machine learing handle arrays not dataframes\n",
        "x = np.array(size).reshape(-1,1)\n",
        "y = np.array(price).reshape(-1,1)"
      ],
      "metadata": {
        "id": "oe3gQ0OGknHN"
      },
      "execution_count": 12,
      "outputs": []
    },
    {
      "cell_type": "code",
      "source": [
        "#we use Linear Regression + fit() is the training\n",
        "model = LinearRegression()\n",
        "model.fit(x, y)"
      ],
      "metadata": {
        "colab": {
          "base_uri": "https://localhost:8080/"
        },
        "id": "BRvxzWQDk8kf",
        "outputId": "15893234-71a2-4181-fc1b-a960b27983d3"
      },
      "execution_count": 13,
      "outputs": [
        {
          "output_type": "execute_result",
          "data": {
            "text/plain": [
              "LinearRegression()"
            ]
          },
          "metadata": {},
          "execution_count": 13
        }
      ]
    },
    {
      "cell_type": "code",
      "source": [
        "\n",
        "#MSE and R value\n",
        "regression_model_mse = mean_squared_error(x, y)\n",
        "print(\"MSE: \", math.sqrt(regression_model_mse))\n",
        "print(\"R squared value:\", model.score(x,y))"
      ],
      "metadata": {
        "colab": {
          "base_uri": "https://localhost:8080/"
        },
        "id": "tFSNCGf9lAvG",
        "outputId": "913c7957-118e-43a2-aead-020eb82147c1"
      },
      "execution_count": 14,
      "outputs": [
        {
          "output_type": "stream",
          "name": "stdout",
          "text": [
            "MSE:  59.710670710599295\n",
            "R squared value: 0.9213615685311795\n"
          ]
        }
      ]
    },
    {
      "cell_type": "code",
      "source": [
        "\n",
        "#we can get the b values after the model fit\n",
        "#this is the b0\n",
        "print(model.coef_[0])\n",
        "#this is b1 in our model\n",
        "print(model.intercept_[0])"
      ],
      "metadata": {
        "colab": {
          "base_uri": "https://localhost:8080/"
        },
        "id": "6U6Cq1PWlF6O",
        "outputId": "06411ed0-efed-45bb-90b0-652838d2e196"
      },
      "execution_count": 15,
      "outputs": [
        {
          "output_type": "stream",
          "name": "stdout",
          "text": [
            "[0.64004489]\n",
            "5.888799701613223\n"
          ]
        }
      ]
    },
    {
      "cell_type": "code",
      "source": [
        "#visualize the dataset with the fitted model\n",
        "plt.scatter(x, y, color= 'green')\n",
        "plt.plot(x, model.predict(x), color = 'black')\n",
        "plt.title (\"Linear Regression\")\n",
        "plt.xlabel(\"Size\")\n",
        "plt.ylabel(\"Price\")\n",
        "plt.show()"
      ],
      "metadata": {
        "colab": {
          "base_uri": "https://localhost:8080/",
          "height": 295
        },
        "id": "UfCVQZKclMGR",
        "outputId": "5e5eb06e-08e5-4f10-bf15-989dd6874753"
      },
      "execution_count": 16,
      "outputs": [
        {
          "output_type": "display_data",
          "data": {
            "text/plain": [
              "<Figure size 432x288 with 1 Axes>"
            ],
            "image/png": "[encoded data removed]"
          },
          "metadata": {
            "needs_background": "light"
          }
        }
      ]
    },
    {
      "cell_type": "code",
      "source": [
        "#Predicting the prices\n",
        "print(\"Prediction by the model:\" , model.predict([[18]]))"
      ],
      "metadata": {
        "colab": {
          "base_uri": "https://localhost:8080/"
        },
        "id": "v4jd-AnwlSwF",
        "outputId": "ced48f6e-d3f5-485f-a06e-0a950127ad83"
      },
      "execution_count": 17,
      "outputs": [
        {
          "output_type": "stream",
          "name": "stdout",
          "text": [
            "Prediction by the model: [[17.40960771]]\n"
          ]
        }
      ]
    },
    {
      "cell_type": "markdown",
      "source": [],
      "metadata": {
        "id": "lIOOf9WflAna"
      }
    },
    {
      "cell_type": "markdown",
      "source": [],
      "metadata": {
        "id": "i88lrPJak8dG"
      }
    }
  ]
}