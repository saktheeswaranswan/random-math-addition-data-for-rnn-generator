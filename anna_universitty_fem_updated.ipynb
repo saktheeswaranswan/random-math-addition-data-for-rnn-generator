{
  "nbformat": 4,
  "nbformat_minor": 0,
  "metadata": {
    "colab": {
      "provenance": [],
      "authorship_tag": "ABX9TyO3TdK4iafxee/GnxQt8Z3t",
      "include_colab_link": true
    },
    "kernelspec": {
      "name": "python3",
      "display_name": "Python 3"
    },
    "language_info": {
      "name": "python"
    }
  },
  "cells": [
    {
      "cell_type": "markdown",
      "metadata": {
        "id": "view-in-github",
        "colab_type": "text"
      },
      "source": [
        "<a href=\"https://colab.research.google.com/github/saktheeswaranswan/random-math-addition-data-for-rnn-generator/blob/main/anna_universitty_fem_updated.ipynb\" target=\"_parent\"><img src=\"https://colab.research.google.com/assets/colab-badge.svg\" alt=\"Open In Colab\"/></a>"
      ]
    },
    {
      "cell_type": "code",
      "execution_count": 7,
      "metadata": {
        "colab": {
          "base_uri": "https://localhost:8080/",
          "height": 616
        },
        "id": "QpzaXYa9RxJF",
        "outputId": "371d4f50-b67c-4aff-a06e-fa765cb81764"
      },
      "outputs": [
        {
          "output_type": "stream",
          "name": "stdout",
          "text": [
            "[[ 1.2889  0.4701 -0.2899 -0.4701 -1.      0.      0.      0.      0.\n",
            "   0.    ]\n",
            " [ 0.4701  0.7622 -0.4701  0.7622  0.      0.      0.      0.      0.\n",
            "   0.    ]\n",
            " [-0.2899 -0.4701  1.5788  0.     -0.2899  0.4701 -1.      0.      0.\n",
            "   0.    ]\n",
            " [-0.4701 -0.7622  0.      1.5244  0.4701 -0.7622  0.      0.      0.\n",
            "   0.    ]\n",
            " [-1.      0.     -0.2899  0.4701  2.5788  0.     -0.2899 -0.4701 -1.\n",
            "   0.    ]\n",
            " [ 0.      0.      0.4701 -0.7622  0.      1.5244 -0.4701  0.7622  0.\n",
            "   0.    ]\n",
            " [ 0.      0.     -1.      0.     -0.2899 -0.4701  1.5788  0.     -0.2899\n",
            "   0.4701]\n",
            " [ 0.      0.      0.      0.     -0.4701 -0.7622  0.      1.5244  0.4701\n",
            "  -0.7622]\n",
            " [ 0.      0.      0.      0.     -1.      0.     -0.2899  0.4701  1.2899\n",
            "  -0.4701]\n",
            " [ 0.      0.      0.      0.      0.      0.      0.4701 -0.7622 -0.4701\n",
            "   0.7622]]\n"
          ]
        },
        {
          "output_type": "display_data",
          "data": {
            "text/plain": [
              "<Figure size 432x288 with 1 Axes>"
            ],
            "image/png": "[encoded data removed]"
          },
          "metadata": {
            "needs_background": "light"
          }
        }
      ],
      "source": [
        "import numpy as np\n",
        "import pandas as pd\n",
        "import matplotlib.pyplot as plt\n",
        "\n",
        "\n",
        "def generate_indices_csv(filename, n, num_element_stiffness_matrices):\n",
        "    indices = np.zeros((num_element_stiffness_matrices, 4), dtype=int)\n",
        "    for i in range(num_element_stiffness_matrices):\n",
        "        indices[i, :] = np.random.randint(1, n+1, 4)\n",
        "    df = pd.DataFrame(indices, columns=['i1', 'i2', 'i3','i4'])\n",
        "    df.to_csv(filename, index=False)\n",
        "\n",
        "def assemble_global_stiffness_matrix(n, element_stiffness_matrices, indices_df):\n",
        "    global_stiffness_matrix = np.zeros((n, n))\n",
        "    for i, row in indices_df.iterrows():\n",
        "        index = row.tolist()\n",
        "        for row in range(element_stiffness_matrices[i].shape[0]):\n",
        "            for col in range(element_stiffness_matrices[i].shape[1]):\n",
        "                if index[row] <= n and index[col] <= n:\n",
        "                    global_stiffness_matrix[index[row]-1, index[col]-1] += element_stiffness_matrices[i][row, col]\n",
        "    return global_stiffness_matrix\n",
        "\n",
        "n = 10\n",
        "num_element_stiffness_matrices = 7\n",
        "\n",
        "element_stiffness_matrices =[np.array([[.2889, .4701,-.2899,-.4701], [.4701, .7622,-.4701,.7622],[-.2899, -.4701,.2899,.4701], [-.4701, -.7622,.4701,.7622]]),\n",
        "np.array([[1, 0,-1,0], [0, 0,0,0],[-1, 0,1,0], [0, 0,0,0]])\n",
        ",np.array([[.2889, -.4701,-.2899,.4701], [-.4701, .7622,.4701,-.7622],[-.2899, .4701,.2899,-.4701], [.4701, -.7622,-.4701,.7622]])\n",
        ",np.array([[1, 0,-1,0], [0, 0,0,0],[-1, 0,1,0], [0, 0,0,0]])\n",
        ",np.array([[.2889, .4701,-.2899,-.4701], [.4701, .7622,-.4701,.7622],[-.2899, -.4701,.2899,.4701], [-.4701, -.7622,.4701,.7622]])\n",
        ",np.array([[1, 0,-1,0], [0, 0,0,0],[-1, 0,1,0], [0, 0,0,0]])\n",
        ",np.array([[.2889, -.4701,-.2899,.4701], [-.4701, .7622,.4701,-.7622],[-.2899, .4701,.2899,-.4701], [.4701, -.7622,-.4701,.7622]])]\n",
        "#filename = 'indices.csv'\n",
        "#generate_indices_csv(filename, n, num_element_stiffness_matrices)\n",
        "indices_df = pd.read_csv('/content/indices4.csv')\n",
        "global_stiffness_matrix = assemble_global_stiffness_matrix(n, element_stiffness_matrices, indices_df)\n",
        "print(global_stiffness_matrix)\n",
        "# Plot the global stiffness matrix as a sparse plot array\n",
        "plt.spy(global_stiffness_matrix, markersize=15, color='red')\n",
        "plt.show()\n",
        "# Save the global stiffness matrix in a text file\n",
        "np.savetxt(\"global_stiffness_matrix.txt\", global_stiffness_matrix, fmt='%d')\n",
        "# Save the global stiffness matrix in Python matrix format\n",
        "import numpy as np\n",
        "\n",
        "with open('global_stiffness_matrix.py', 'w') as f:\n",
        "    f.write('import numpy as np\\n\\n')\n",
        "    f.write('global_stiffness_matrix = np.array([\\n')\n",
        "    for i in range(global_stiffness_matrix.shape[0]):\n",
        "        f.write('    [')\n",
        "        for j in range(global_stiffness_matrix.shape[1]):\n",
        "            f.write(str(global_stiffness_matrix[i][j]))\n",
        "            if j < global_stiffness_matrix.shape[1] - 1:\n",
        "                f.write(', ')\n",
        "        f.write(']')\n",
        "        if i < global_stiffness_matrix.shape[0] - 1:\n",
        "            f.write(',\\n')\n",
        "    f.write('])\\n')\n",
        "     "
      ]
    },
    {
      "cell_type": "code",
      "source": [
        "\n",
        "#THE FORCE VECTOR LOOKS LIKE THIS\n",
        "#[0,0,0,0,0,-100,0,0,0,0] SO YOU CAN SOLVE FOR THIS VECTOR\n",
        "# THE ABOVE RESULTS ARE CORRECT AND TESTED"
      ],
      "metadata": {
        "id": "fnKaeoGTSSGp"
      },
      "execution_count": null,
      "outputs": []
    },
    {
      "cell_type": "code",
      "source": [
        "import numpy as np\n",
        "import pandas as pd\n",
        "from matplotlib import pyplot as plt\n",
        "\n",
        "\n",
        "def generate_indices_csv(filename, n, num_element_stiffness_matrices):\n",
        "    indices = np.zeros((num_element_stiffness_matrices, 6), dtype=int)\n",
        "    for i in range(num_element_stiffness_matrices):\n",
        "        indices[i, :] = np.random.randint(1, n+1, 6)\n",
        "    df = pd.DataFrame(indices, columns=['i1', 'i2', 'i3', 'i4', 'i5','i6'])\n",
        "    df.to_csv(filename, index=False)\n",
        "\n",
        "def assemble_global_stiffness_matrix(n, element_stiffness_matrices, indices_df):\n",
        "    global_stiffness_matrix = np.zeros((n, n))\n",
        "    for i, row in indices_df.iterrows():\n",
        "        index = row.tolist()\n",
        "        for row in range(element_stiffness_matrices[i].shape[0]):\n",
        "            for col in range(element_stiffness_matrices[i].shape[1]):\n",
        "                if index[row] <= n and index[col] <= n:\n",
        "                    global_stiffness_matrix[index[row]-1, index[col]-1] += element_stiffness_matrices[i][row, col]\n",
        "    return global_stiffness_matrix\n",
        "\n",
        "n = 12\n",
        "num_element_stiffness_matrices = 3\n",
        "element_stiffness_matrices =[\n",
        "np.array([[18.11,30.184,0,-18.11,-30.184,0], [30.184,50.350,0,-30.184,-50.350,0],[0,0,0,0,0,0], [-18.11,-30.184,0,18.11,30.184,0],[-30.184,-50.350,0,30.184,50.350,0], [0,0,0,0,0,0]])\n",
        ",np.array([[8.425,-21.097,8.425,-8.425,21.097,-8.425], [-21.097,52.707,-21.037,21.09,-52.707,21.097],[8.425,-21.097,8.425,-8.425,21.097,-8.425], [-8.425,21.097,-8.425,8.425,-21.097,8.425],[21.097,-52.707,21.097,-21.097,52.707,21.097], [-8.425,21.097,-8.425,8.425,-21.097,8.425]])\n",
        ",np.array([[8.425,21.097,-8.425,-8.425,21.097,8.425], [-21.097,52.707,21.097,21.097,-52.707,-21.097],[-8.425,21.097,8.425,8.425,-21.097,-8.425], [-8.425,21.097,8.425,8.425,-21.097,-8.425],[21.097,-52.707,-21.097,-21.097,52.707,21.097], [8.425,-21.097,-8.425,-8.425,-8.425,21.097]])]\n",
        "\n",
        "\n",
        "#filename = '/content/indices6.csv'\n",
        "#generate_indices_csv(filename, n, num_element_stiffness_matrices)\n",
        "indices_df = pd.read_csv('/content/indices6RAO.csv')\n",
        "global_stiffness_matrix = assemble_global_stiffness_matrix(n, element_stiffness_matrices, indices_df)\n",
        "print(global_stiffness_matrix)\n",
        "# Plot the global stiffness matrix as a sparse plot array\n",
        "plt.spy(global_stiffness_matrix, markersize=15, color='red')\n",
        "plt.show()\n",
        "# Save the global stiffness matrix in a text file\n",
        "np.savetxt(\"global_stiffness_matrix.txt\", global_stiffness_matrix, fmt='%d')"
      ],
      "metadata": {
        "colab": {
          "base_uri": "https://localhost:8080/",
          "height": 686
        },
        "id": "hyRQi-q5SOFK",
        "outputId": "d9c3c29b-ee5f-40eb-9f81-b596322da316"
      },
      "execution_count": 25,
      "outputs": [
        {
          "output_type": "stream",
          "name": "stdout",
          "text": [
            "[[ 18.11   30.184   0.      0.      0.      0.      0.      0.      0.\n",
            "  -18.11  -30.184   0.   ]\n",
            " [ 30.184  50.35    0.      0.      0.      0.      0.      0.      0.\n",
            "  -30.184 -50.35    0.   ]\n",
            " [  0.      0.      0.      0.      0.      0.      0.      0.      0.\n",
            "    0.      0.      0.   ]\n",
            " [  0.      0.      0.      8.425 -21.097   8.425   0.      0.      0.\n",
            "   -8.425  21.097  -8.425]\n",
            " [  0.      0.      0.    -21.097  52.707 -21.037   0.      0.      0.\n",
            "   21.09  -52.707  21.097]\n",
            " [  0.      0.      0.      8.425 -21.097   8.425   0.      0.      0.\n",
            "   -8.425  21.097  -8.425]\n",
            " [  0.      0.      0.      0.      0.      0.      8.425  21.097  -8.425\n",
            "   -8.425  21.097   8.425]\n",
            " [  0.      0.      0.      0.      0.      0.    -21.097  52.707  21.097\n",
            "   21.097 -52.707 -21.097]\n",
            " [  0.      0.      0.      0.      0.      0.     -8.425  21.097   8.425\n",
            "    8.425 -21.097  -8.425]\n",
            " [-18.11  -30.184   0.     -8.425  21.097  -8.425  -8.425  21.097   8.425\n",
            "   34.96  -12.01    0.   ]\n",
            " [-30.184 -50.35    0.     21.097 -52.707  21.097  21.097 -52.707 -21.097\n",
            "  -12.01  155.764  42.194]\n",
            " [  0.      0.      0.     -8.425  21.097  -8.425   8.425 -21.097  -8.425\n",
            "    0.    -29.522  29.522]]\n"
          ]
        },
        {
          "output_type": "display_data",
          "data": {
            "text/plain": [
              "<Figure size 432x288 with 1 Axes>"
            ],
            "image/png": "[encoded data removed]"
          },
          "metadata": {
            "needs_background": "light"
          }
        }
      ]
    },
    {
      "cell_type": "code",
      "source": [
        "#force vector [0,0,0,0,0,0,0,0,0,0,-10,0]"
      ],
      "metadata": {
        "id": "9ETxsLurdFyl"
      },
      "execution_count": null,
      "outputs": []
    }
  ]
}