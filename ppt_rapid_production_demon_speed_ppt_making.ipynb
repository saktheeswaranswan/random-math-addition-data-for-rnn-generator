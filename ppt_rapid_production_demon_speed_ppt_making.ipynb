{
  "nbformat": 4,
  "nbformat_minor": 0,
  "metadata": {
    "colab": {
      "provenance": [],
      "authorship_tag": "ABX9TyOU1vCY9SUQigslj5L/21Hg",
      "include_colab_link": true
    },
    "kernelspec": {
      "name": "python3",
      "display_name": "Python 3"
    },
    "language_info": {
      "name": "python"
    }
  },
  "cells": [
    {
      "cell_type": "markdown",
      "metadata": {
        "id": "view-in-github",
        "colab_type": "text"
      },
      "source": [
        "<a href=\"https://colab.research.google.com/github/saktheeswaranswan/random-math-addition-data-for-rnn-generator/blob/main/ppt_rapid_production_demon_speed_ppt_making.ipynb\" target=\"_parent\"><img src=\"https://colab.research.google.com/assets/colab-badge.svg\" alt=\"Open In Colab\"/></a>"
      ]
    },
    {
      "cell_type": "code",
      "source": [
        "!pip install python-pptx\n"
      ],
      "metadata": {
        "colab": {
          "base_uri": "https://localhost:8080/"
        },
        "id": "yLJGM8s_N4VS",
        "outputId": "b2a784e3-364c-4ea3-bf17-1f9e2238fa49"
      },
      "execution_count": 2,
      "outputs": [
        {
          "output_type": "stream",
          "name": "stdout",
          "text": [
            "Looking in indexes: https://pypi.org/simple, https://us-python.pkg.dev/colab-wheels/public/simple/\n",
            "Collecting python-pptx\n",
            "  Downloading python-pptx-0.6.21.tar.gz (10.1 MB)\n",
            "\u001b[2K     \u001b[90m━━━━━━━━━━━━━━━━━━━━━━━━━━━━━━━━━━━━━━━━\u001b[0m \u001b[32m10.1/10.1 MB\u001b[0m \u001b[31m50.9 MB/s\u001b[0m eta \u001b[36m0:00:00\u001b[0m\n",
            "\u001b[?25h  Preparing metadata (setup.py) ... \u001b[?25l\u001b[?25hdone\n",
            "Requirement already satisfied: lxml>=3.1.0 in /usr/local/lib/python3.8/dist-packages (from python-pptx) (4.9.2)\n",
            "Requirement already satisfied: Pillow>=3.3.2 in /usr/local/lib/python3.8/dist-packages (from python-pptx) (7.1.2)\n",
            "Collecting XlsxWriter>=0.5.7\n",
            "  Downloading XlsxWriter-3.0.7-py3-none-any.whl (152 kB)\n",
            "\u001b[2K     \u001b[90m━━━━━━━━━━━━━━━━━━━━━━━━━━━━━━━━━━━━━━\u001b[0m \u001b[32m152.8/152.8 KB\u001b[0m \u001b[31m15.1 MB/s\u001b[0m eta \u001b[36m0:00:00\u001b[0m\n",
            "\u001b[?25hBuilding wheels for collected packages: python-pptx\n",
            "  Building wheel for python-pptx (setup.py) ... \u001b[?25l\u001b[?25hdone\n",
            "  Created wheel for python-pptx: filename=python_pptx-0.6.21-py3-none-any.whl size=470952 sha256=e924a34a8db03e9c52646fac53c4946b46315f2f494c5411a3ba0ffb3ec3da43\n",
            "  Stored in directory: /root/.cache/pip/wheels/b0/38/58/8530ed1681bfee42349acf166867cc9fb369517b2fce83e599\n",
            "Successfully built python-pptx\n",
            "Installing collected packages: XlsxWriter, python-pptx\n",
            "Successfully installed XlsxWriter-3.0.7 python-pptx-0.6.21\n"
          ]
        }
      ]
    },
    {
      "cell_type": "code",
      "source": [
        "#this is the result ican get all the besty"
      ],
      "metadata": {
        "id": "z6fWk26jar0H"
      },
      "execution_count": null,
      "outputs": []
    },
    {
      "cell_type": "code",
      "source": [
        "import pptx\n",
        "import pandas as pd\n",
        "from pptx.enum.text import PP_ALIGN\n",
        "from pptx.util import Inches\n",
        "from pptx.dml.color import RGBColor\n",
        "\n",
        "def add_text_to_slide(slide, text, left, top, width, height):\n",
        "    text_frame = slide.shapes.add_textbox(left, top, width, height)\n",
        "    text_frame.text = text\n",
        "    text_frame.text_frame.paragraphs[0].font.color.rgb = RGBColor(0, 0, 255)\n",
        "    text_frame.text_frame.paragraphs[0].alignment = PP_ALIGN.CENTER\n",
        "    text_frame.text_frame.paragraphs[0].font.size = pptx.util.Pt(24)\n",
        "\n",
        "def create_slides(prs, texts):\n",
        "    for text in texts:\n",
        "        slide = prs.slides.add_slide(prs.slide_layouts[6])\n",
        "        add_text_to_slide(slide, text, left=Inches(0), top=Inches(0.5), width=Inches(10), height=Inches(1))\n",
        "\n",
        "def create_presentation(texts):\n",
        "    prs = pptx.Presentation()\n",
        "    create_slides(prs, texts)\n",
        "    prs.save(\"nfghdfew.pptx\")\n",
        "\n",
        "# Read the Excel file into a Pandas dataframe\n",
        "df = pd.read_excel(\"/content/sdgfsdfg.xlsx\")\n",
        "\n",
        "# Get the 'Text' column from the dataframe\n",
        "texts = df[\"Text\"].tolist()\n",
        "\n",
        "# Create the presentation using the text data\n",
        "create_presentation(texts)\n"
      ],
      "metadata": {
        "id": "_5tCL_HSaqtm"
      },
      "execution_count": 17,
      "outputs": []
    },
    {
      "cell_type": "code",
      "execution_count": 4,
      "metadata": {
        "colab": {
          "base_uri": "https://localhost:8080/"
        },
        "id": "LnkUodXTN1QE",
        "outputId": "f193ba14-5536-4c3c-b5d5-c3b4002187fc"
      },
      "outputs": [
        {
          "name": "stdout",
          "output_type": "stream",
          "text": [
            "Enter the text to be displayed in the presentation: hgh gfh\n"
          ]
        }
      ],
      "source": [
        "import pptx\n",
        "from pptx.enum.dml import MSO_THEME_COLOR\n",
        "from pptx.enum.text import PP_ALIGN\n",
        "from pptx.util import Inches\n",
        "from pptx.dml.color import RGBColor\n",
        "\n",
        "# function to add text to a slide\n",
        "def add_text_to_slide(slide, text, left, top, width, height):\n",
        "    text_frame = slide.shapes.add_textbox(left, top, width, height)\n",
        "    text_frame.text = text\n",
        "    text_frame.text_frame.paragraphs[0].font.color.rgb = RGBColor(0, 0, 255)\n",
        "    text_frame.text_frame.paragraphs[0].alignment = PP_ALIGN.CENTER\n",
        "    text_frame.text_frame.paragraphs[0].font.size = pptx.util.Pt(24)\n",
        "\n",
        "# function to create a slide with animating text\n",
        "def create_animating_text_slide(prs, text):\n",
        "    slide = prs.slides.add_slide(prs.slide_layouts[6])\n",
        "\n",
        "    # add text to the slide\n",
        "    add_text_to_slide(slide, text, left=Inches(0), top=Inches(0.5), width=Inches(10), height=Inches(1))\n",
        "\n",
        "# main function to create a presentation\n",
        "def create_presentation(text):\n",
        "    prs = pptx.Presentation()\n",
        "    create_animating_text_slide(prs, text)\n",
        "    prs.save(\"presentation.pptx\")\n",
        "\n",
        "# prompt the user to enter the text\n",
        "text = input(\"Enter the text to be displayed in the presentation: \")\n",
        "\n",
        "# create the presentation\n",
        "create_presentation(text)\n"
      ]
    },
    {
      "cell_type": "code",
      "source": [
        "import pptx\n",
        "from pptx.enum.dml import MSO_THEME_COLOR\n",
        "from pptx.enum.text import PP_ALIGN\n",
        "from pptx.util import Inches\n",
        "from pptx.dml.color import RGBColor\n",
        "\n",
        "# function to add text to a slide\n",
        "def add_text_to_slide(slide, text, left, top, width, height):\n",
        "    text_frame = slide.shapes.add_textbox(left, top, width, height)\n",
        "    text_frame.text = text\n",
        "    text_frame.text_frame.paragraphs[0].font.color.rgb = RGBColor(0, 0, 255)\n",
        "    text_frame.text_frame.paragraphs[0].alignment = PP_ALIGN.CENTER\n",
        "    text_frame.text_frame.paragraphs[0].font.size = pptx.util.Pt(24)\n",
        "\n",
        "# function to create a slide with text\n",
        "def create_text_slide(prs, texts):\n",
        "    slide = prs.slides.add_slide(prs.slide_layouts[6])\n",
        "\n",
        "    # add text to the slide\n",
        "    for i, text in enumerate(texts):\n",
        "        add_text_to_slide(slide, text, left=Inches(0), top=Inches(0.5 + i), width=Inches(10), height=Inches(1))\n",
        "\n",
        "# main function to create a presentation\n",
        "def create_presentation(texts):\n",
        "    prs = pptx.Presentation()\n",
        "    create_text_slide(prs, texts)\n",
        "    prs.save(\"presentation.pptx\")\n",
        "\n",
        "# prompt the user to enter the text paragraphs\n",
        "texts = []\n",
        "for i in range(15):\n",
        "    text = input(\"Enter text paragraph {} (or press enter to skip): \".format(i + 1))\n",
        "    if text:\n",
        "        texts.append(text)\n",
        "\n",
        "# create the presentation\n",
        "create_presentation(texts)\n",
        "sdfgs"
      ],
      "metadata": {
        "colab": {
          "base_uri": "https://localhost:8080/"
        },
        "id": "8Ln-YM6QP6Cq",
        "outputId": "c4b2b795-49c2-4e8c-edd8-d126dd6c1d11"
      },
      "execution_count": 6,
      "outputs": [
        {
          "name": "stdout",
          "output_type": "stream",
          "text": [
            "Enter text paragraph 1 (or press enter to skip): dfgsdfgsdff f\n",
            "Enter text paragraph 2 (or press enter to skip): sdfgsdkghjsdghkisgsdfg\n",
            "Enter text paragraph 3 (or press enter to skip): g\n",
            "Enter text paragraph 4 (or press enter to skip): dfdfgdfgsgs\n",
            "Enter text paragraph 5 (or press enter to skip): sdfggdfsgs\n",
            "Enter text paragraph 6 (or press enter to skip): fdgdgsgdfgsdfgsdg\n",
            "Enter text paragraph 7 (or press enter to skip): sdgsdgsdgsdg\n",
            "Enter text paragraph 8 (or press enter to skip): sdfgsgsdgsgdd\n",
            "Enter text paragraph 9 (or press enter to skip): sgsgfsdgsdfg\n",
            "Enter text paragraph 10 (or press enter to skip): sdfgsdgsgss\n",
            "Enter text paragraph 11 (or press enter to skip): sgsgsdgfhsdfgsdfg\n",
            "Enter text paragraph 12 (or press enter to skip): xsfgsgsdgsdfg\n",
            "Enter text paragraph 13 (or press enter to skip): sgsdgfsdgsdfgdfdgf\n",
            "Enter text paragraph 14 (or press enter to skip): sdgsdfgsdgsgsgsg\n",
            "Enter text paragraph 15 (or press enter to skip): sdgsgsdfgsgsdg\n"
          ]
        }
      ]
    },
    {
      "cell_type": "code",
      "source": [
        "import pptx\n",
        "from pptx.enum.text import PP_ALIGN\n",
        "from pptx.util import Inches\n",
        "from pptx.dml.color import RGBColor\n",
        "\n",
        "def add_text_to_slide(slide, text, left, top, width, height):\n",
        "    text_frame = slide.shapes.add_textbox(left, top, width, height)\n",
        "    text_frame.text = text\n",
        "    text_frame.text_frame.paragraphs[0].font.color.rgb = RGBColor(0, 0, 255)\n",
        "    text_frame.text_frame.paragraphs[0].alignment = PP_ALIGN.CENTER\n",
        "    text_frame.text_frame.paragraphs[0].font.size = pptx.util.Pt(24)\n",
        "\n",
        "def create_slides(prs, texts):\n",
        "    for text in texts:\n",
        "        slide = prs.slides.add_slide(prs.slide_layouts[6])\n",
        "        add_text_to_slide(slide, text, left=Inches(0), top=Inches(0.5), width=Inches(10), height=Inches(1))\n",
        "\n",
        "def create_presentation(texts):\n",
        "    prs = pptx.Presentation()\n",
        "    create_slides(prs, texts)\n",
        "    prs.save(\"presentation.pptx\")\n",
        "\n",
        "texts = []\n",
        "for i in range(15):\n",
        "    text = input(\"Enter text paragraph {} (or press enter to skip): \".format(i + 1))\n",
        "    if text:\n",
        "        texts.append(text)\n",
        "\n",
        "create_presentation(texts)\n"
      ],
      "metadata": {
        "colab": {
          "base_uri": "https://localhost:8080/"
        },
        "id": "_3NrDeYrTKDn",
        "outputId": "3c4eb4e1-9f81-4549-c4d8-32997a5c40d4"
      },
      "execution_count": 8,
      "outputs": [
        {
          "name": "stdout",
          "output_type": "stream",
          "text": [
            "Enter text paragraph 1 (or press enter to skip): sxgfsdgsdfgsdgf\n",
            "Enter text paragraph 2 (or press enter to skip): sdfsdfsdgfsdf\n",
            "Enter text paragraph 3 (or press enter to skip): sdfsdsdgfsddsf\n",
            "Enter text paragraph 4 (or press enter to skip): sdgfsdgsdgsdgfsdf\n",
            "Enter text paragraph 5 (or press enter to skip): sdgsgsgsdfgsggsdgfdfsg\n",
            "Enter text paragraph 6 (or press enter to skip): sgfsdgsdgsgsdg\n",
            "Enter text paragraph 7 (or press enter to skip): sdgsdgsdgsdgsdfgfg\n",
            "Enter text paragraph 8 (or press enter to skip): sgsdgsdgsdgsdfgsfd\n",
            "Enter text paragraph 9 (or press enter to skip): sdgfsdgsdgsfgdsdfsdf\n",
            "Enter text paragraph 10 (or press enter to skip): sdgfsdgsdgfsdgsdgfsdf\n",
            "Enter text paragraph 11 (or press enter to skip): sdgfsdgsgsgsdgsdgsfd\n",
            "Enter text paragraph 12 (or press enter to skip): sdgsdgsdfgsdgsdfg\n",
            "Enter text paragraph 13 (or press enter to skip): dfgsgsdgfsadgsgsgdsd\n",
            "Enter text paragraph 14 (or press enter to skip): sdfgsgsdgfgsdgsgs\n",
            "Enter text paragraph 15 (or press enter to skip): sdgsdgsdgsdg\n"
          ]
        }
      ]
    },
    {
      "cell_type": "code",
      "source": [
        "import pptx\n",
        "import pandas as pd\n",
        "from pptx.enum.text import PP_ALIGN\n",
        "from pptx.util import Inches\n",
        "from pptx.dml.color import RGBColor\n",
        "\n",
        "def add_text_to_slide(slide, text, left, top, width, height):\n",
        "    text_frame = slide.shapes.add_textbox(left, top, width, height)\n",
        "    text_frame.text = text\n",
        "    text_frame.text_frame.paragraphs[0].font.color.rgb = RGBColor(0, 0, 255)\n",
        "    text_frame.text_frame.paragraphs[0].alignment = PP_ALIGN.CENTER\n",
        "    text_frame.text_frame.paragraphs[0].font.size = pptx.util.Pt(24)\n",
        "\n",
        "def create_slides(prs, texts):\n",
        "    for text in texts:\n",
        "        slide = prs.slides.add_slide(prs.slide_layouts[6])\n",
        "        add_text_to_slide(slide, text, left=Inches(0), top=Inches(0.5), width=Inches(10), height=Inches(1))\n",
        "\n",
        "def create_presentation(texts):\n",
        "    prs = pptx.Presentation()\n",
        "    create_slides(prs, texts)\n",
        "    prs.save(\"presentation.pptx\")\n",
        "\n",
        "df = pd.read_excel(\"/content/sdgfsdfg.xlsx\")\n",
        "texts = df[\"Text\"].tolist()\n",
        "create_presentation(texts)\n"
      ],
      "metadata": {
        "colab": {
          "base_uri": "https://localhost:8080/",
          "height": 624
        },
        "id": "lj0eewBQUyJ_",
        "outputId": "e7b0f77a-902e-4b2a-e169-711202b6032c"
      },
      "execution_count": 9,
      "outputs": [
        {
          "output_type": "error",
          "ename": "KeyError",
          "evalue": "ignored",
          "traceback": [
            "\u001b[0;31m---------------------------------------------------------------------------\u001b[0m",
            "\u001b[0;31mKeyError\u001b[0m                                  Traceback (most recent call last)",
            "\u001b[0;32m/usr/local/lib/python3.8/dist-packages/pandas/core/indexes/base.py\u001b[0m in \u001b[0;36mget_loc\u001b[0;34m(self, key, method, tolerance)\u001b[0m\n\u001b[1;32m   3360\u001b[0m             \u001b[0;32mtry\u001b[0m\u001b[0;34m:\u001b[0m\u001b[0;34m\u001b[0m\u001b[0;34m\u001b[0m\u001b[0m\n\u001b[0;32m-> 3361\u001b[0;31m                 \u001b[0;32mreturn\u001b[0m \u001b[0mself\u001b[0m\u001b[0;34m.\u001b[0m\u001b[0m_engine\u001b[0m\u001b[0;34m.\u001b[0m\u001b[0mget_loc\u001b[0m\u001b[0;34m(\u001b[0m\u001b[0mcasted_key\u001b[0m\u001b[0;34m)\u001b[0m\u001b[0;34m\u001b[0m\u001b[0;34m\u001b[0m\u001b[0m\n\u001b[0m\u001b[1;32m   3362\u001b[0m             \u001b[0;32mexcept\u001b[0m \u001b[0mKeyError\u001b[0m \u001b[0;32mas\u001b[0m \u001b[0merr\u001b[0m\u001b[0;34m:\u001b[0m\u001b[0;34m\u001b[0m\u001b[0;34m\u001b[0m\u001b[0m\n",
            "\u001b[0;32m/usr/local/lib/python3.8/dist-packages/pandas/_libs/index.pyx\u001b[0m in \u001b[0;36mpandas._libs.index.IndexEngine.get_loc\u001b[0;34m()\u001b[0m\n",
            "\u001b[0;32m/usr/local/lib/python3.8/dist-packages/pandas/_libs/index.pyx\u001b[0m in \u001b[0;36mpandas._libs.index.IndexEngine.get_loc\u001b[0;34m()\u001b[0m\n",
            "\u001b[0;32mpandas/_libs/hashtable_class_helper.pxi\u001b[0m in \u001b[0;36mpandas._libs.hashtable.PyObjectHashTable.get_item\u001b[0;34m()\u001b[0m\n",
            "\u001b[0;32mpandas/_libs/hashtable_class_helper.pxi\u001b[0m in \u001b[0;36mpandas._libs.hashtable.PyObjectHashTable.get_item\u001b[0;34m()\u001b[0m\n",
            "\u001b[0;31mKeyError\u001b[0m: 'Text'",
            "\nThe above exception was the direct cause of the following exception:\n",
            "\u001b[0;31mKeyError\u001b[0m                                  Traceback (most recent call last)",
            "\u001b[0;32m<ipython-input-9-1cab64f01b38>\u001b[0m in \u001b[0;36m<module>\u001b[0;34m\u001b[0m\n\u001b[1;32m     23\u001b[0m \u001b[0;34m\u001b[0m\u001b[0m\n\u001b[1;32m     24\u001b[0m \u001b[0mdf\u001b[0m \u001b[0;34m=\u001b[0m \u001b[0mpd\u001b[0m\u001b[0;34m.\u001b[0m\u001b[0mread_excel\u001b[0m\u001b[0;34m(\u001b[0m\u001b[0;34m\"/content/sdgfsdfg.xlsx\"\u001b[0m\u001b[0;34m)\u001b[0m\u001b[0;34m\u001b[0m\u001b[0;34m\u001b[0m\u001b[0m\n\u001b[0;32m---> 25\u001b[0;31m \u001b[0mtexts\u001b[0m \u001b[0;34m=\u001b[0m \u001b[0mdf\u001b[0m\u001b[0;34m[\u001b[0m\u001b[0;34m\"Text\"\u001b[0m\u001b[0;34m]\u001b[0m\u001b[0;34m.\u001b[0m\u001b[0mtolist\u001b[0m\u001b[0;34m(\u001b[0m\u001b[0;34m)\u001b[0m\u001b[0;34m\u001b[0m\u001b[0;34m\u001b[0m\u001b[0m\n\u001b[0m\u001b[1;32m     26\u001b[0m \u001b[0mcreate_presentation\u001b[0m\u001b[0;34m(\u001b[0m\u001b[0mtexts\u001b[0m\u001b[0;34m)\u001b[0m\u001b[0;34m\u001b[0m\u001b[0;34m\u001b[0m\u001b[0m\n",
            "\u001b[0;32m/usr/local/lib/python3.8/dist-packages/pandas/core/frame.py\u001b[0m in \u001b[0;36m__getitem__\u001b[0;34m(self, key)\u001b[0m\n\u001b[1;32m   3456\u001b[0m             \u001b[0;32mif\u001b[0m \u001b[0mself\u001b[0m\u001b[0;34m.\u001b[0m\u001b[0mcolumns\u001b[0m\u001b[0;34m.\u001b[0m\u001b[0mnlevels\u001b[0m \u001b[0;34m>\u001b[0m \u001b[0;36m1\u001b[0m\u001b[0;34m:\u001b[0m\u001b[0;34m\u001b[0m\u001b[0;34m\u001b[0m\u001b[0m\n\u001b[1;32m   3457\u001b[0m                 \u001b[0;32mreturn\u001b[0m \u001b[0mself\u001b[0m\u001b[0;34m.\u001b[0m\u001b[0m_getitem_multilevel\u001b[0m\u001b[0;34m(\u001b[0m\u001b[0mkey\u001b[0m\u001b[0;34m)\u001b[0m\u001b[0;34m\u001b[0m\u001b[0;34m\u001b[0m\u001b[0m\n\u001b[0;32m-> 3458\u001b[0;31m             \u001b[0mindexer\u001b[0m \u001b[0;34m=\u001b[0m \u001b[0mself\u001b[0m\u001b[0;34m.\u001b[0m\u001b[0mcolumns\u001b[0m\u001b[0;34m.\u001b[0m\u001b[0mget_loc\u001b[0m\u001b[0;34m(\u001b[0m\u001b[0mkey\u001b[0m\u001b[0;34m)\u001b[0m\u001b[0;34m\u001b[0m\u001b[0;34m\u001b[0m\u001b[0m\n\u001b[0m\u001b[1;32m   3459\u001b[0m             \u001b[0;32mif\u001b[0m \u001b[0mis_integer\u001b[0m\u001b[0;34m(\u001b[0m\u001b[0mindexer\u001b[0m\u001b[0;34m)\u001b[0m\u001b[0;34m:\u001b[0m\u001b[0;34m\u001b[0m\u001b[0;34m\u001b[0m\u001b[0m\n\u001b[1;32m   3460\u001b[0m                 \u001b[0mindexer\u001b[0m \u001b[0;34m=\u001b[0m \u001b[0;34m[\u001b[0m\u001b[0mindexer\u001b[0m\u001b[0;34m]\u001b[0m\u001b[0;34m\u001b[0m\u001b[0;34m\u001b[0m\u001b[0m\n",
            "\u001b[0;32m/usr/local/lib/python3.8/dist-packages/pandas/core/indexes/base.py\u001b[0m in \u001b[0;36mget_loc\u001b[0;34m(self, key, method, tolerance)\u001b[0m\n\u001b[1;32m   3361\u001b[0m                 \u001b[0;32mreturn\u001b[0m \u001b[0mself\u001b[0m\u001b[0;34m.\u001b[0m\u001b[0m_engine\u001b[0m\u001b[0;34m.\u001b[0m\u001b[0mget_loc\u001b[0m\u001b[0;34m(\u001b[0m\u001b[0mcasted_key\u001b[0m\u001b[0;34m)\u001b[0m\u001b[0;34m\u001b[0m\u001b[0;34m\u001b[0m\u001b[0m\n\u001b[1;32m   3362\u001b[0m             \u001b[0;32mexcept\u001b[0m \u001b[0mKeyError\u001b[0m \u001b[0;32mas\u001b[0m \u001b[0merr\u001b[0m\u001b[0;34m:\u001b[0m\u001b[0;34m\u001b[0m\u001b[0;34m\u001b[0m\u001b[0m\n\u001b[0;32m-> 3363\u001b[0;31m                 \u001b[0;32mraise\u001b[0m \u001b[0mKeyError\u001b[0m\u001b[0;34m(\u001b[0m\u001b[0mkey\u001b[0m\u001b[0;34m)\u001b[0m \u001b[0;32mfrom\u001b[0m \u001b[0merr\u001b[0m\u001b[0;34m\u001b[0m\u001b[0;34m\u001b[0m\u001b[0m\n\u001b[0m\u001b[1;32m   3364\u001b[0m \u001b[0;34m\u001b[0m\u001b[0m\n\u001b[1;32m   3365\u001b[0m         \u001b[0;32mif\u001b[0m \u001b[0mis_scalar\u001b[0m\u001b[0;34m(\u001b[0m\u001b[0mkey\u001b[0m\u001b[0;34m)\u001b[0m \u001b[0;32mand\u001b[0m \u001b[0misna\u001b[0m\u001b[0;34m(\u001b[0m\u001b[0mkey\u001b[0m\u001b[0;34m)\u001b[0m \u001b[0;32mand\u001b[0m \u001b[0;32mnot\u001b[0m \u001b[0mself\u001b[0m\u001b[0;34m.\u001b[0m\u001b[0mhasnans\u001b[0m\u001b[0;34m:\u001b[0m\u001b[0;34m\u001b[0m\u001b[0;34m\u001b[0m\u001b[0m\n",
            "\u001b[0;31mKeyError\u001b[0m: 'Text'"
          ]
        }
      ]
    },
    {
      "cell_type": "code",
      "source": [
        "import pptx\n",
        "import pandas as pd\n",
        "from pptx.enum.text import PP_ALIGN\n",
        "from pptx.util import Inches\n",
        "from pptx.dml.color import RGBColor\n",
        "\n",
        "def add_text_to_slide(slide, text, left, top, width, height):\n",
        "    text_frame = slide.shapes.add_textbox(left, top, width, height)\n",
        "    text_frame.text = text\n",
        "    text_frame.text_frame.paragraphs[0].font.color.rgb = RGBColor(0, 0, 255)\n",
        "    text_frame.text_frame.paragraphs[0].alignment = PP_ALIGN.CENTER\n",
        "    text_frame.text_frame.paragraphs[0].font.size = pptx.util.Pt(24)\n",
        "\n",
        "def create_slides(prs, texts):\n",
        "    for text in texts:\n",
        "        slide = prs.slides.add_slide(prs.slide_layouts[6])\n",
        "        add_text_to_slide(slide, text, left=Inches(0), top=Inches(0.5), width=Inches(10), height=Inches(1))\n",
        "\n",
        "def create_presentation(texts):\n",
        "    prs = pptx.Presentation()\n",
        "    create_slides(prs, texts)\n",
        "    prs.save(\"presedfgdfgntxcccdgxgation.pptx\")\n",
        "\n",
        "df = pd.read_excel(\"/content/sdgfsdfg.xlsx\")\n",
        "if \"Text\" in df.columns:\n",
        "    texts = df[\"Text\"].tolist()\n",
        "    create_presentation(texts)\n",
        "else:\n",
        "    print(\"Error: Column 'Text' not found in the Excel file.\")\n"
      ],
      "metadata": {
        "id": "gyrOaw2DWUDB"
      },
      "execution_count": 13,
      "outputs": []
    },
    {
      "cell_type": "code",
      "source": [
        "import pptx\n",
        "import pandas as pd\n",
        "from pptx.enum.text import PP_ALIGN\n",
        "from pptx.util import Inches\n",
        "from pptx.dml.color import RGBColor\n",
        "\n",
        "def add_text_to_slide(slide, text, left, top, width, height):\n",
        "    text_frame = slide.shapes.add_textbox(left, top, width, height)\n",
        "    text_frame.text = text\n",
        "    text_frame.text_frame.paragraphs[0].font.color.rgb = RGBColor(0, 0, 255)\n",
        "    text_frame.text_frame.paragraphs[0].alignment = PP_ALIGN.CENTER\n",
        "    text_frame.text_frame.paragraphs[0].font.size = pptx.util.Pt(24)\n",
        "\n",
        "def create_slides(prs, texts):\n",
        "    for text in texts:\n",
        "        slide = prs.slides.add_slide(prs.slide_layouts[6])\n",
        "        add_text_to_slide(slide, text, left=Inches(0), top=Inches(0.5), width=Inches(10), height=Inches(1))\n",
        "\n",
        "def create_presentation(texts):\n",
        "    prs = pptx.Presentation()\n",
        "    create_slides(prs, texts)\n",
        "    prs.save(\"new.pptx\")\n",
        "\n",
        "# Read the Excel file into a Pandas dataframe\n",
        "df = pd.read_excel(\"/content/sdgfsdfg.xlsx\")\n",
        "\n",
        "# Get the 'Text' column from the dataframe\n",
        "texts = df[\"Text\"].tolist()\n",
        "\n",
        "# Create the presentation using the text data\n",
        "create_presentation(texts)\n"
      ],
      "metadata": {
        "id": "_fsmD0R5XXeO"
      },
      "execution_count": 16,
      "outputs": []
    },
    {
      "cell_type": "code",
      "source": [
        "import pptx\n",
        "import random\n",
        "from pptx.enum.text import PP_ALIGN\n",
        "from pptx.util import Inches\n",
        "from pptx.dml.color import RGBColor\n",
        "from pptx.enum.dml import MSO_ANIMATION\n",
        "\n",
        "def add_text_to_slide(slide, text, left, top, width, height):\n",
        "    text_frame = slide.shapes.add_textbox(left, top, width, height)\n",
        "    text_frame.text = text\n",
        "    text_frame.text_frame.paragraphs[0].font.color.rgb = RGBColor(0, 0, 255)\n",
        "    text_frame.text_frame.paragraphs[0].alignment = PP_ALIGN.CENTER\n",
        "    text_frame.text_frame.paragraphs[0].font.size = pptx.util.Pt(24)\n",
        "\n",
        "def add_animation_to_slide(slide):\n",
        "    shape = slide.shapes[0]\n",
        "    anim = shape.animation\n",
        "    anim.animation_settings.entry_effect = random.choice(list(MSO_ANIMATION))\n",
        "\n",
        "def create_slides(prs, texts):\n",
        "    for text in texts:\n",
        "        slide = prs.slides.add_slide(prs.slide_layouts[6])\n",
        "        add_text_to_slide(slide, text, left=Inches(0), top=Inches(0.5), width=Inches(10), height=Inches(1))\n",
        "        add_animation_to_slide(slide)\n",
        "\n",
        "def create_presentation(texts):\n",
        "    prs = pptx.Presentation()\n",
        "    create_slides(prs, texts)\n",
        "    prs.save(\"pre.pptx\")\n",
        "\n",
        "df = pd.read_excel(\"/content/sdgfsdfg.xlsx\")\n",
        "texts = df[\"Text\"].tolist()\n",
        "create_presentation(texts)\n"
      ],
      "metadata": {
        "colab": {
          "base_uri": "https://localhost:8080/",
          "height": 461
        },
        "id": "sld4PNDeYu8g",
        "outputId": "d009dc5a-573b-4cc0-ff8a-982bd7f3414e"
      },
      "execution_count": 15,
      "outputs": [
        {
          "output_type": "error",
          "ename": "ImportError",
          "evalue": "ignored",
          "traceback": [
            "\u001b[0;31m---------------------------------------------------------------------------\u001b[0m",
            "\u001b[0;31mImportError\u001b[0m                               Traceback (most recent call last)",
            "\u001b[0;32m<ipython-input-15-477b1a662aa5>\u001b[0m in \u001b[0;36m<module>\u001b[0;34m\u001b[0m\n\u001b[1;32m      4\u001b[0m \u001b[0;32mfrom\u001b[0m \u001b[0mpptx\u001b[0m\u001b[0;34m.\u001b[0m\u001b[0mutil\u001b[0m \u001b[0;32mimport\u001b[0m \u001b[0mInches\u001b[0m\u001b[0;34m\u001b[0m\u001b[0;34m\u001b[0m\u001b[0m\n\u001b[1;32m      5\u001b[0m \u001b[0;32mfrom\u001b[0m \u001b[0mpptx\u001b[0m\u001b[0;34m.\u001b[0m\u001b[0mdml\u001b[0m\u001b[0;34m.\u001b[0m\u001b[0mcolor\u001b[0m \u001b[0;32mimport\u001b[0m \u001b[0mRGBColor\u001b[0m\u001b[0;34m\u001b[0m\u001b[0;34m\u001b[0m\u001b[0m\n\u001b[0;32m----> 6\u001b[0;31m \u001b[0;32mfrom\u001b[0m \u001b[0mpptx\u001b[0m\u001b[0;34m.\u001b[0m\u001b[0menum\u001b[0m\u001b[0;34m.\u001b[0m\u001b[0mdml\u001b[0m \u001b[0;32mimport\u001b[0m \u001b[0mMSO_ANIMATION\u001b[0m\u001b[0;34m\u001b[0m\u001b[0;34m\u001b[0m\u001b[0m\n\u001b[0m\u001b[1;32m      7\u001b[0m \u001b[0;34m\u001b[0m\u001b[0m\n\u001b[1;32m      8\u001b[0m \u001b[0;32mdef\u001b[0m \u001b[0madd_text_to_slide\u001b[0m\u001b[0;34m(\u001b[0m\u001b[0mslide\u001b[0m\u001b[0;34m,\u001b[0m \u001b[0mtext\u001b[0m\u001b[0;34m,\u001b[0m \u001b[0mleft\u001b[0m\u001b[0;34m,\u001b[0m \u001b[0mtop\u001b[0m\u001b[0;34m,\u001b[0m \u001b[0mwidth\u001b[0m\u001b[0;34m,\u001b[0m \u001b[0mheight\u001b[0m\u001b[0;34m)\u001b[0m\u001b[0;34m:\u001b[0m\u001b[0;34m\u001b[0m\u001b[0;34m\u001b[0m\u001b[0m\n",
            "\u001b[0;31mImportError\u001b[0m: cannot import name 'MSO_ANIMATION' from 'pptx.enum.dml' (/usr/local/lib/python3.8/dist-packages/pptx/enum/dml.py)",
            "",
            "\u001b[0;31m---------------------------------------------------------------------------\u001b[0;32m\nNOTE: If your import is failing due to a missing package, you can\nmanually install dependencies using either !pip or !apt.\n\nTo view examples of installing some common dependencies, click the\n\"Open Examples\" button below.\n\u001b[0;31m---------------------------------------------------------------------------\u001b[0m\n"
          ],
          "errorDetails": {
            "actions": [
              {
                "action": "open_url",
                "actionText": "Open Examples",
                "url": "/notebooks/snippets/importing_libraries.ipynb"
              }
            ]
          }
        }
      ]
    }
  ]
}