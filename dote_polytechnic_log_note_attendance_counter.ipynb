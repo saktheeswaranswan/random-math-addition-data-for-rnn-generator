{
  "nbformat": 4,
  "nbformat_minor": 0,
  "metadata": {
    "colab": {
      "provenance": [],
      "authorship_tag": "ABX9TyNiQ2X3iHp6vPRK55np/gB2",
      "include_colab_link": true
    },
    "kernelspec": {
      "name": "python3",
      "display_name": "Python 3"
    },
    "language_info": {
      "name": "python"
    }
  },
  "cells": [
    {
      "cell_type": "markdown",
      "metadata": {
        "id": "view-in-github",
        "colab_type": "text"
      },
      "source": [
        "<a href=\"https://colab.research.google.com/github/saktheeswaranswan/random-math-addition-data-for-rnn-generator/blob/main/dote_polytechnic_log_note_attendance_counter.ipynb\" target=\"_parent\"><img src=\"https://colab.research.google.com/assets/colab-badge.svg\" alt=\"Open In Colab\"/></a>"
      ]
    },
    {
      "cell_type": "code",
      "execution_count": 17,
      "metadata": {
        "colab": {
          "base_uri": "https://localhost:8080/",
          "height": 288
        },
        "id": "d63S52-LhDGZ",
        "outputId": "5886e977-cac0-4005-dd4e-17af640c8d1b"
      },
      "outputs": [
        {
          "output_type": "error",
          "ename": "ValueError",
          "evalue": "ignored",
          "traceback": [
            "\u001b[0;31m---------------------------------------------------------------------------\u001b[0m",
            "\u001b[0;31mValueError\u001b[0m                                Traceback (most recent call last)",
            "\u001b[0;32m<ipython-input-17-f2e5dad0974e>\u001b[0m in \u001b[0;36m<module>\u001b[0;34m\u001b[0m\n\u001b[1;32m     31\u001b[0m     \u001b[0mupper_black\u001b[0m \u001b[0;34m=\u001b[0m \u001b[0mnp\u001b[0m\u001b[0;34m.\u001b[0m\u001b[0marray\u001b[0m\u001b[0;34m(\u001b[0m\u001b[0;34m[\u001b[0m\u001b[0;36m180\u001b[0m\u001b[0;34m,\u001b[0m \u001b[0;36m255\u001b[0m\u001b[0;34m,\u001b[0m \u001b[0;36m30\u001b[0m\u001b[0;34m]\u001b[0m\u001b[0;34m)\u001b[0m\u001b[0;34m\u001b[0m\u001b[0;34m\u001b[0m\u001b[0m\n\u001b[1;32m     32\u001b[0m     \u001b[0mroi_mask\u001b[0m \u001b[0;34m=\u001b[0m \u001b[0mcv2\u001b[0m\u001b[0;34m.\u001b[0m\u001b[0minRange\u001b[0m\u001b[0;34m(\u001b[0m\u001b[0mroi_hsv\u001b[0m\u001b[0;34m,\u001b[0m \u001b[0mlower_black\u001b[0m\u001b[0;34m,\u001b[0m \u001b[0mupper_black\u001b[0m\u001b[0;34m)\u001b[0m\u001b[0;34m\u001b[0m\u001b[0;34m\u001b[0m\u001b[0m\n\u001b[0;32m---> 33\u001b[0;31m     \u001b[0m_\u001b[0m\u001b[0;34m,\u001b[0m \u001b[0mroi_contours\u001b[0m\u001b[0;34m,\u001b[0m \u001b[0m_\u001b[0m \u001b[0;34m=\u001b[0m \u001b[0mcv2\u001b[0m\u001b[0;34m.\u001b[0m\u001b[0mfindContours\u001b[0m\u001b[0;34m(\u001b[0m\u001b[0mroi_mask\u001b[0m\u001b[0;34m,\u001b[0m \u001b[0mcv2\u001b[0m\u001b[0;34m.\u001b[0m\u001b[0mRETR_EXTERNAL\u001b[0m\u001b[0;34m,\u001b[0m \u001b[0mcv2\u001b[0m\u001b[0;34m.\u001b[0m\u001b[0mCHAIN_APPROX_SIMPLE\u001b[0m\u001b[0;34m)\u001b[0m\u001b[0;34m\u001b[0m\u001b[0;34m\u001b[0m\u001b[0m\n\u001b[0m\u001b[1;32m     34\u001b[0m     \u001b[0;32mfor\u001b[0m \u001b[0mroi_contour\u001b[0m \u001b[0;32min\u001b[0m \u001b[0mroi_contours\u001b[0m\u001b[0;34m:\u001b[0m\u001b[0;34m\u001b[0m\u001b[0;34m\u001b[0m\u001b[0m\n\u001b[1;32m     35\u001b[0m         \u001b[0;32mif\u001b[0m \u001b[0mcv2\u001b[0m\u001b[0;34m.\u001b[0m\u001b[0mcontourArea\u001b[0m\u001b[0;34m(\u001b[0m\u001b[0mroi_contour\u001b[0m\u001b[0;34m)\u001b[0m \u001b[0;34m>\u001b[0m \u001b[0;36m20\u001b[0m\u001b[0;34m:\u001b[0m\u001b[0;34m\u001b[0m\u001b[0;34m\u001b[0m\u001b[0m\n",
            "\u001b[0;31mValueError\u001b[0m: not enough values to unpack (expected 3, got 2)"
          ]
        }
      ],
      "source": [
        "import cv2\n",
        "import numpy as np\n",
        "import datetime\n",
        "\n",
        "# Load the image\n",
        "img = cv2.imread('/content/cdgfdgfdfg.jpg')\n",
        "\n",
        "# Convert the image to HSV color space\n",
        "hsv = cv2.cvtColor(img, cv2.COLOR_BGR2HSV)\n",
        "\n",
        "# Define the lower and upper bounds for red color in HSV color space\n",
        "lower_red = np.array([0, 50, 50])\n",
        "upper_red = np.array([10, 255, 255])\n",
        "\n",
        "# Threshold the image to get only red pixels\n",
        "mask = cv2.inRange(hsv, lower_red, upper_red)\n",
        "\n",
        "# Find the contours of the red objects in the image\n",
        "contours, _ = cv2.findContours(mask, cv2.RETR_EXTERNAL, cv2.CHAIN_APPROX_SIMPLE)\n",
        "\n",
        "# Initialize arrays to store the row and column counts\n",
        "row_counts = np.zeros(img.shape[0], dtype=int)\n",
        "col_counts = np.zeros(img.shape[1], dtype=int)\n",
        "\n",
        "# Loop through the contours and count the red alphabets 'A' and 'a' in each row and column\n",
        "for contour in contours:\n",
        "    x, y, w, h = cv2.boundingRect(contour)\n",
        "    roi = img[y:y+h, x:x+w]\n",
        "    roi_hsv = cv2.cvtColor(roi, cv2.COLOR_BGR2HSV)\n",
        "    lower_black = np.array([0, 0, 0])\n",
        "    upper_black = np.array([180, 255, 30])\n",
        "    roi_mask = cv2.inRange(roi_hsv, lower_black, upper_black)\n",
        "    _, roi_contours, _ = cv2.findContours(roi_mask, cv2.RETR_EXTERNAL, cv2.CHAIN_APPROX_SIMPLE)\n",
        "    for roi_contour in roi_contours:\n",
        "        if cv2.contourArea(roi_contour) > 20:\n",
        "            (x, y), (MA, ma), angle = cv2.fitEllipse(roi_contour)\n",
        "            if angle < 20 or angle > 160:\n",
        "                row_counts[y:y+h] += 1\n",
        "                col_counts[x:x+w] += 1\n",
        "\n",
        "# Draw the row and column counts on the image\n",
        "for row_idx, row_count in enumerate(row_counts):\n",
        "    cv2.putText(img, str(row_count), (0, row_idx), cv2.FONT_HERSHEY_SIMPLEX, 0.5, (0, 0, 255), 2)\n",
        "for col_idx, col_count in enumerate(col_counts):\n",
        "    cv2.putText(img, str(col_count), (col_idx, 0), cv2.FONT_HERSHEY_SIMPLEX, 0.5, (0, 0, 255), 2)\n",
        "\n",
        "# Save the output image\n",
        "timestamp = datetime.datetime.now().strftime(\"%Y%m%d%H%M%S\")\n",
        "output_filename = \"detected_red_alphabets_\" + timestamp + \".jpg\"\n",
        "cv2.imwrite(output_filename, img)\n",
        "\n",
        "# Save the row and column counts to a CSV file\n",
        "row_col_counts = np.vstack((row_counts, col_counts))\n",
        "np.savetxt(\"red_alphabet_counts_\" + timestamp + \".csv\", row_col_counts, delimiter=\",\")\n",
        "\n"
      ]
    },
    {
      "cell_type": "code",
      "source": [
        "import cv2\n",
        "import numpy as np\n",
        "\n",
        "# Load the input image\n",
        "img = cv2.imread('/content/cdgfdgfdfg.jpg')\n",
        "\n",
        "# Convert the image to HSV color space\n",
        "hsv = cv2.cvtColor(img, cv2.COLOR_BGR2HSV)\n",
        "\n",
        "# Define the range of red color in HSV color space\n",
        "lower_red = np.array([0, 50, 50])\n",
        "upper_red = np.array([10, 255, 255])\n",
        "\n",
        "# Threshold the HSV image to get only red colors\n",
        "mask = cv2.inRange(hsv, lower_red, upper_red)\n",
        "\n",
        "# Find the contours in the binary image\n",
        "contours, hierarchy = cv2.findContours(mask, cv2.RETR_TREE, cv2.CHAIN_APPROX_SIMPLE)\n",
        "\n",
        "# Initialize lists to store the row and column counts\n",
        "row_counts = []\n",
        "col_counts = []\n",
        "\n",
        "# Loop over the contours\n",
        "for contour in contours:\n",
        "    # Get the bounding box of the contour\n",
        "    x, y, w, h = cv2.boundingRect(contour)\n",
        "    \n",
        "    # Check if the bounding box is of size 10x10 or larger\n",
        "    if w >= 10 and h >= 10:\n",
        "        # Crop the character from the binary image\n",
        "        character = mask[y:y+h, x:x+w]\n",
        "        \n",
        "        # Get the sum of the rows and columns of the character\n",
        "        row_sum = np.sum(character, axis=1)\n",
        "        col_sum = np.sum(character, axis=0)\n",
        "        \n",
        "        # Append the sums to the lists\n",
        "        row_counts.append(row_sum)\n",
        "        col_counts.append(col_sum)\n",
        "\n",
        "# Convert the lists to numpy arrays\n",
        "row_counts = np.array(row_counts)\n",
        "col_counts = np.array(col_counts)\n",
        "\n",
        "# Check if the shapes of the row and column counts arrays match\n",
        "if row_counts.shape[0] != col_counts.shape[0]:\n",
        "    if row_counts.shape[0] > col_counts.shape[0]:\n",
        "        col_counts = np.pad(col_counts, ((0, row_counts.shape[0] - col_counts.shape[0]), (0, 0)), mode='constant')\n",
        "    else:\n",
        "        row_counts = np.pad(row_counts, ((0, col_counts.shape[0] - row_counts.shape[0]), (0, 0)), mode='constant')\n",
        "\n",
        "# Concatenate the row and column counts arrays vertically\n",
        "result = np.concatenate((row_counts, col_counts), axis=0)\n",
        "\n",
        "# Save the result as a CSV file\n",
        "np.savetxt(\"result.csv\", result, delimiter=\",\")\n",
        "\n",
        "# Save the output image\n",
        "cv2.imwrite(\"output.jpg\", img)\n"
      ],
      "metadata": {
        "colab": {
          "base_uri": "https://localhost:8080/"
        },
        "id": "74ehYN0EjGUm",
        "outputId": "21c2ca1e-8612-4c85-cca5-3638136cf27b"
      },
      "execution_count": 18,
      "outputs": [
        {
          "output_type": "execute_result",
          "data": {
            "text/plain": [
              "True"
            ]
          },
          "metadata": {},
          "execution_count": 18
        }
      ]
    },
    {
      "cell_type": "code",
      "source": [
        "import cv2\n",
        "import numpy as np\n",
        "\n",
        "# Load the input image\n",
        "img = cv2.imread('/content/cdgfdgfdfg.jpg')\n",
        "\n",
        "# Convert the image to HSV color space\n",
        "hsv = cv2.cvtColor(img, cv2.COLOR_BGR2HSV)\n",
        "\n",
        "# Define the range of red color in HSV color space\n",
        "lower_red = np.array([0, 50, 50])\n",
        "upper_red = np.array([10, 255, 255])\n",
        "\n",
        "# Threshold the HSV image to get only red colors\n",
        "mask = cv2.inRange(hsv, lower_red, upper_red)\n",
        "\n",
        "# Find the contours in the binary image\n",
        "contours, hierarchy = cv2.findContours(mask, cv2.RETR_TREE, cv2.CHAIN_APPROX_SIMPLE)\n",
        "\n",
        "# Initialize lists to store the row and column counts\n",
        "row_counts = np.zeros((img.shape[0],))\n",
        "col_counts = np.zeros((img.shape[1],))\n",
        "\n",
        "# Loop over the contours\n",
        "for contour in contours:\n",
        "    # Get the bounding box of the contour\n",
        "    x, y, w, h = cv2.boundingRect(contour)\n",
        "    \n",
        "    # Check if the bounding box is of size 10x10 or larger\n",
        "    if w >= 10 and h >= 10:\n",
        "        # Crop the character from the binary image\n",
        "        character = mask[y:y+h, x:x+w]\n",
        "        \n",
        "        # Get the sum of the rows and columns of the character\n",
        "        row_sum = np.sum(character, axis=1)\n",
        "        col_sum = np.sum(character, axis=0)\n",
        "        \n",
        "        # Add the sums to the row and column counts\n",
        "        row_counts[y:y+h] += row_sum\n",
        "        col_counts[x:x+w] += col_sum\n",
        "\n",
        "# Save the row and column counts as CSV files\n",
        "np.savetxt(\"row_counts.csv\", row_counts, delimiter=\",\")\n",
        "np.savetxt(\"col_counts.csv\", col_counts, delimiter=\",\")\n",
        "\n",
        "# Save the output image\n",
        "cv2.imwrite(\"output.jpg\", img)\n"
      ],
      "metadata": {
        "colab": {
          "base_uri": "https://localhost:8080/"
        },
        "id": "zZyDmVONlgKW",
        "outputId": "a0746b02-4c0c-4e68-83b0-feb5c147d090"
      },
      "execution_count": 19,
      "outputs": [
        {
          "output_type": "execute_result",
          "data": {
            "text/plain": [
              "True"
            ]
          },
          "metadata": {},
          "execution_count": 19
        }
      ]
    },
    {
      "cell_type": "code",
      "source": [
        "import cv2\n",
        "import numpy as np\n",
        "\n",
        "# Load the input image\n",
        "img = cv2.imread('/content/cdgfdgfdfg.jpg')\n",
        "\n",
        "# Convert the image to grayscale\n",
        "gray = cv2.cvtColor(img, cv2.COLOR_BGR2GRAY)\n",
        "\n",
        "# Threshold the grayscale image to get a binary image\n",
        "_, threshold = cv2.threshold(gray, 128, 255, cv2.THRESH_BINARY_INV)\n",
        "\n",
        "# Convert the image to HSV color space\n",
        "hsv = cv2.cvtColor(img, cv2.COLOR_BGR2HSV)\n",
        "\n",
        "# Define the range of red color in HSV color space\n",
        "lower_red = np.array([0, 50, 50])\n",
        "upper_red = np.array([10, 255, 255])\n",
        "\n",
        "# Threshold the HSV image to get only red colors\n",
        "mask = cv2.inRange(hsv, lower_red, upper_red)\n",
        "\n",
        "# Combine the binary threshold image with the red mask\n",
        "combined = cv2.bitwise_and(threshold, mask)\n",
        "\n",
        "# Find the contours in the combined image\n",
        "contours, hierarchy = cv2.findContours(combined, cv2.RETR_TREE, cv2.CHAIN_APPROX_SIMPLE)\n",
        "\n",
        "# Initialize lists to store the row and column counts\n",
        "row_counts = np.zeros((img.shape[0],))\n",
        "col_counts = np.zeros((img.shape[1],))\n",
        "\n",
        "# Loop over the contours\n",
        "for contour in contours:\n",
        "    # Get the bounding box of the contour\n",
        "    x, y, w, h = cv2.boundingRect(contour)\n",
        "    \n",
        "    # Check if the bounding box is of size 10x10 or larger\n",
        "    if w >= 10 and h >= 10:\n",
        "        # Crop the character from the binary image\n",
        "        character = combined[y:y+h, x:x+w]\n",
        "        \n",
        "        # Get the sum of the rows and columns of the character\n",
        "        row_sum = np.sum(character, axis=1)\n",
        "        col_sum = np.sum(character, axis=0)\n",
        "        \n",
        "        # Add the sums to the row and column counts\n",
        "        row_counts[y:y+h] += row_sum\n",
        "        col_counts[x:x+w] += col_sum\n",
        "\n",
        "# Save the row and column counts as CSV files\n",
        "np.savetxt(\"row_counts.csv\", row_counts, delimiter=\",\")\n",
        "np.savetxt(\"col_counts.csv\", col_counts, delimiter=\",\")\n",
        "\n",
        "# Save the output image\n",
        "cv2.imwrite(\"output.jpg\", img)\n"
      ],
      "metadata": {
        "colab": {
          "base_uri": "https://localhost:8080/"
        },
        "id": "ggHYxZS2mSmk",
        "outputId": "c6529196-853f-40b7-8917-deaa0046b95d"
      },
      "execution_count": 20,
      "outputs": [
        {
          "output_type": "execute_result",
          "data": {
            "text/plain": [
              "True"
            ]
          },
          "metadata": {},
          "execution_count": 20
        }
      ]
    },
    {
      "cell_type": "code",
      "source": [
        "import cv2\n",
        "import numpy as np\n",
        "\n",
        "def detect_red_letters(image):\n",
        "    # Convert image to HSV color space\n",
        "    hsv_image = cv2.cvtColor(image, cv2.COLOR_BGR2HSV)\n",
        "    \n",
        "    # Define lower and upper bounds for the red color in HSV color space\n",
        "    lower_red = np.array([0, 50, 50])\n",
        "    upper_red = np.array([10, 255, 255])\n",
        "    \n",
        "    # Threshold the image to obtain binary mask of red pixels\n",
        "    mask = cv2.inRange(hsv_image, lower_red, upper_red)\n",
        "    \n",
        "    # Find contours in the binary mask\n",
        "    contours, _ = cv2.findContours(mask, cv2.RETR_EXTERNAL, cv2.CHAIN_APPROX_SIMPLE)\n",
        "    \n",
        "    # Initialize variables to store the total number of red letters and their positions\n",
        "    letter_count = 0\n",
        "    letter_positions = []\n",
        "    \n",
        "    # Iterate over the contours\n",
        "    for contour in contours:\n",
        "        # Get the bounding box of the contour\n",
        "        x, y, w, h = cv2.boundingRect(contour)\n",
        "        \n",
        "        # Check if the aspect ratio of the bounding box is close to 1 (indicating a letter)\n",
        "        aspect_ratio = float(w) / h\n",
        "        if aspect_ratio > 0.8 and aspect_ratio < 1.2:\n",
        "            # Check if the letter is an \"A\" or \"a\"\n",
        "            letter_image = image[y:y+h, x:x+w]\n",
        "            gray_letter_image = cv2.cvtColor(letter_image, cv2.COLOR_BGR2GRAY)\n",
        "            _, thresholded_letter_image = cv2.threshold(gray_letter_image, 0, 255, cv2.THRESH_BINARY + cv2.THRESH_OTSU)\n",
        "            letter_image_sum = thresholded_letter_image.sum()\n",
        "            \n",
        "            if letter_image_sum > 4000:\n",
        "                letter_count += 1\n",
        "                letter_positions.append((x, y))\n",
        "    \n",
        "    # Calculate the row and column sums\n",
        "    row_sums = [0] * image.shape[0]\n",
        "    column_sums = [0] * image.shape[1]\n",
        "    for x, y in letter_positions:\n",
        "        row_sums[y] += 1\n",
        "        column_sums[x] += 1\n",
        "    \n",
        "    return letter_count, row_sums, column_sums\n",
        "\n",
        "# Load an image\n",
        "image = cv2.imread(\"/content/imgA/cgdfgdfgdfg.jpg\")\n",
        "\n",
        "# Detect the red letters in the image\n",
        "letter_count, row_sums, column_sums = detect_red_letters(image)\n",
        "\n",
        "# Print the results\n",
        "print(\"Number of red letters:\", letter_count)\n",
        "print(\"Row sums:\", row_sums)\n",
        "print(\"Column sums:\", column_sums)\n",
        "\n",
        "# Save the output image\n",
        "cv2.imwrite(\"output.jpg\", image)\n"
      ],
      "metadata": {
        "colab": {
          "base_uri": "https://localhost:8080/"
        },
        "id": "L0tlY92fqejT",
        "outputId": "1bb64e41-87b5-4527-f270-fbf8c3fdd595"
      },
      "execution_count": 23,
      "outputs": [
        {
          "output_type": "stream",
          "name": "stdout",
          "text": [
            "Number of red letters: 0\n",
            "Row sums: [0, 0, 0, 0, 0, 0, 0, 0, 0, 0, 0, 0, 0, 0, 0, 0, 0, 0, 0, 0, 0, 0, 0, 0, 0, 0, 0, 0, 0, 0, 0, 0, 0, 0, 0, 0, 0, 0, 0, 0, 0, 0, 0, 0, 0, 0, 0, 0, 0, 0, 0, 0, 0, 0, 0, 0, 0, 0, 0, 0, 0, 0, 0, 0, 0, 0, 0, 0, 0, 0, 0, 0, 0, 0, 0, 0, 0, 0, 0, 0, 0, 0, 0, 0, 0, 0, 0, 0, 0, 0, 0, 0, 0, 0, 0, 0, 0, 0, 0, 0, 0, 0, 0, 0, 0, 0, 0, 0, 0, 0, 0, 0, 0, 0, 0, 0, 0, 0, 0, 0, 0, 0, 0, 0, 0, 0, 0, 0, 0, 0, 0, 0, 0, 0, 0, 0, 0, 0, 0, 0, 0, 0, 0, 0, 0, 0, 0, 0, 0, 0, 0, 0, 0, 0, 0, 0, 0, 0, 0, 0, 0, 0, 0, 0, 0, 0, 0, 0, 0, 0, 0, 0, 0, 0, 0, 0, 0, 0, 0, 0, 0, 0, 0, 0, 0, 0, 0, 0, 0, 0, 0, 0, 0, 0, 0, 0, 0, 0, 0, 0, 0, 0, 0, 0, 0, 0, 0, 0, 0, 0, 0, 0, 0, 0, 0, 0, 0, 0, 0, 0, 0, 0, 0, 0, 0, 0, 0, 0, 0, 0, 0, 0, 0, 0, 0, 0, 0, 0, 0, 0, 0, 0, 0, 0, 0, 0, 0, 0, 0, 0, 0, 0, 0, 0, 0, 0, 0, 0, 0, 0, 0, 0, 0, 0, 0, 0, 0, 0, 0, 0, 0, 0, 0, 0, 0, 0, 0, 0, 0, 0, 0, 0, 0, 0, 0, 0, 0, 0, 0, 0, 0, 0, 0, 0, 0, 0, 0, 0, 0, 0, 0, 0, 0, 0, 0, 0, 0, 0, 0, 0, 0, 0, 0, 0, 0, 0, 0, 0, 0, 0, 0, 0, 0, 0, 0, 0, 0, 0, 0, 0, 0, 0, 0, 0, 0, 0, 0, 0, 0, 0, 0, 0, 0, 0, 0, 0, 0, 0, 0, 0, 0, 0, 0, 0, 0, 0, 0, 0, 0, 0, 0, 0, 0, 0, 0, 0, 0, 0, 0, 0, 0, 0, 0, 0, 0, 0, 0, 0, 0, 0, 0, 0, 0, 0, 0, 0, 0, 0, 0, 0, 0, 0, 0, 0, 0, 0, 0, 0, 0, 0, 0, 0, 0, 0, 0, 0, 0, 0, 0, 0, 0, 0, 0, 0, 0, 0, 0, 0, 0, 0, 0, 0, 0, 0, 0]\n",
            "Column sums: [0, 0, 0, 0, 0, 0, 0, 0, 0, 0, 0, 0, 0, 0, 0, 0, 0, 0, 0, 0, 0, 0, 0, 0, 0, 0, 0, 0, 0, 0, 0, 0, 0, 0, 0, 0, 0, 0, 0, 0, 0, 0, 0, 0, 0, 0, 0, 0, 0, 0, 0, 0, 0, 0, 0, 0, 0, 0, 0, 0, 0, 0, 0, 0, 0, 0, 0, 0, 0, 0, 0, 0, 0, 0, 0, 0, 0, 0, 0, 0, 0, 0, 0, 0, 0, 0, 0, 0, 0, 0, 0, 0, 0, 0, 0, 0, 0, 0, 0, 0, 0, 0, 0, 0, 0, 0, 0, 0, 0, 0, 0, 0, 0, 0, 0, 0, 0, 0, 0, 0, 0, 0, 0, 0, 0, 0, 0, 0, 0, 0, 0, 0, 0, 0, 0, 0, 0, 0, 0, 0, 0, 0, 0, 0, 0, 0, 0, 0, 0, 0, 0, 0, 0, 0, 0, 0, 0, 0, 0, 0, 0, 0, 0, 0, 0, 0, 0, 0, 0, 0, 0, 0, 0, 0, 0, 0, 0, 0, 0, 0, 0, 0, 0, 0, 0, 0, 0, 0, 0, 0, 0, 0, 0, 0, 0, 0, 0, 0, 0, 0, 0, 0, 0, 0, 0, 0, 0, 0, 0, 0, 0, 0, 0, 0, 0, 0, 0, 0, 0, 0, 0, 0, 0, 0]\n"
          ]
        },
        {
          "output_type": "execute_result",
          "data": {
            "text/plain": [
              "True"
            ]
          },
          "metadata": {},
          "execution_count": 23
        }
      ]
    },
    {
      "cell_type": "code",
      "source": [
        "import cv2\n",
        "import numpy as np\n",
        "\n",
        "# Load the image\n",
        "img = cv2.imread(\"/content/cdgfdgfdfg.jpg\")\n",
        "\n",
        "# Convert the image to HSV color space\n",
        "hsv = cv2.cvtColor(img, cv2.COLOR_BGR2HSV)\n",
        "\n",
        "# Define a range of red color in HSV\n",
        "lower_red = np.array([0,50,50])\n",
        "upper_red = np.array([10,255,255])\n",
        "\n",
        "# Threshold the HSV image to get only red colors\n",
        "mask = cv2.inRange(hsv, lower_red, upper_red)\n",
        "\n",
        "# Find contours in the binary image\n",
        "contours, hierarchy = cv2.findContours(mask, cv2.RETR_TREE, cv2.CHAIN_APPROX_SIMPLE)\n",
        "\n",
        "# Initialize the row and column counts\n",
        "row_count = 0\n",
        "col_count = 0\n",
        "\n",
        "# Iterate over the contours\n",
        "for cnt in contours:\n",
        "    # Get the bounding rectangle of the contour\n",
        "    x,y,w,h = cv2.boundingRect(cnt)\n",
        "    \n",
        "    # Check if the width and height are within a certain range to eliminate false detections\n",
        "    if w > 20 and w < 100 and h > 50 and h < 200:\n",
        "        # Crop the image to get just the red letter\n",
        "        letter = img[y:y+h, x:x+w]\n",
        "        \n",
        "        # Convert the cropped image to grayscale\n",
        "        gray = cv2.cvtColor(letter, cv2.COLOR_BGR2GRAY)\n",
        "        \n",
        "        # Threshold the grayscale image to get a binary image\n",
        "        thresh = cv2.threshold(gray, 127, 255, cv2.THRESH_BINARY)[1]\n",
        "        \n",
        "        # Get the moments of the binary image\n",
        "        moments = cv2.moments(thresh)\n",
        "        \n",
        "        # Get the centroid of the binary image\n",
        "        centroid_x = int(moments[\"m10\"] / moments[\"m00\"])\n",
        "        centroid_y = int(moments[\"m01\"] / moments[\"m00\"])\n",
        "        \n",
        "        # Add the row and column counts\n",
        "        row_count += centroid_y\n",
        "        col_count += centroid_x\n",
        "\n",
        "# Print the row and column counts\n",
        "print(\"Row count:\", row_count)\n",
        "print(\"Column count:\", col_count)\n",
        "\n",
        "# Save the output image\n",
        "cv2.imwrite(\"output.jpg\", img)\n"
      ],
      "metadata": {
        "colab": {
          "base_uri": "https://localhost:8080/"
        },
        "id": "QDG_P8i6rZGc",
        "outputId": "3e1f96f9-e261-474e-d090-c37065670e21"
      },
      "execution_count": 26,
      "outputs": [
        {
          "output_type": "stream",
          "name": "stdout",
          "text": [
            "Row count: 0\n",
            "Column count: 0\n"
          ]
        },
        {
          "output_type": "execute_result",
          "data": {
            "text/plain": [
              "True"
            ]
          },
          "metadata": {},
          "execution_count": 26
        }
      ]
    },
    {
      "cell_type": "code",
      "source": [
        "import cv2\n",
        "import numpy as np\n",
        "import pandas as pd\n",
        "\n",
        "# Load the input image\n",
        "image = cv2.imread(\"/content/imgA/cgdfgdfgdfg.jpg\")\n",
        "\n",
        "# Convert the image to HSV color space\n",
        "hsv = cv2.cvtColor(image, cv2.COLOR_BGR2HSV)\n",
        "\n",
        "# Define a range of red color in HSV color space\n",
        "lower_red = np.array([0, 50, 50])\n",
        "upper_red = np.array([10, 255, 255])\n",
        "mask1 = cv2.inRange(hsv, lower_red, upper_red)\n",
        "\n",
        "lower_red = np.array([170, 50, 50])\n",
        "upper_red = np.array([180, 255, 255])\n",
        "mask2 = cv2.inRange(hsv, lower_red, upper_red)\n",
        "\n",
        "# Combine the two masks\n",
        "mask = mask1 + mask2\n",
        "\n",
        "# Convert the image to grayscale\n",
        "gray = cv2.cvtColor(mask, cv2.COLOR_GRAY2BGR)\n",
        "\n",
        "# Find the contours in the grayscale image\n",
        "contours, hierarchy = cv2.findContours(mask, cv2.RETR_EXTERNAL, cv2.CHAIN_APPROX_SIMPLE)\n",
        "\n",
        "# Iterate through each contour\n",
        "row_counts = []\n",
        "column_counts = []\n",
        "for cnt in contours:\n",
        "    if cv2.contourArea(cnt) < 10:\n",
        "        continue\n",
        "\n",
        "    x, y, w, h = cv2.boundingRect(cnt)\n",
        "\n",
        "    # Check if the contour is an \"A\" or \"a\"\n",
        "    if w < 20 or h < 20:\n",
        "        continue\n",
        "\n",
        "    aspect_ratio = float(w) / h\n",
        "    if aspect_ratio < 0.8 or aspect_ratio > 1.2:\n",
        "        continue\n",
        "\n",
        "    # Count the red letters in each row and column\n",
        "    row_sum = np.sum(mask[y:y+h, x:x+w], axis=1)\n",
        "    row_count = np.count_nonzero(row_sum)\n",
        "    row_counts.append(row_count)\n",
        "\n",
        "    column_sum = np.sum(mask[y:y+h, x:x+w], axis=0)\n",
        "    column_count = np.count_nonzero(column_sum)\n",
        "    column_counts.append(column_count)\n",
        "\n",
        "    # Draw a rectangle around the contour\n",
        "    cv2.rectangle(image, (x, y), (x + w, y + h), (0, 0, 255), 2)\n",
        "\n",
        "# Save the output image\n",
        "cv2.imwrite(\"output.jpg\", image)\n",
        "\n",
        "# Save the row and column counts to a CSV file\n",
        "df = pd.DataFrame({\"Row Count\": row_counts, \"Column Count\": column_counts})\n",
        "df.to_csv(\"counts.csv\", index=False)\n"
      ],
      "metadata": {
        "id": "QH7NsGtMsI4d"
      },
      "execution_count": 28,
      "outputs": []
    },
    {
      "cell_type": "code",
      "source": [
        "import cv2\n",
        "import numpy as np\n",
        "import os\n",
        "\n",
        "# Load the image\n",
        "img = cv2.imread('/content/cdgfdgfdfg.jpg')\n",
        "\n",
        "# Convert the image to HSV color space\n",
        "hsv = cv2.cvtColor(img, cv2.COLOR_BGR2HSV)\n",
        "\n",
        "# Define a range of red color in HSV\n",
        "lower_red = np.array([0,50,50])\n",
        "upper_red = np.array([10,255,255])\n",
        "\n",
        "# Threshold the HSV image to get only red colors\n",
        "mask = cv2.inRange(hsv, lower_red, upper_red)\n",
        "\n",
        "# Find contours in the mask\n",
        "cnts, _ = cv2.findContours(mask, cv2.RETR_EXTERNAL, cv2.CHAIN_APPROX_SIMPLE)\n",
        "\n",
        "# Initialize variables to count the number of \"A\" and \"a\" characters\n",
        "count_A = 0\n",
        "count_a = 0\n",
        "\n",
        "# Loop through the contours\n",
        "for c in cnts:\n",
        "    # Get the bounding rectangle of the contour\n",
        "    x, y, w, h = cv2.boundingRect(c)\n",
        "\n",
        "    # Check if the width and height are within a certain range\n",
        "    # This is to ensure that only the letters are counted, not any other red objects in the image\n",
        "    if w >= 20 and w <= 30 and h >= 40 and h <= 50:\n",
        "        # Crop the letter from the image\n",
        "        letter = img[y:y+h, x:x+w]\n",
        "\n",
        "        # Convert the cropped image to grayscale\n",
        "        gray = cv2.cvtColor(letter, cv2.COLOR_BGR2GRAY)\n",
        "\n",
        "        # Threshold the grayscale image to get a binary image\n",
        "        thresh = cv2.threshold(gray, 0, 255, cv2.THRESH_BINARY + cv2.THRESH_OTSU)[1]\n",
        "\n",
        "        # Get the moments of the binary image\n",
        "        M = cv2.moments(thresh)\n",
        "\n",
        "        # Check if the moments are valid\n",
        "        if M[\"m00\"] != 0:\n",
        "            # Calculate the center of mass\n",
        "            cX = int(M[\"m10\"] / M[\"m00\"])\n",
        "            cY = int(M[\"m01\"] / M[\"m00\"])\n",
        "\n",
        "            # Check if the center of mass is in the upper half of the letter\n",
        "            if cY < h / 2:\n",
        "                # Check if the letter is \"A\" or \"a\"\n",
        "                if w / h >= 1.2:\n",
        "                    count_A += 1\n",
        "                else:\n",
        "                    count_a += 1\n",
        "\n",
        "        # Save the output image\n",
        "        cv2.imwrite(f'letter_{count_A + count_a}.jpg', letter)\n",
        "\n",
        "# Print the number of \"A\" and \"a\" characters\n",
        "print(f'Number of \"A\": {count_A}')\n",
        "print(f'Number of \"a\": {count_a}')\n",
        "\n",
        "# Save the output image\n",
        "cv2.imwrite('output.jpg', img)\n"
      ],
      "metadata": {
        "colab": {
          "base_uri": "https://localhost:8080/"
        },
        "id": "klwSTKiMuRSY",
        "outputId": "ba2eb42d-55d9-408c-dd15-5988fbf4b5e6"
      },
      "execution_count": 32,
      "outputs": [
        {
          "output_type": "stream",
          "name": "stdout",
          "text": [
            "Number of \"A\": 0\n",
            "Number of \"a\": 0\n"
          ]
        },
        {
          "output_type": "execute_result",
          "data": {
            "text/plain": [
              "True"
            ]
          },
          "metadata": {},
          "execution_count": 32
        }
      ]
    },
    {
      "cell_type": "code",
      "source": [
        "import cv2\n",
        "import numpy as np\n",
        "\n",
        "# Load the image\n",
        "image = cv2.imread(\"/content/imgA/sdfsdfsdf.jpg\")\n",
        "\n",
        "# Convert the image to HSV color space\n",
        "hsv = cv2.cvtColor(image, cv2.COLOR_BGR2HSV)\n",
        "\n",
        "# Define the range of red color in HSV\n",
        "lower_red = np.array([0,100,100])\n",
        "upper_red = np.array([10,255,255])\n",
        "\n",
        "# Threshold the HSV image to get only red colors\n",
        "mask = cv2.inRange(hsv, lower_red, upper_red)\n",
        "\n",
        "# Count the number of red pixels in the image\n",
        "count = cv2.countNonZero(mask)\n",
        "print(\"Number of red pixels:\", count)\n",
        "\n",
        "# Find the row-wise sum of the red pixels\n",
        "row_sum = np.sum(mask, axis=1)\n",
        "print(\"Row-wise sum of red pixels:\", row_sum)\n",
        "\n",
        "# Find the column-wise sum of the red pixels\n",
        "col_sum = np.sum(mask, axis=0)\n",
        "print(\"Column-wise sum of red pixels:\", col_sum)\n",
        "\n",
        "# Save the output image\n",
        "cv2.imwrite(\"output.jpg\", mask)\n"
      ],
      "metadata": {
        "colab": {
          "base_uri": "https://localhost:8080/"
        },
        "id": "W_NSYJCyvbPy",
        "outputId": "8366b4d5-fc3a-422a-d881-abc0aaf81cb4"
      },
      "execution_count": 34,
      "outputs": [
        {
          "output_type": "stream",
          "name": "stdout",
          "text": [
            "Number of red pixels: 0\n",
            "Row-wise sum of red pixels: [0 0 0 0 0 0 0 0 0 0 0 0 0 0 0 0 0 0 0 0 0 0 0 0 0 0 0 0 0 0 0 0 0 0 0 0 0\n",
            " 0 0 0 0 0 0 0 0 0 0 0 0 0 0 0 0 0 0 0 0 0 0 0 0 0 0 0 0 0 0 0 0 0 0 0 0 0\n",
            " 0 0 0 0 0 0 0 0 0 0 0 0 0 0 0 0 0 0 0 0 0 0 0 0 0 0 0 0 0 0 0 0 0 0 0 0 0\n",
            " 0 0 0 0 0 0 0 0 0 0 0 0 0 0 0 0 0 0 0 0 0 0 0 0 0 0 0 0 0 0 0 0 0 0 0 0 0\n",
            " 0 0 0 0 0 0 0 0 0 0 0 0 0 0 0 0 0 0 0 0 0 0 0 0 0 0 0 0 0 0 0 0 0 0 0 0 0\n",
            " 0 0 0 0 0 0 0 0 0 0 0 0 0 0 0 0 0 0 0 0 0 0 0 0 0 0 0 0 0 0 0 0 0 0 0 0 0\n",
            " 0 0 0 0 0 0 0 0 0 0 0 0 0 0 0 0 0 0 0 0 0 0 0 0 0 0 0 0 0 0 0 0 0 0 0 0 0\n",
            " 0 0 0 0 0 0 0 0 0 0 0 0 0 0 0 0 0 0 0 0 0 0 0 0 0 0 0 0 0 0 0 0 0 0 0 0 0\n",
            " 0 0 0 0 0 0 0 0 0 0 0 0 0 0 0 0 0 0 0 0 0 0 0 0 0 0 0 0 0 0 0 0 0 0 0 0 0\n",
            " 0 0 0 0 0 0 0 0 0 0 0 0 0 0 0 0 0 0 0 0 0 0 0 0 0 0 0 0 0 0 0 0 0 0 0 0 0\n",
            " 0 0 0 0 0 0 0 0 0 0 0 0 0 0 0 0 0 0 0 0 0 0 0 0 0 0 0 0 0 0 0 0 0 0 0 0 0\n",
            " 0 0 0 0 0 0 0 0 0 0 0 0 0 0 0 0 0 0 0 0 0 0 0 0 0 0 0 0 0 0 0 0 0 0 0 0 0\n",
            " 0 0 0 0 0 0 0 0 0 0 0 0 0 0 0 0 0 0 0 0 0 0 0 0 0 0 0 0 0 0 0 0 0 0 0 0 0\n",
            " 0 0 0 0 0 0 0 0 0 0 0 0 0 0 0 0 0 0 0 0 0 0 0 0 0 0 0 0 0 0 0 0 0 0 0 0 0\n",
            " 0 0 0 0 0 0 0 0 0 0 0 0 0 0 0 0 0 0 0 0 0 0 0 0 0 0 0 0 0 0 0 0 0 0 0 0 0\n",
            " 0 0 0 0 0 0 0 0 0 0 0 0 0 0 0 0 0 0 0 0 0 0 0 0 0 0 0 0 0 0 0 0 0 0 0 0 0\n",
            " 0 0]\n",
            "Column-wise sum of red pixels: [0 0 0 0 0 0 0 0 0 0 0 0 0 0 0 0 0 0 0 0 0 0 0 0 0 0 0 0 0 0 0 0 0 0 0 0 0\n",
            " 0 0 0 0 0 0 0 0 0 0 0 0 0 0 0 0 0 0 0 0 0 0 0 0 0 0 0 0 0 0 0 0 0 0 0 0 0\n",
            " 0 0 0 0 0 0 0 0 0 0 0 0 0 0 0 0 0 0 0 0 0 0 0 0 0 0 0 0 0 0 0 0 0 0 0 0 0\n",
            " 0 0 0 0 0 0 0 0 0 0 0 0 0 0 0 0 0 0 0 0 0 0 0 0 0 0 0 0 0 0 0 0 0 0 0 0 0\n",
            " 0 0 0 0 0 0 0 0]\n"
          ]
        },
        {
          "output_type": "execute_result",
          "data": {
            "text/plain": [
              "True"
            ]
          },
          "metadata": {},
          "execution_count": 34
        }
      ]
    },
    {
      "cell_type": "code",
      "source": [
        "import cv2\n",
        "import numpy as np\n",
        "\n",
        "# Load the image\n",
        "image = cv2.imread(\"/content/cdgfdgfdfg.jpg\")\n",
        "\n",
        "# Convert the image to HSV color space\n",
        "hsv = cv2.cvtColor(image, cv2.COLOR_BGR2HSV)\n",
        "\n",
        "# Define the range of red color in HSV\n",
        "lower_red = np.array([0,100,100])\n",
        "upper_red = np.array([10,255,255])\n",
        "\n",
        "# Threshold the HSV image to get only red colors\n",
        "mask = cv2.inRange(hsv, lower_red, upper_red)\n",
        "\n",
        "# Count the number of red pixels in the image\n",
        "count = cv2.countNonZero(mask)\n",
        "print(\"Number of red pixels:\", count)\n",
        "\n",
        "# Find the row-wise sum of the red pixels\n",
        "row_sum = np.sum(mask, axis=1)\n",
        "print(\"Row-wise sum of red pixels:\", row_sum)\n",
        "\n",
        "# Find the column-wise sum of the red pixels\n",
        "col_sum = np.sum(mask, axis=0)\n",
        "print(\"Column-wise sum of red pixels:\", col_sum)\n",
        "\n",
        "# Save the output image\n",
        "cv2.imwrite(\"output.jpg\", mask)\n"
      ],
      "metadata": {
        "colab": {
          "base_uri": "https://localhost:8080/"
        },
        "id": "reX-epBcv_Hz",
        "outputId": "827463ec-3cbf-4c78-91e6-d79d8575118b"
      },
      "execution_count": 35,
      "outputs": [
        {
          "output_type": "stream",
          "name": "stdout",
          "text": [
            "Number of red pixels: 0\n",
            "Row-wise sum of red pixels: [0 0 0 0 0 0 0 0 0 0 0 0 0 0 0 0 0 0 0 0 0 0 0 0 0 0 0 0 0 0 0 0 0 0 0 0 0\n",
            " 0 0 0 0 0 0 0 0 0 0 0 0 0 0 0 0 0 0 0 0 0 0 0 0 0 0 0 0 0 0 0 0 0 0 0 0 0\n",
            " 0 0 0 0 0 0 0 0 0 0 0 0 0 0 0 0 0 0 0 0 0 0 0 0 0 0 0 0 0 0 0 0 0 0 0 0 0\n",
            " 0 0 0 0 0 0 0 0 0 0 0 0 0 0 0 0 0 0 0 0 0 0 0 0 0 0 0 0 0 0 0 0 0 0 0 0 0\n",
            " 0 0 0 0 0 0 0 0 0 0 0 0 0 0 0 0 0 0 0 0 0 0 0 0 0 0 0 0 0 0 0 0 0 0 0 0 0\n",
            " 0 0 0 0 0 0 0 0 0 0 0 0 0 0 0 0 0 0 0 0 0 0 0 0 0 0 0 0 0 0 0 0 0 0 0 0 0\n",
            " 0 0 0 0 0 0 0 0 0 0 0 0 0 0 0 0 0 0 0 0 0 0 0 0 0 0 0 0 0 0 0 0 0 0 0 0 0\n",
            " 0 0 0 0 0 0 0 0 0 0 0 0 0 0 0 0 0 0 0 0 0 0 0 0 0 0 0 0 0 0 0 0 0 0 0 0 0\n",
            " 0 0 0 0 0 0 0 0 0 0 0 0 0 0 0 0 0 0 0 0 0 0 0 0 0 0 0 0 0 0 0 0 0 0 0 0 0\n",
            " 0 0 0 0 0 0 0 0 0 0 0 0 0 0 0 0 0 0 0 0 0 0 0 0 0 0 0 0 0 0 0 0 0 0 0 0 0\n",
            " 0 0 0 0 0 0 0 0 0 0 0 0 0 0 0 0 0 0 0 0 0 0 0 0 0 0 0 0 0 0 0 0 0 0 0 0 0\n",
            " 0 0 0 0 0 0 0 0 0 0 0 0 0 0 0 0 0 0 0 0 0 0 0 0 0 0 0 0 0 0 0 0 0 0 0 0 0\n",
            " 0 0 0 0 0 0 0 0 0 0 0 0 0 0 0 0 0 0 0 0 0 0 0 0 0 0 0 0 0 0 0 0 0 0 0 0 0\n",
            " 0 0 0 0 0 0 0 0 0 0 0 0 0 0 0 0 0 0 0 0 0 0 0 0 0 0 0 0 0 0 0 0 0 0 0 0 0\n",
            " 0 0 0 0 0 0 0 0 0 0 0 0 0 0 0 0 0 0 0 0 0 0 0 0 0 0 0 0 0 0 0 0 0]\n",
            "Column-wise sum of red pixels: [0 0 0 0 0 0 0 0 0 0 0 0 0 0 0 0 0 0 0 0 0 0 0 0 0 0 0 0 0 0 0 0 0 0 0 0 0\n",
            " 0 0 0 0 0 0 0 0 0 0 0 0 0 0 0 0 0 0 0 0 0 0 0 0 0 0 0 0 0 0 0 0 0 0 0 0 0\n",
            " 0 0 0 0 0 0 0 0 0 0 0 0 0 0 0 0 0 0 0 0 0 0 0 0 0 0 0 0 0 0 0 0 0 0 0 0 0\n",
            " 0 0 0 0 0 0 0 0 0 0 0 0 0 0 0 0 0 0 0 0 0 0 0 0 0 0 0 0 0 0 0 0 0 0 0 0 0\n",
            " 0 0 0 0 0 0 0 0 0 0 0 0 0 0 0 0 0 0 0 0 0 0 0 0 0 0 0 0 0 0 0 0 0 0 0 0 0\n",
            " 0 0 0 0 0 0 0 0 0 0 0 0 0 0 0 0 0 0 0 0 0 0 0 0 0 0 0 0 0 0 0 0 0 0 0 0 0\n",
            " 0 0 0 0 0 0 0 0 0 0 0 0 0 0 0 0 0 0 0 0 0 0 0 0 0 0 0 0 0 0 0 0 0 0 0 0 0\n",
            " 0 0 0 0 0 0 0 0 0 0 0 0 0 0 0 0 0 0 0 0 0 0 0 0 0 0 0 0 0 0 0 0 0 0 0 0 0\n",
            " 0 0 0 0 0 0 0 0 0 0 0 0 0 0 0 0 0 0 0 0 0 0 0 0 0 0 0 0 0 0 0 0 0 0 0 0 0\n",
            " 0 0 0 0 0 0 0 0 0 0 0 0 0 0 0 0 0 0 0 0 0 0 0 0 0 0 0 0 0 0 0 0 0 0 0 0 0\n",
            " 0 0 0 0 0 0 0 0 0 0 0 0 0 0 0 0 0 0 0 0 0 0 0 0 0 0 0 0 0 0 0 0 0 0 0 0 0\n",
            " 0 0 0 0 0 0 0 0 0 0 0 0 0 0 0 0 0 0 0 0 0 0 0 0 0 0 0 0 0 0 0 0 0 0 0 0 0\n",
            " 0 0 0 0 0 0 0 0 0 0 0 0 0 0 0 0 0 0 0 0 0 0 0 0 0 0 0 0 0 0 0 0 0 0 0 0 0\n",
            " 0 0 0 0 0 0 0 0 0 0 0 0 0 0 0 0 0 0 0 0 0 0 0 0 0 0 0 0 0 0 0 0 0 0 0 0 0\n",
            " 0 0 0 0 0 0 0 0 0 0 0 0 0 0 0 0 0 0 0 0 0 0 0 0 0 0]\n"
          ]
        },
        {
          "output_type": "execute_result",
          "data": {
            "text/plain": [
              "True"
            ]
          },
          "metadata": {},
          "execution_count": 35
        }
      ]
    }
  ]
}