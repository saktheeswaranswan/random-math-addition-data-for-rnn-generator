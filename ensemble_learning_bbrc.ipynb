{
  "nbformat": 4,
  "nbformat_minor": 0,
  "metadata": {
    "colab": {
      "provenance": [],
      "authorship_tag": "ABX9TyPfzyvLwKHj+19nOpwO8cEW",
      "include_colab_link": true
    },
    "kernelspec": {
      "name": "python3",
      "display_name": "Python 3"
    },
    "language_info": {
      "name": "python"
    }
  },
  "cells": [
    {
      "cell_type": "markdown",
      "metadata": {
        "id": "view-in-github",
        "colab_type": "text"
      },
      "source": [
        "<a href=\"https://colab.research.google.com/github/saktheeswaranswan/random-math-addition-data-for-rnn-generator/blob/main/ensemble_learning_bbrc.ipynb\" target=\"_parent\"><img src=\"https://colab.research.google.com/assets/colab-badge.svg\" alt=\"Open In Colab\"/></a>"
      ]
    },
    {
      "cell_type": "code",
      "execution_count": 3,
      "metadata": {
        "colab": {
          "base_uri": "https://localhost:8080/"
        },
        "id": "1OX4SguQnZVB",
        "outputId": "4853e7b2-bc08-4918-83db-2633ef3bbe51"
      },
      "outputs": [
        {
          "output_type": "stream",
          "name": "stdout",
          "text": [
            "Accuracy: 97.78%\n"
          ]
        },
        {
          "output_type": "stream",
          "name": "stderr",
          "text": [
            "/usr/local/lib/python3.8/dist-packages/sklearn/neural_network/_multilayer_perceptron.py:692: ConvergenceWarning: Stochastic Optimizer: Maximum iterations (1000) reached and the optimization hasn't converged yet.\n",
            "  warnings.warn(\n"
          ]
        }
      ],
      "source": [
        "# Import necessary libraries\n",
        "from sklearn import datasets\n",
        "from sklearn.model_selection import train_test_split\n",
        "from sklearn.svm import SVC\n",
        "from sklearn.ensemble import AdaBoostClassifier\n",
        "from sklearn.neural_network import MLPClassifier\n",
        "from sklearn.ensemble import VotingClassifier\n",
        "import joblib\n",
        "\n",
        "# Load the Iris dataset\n",
        "iris = datasets.load_iris()\n",
        "X = iris.data\n",
        "y = iris.target\n",
        "\n",
        "# Split the dataset into training and testing sets\n",
        "X_train, X_test, y_train, y_test = train_test_split(X, y, test_size=0.3, random_state=42)\n",
        "\n",
        "# Define the individual classifiers\n",
        "svm_clf = SVC(kernel='linear', C=1.0, probability=True)\n",
        "ada_clf = AdaBoostClassifier(n_estimators=50, learning_rate=0.1, random_state=42)\n",
        "nn_clf = MLPClassifier(hidden_layer_sizes=(5,2), max_iter=1000, random_state=42)\n",
        "\n",
        "# Define the ensemble classifier using VotingClassifier\n",
        "ensemble_clf = VotingClassifier(estimators=[('svm', svm_clf), ('ada', ada_clf), ('nn', nn_clf)], voting='soft')\n",
        "\n",
        "# Fit the ensemble classifier on the training data\n",
        "ensemble_clf.fit(X_train, y_train)\n",
        "\n",
        "# Save the model to a file\n",
        "joblib.dump(ensemble_clf, 'ensemble_model.pkl')\n",
        "\n",
        "# Load the model from the file\n",
        "loaded_model = joblib.load('ensemble_model.pkl')\n",
        "\n",
        "# Evaluate the model on the testing data\n",
        "accuracy = loaded_model.score(X_test, y_test)\n",
        "print(\"Accuracy: %.2f%%\" % (accuracy * 100.0))\n"
      ]
    },
    {
      "cell_type": "code",
      "source": [
        "# Import necessary libraries\n",
        "from sklearn import datasets\n",
        "from sklearn.model_selection import train_test_split\n",
        "from sklearn.svm import SVC\n",
        "from sklearn.ensemble import AdaBoostClassifier\n",
        "from sklearn.neural_network import MLPClassifier\n",
        "from sklearn.ensemble import VotingClassifier\n",
        "import joblib\n",
        "\n",
        "# Load the Wisconsin Breast Cancer dataset\n",
        "cancer = datasets.load_breast_cancer()\n",
        "X = cancer.data\n",
        "y = cancer.target\n",
        "\n",
        "# Split the dataset into training and testing sets\n",
        "X_train, X_test, y_train, y_test = train_test_split(X, y, test_size=0.3, random_state=42)\n",
        "\n",
        "# Define the individual classifiers\n",
        "svm_clf = SVC(kernel='linear', C=1.0, probability=True)\n",
        "ada_clf = AdaBoostClassifier(n_estimators=50, learning_rate=0.1, random_state=42)\n",
        "nn_clf = MLPClassifier(hidden_layer_sizes=(5,2), max_iter=1000, random_state=42)\n",
        "\n",
        "# Define the ensemble classifier using VotingClassifier\n",
        "ensemble_clf = VotingClassifier(estimators=[('svm', svm_clf), ('ada', ada_clf), ('nn', nn_clf)], voting='soft')\n",
        "\n",
        "# Fit the ensemble classifier on the training data\n",
        "ensemble_clf.fit(X_train, y_train)\n",
        "\n",
        "# Save the model to a file\n",
        "joblib.dump(ensemble_clf, 'ensemble_model.pkl')\n",
        "\n",
        "# Load the model from the file\n",
        "loaded_model = joblib.load('ensemble_model.pkl')\n",
        "\n",
        "# Evaluate the model on the testing data\n",
        "accuracy = loaded_model.score(X_test, y_test)\n",
        "print(\"Accuracy: %.2f%%\" % (accuracy * 100.0))\n"
      ],
      "metadata": {
        "colab": {
          "base_uri": "https://localhost:8080/"
        },
        "id": "HON0E_NXoPpc",
        "outputId": "a54931fe-be19-4847-df45-f5f857cc2496"
      },
      "execution_count": 4,
      "outputs": [
        {
          "output_type": "stream",
          "name": "stdout",
          "text": [
            "Accuracy: 97.08%\n"
          ]
        },
        {
          "output_type": "stream",
          "name": "stderr",
          "text": [
            "/usr/local/lib/python3.8/dist-packages/sklearn/neural_network/_multilayer_perceptron.py:692: ConvergenceWarning: Stochastic Optimizer: Maximum iterations (1000) reached and the optimization hasn't converged yet.\n",
            "  warnings.warn(\n"
          ]
        }
      ]
    },
    {
      "cell_type": "code",
      "source": [
        "# Import necessary libraries\n",
        "import pandas as pd\n",
        "from sklearn.model_selection import train_test_split\n",
        "from sklearn.svm import SVC\n",
        "from sklearn.ensemble import AdaBoostClassifier\n",
        "from sklearn.neural_network import MLPClassifier\n",
        "from sklearn.ensemble import VotingClassifier\n",
        "import joblib\n",
        "\n",
        "# Load the CSV file\n",
        "filename = 'path/to/your/csv/file.csv'\n",
        "data = pd.read_csv(filename)\n",
        "\n",
        "# Specify the target variable\n",
        "target_variable = 'target_variable_name'\n",
        "X = data.drop(target_variable, axis=1)\n",
        "y = data[target_variable]\n",
        "\n",
        "# Split the dataset into training and testing sets\n",
        "X_train, X_test, y_train, y_test = train_test_split(X, y, test_size=0.3, random_state=42)\n",
        "\n",
        "# Define the individual classifiers\n",
        "svm_clf = SVC(kernel='linear', C=1.0, probability=True)\n",
        "ada_clf = AdaBoostClassifier(n_estimators=50, learning_rate=0.1, random_state=42)\n",
        "nn_clf = MLPClassifier(hidden_layer_sizes=(5,2), max_iter=1000, random_state=42)\n",
        "\n",
        "# Define the ensemble classifier using VotingClassifier\n",
        "ensemble_clf = VotingClassifier(estimators=[('svm', svm_clf), ('ada', ada_clf), ('nn', nn_clf)], voting='soft')\n",
        "\n",
        "# Fit the ensemble classifier on the training data\n",
        "ensemble_clf.fit(X_train, y_train)\n",
        "\n",
        "# Save the model to a file\n",
        "joblib.dump(ensemble_clf, 'ensemble_model.pkl')\n",
        "\n",
        "# Load the model from the file\n",
        "loaded_model = joblib.load('ensemble_model.pkl')\n",
        "\n",
        "# Evaluate the model on the testing data\n",
        "accuracy = loaded_model.score(X_test, y_test)\n",
        "print(\"Accuracy: %.2f%%\" % (accuracy * 100.0))\n"
      ],
      "metadata": {
        "id": "sZzgc4YHou5d"
      },
      "execution_count": null,
      "outputs": []
    }
  ]
}